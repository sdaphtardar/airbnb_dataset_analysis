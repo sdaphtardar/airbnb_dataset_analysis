{
 "cells": [
  {
   "cell_type": "markdown",
   "metadata": {},
   "source": [
    "<a id='TOC'></a>\n",
    "\n",
    "# Project: Investigate Airbnb dataset of Boston and Seattle. \n",
    "\n",
    "## Table of Contents\n",
    "<ul>\n",
    "<li><a href=\"#intro\">Introduction</a></li>\n",
    "<li><a href=\"#business_understanding\">Business Understanding</a></li>\n",
    "<li><a href=\"#data_understanding\">Data Understanding</a></li>\n",
    "<li><a href=\"#data_preparation\">Data Preparation</a></li>\n",
    "<li><a href=\"#modeling\">Modeling</a></li>    \n",
    "<li><a href=\"#results_evaluation\">Results Evaluation</a></li>\n",
    "<li><a href=\"#deploy_solution\">Deployment</a></li>\n",
    "<li><a href=\"#conclusions\">Conclusions</a></li>\n",
    "</ul>"
   ]
  },
  {
   "cell_type": "markdown",
   "metadata": {},
   "source": [
    "<a id='intro'></a>\n",
    "## Introduction\n",
    "\n",
    "Airbnb is a publicly listed company with focus on Lodging industry. It is headquartered in San Francisco but has presence in multiple countries. \n",
    "<br>\n",
    "It works in online marketplace for rental activities.\n",
    "<br><br>\n",
    "Dataset includes 2 cities; Boston and Seattle. Files for each city contain 3 csv (comma separated variable) files containing rental availability calendar, available listings and reviews.\n",
    "<br><br>\n",
    "Objective is to discover actionable insight from the available data so that stakeholders can use that information and strategize business decisions.\n"
   ]
  },
  {
   "cell_type": "markdown",
   "metadata": {},
   "source": [
    "<li><a href=\"#TOC\">Back To Table Of Contents</a></li>"
   ]
  },
  {
   "cell_type": "markdown",
   "metadata": {},
   "source": [
    "Import general packages and graphing capabilities which will be used in all datasets."
   ]
  },
  {
   "cell_type": "code",
   "execution_count": 1258,
   "metadata": {},
   "outputs": [],
   "source": [
    "%matplotlib inline\n",
    "import pandas as pd\n",
    "import numpy as np\n",
    "import matplotlib.pyplot as plt\n",
    "import seaborn as sns\n",
    "import seaborn as sklearn\n",
    "from sklearn.linear_model import LinearRegression\n",
    "from sklearn.metrics import r2_score, mean_squared_error\n",
    "from sklearn.model_selection import train_test_split"
   ]
  },
  {
   "cell_type": "markdown",
   "metadata": {},
   "source": [
    "<a id='business_understanding'></a>\n",
    "## Business Understanding\n",
    "\n",
    "Business model of Airbnb is based on revenue earning through comission for providing rental listings to end users. people willing to rent put up the listing/s on Airbnb website and customers book it through Airbnb. \n",
    "<br><br>\n",
    "Based on the data available objective of this analysis is going to be to discover factors behind several situations; e.g. which neighborhoods are always overbooked? what exactly causes that? is it because of the surrounding area or the rental facilities are very good? knowledge about these things can tell Airbnb how they can approach the situation. Maybe the listings are not very good, or the service provided is not upto the mark. whatever the reason understanding what are the environmental factors is the first step towards the improvement."
   ]
  },
  {
   "cell_type": "markdown",
   "metadata": {},
   "source": [
    "<li><a href=\"#TOC\">Back To Table Of Contents</a></li>"
   ]
  },
  {
   "cell_type": "markdown",
   "metadata": {},
   "source": [
    "<a id='data_understanding'></a>\n",
    "## Data Understanding\n",
    "\n",
    "Amongst many Objectives of this stage prime one is to get familiar with the data. The familiarity has potential to discovering features of interest for mining activities.\n"
   ]
  },
  {
   "cell_type": "markdown",
   "metadata": {},
   "source": [
    "Import the data"
   ]
  },
  {
   "cell_type": "code",
   "execution_count": 1259,
   "metadata": {},
   "outputs": [],
   "source": [
    "df_boston_calendar = pd.read_csv('Boston-calendar.csv')  \n",
    "df_boston_listings =  pd.read_csv('Boston-listings.csv')\n",
    "df_boston_reviews = pd.read_csv('Boston-reviews.csv')"
   ]
  },
  {
   "cell_type": "markdown",
   "metadata": {},
   "source": [
    "Making backup of all dataframes "
   ]
  },
  {
   "cell_type": "code",
   "execution_count": 1260,
   "metadata": {},
   "outputs": [],
   "source": [
    "backup_df_boston_calendar = df_boston_calendar.copy()\n",
    "backup_df_boston_listings =  df_boston_listings.copy()\n",
    "backup_df_boston_reviews = df_boston_reviews.copy()"
   ]
  },
  {
   "cell_type": "markdown",
   "metadata": {},
   "source": [
    "FIrst we will focus on dataframes ob Boston dataframes"
   ]
  },
  {
   "cell_type": "markdown",
   "metadata": {},
   "source": [
    "\n",
    "Checkout sample lines of each dataframe"
   ]
  },
  {
   "cell_type": "code",
   "execution_count": 1261,
   "metadata": {},
   "outputs": [
    {
     "data": {
      "text/html": [
       "<div>\n",
       "<style scoped>\n",
       "    .dataframe tbody tr th:only-of-type {\n",
       "        vertical-align: middle;\n",
       "    }\n",
       "\n",
       "    .dataframe tbody tr th {\n",
       "        vertical-align: top;\n",
       "    }\n",
       "\n",
       "    .dataframe thead th {\n",
       "        text-align: right;\n",
       "    }\n",
       "</style>\n",
       "<table border=\"1\" class=\"dataframe\">\n",
       "  <thead>\n",
       "    <tr style=\"text-align: right;\">\n",
       "      <th></th>\n",
       "      <th>listing_id</th>\n",
       "      <th>date</th>\n",
       "      <th>available</th>\n",
       "      <th>price</th>\n",
       "    </tr>\n",
       "  </thead>\n",
       "  <tbody>\n",
       "    <tr>\n",
       "      <th>1151974</th>\n",
       "      <td>1340649</td>\n",
       "      <td>2017-08-02</td>\n",
       "      <td>t</td>\n",
       "      <td>$100.00</td>\n",
       "    </tr>\n",
       "    <tr>\n",
       "      <th>1042366</th>\n",
       "      <td>12366845</td>\n",
       "      <td>2016-11-18</td>\n",
       "      <td>f</td>\n",
       "      <td>NaN</td>\n",
       "    </tr>\n",
       "    <tr>\n",
       "      <th>1110011</th>\n",
       "      <td>14468656</td>\n",
       "      <td>2017-07-08</td>\n",
       "      <td>f</td>\n",
       "      <td>NaN</td>\n",
       "    </tr>\n",
       "    <tr>\n",
       "      <th>455063</th>\n",
       "      <td>3182473</td>\n",
       "      <td>2017-07-20</td>\n",
       "      <td>t</td>\n",
       "      <td>$259.00</td>\n",
       "    </tr>\n",
       "    <tr>\n",
       "      <th>180609</th>\n",
       "      <td>14336348</td>\n",
       "      <td>2016-11-10</td>\n",
       "      <td>f</td>\n",
       "      <td>NaN</td>\n",
       "    </tr>\n",
       "    <tr>\n",
       "      <th>498299</th>\n",
       "      <td>12626504</td>\n",
       "      <td>2017-04-27</td>\n",
       "      <td>f</td>\n",
       "      <td>NaN</td>\n",
       "    </tr>\n",
       "    <tr>\n",
       "      <th>750287</th>\n",
       "      <td>13926017</td>\n",
       "      <td>2017-02-05</td>\n",
       "      <td>t</td>\n",
       "      <td>$290.00</td>\n",
       "    </tr>\n",
       "  </tbody>\n",
       "</table>\n",
       "</div>"
      ],
      "text/plain": [
       "         listing_id        date available    price\n",
       "1151974     1340649  2017-08-02         t  $100.00\n",
       "1042366    12366845  2016-11-18         f      NaN\n",
       "1110011    14468656  2017-07-08         f      NaN\n",
       "455063      3182473  2017-07-20         t  $259.00\n",
       "180609     14336348  2016-11-10         f      NaN\n",
       "498299     12626504  2017-04-27         f      NaN\n",
       "750287     13926017  2017-02-05         t  $290.00"
      ]
     },
     "execution_count": 1261,
     "metadata": {},
     "output_type": "execute_result"
    }
   ],
   "source": [
    "df_boston_calendar.sample(7)"
   ]
  },
  {
   "cell_type": "code",
   "execution_count": 1262,
   "metadata": {},
   "outputs": [
    {
     "data": {
      "text/plain": [
       "f    665853\n",
       "t    643037\n",
       "Name: available, dtype: int64"
      ]
     },
     "execution_count": 1262,
     "metadata": {},
     "output_type": "execute_result"
    }
   ],
   "source": [
    "df_boston_calendar.available.value_counts()"
   ]
  },
  {
   "cell_type": "code",
   "execution_count": 1263,
   "metadata": {},
   "outputs": [
    {
     "data": {
      "text/html": [
       "<div>\n",
       "<style scoped>\n",
       "    .dataframe tbody tr th:only-of-type {\n",
       "        vertical-align: middle;\n",
       "    }\n",
       "\n",
       "    .dataframe tbody tr th {\n",
       "        vertical-align: top;\n",
       "    }\n",
       "\n",
       "    .dataframe thead th {\n",
       "        text-align: right;\n",
       "    }\n",
       "</style>\n",
       "<table border=\"1\" class=\"dataframe\">\n",
       "  <thead>\n",
       "    <tr style=\"text-align: right;\">\n",
       "      <th></th>\n",
       "      <th>id</th>\n",
       "      <th>listing_url</th>\n",
       "      <th>scrape_id</th>\n",
       "      <th>last_scraped</th>\n",
       "      <th>name</th>\n",
       "      <th>summary</th>\n",
       "      <th>space</th>\n",
       "      <th>description</th>\n",
       "      <th>experiences_offered</th>\n",
       "      <th>neighborhood_overview</th>\n",
       "      <th>...</th>\n",
       "      <th>review_scores_value</th>\n",
       "      <th>requires_license</th>\n",
       "      <th>license</th>\n",
       "      <th>jurisdiction_names</th>\n",
       "      <th>instant_bookable</th>\n",
       "      <th>cancellation_policy</th>\n",
       "      <th>require_guest_profile_picture</th>\n",
       "      <th>require_guest_phone_verification</th>\n",
       "      <th>calculated_host_listings_count</th>\n",
       "      <th>reviews_per_month</th>\n",
       "    </tr>\n",
       "  </thead>\n",
       "  <tbody>\n",
       "    <tr>\n",
       "      <th>3132</th>\n",
       "      <td>6151079</td>\n",
       "      <td>https://www.airbnb.com/rooms/6151079</td>\n",
       "      <td>20160906204935</td>\n",
       "      <td>2016-09-07</td>\n",
       "      <td>^Tourist Best Choice Private Room Subway/Downtown</td>\n",
       "      <td>Tourists/Conference-goers great choice! Privat...</td>\n",
       "      <td>Beautifully furnished private room with a full...</td>\n",
       "      <td>Tourists/Conference-goers great choice! Privat...</td>\n",
       "      <td>none</td>\n",
       "      <td>South Boston (Southie) is one of the hottest n...</td>\n",
       "      <td>...</td>\n",
       "      <td>9.0</td>\n",
       "      <td>f</td>\n",
       "      <td>NaN</td>\n",
       "      <td>NaN</td>\n",
       "      <td>t</td>\n",
       "      <td>strict</td>\n",
       "      <td>f</td>\n",
       "      <td>f</td>\n",
       "      <td>5</td>\n",
       "      <td>1.81</td>\n",
       "    </tr>\n",
       "    <tr>\n",
       "      <th>1751</th>\n",
       "      <td>5592866</td>\n",
       "      <td>https://www.airbnb.com/rooms/5592866</td>\n",
       "      <td>20160906204935</td>\n",
       "      <td>2016-09-07</td>\n",
       "      <td>Charming 1 BR in Historic Boston</td>\n",
       "      <td>Our charming and comfortable one bedroom is mi...</td>\n",
       "      <td>Our charming and comfortable one bedroom is mi...</td>\n",
       "      <td>Our charming and comfortable one bedroom is mi...</td>\n",
       "      <td>none</td>\n",
       "      <td>I love the charm and history of Charlestown.  ...</td>\n",
       "      <td>...</td>\n",
       "      <td>10.0</td>\n",
       "      <td>f</td>\n",
       "      <td>NaN</td>\n",
       "      <td>NaN</td>\n",
       "      <td>t</td>\n",
       "      <td>flexible</td>\n",
       "      <td>f</td>\n",
       "      <td>f</td>\n",
       "      <td>1</td>\n",
       "      <td>0.43</td>\n",
       "    </tr>\n",
       "    <tr>\n",
       "      <th>1193</th>\n",
       "      <td>7342489</td>\n",
       "      <td>https://www.airbnb.com/rooms/7342489</td>\n",
       "      <td>20160906204935</td>\n",
       "      <td>2016-09-07</td>\n",
       "      <td>Columbus Garden By Maverick</td>\n",
       "      <td>This 2 bedroom apartment is stylishly designed...</td>\n",
       "      <td>NaN</td>\n",
       "      <td>This 2 bedroom apartment is stylishly designed...</td>\n",
       "      <td>none</td>\n",
       "      <td>Conveniently bordering the neighborhoods of th...</td>\n",
       "      <td>...</td>\n",
       "      <td>NaN</td>\n",
       "      <td>f</td>\n",
       "      <td>NaN</td>\n",
       "      <td>NaN</td>\n",
       "      <td>f</td>\n",
       "      <td>strict</td>\n",
       "      <td>f</td>\n",
       "      <td>f</td>\n",
       "      <td>50</td>\n",
       "      <td>NaN</td>\n",
       "    </tr>\n",
       "    <tr>\n",
       "      <th>1325</th>\n",
       "      <td>14322091</td>\n",
       "      <td>https://www.airbnb.com/rooms/14322091</td>\n",
       "      <td>20160906204935</td>\n",
       "      <td>2016-09-07</td>\n",
       "      <td>Cute and cozy apt right on Newbury!</td>\n",
       "      <td>Our very cute and cozy apartment with exposed ...</td>\n",
       "      <td>NaN</td>\n",
       "      <td>Our very cute and cozy apartment with exposed ...</td>\n",
       "      <td>none</td>\n",
       "      <td>The location. In the heart of the main shoppin...</td>\n",
       "      <td>...</td>\n",
       "      <td>10.0</td>\n",
       "      <td>f</td>\n",
       "      <td>NaN</td>\n",
       "      <td>NaN</td>\n",
       "      <td>f</td>\n",
       "      <td>strict</td>\n",
       "      <td>f</td>\n",
       "      <td>f</td>\n",
       "      <td>1</td>\n",
       "      <td>1.00</td>\n",
       "    </tr>\n",
       "    <tr>\n",
       "      <th>172</th>\n",
       "      <td>12022134</td>\n",
       "      <td>https://www.airbnb.com/rooms/12022134</td>\n",
       "      <td>20160906204935</td>\n",
       "      <td>2016-09-07</td>\n",
       "      <td>Private room in great JP location!</td>\n",
       "      <td>Comfortable room in a beautiful, newly renovat...</td>\n",
       "      <td>I'm a medical student who will be doing resear...</td>\n",
       "      <td>Comfortable room in a beautiful, newly renovat...</td>\n",
       "      <td>none</td>\n",
       "      <td>We're situated right between the Arboretum, Ja...</td>\n",
       "      <td>...</td>\n",
       "      <td>10.0</td>\n",
       "      <td>f</td>\n",
       "      <td>NaN</td>\n",
       "      <td>NaN</td>\n",
       "      <td>f</td>\n",
       "      <td>strict</td>\n",
       "      <td>f</td>\n",
       "      <td>f</td>\n",
       "      <td>1</td>\n",
       "      <td>0.79</td>\n",
       "    </tr>\n",
       "    <tr>\n",
       "      <th>925</th>\n",
       "      <td>11856912</td>\n",
       "      <td>https://www.airbnb.com/rooms/11856912</td>\n",
       "      <td>20160906204935</td>\n",
       "      <td>2016-09-07</td>\n",
       "      <td>Brownstone Apt. in Hip S. End!</td>\n",
       "      <td>Enjoy this luxurious parlor brownstone apartme...</td>\n",
       "      <td>NaN</td>\n",
       "      <td>Enjoy this luxurious parlor brownstone apartme...</td>\n",
       "      <td>none</td>\n",
       "      <td>NaN</td>\n",
       "      <td>...</td>\n",
       "      <td>10.0</td>\n",
       "      <td>f</td>\n",
       "      <td>NaN</td>\n",
       "      <td>NaN</td>\n",
       "      <td>f</td>\n",
       "      <td>moderate</td>\n",
       "      <td>f</td>\n",
       "      <td>f</td>\n",
       "      <td>1</td>\n",
       "      <td>0.58</td>\n",
       "    </tr>\n",
       "    <tr>\n",
       "      <th>222</th>\n",
       "      <td>11946029</td>\n",
       "      <td>https://www.airbnb.com/rooms/11946029</td>\n",
       "      <td>20160906204935</td>\n",
       "      <td>2016-09-07</td>\n",
       "      <td>Quiet and comfy in Jamaica Plain</td>\n",
       "      <td>Come be comfy in our spare bedroom! Our apartm...</td>\n",
       "      <td>NaN</td>\n",
       "      <td>Come be comfy in our spare bedroom! Our apartm...</td>\n",
       "      <td>none</td>\n",
       "      <td>NaN</td>\n",
       "      <td>...</td>\n",
       "      <td>9.0</td>\n",
       "      <td>f</td>\n",
       "      <td>NaN</td>\n",
       "      <td>NaN</td>\n",
       "      <td>f</td>\n",
       "      <td>moderate</td>\n",
       "      <td>f</td>\n",
       "      <td>f</td>\n",
       "      <td>1</td>\n",
       "      <td>1.54</td>\n",
       "    </tr>\n",
       "  </tbody>\n",
       "</table>\n",
       "<p>7 rows × 95 columns</p>\n",
       "</div>"
      ],
      "text/plain": [
       "            id                            listing_url       scrape_id  \\\n",
       "3132   6151079   https://www.airbnb.com/rooms/6151079  20160906204935   \n",
       "1751   5592866   https://www.airbnb.com/rooms/5592866  20160906204935   \n",
       "1193   7342489   https://www.airbnb.com/rooms/7342489  20160906204935   \n",
       "1325  14322091  https://www.airbnb.com/rooms/14322091  20160906204935   \n",
       "172   12022134  https://www.airbnb.com/rooms/12022134  20160906204935   \n",
       "925   11856912  https://www.airbnb.com/rooms/11856912  20160906204935   \n",
       "222   11946029  https://www.airbnb.com/rooms/11946029  20160906204935   \n",
       "\n",
       "     last_scraped                                               name  \\\n",
       "3132   2016-09-07  ^Tourist Best Choice Private Room Subway/Downtown   \n",
       "1751   2016-09-07                   Charming 1 BR in Historic Boston   \n",
       "1193   2016-09-07                        Columbus Garden By Maverick   \n",
       "1325   2016-09-07                Cute and cozy apt right on Newbury!   \n",
       "172    2016-09-07                 Private room in great JP location!   \n",
       "925    2016-09-07                     Brownstone Apt. in Hip S. End!   \n",
       "222    2016-09-07                   Quiet and comfy in Jamaica Plain   \n",
       "\n",
       "                                                summary  \\\n",
       "3132  Tourists/Conference-goers great choice! Privat...   \n",
       "1751  Our charming and comfortable one bedroom is mi...   \n",
       "1193  This 2 bedroom apartment is stylishly designed...   \n",
       "1325  Our very cute and cozy apartment with exposed ...   \n",
       "172   Comfortable room in a beautiful, newly renovat...   \n",
       "925   Enjoy this luxurious parlor brownstone apartme...   \n",
       "222   Come be comfy in our spare bedroom! Our apartm...   \n",
       "\n",
       "                                                  space  \\\n",
       "3132  Beautifully furnished private room with a full...   \n",
       "1751  Our charming and comfortable one bedroom is mi...   \n",
       "1193                                                NaN   \n",
       "1325                                                NaN   \n",
       "172   I'm a medical student who will be doing resear...   \n",
       "925                                                 NaN   \n",
       "222                                                 NaN   \n",
       "\n",
       "                                            description experiences_offered  \\\n",
       "3132  Tourists/Conference-goers great choice! Privat...                none   \n",
       "1751  Our charming and comfortable one bedroom is mi...                none   \n",
       "1193  This 2 bedroom apartment is stylishly designed...                none   \n",
       "1325  Our very cute and cozy apartment with exposed ...                none   \n",
       "172   Comfortable room in a beautiful, newly renovat...                none   \n",
       "925   Enjoy this luxurious parlor brownstone apartme...                none   \n",
       "222   Come be comfy in our spare bedroom! Our apartm...                none   \n",
       "\n",
       "                                  neighborhood_overview  ...  \\\n",
       "3132  South Boston (Southie) is one of the hottest n...  ...   \n",
       "1751  I love the charm and history of Charlestown.  ...  ...   \n",
       "1193  Conveniently bordering the neighborhoods of th...  ...   \n",
       "1325  The location. In the heart of the main shoppin...  ...   \n",
       "172   We're situated right between the Arboretum, Ja...  ...   \n",
       "925                                                 NaN  ...   \n",
       "222                                                 NaN  ...   \n",
       "\n",
       "     review_scores_value requires_license license jurisdiction_names  \\\n",
       "3132                 9.0                f     NaN                NaN   \n",
       "1751                10.0                f     NaN                NaN   \n",
       "1193                 NaN                f     NaN                NaN   \n",
       "1325                10.0                f     NaN                NaN   \n",
       "172                 10.0                f     NaN                NaN   \n",
       "925                 10.0                f     NaN                NaN   \n",
       "222                  9.0                f     NaN                NaN   \n",
       "\n",
       "     instant_bookable cancellation_policy require_guest_profile_picture  \\\n",
       "3132                t              strict                             f   \n",
       "1751                t            flexible                             f   \n",
       "1193                f              strict                             f   \n",
       "1325                f              strict                             f   \n",
       "172                 f              strict                             f   \n",
       "925                 f            moderate                             f   \n",
       "222                 f            moderate                             f   \n",
       "\n",
       "     require_guest_phone_verification calculated_host_listings_count  \\\n",
       "3132                                f                              5   \n",
       "1751                                f                              1   \n",
       "1193                                f                             50   \n",
       "1325                                f                              1   \n",
       "172                                 f                              1   \n",
       "925                                 f                              1   \n",
       "222                                 f                              1   \n",
       "\n",
       "      reviews_per_month  \n",
       "3132               1.81  \n",
       "1751               0.43  \n",
       "1193                NaN  \n",
       "1325               1.00  \n",
       "172                0.79  \n",
       "925                0.58  \n",
       "222                1.54  \n",
       "\n",
       "[7 rows x 95 columns]"
      ]
     },
     "execution_count": 1263,
     "metadata": {},
     "output_type": "execute_result"
    }
   ],
   "source": [
    "df_boston_listings.sample(7)"
   ]
  },
  {
   "cell_type": "code",
   "execution_count": 1264,
   "metadata": {},
   "outputs": [
    {
     "data": {
      "text/plain": [
       "(3585, 95)"
      ]
     },
     "execution_count": 1264,
     "metadata": {},
     "output_type": "execute_result"
    }
   ],
   "source": [
    "df_boston_listings.shape"
   ]
  },
  {
   "cell_type": "code",
   "execution_count": 1265,
   "metadata": {},
   "outputs": [
    {
     "data": {
      "text/plain": [
       "(68275, 6)"
      ]
     },
     "execution_count": 1265,
     "metadata": {},
     "output_type": "execute_result"
    }
   ],
   "source": [
    "df_boston_reviews.shape"
   ]
  },
  {
   "cell_type": "code",
   "execution_count": 1266,
   "metadata": {},
   "outputs": [
    {
     "data": {
      "text/html": [
       "<div>\n",
       "<style scoped>\n",
       "    .dataframe tbody tr th:only-of-type {\n",
       "        vertical-align: middle;\n",
       "    }\n",
       "\n",
       "    .dataframe tbody tr th {\n",
       "        vertical-align: top;\n",
       "    }\n",
       "\n",
       "    .dataframe thead th {\n",
       "        text-align: right;\n",
       "    }\n",
       "</style>\n",
       "<table border=\"1\" class=\"dataframe\">\n",
       "  <thead>\n",
       "    <tr style=\"text-align: right;\">\n",
       "      <th></th>\n",
       "      <th>listing_id</th>\n",
       "      <th>id</th>\n",
       "      <th>date</th>\n",
       "      <th>reviewer_id</th>\n",
       "      <th>reviewer_name</th>\n",
       "      <th>comments</th>\n",
       "    </tr>\n",
       "  </thead>\n",
       "  <tbody>\n",
       "    <tr>\n",
       "      <th>10933</th>\n",
       "      <td>994138</td>\n",
       "      <td>7548570</td>\n",
       "      <td>2013-09-24</td>\n",
       "      <td>7240415</td>\n",
       "      <td>Joy</td>\n",
       "      <td>What a sweet couple and perfect place to stay ...</td>\n",
       "    </tr>\n",
       "    <tr>\n",
       "      <th>39743</th>\n",
       "      <td>8402408</td>\n",
       "      <td>71957139</td>\n",
       "      <td>2016-04-30</td>\n",
       "      <td>60562569</td>\n",
       "      <td>Eric</td>\n",
       "      <td>Betsy was such a wonderful host! She prepared ...</td>\n",
       "    </tr>\n",
       "    <tr>\n",
       "      <th>44348</th>\n",
       "      <td>7287822</td>\n",
       "      <td>53656416</td>\n",
       "      <td>2015-11-10</td>\n",
       "      <td>48134645</td>\n",
       "      <td>Leah</td>\n",
       "      <td>Susie was absolutely fantastic and provided a ...</td>\n",
       "    </tr>\n",
       "    <tr>\n",
       "      <th>24601</th>\n",
       "      <td>4314054</td>\n",
       "      <td>73985344</td>\n",
       "      <td>2016-05-12</td>\n",
       "      <td>30356463</td>\n",
       "      <td>Wayne</td>\n",
       "      <td>Tom was very communicable and accommodated my ...</td>\n",
       "    </tr>\n",
       "    <tr>\n",
       "      <th>14819</th>\n",
       "      <td>13214949</td>\n",
       "      <td>90039066</td>\n",
       "      <td>2016-07-31</td>\n",
       "      <td>3309201</td>\n",
       "      <td>Fer</td>\n",
       "      <td>The house was really accommodating for my 7 ho...</td>\n",
       "    </tr>\n",
       "    <tr>\n",
       "      <th>33186</th>\n",
       "      <td>708802</td>\n",
       "      <td>12234083</td>\n",
       "      <td>2014-04-27</td>\n",
       "      <td>11368167</td>\n",
       "      <td>Hanna</td>\n",
       "      <td>Never stay in a hotel again!  Our experience i...</td>\n",
       "    </tr>\n",
       "    <tr>\n",
       "      <th>55683</th>\n",
       "      <td>4603588</td>\n",
       "      <td>28243777</td>\n",
       "      <td>2015-03-20</td>\n",
       "      <td>5446679</td>\n",
       "      <td>Paul</td>\n",
       "      <td>The reservation was canceled 65 days before ar...</td>\n",
       "    </tr>\n",
       "  </tbody>\n",
       "</table>\n",
       "</div>"
      ],
      "text/plain": [
       "       listing_id        id        date  reviewer_id reviewer_name  \\\n",
       "10933      994138   7548570  2013-09-24      7240415           Joy   \n",
       "39743     8402408  71957139  2016-04-30     60562569          Eric   \n",
       "44348     7287822  53656416  2015-11-10     48134645          Leah   \n",
       "24601     4314054  73985344  2016-05-12     30356463         Wayne   \n",
       "14819    13214949  90039066  2016-07-31      3309201           Fer   \n",
       "33186      708802  12234083  2014-04-27     11368167         Hanna   \n",
       "55683     4603588  28243777  2015-03-20      5446679          Paul   \n",
       "\n",
       "                                                comments  \n",
       "10933  What a sweet couple and perfect place to stay ...  \n",
       "39743  Betsy was such a wonderful host! She prepared ...  \n",
       "44348  Susie was absolutely fantastic and provided a ...  \n",
       "24601  Tom was very communicable and accommodated my ...  \n",
       "14819  The house was really accommodating for my 7 ho...  \n",
       "33186  Never stay in a hotel again!  Our experience i...  \n",
       "55683  The reservation was canceled 65 days before ar...  "
      ]
     },
     "execution_count": 1266,
     "metadata": {},
     "output_type": "execute_result"
    }
   ],
   "source": [
    "df_boston_reviews.sample(7)"
   ]
  },
  {
   "cell_type": "code",
   "execution_count": 1267,
   "metadata": {},
   "outputs": [
    {
     "data": {
      "text/plain": [
       "(3818, 92)"
      ]
     },
     "execution_count": 1267,
     "metadata": {},
     "output_type": "execute_result"
    }
   ],
   "source": [
    "df_seattle_listings.shape"
   ]
  },
  {
   "cell_type": "code",
   "execution_count": 1268,
   "metadata": {},
   "outputs": [
    {
     "data": {
      "text/plain": [
       "(3585, 95)"
      ]
     },
     "execution_count": 1268,
     "metadata": {},
     "output_type": "execute_result"
    }
   ],
   "source": [
    "df_boston_listings.shape"
   ]
  },
  {
   "cell_type": "code",
   "execution_count": 1269,
   "metadata": {},
   "outputs": [
    {
     "data": {
      "text/plain": [
       "(1393570, 4)"
      ]
     },
     "execution_count": 1269,
     "metadata": {},
     "output_type": "execute_result"
    }
   ],
   "source": [
    "df_seattle_calendar.shape"
   ]
  },
  {
   "cell_type": "code",
   "execution_count": 1270,
   "metadata": {},
   "outputs": [
    {
     "data": {
      "text/plain": [
       "(1308890, 4)"
      ]
     },
     "execution_count": 1270,
     "metadata": {},
     "output_type": "execute_result"
    }
   ],
   "source": [
    "df_boston_calendar.shape"
   ]
  },
  {
   "cell_type": "code",
   "execution_count": 1271,
   "metadata": {},
   "outputs": [
    {
     "data": {
      "text/plain": [
       "(84849, 6)"
      ]
     },
     "execution_count": 1271,
     "metadata": {},
     "output_type": "execute_result"
    }
   ],
   "source": [
    "df_seattle_reviews.shape"
   ]
  },
  {
   "cell_type": "markdown",
   "metadata": {},
   "source": [
    "Exploring column differences between listing dataframes of Boston and Seattle."
   ]
  },
  {
   "cell_type": "code",
   "execution_count": 1272,
   "metadata": {},
   "outputs": [],
   "source": [
    "bost_list_cols = set(df_boston_listings.columns.values)"
   ]
  },
  {
   "cell_type": "code",
   "execution_count": 1273,
   "metadata": {},
   "outputs": [],
   "source": [
    "seatt_list_cols = set(df_seattle_listings.columns.values)"
   ]
  },
  {
   "cell_type": "code",
   "execution_count": 1274,
   "metadata": {},
   "outputs": [
    {
     "data": {
      "text/plain": [
       "92"
      ]
     },
     "execution_count": 1274,
     "metadata": {},
     "output_type": "execute_result"
    }
   ],
   "source": [
    "len(bost_list_cols.intersection(seatt_list_cols))"
   ]
  },
  {
   "cell_type": "code",
   "execution_count": 1275,
   "metadata": {},
   "outputs": [
    {
     "data": {
      "text/plain": [
       "95"
      ]
     },
     "execution_count": 1275,
     "metadata": {},
     "output_type": "execute_result"
    }
   ],
   "source": [
    "len(bost_list_cols.union(seatt_list_cols))"
   ]
  },
  {
   "cell_type": "code",
   "execution_count": 1276,
   "metadata": {},
   "outputs": [
    {
     "data": {
      "text/plain": [
       "95"
      ]
     },
     "execution_count": 1276,
     "metadata": {},
     "output_type": "execute_result"
    }
   ],
   "source": [
    "len(bost_list_cols | seatt_list_cols)"
   ]
  },
  {
   "cell_type": "code",
   "execution_count": 1277,
   "metadata": {},
   "outputs": [
    {
     "data": {
      "text/plain": [
       "92"
      ]
     },
     "execution_count": 1277,
     "metadata": {},
     "output_type": "execute_result"
    }
   ],
   "source": [
    "len(set(df_boston_listings.columns.values).intersection(set(df_seattle_listings.columns.values)))"
   ]
  },
  {
   "cell_type": "markdown",
   "metadata": {},
   "source": [
    "Columns which are presented in Boston but not in Seattle."
   ]
  },
  {
   "cell_type": "code",
   "execution_count": 1278,
   "metadata": {},
   "outputs": [
    {
     "data": {
      "text/plain": [
       "3"
      ]
     },
     "execution_count": 1278,
     "metadata": {},
     "output_type": "execute_result"
    }
   ],
   "source": [
    "len(bost_list_cols - seatt_list_cols)"
   ]
  },
  {
   "cell_type": "code",
   "execution_count": 1279,
   "metadata": {},
   "outputs": [
    {
     "data": {
      "text/plain": [
       "{'access', 'house_rules', 'interaction'}"
      ]
     },
     "execution_count": 1279,
     "metadata": {},
     "output_type": "execute_result"
    }
   ],
   "source": [
    "(bost_list_cols - seatt_list_cols)"
   ]
  },
  {
   "cell_type": "code",
   "execution_count": 1280,
   "metadata": {},
   "outputs": [
    {
     "data": {
      "text/plain": [
       "0"
      ]
     },
     "execution_count": 1280,
     "metadata": {},
     "output_type": "execute_result"
    }
   ],
   "source": [
    "len(seatt_list_cols - bost_list_cols)"
   ]
  },
  {
   "cell_type": "code",
   "execution_count": 1281,
   "metadata": {},
   "outputs": [
    {
     "data": {
      "text/plain": [
       "array(['id', 'listing_url', 'scrape_id', 'last_scraped', 'name',\n",
       "       'summary', 'space', 'description', 'experiences_offered',\n",
       "       'neighborhood_overview', 'notes', 'transit', 'access',\n",
       "       'interaction', 'house_rules', 'thumbnail_url', 'medium_url',\n",
       "       'picture_url', 'xl_picture_url', 'host_id', 'host_url',\n",
       "       'host_name', 'host_since', 'host_location', 'host_about',\n",
       "       'host_response_time', 'host_response_rate', 'host_acceptance_rate',\n",
       "       'host_is_superhost', 'host_thumbnail_url', 'host_picture_url',\n",
       "       'host_neighbourhood', 'host_listings_count',\n",
       "       'host_total_listings_count', 'host_verifications',\n",
       "       'host_has_profile_pic', 'host_identity_verified', 'street',\n",
       "       'neighbourhood', 'neighbourhood_cleansed',\n",
       "       'neighbourhood_group_cleansed', 'city', 'state', 'zipcode',\n",
       "       'market', 'smart_location', 'country_code', 'country', 'latitude',\n",
       "       'longitude', 'is_location_exact', 'property_type', 'room_type',\n",
       "       'accommodates', 'bathrooms', 'bedrooms', 'beds', 'bed_type',\n",
       "       'amenities', 'square_feet', 'price', 'weekly_price',\n",
       "       'monthly_price', 'security_deposit', 'cleaning_fee',\n",
       "       'guests_included', 'extra_people', 'minimum_nights',\n",
       "       'maximum_nights', 'calendar_updated', 'has_availability',\n",
       "       'availability_30', 'availability_60', 'availability_90',\n",
       "       'availability_365', 'calendar_last_scraped', 'number_of_reviews',\n",
       "       'first_review', 'last_review', 'review_scores_rating',\n",
       "       'review_scores_accuracy', 'review_scores_cleanliness',\n",
       "       'review_scores_checkin', 'review_scores_communication',\n",
       "       'review_scores_location', 'review_scores_value',\n",
       "       'requires_license', 'license', 'jurisdiction_names',\n",
       "       'instant_bookable', 'cancellation_policy',\n",
       "       'require_guest_profile_picture',\n",
       "       'require_guest_phone_verification',\n",
       "       'calculated_host_listings_count', 'reviews_per_month'],\n",
       "      dtype=object)"
      ]
     },
     "execution_count": 1281,
     "metadata": {},
     "output_type": "execute_result"
    }
   ],
   "source": [
    "df_boston_listings.columns.values"
   ]
  },
  {
   "cell_type": "markdown",
   "metadata": {},
   "source": [
    "<li><a href=\"#TOC\">Back To Table Of Contents</a></li>"
   ]
  },
  {
   "cell_type": "markdown",
   "metadata": {},
   "source": [
    "### Assess"
   ]
  },
  {
   "cell_type": "markdown",
   "metadata": {},
   "source": [
    "###### perform rudimentary data assessment"
   ]
  },
  {
   "cell_type": "code",
   "execution_count": 1282,
   "metadata": {},
   "outputs": [],
   "source": [
    "pd.set_option('display.max_rows', 500)"
   ]
  },
  {
   "cell_type": "code",
   "execution_count": 1283,
   "metadata": {
    "scrolled": false
   },
   "outputs": [
    {
     "data": {
      "text/plain": [
       "id                                     0\n",
       "listing_url                            0\n",
       "scrape_id                              0\n",
       "last_scraped                           0\n",
       "name                                   0\n",
       "summary                              143\n",
       "space                               1057\n",
       "description                            0\n",
       "experiences_offered                    0\n",
       "neighborhood_overview               1415\n",
       "notes                               1975\n",
       "transit                             1290\n",
       "access                              1489\n",
       "interaction                         1554\n",
       "house_rules                         1192\n",
       "thumbnail_url                        599\n",
       "medium_url                           599\n",
       "picture_url                            0\n",
       "xl_picture_url                       599\n",
       "host_id                                0\n",
       "host_url                               0\n",
       "host_name                              0\n",
       "host_since                             0\n",
       "host_location                         11\n",
       "host_about                          1309\n",
       "host_response_time                   471\n",
       "host_response_rate                   471\n",
       "host_acceptance_rate                 471\n",
       "host_is_superhost                      0\n",
       "host_thumbnail_url                     0\n",
       "host_picture_url                       0\n",
       "host_neighbourhood                   339\n",
       "host_listings_count                    0\n",
       "host_total_listings_count              0\n",
       "host_verifications                     0\n",
       "host_has_profile_pic                   0\n",
       "host_identity_verified                 0\n",
       "street                                 0\n",
       "neighbourhood                        543\n",
       "neighbourhood_cleansed                 0\n",
       "neighbourhood_group_cleansed        3585\n",
       "city                                   2\n",
       "state                                  0\n",
       "zipcode                               38\n",
       "market                                14\n",
       "smart_location                         0\n",
       "country_code                           0\n",
       "country                                0\n",
       "latitude                               0\n",
       "longitude                              0\n",
       "is_location_exact                      0\n",
       "property_type                          3\n",
       "room_type                              0\n",
       "accommodates                           0\n",
       "bathrooms                             14\n",
       "bedrooms                              10\n",
       "beds                                   9\n",
       "bed_type                               0\n",
       "amenities                              0\n",
       "square_feet                         3529\n",
       "price                                  0\n",
       "weekly_price                        2693\n",
       "monthly_price                       2697\n",
       "security_deposit                    2243\n",
       "cleaning_fee                        1107\n",
       "guests_included                        0\n",
       "extra_people                           0\n",
       "minimum_nights                         0\n",
       "maximum_nights                         0\n",
       "calendar_updated                       0\n",
       "has_availability                    3585\n",
       "availability_30                        0\n",
       "availability_60                        0\n",
       "availability_90                        0\n",
       "availability_365                       0\n",
       "calendar_last_scraped                  0\n",
       "number_of_reviews                      0\n",
       "first_review                         756\n",
       "last_review                          756\n",
       "review_scores_rating                 813\n",
       "review_scores_accuracy               823\n",
       "review_scores_cleanliness            818\n",
       "review_scores_checkin                820\n",
       "review_scores_communication          818\n",
       "review_scores_location               822\n",
       "review_scores_value                  821\n",
       "requires_license                       0\n",
       "license                             3585\n",
       "jurisdiction_names                  3585\n",
       "instant_bookable                       0\n",
       "cancellation_policy                    0\n",
       "require_guest_profile_picture          0\n",
       "require_guest_phone_verification       0\n",
       "calculated_host_listings_count         0\n",
       "reviews_per_month                    756\n",
       "dtype: int64"
      ]
     },
     "execution_count": 1283,
     "metadata": {},
     "output_type": "execute_result"
    }
   ],
   "source": [
    "df_boston_listings.isna().sum()"
   ]
  },
  {
   "cell_type": "code",
   "execution_count": 1284,
   "metadata": {},
   "outputs": [
    {
     "name": "stdout",
     "output_type": "stream",
     "text": [
      "<class 'pandas.core.frame.DataFrame'>\n",
      "RangeIndex: 1308890 entries, 0 to 1308889\n",
      "Data columns (total 4 columns):\n",
      " #   Column      Non-Null Count    Dtype \n",
      "---  ------      --------------    ----- \n",
      " 0   listing_id  1308890 non-null  int64 \n",
      " 1   date        1308890 non-null  object\n",
      " 2   available   1308890 non-null  object\n",
      " 3   price       643037 non-null   object\n",
      "dtypes: int64(1), object(3)\n",
      "memory usage: 39.9+ MB\n"
     ]
    }
   ],
   "source": [
    "df_boston_calendar.info()"
   ]
  },
  {
   "cell_type": "code",
   "execution_count": 1285,
   "metadata": {},
   "outputs": [
    {
     "data": {
      "text/html": [
       "<div>\n",
       "<style scoped>\n",
       "    .dataframe tbody tr th:only-of-type {\n",
       "        vertical-align: middle;\n",
       "    }\n",
       "\n",
       "    .dataframe tbody tr th {\n",
       "        vertical-align: top;\n",
       "    }\n",
       "\n",
       "    .dataframe thead th {\n",
       "        text-align: right;\n",
       "    }\n",
       "</style>\n",
       "<table border=\"1\" class=\"dataframe\">\n",
       "  <thead>\n",
       "    <tr style=\"text-align: right;\">\n",
       "      <th></th>\n",
       "      <th>listing_id</th>\n",
       "    </tr>\n",
       "  </thead>\n",
       "  <tbody>\n",
       "    <tr>\n",
       "      <th>count</th>\n",
       "      <td>1.308890e+06</td>\n",
       "    </tr>\n",
       "    <tr>\n",
       "      <th>mean</th>\n",
       "      <td>8.442118e+06</td>\n",
       "    </tr>\n",
       "    <tr>\n",
       "      <th>std</th>\n",
       "      <td>4.500149e+06</td>\n",
       "    </tr>\n",
       "    <tr>\n",
       "      <th>min</th>\n",
       "      <td>3.353000e+03</td>\n",
       "    </tr>\n",
       "    <tr>\n",
       "      <th>25%</th>\n",
       "      <td>4.679319e+06</td>\n",
       "    </tr>\n",
       "    <tr>\n",
       "      <th>50%</th>\n",
       "      <td>8.578710e+06</td>\n",
       "    </tr>\n",
       "    <tr>\n",
       "      <th>75%</th>\n",
       "      <td>1.279603e+07</td>\n",
       "    </tr>\n",
       "    <tr>\n",
       "      <th>max</th>\n",
       "      <td>1.493346e+07</td>\n",
       "    </tr>\n",
       "  </tbody>\n",
       "</table>\n",
       "</div>"
      ],
      "text/plain": [
       "         listing_id\n",
       "count  1.308890e+06\n",
       "mean   8.442118e+06\n",
       "std    4.500149e+06\n",
       "min    3.353000e+03\n",
       "25%    4.679319e+06\n",
       "50%    8.578710e+06\n",
       "75%    1.279603e+07\n",
       "max    1.493346e+07"
      ]
     },
     "execution_count": 1285,
     "metadata": {},
     "output_type": "execute_result"
    }
   ],
   "source": [
    "df_boston_calendar.describe()"
   ]
  },
  {
   "cell_type": "code",
   "execution_count": 1286,
   "metadata": {},
   "outputs": [
    {
     "data": {
      "text/html": [
       "<div>\n",
       "<style scoped>\n",
       "    .dataframe tbody tr th:only-of-type {\n",
       "        vertical-align: middle;\n",
       "    }\n",
       "\n",
       "    .dataframe tbody tr th {\n",
       "        vertical-align: top;\n",
       "    }\n",
       "\n",
       "    .dataframe thead th {\n",
       "        text-align: right;\n",
       "    }\n",
       "</style>\n",
       "<table border=\"1\" class=\"dataframe\">\n",
       "  <thead>\n",
       "    <tr style=\"text-align: right;\">\n",
       "      <th></th>\n",
       "      <th>listing_id</th>\n",
       "    </tr>\n",
       "  </thead>\n",
       "  <tbody>\n",
       "    <tr>\n",
       "      <th>listing_id</th>\n",
       "      <td>1.0</td>\n",
       "    </tr>\n",
       "  </tbody>\n",
       "</table>\n",
       "</div>"
      ],
      "text/plain": [
       "            listing_id\n",
       "listing_id         1.0"
      ]
     },
     "execution_count": 1286,
     "metadata": {},
     "output_type": "execute_result"
    }
   ],
   "source": [
    "df_boston_calendar.corr()"
   ]
  },
  {
   "cell_type": "code",
   "execution_count": 1287,
   "metadata": {},
   "outputs": [
    {
     "data": {
      "text/plain": [
       "365"
      ]
     },
     "execution_count": 1287,
     "metadata": {},
     "output_type": "execute_result"
    }
   ],
   "source": [
    "len(df_boston_calendar[(df_boston_calendar.listing_id==994138)])"
   ]
  },
  {
   "cell_type": "code",
   "execution_count": 1288,
   "metadata": {},
   "outputs": [
    {
     "data": {
      "text/plain": [
       "293"
      ]
     },
     "execution_count": 1288,
     "metadata": {},
     "output_type": "execute_result"
    }
   ],
   "source": [
    "len(df_boston_calendar[(df_boston_calendar.listing_id==994138) & (df_boston_calendar.available=='t')])"
   ]
  },
  {
   "cell_type": "code",
   "execution_count": 1289,
   "metadata": {},
   "outputs": [
    {
     "data": {
      "text/plain": [
       "365"
      ]
     },
     "execution_count": 1289,
     "metadata": {},
     "output_type": "execute_result"
    }
   ],
   "source": [
    "len(df_boston_calendar[df_boston_calendar.listing_id==197146])"
   ]
  },
  {
   "cell_type": "code",
   "execution_count": 1290,
   "metadata": {},
   "outputs": [
    {
     "data": {
      "text/plain": [
       "350"
      ]
     },
     "execution_count": 1290,
     "metadata": {},
     "output_type": "execute_result"
    }
   ],
   "source": [
    "len(df_boston_calendar[(df_boston_calendar.listing_id==197146) & (df_boston_calendar.available=='t')])"
   ]
  },
  {
   "cell_type": "code",
   "execution_count": 1291,
   "metadata": {},
   "outputs": [
    {
     "data": {
      "text/html": [
       "<div>\n",
       "<style scoped>\n",
       "    .dataframe tbody tr th:only-of-type {\n",
       "        vertical-align: middle;\n",
       "    }\n",
       "\n",
       "    .dataframe tbody tr th {\n",
       "        vertical-align: top;\n",
       "    }\n",
       "\n",
       "    .dataframe thead th {\n",
       "        text-align: right;\n",
       "    }\n",
       "</style>\n",
       "<table border=\"1\" class=\"dataframe\">\n",
       "  <thead>\n",
       "    <tr style=\"text-align: right;\">\n",
       "      <th></th>\n",
       "      <th>listing_id</th>\n",
       "      <th>id</th>\n",
       "      <th>date</th>\n",
       "      <th>reviewer_id</th>\n",
       "      <th>reviewer_name</th>\n",
       "      <th>comments</th>\n",
       "    </tr>\n",
       "  </thead>\n",
       "  <tbody>\n",
       "    <tr>\n",
       "      <th>8791</th>\n",
       "      <td>6134013</td>\n",
       "      <td>55829757</td>\n",
       "      <td>2015-12-06</td>\n",
       "      <td>17871855</td>\n",
       "      <td>Sarah</td>\n",
       "      <td>I had an amazing time staying at Faye's and Ma...</td>\n",
       "    </tr>\n",
       "    <tr>\n",
       "      <th>15120</th>\n",
       "      <td>11922134</td>\n",
       "      <td>90861058</td>\n",
       "      <td>2016-08-02</td>\n",
       "      <td>21327732</td>\n",
       "      <td>Thomas</td>\n",
       "      <td>Appartement très bien situé à Boston. Propre. ...</td>\n",
       "    </tr>\n",
       "    <tr>\n",
       "      <th>68059</th>\n",
       "      <td>1038465</td>\n",
       "      <td>78236796</td>\n",
       "      <td>2016-06-05</td>\n",
       "      <td>11573443</td>\n",
       "      <td>Estlin</td>\n",
       "      <td>Nice place. Very accommodating and helpful. We...</td>\n",
       "    </tr>\n",
       "    <tr>\n",
       "      <th>20100</th>\n",
       "      <td>1115394</td>\n",
       "      <td>16204512</td>\n",
       "      <td>2014-07-23</td>\n",
       "      <td>15361751</td>\n",
       "      <td>Sam</td>\n",
       "      <td>Upon arriving from our train from NYC  and dra...</td>\n",
       "    </tr>\n",
       "    <tr>\n",
       "      <th>50580</th>\n",
       "      <td>7988755</td>\n",
       "      <td>82221547</td>\n",
       "      <td>2016-06-26</td>\n",
       "      <td>59985841</td>\n",
       "      <td>Kristen</td>\n",
       "      <td>This was my first experience renting an Airbnb...</td>\n",
       "    </tr>\n",
       "    <tr>\n",
       "      <th>26277</th>\n",
       "      <td>12987348</td>\n",
       "      <td>95133458</td>\n",
       "      <td>2016-08-18</td>\n",
       "      <td>90259285</td>\n",
       "      <td>Amanda</td>\n",
       "      <td>Our host was great! Bill answered all my quest...</td>\n",
       "    </tr>\n",
       "    <tr>\n",
       "      <th>43538</th>\n",
       "      <td>1327725</td>\n",
       "      <td>49006843</td>\n",
       "      <td>2015-09-30</td>\n",
       "      <td>3645799</td>\n",
       "      <td>Samanda</td>\n",
       "      <td>Staying at Mikhail's apartment was a wonderful...</td>\n",
       "    </tr>\n",
       "  </tbody>\n",
       "</table>\n",
       "</div>"
      ],
      "text/plain": [
       "       listing_id        id        date  reviewer_id reviewer_name  \\\n",
       "8791      6134013  55829757  2015-12-06     17871855         Sarah   \n",
       "15120    11922134  90861058  2016-08-02     21327732        Thomas   \n",
       "68059     1038465  78236796  2016-06-05     11573443        Estlin   \n",
       "20100     1115394  16204512  2014-07-23     15361751           Sam   \n",
       "50580     7988755  82221547  2016-06-26     59985841       Kristen   \n",
       "26277    12987348  95133458  2016-08-18     90259285        Amanda   \n",
       "43538     1327725  49006843  2015-09-30      3645799       Samanda   \n",
       "\n",
       "                                                comments  \n",
       "8791   I had an amazing time staying at Faye's and Ma...  \n",
       "15120  Appartement très bien situé à Boston. Propre. ...  \n",
       "68059  Nice place. Very accommodating and helpful. We...  \n",
       "20100  Upon arriving from our train from NYC  and dra...  \n",
       "50580  This was my first experience renting an Airbnb...  \n",
       "26277  Our host was great! Bill answered all my quest...  \n",
       "43538  Staying at Mikhail's apartment was a wonderful...  "
      ]
     },
     "execution_count": 1291,
     "metadata": {},
     "output_type": "execute_result"
    }
   ],
   "source": [
    "df_boston_reviews.sample(7)"
   ]
  },
  {
   "cell_type": "markdown",
   "metadata": {},
   "source": [
    "Exploring listings data frame to understand rating of individual listing"
   ]
  },
  {
   "cell_type": "code",
   "execution_count": 1292,
   "metadata": {},
   "outputs": [
    {
     "data": {
      "text/plain": [
       "Index(['review_scores_rating'], dtype='object')"
      ]
     },
     "execution_count": 1292,
     "metadata": {},
     "output_type": "execute_result"
    }
   ],
   "source": [
    "df_boston_listings.columns[df_boston_listings.columns.str.contains('ating')]"
   ]
  },
  {
   "cell_type": "code",
   "execution_count": 1293,
   "metadata": {},
   "outputs": [
    {
     "data": {
      "text/plain": [
       "Index(['number_of_reviews', 'first_review', 'last_review',\n",
       "       'review_scores_rating', 'review_scores_accuracy',\n",
       "       'review_scores_cleanliness', 'review_scores_checkin',\n",
       "       'review_scores_communication', 'review_scores_location',\n",
       "       'review_scores_value', 'reviews_per_month'],\n",
       "      dtype='object')"
      ]
     },
     "execution_count": 1293,
     "metadata": {},
     "output_type": "execute_result"
    }
   ],
   "source": [
    "df_boston_listings.columns[df_boston_listings.columns.str.contains('eview')]"
   ]
  },
  {
   "cell_type": "code",
   "execution_count": 1294,
   "metadata": {},
   "outputs": [
    {
     "data": {
      "text/plain": [
       "Index(['review_scores_rating', 'review_scores_accuracy',\n",
       "       'review_scores_cleanliness', 'review_scores_checkin',\n",
       "       'review_scores_communication', 'review_scores_location',\n",
       "       'review_scores_value'],\n",
       "      dtype='object')"
      ]
     },
     "execution_count": 1294,
     "metadata": {},
     "output_type": "execute_result"
    }
   ],
   "source": [
    "df_boston_listings.columns[df_boston_listings.columns.str.contains('core')]"
   ]
  },
  {
   "cell_type": "code",
   "execution_count": 1295,
   "metadata": {},
   "outputs": [
    {
     "data": {
      "text/plain": [
       "Index(['has_availability', 'availability_30', 'availability_60',\n",
       "       'availability_90', 'availability_365'],\n",
       "      dtype='object')"
      ]
     },
     "execution_count": 1295,
     "metadata": {},
     "output_type": "execute_result"
    }
   ],
   "source": [
    "df_boston_listings.columns[df_boston_listings.columns.str.contains('vailab')]"
   ]
  },
  {
   "cell_type": "code",
   "execution_count": 1296,
   "metadata": {},
   "outputs": [
    {
     "data": {
      "text/html": [
       "<div>\n",
       "<style scoped>\n",
       "    .dataframe tbody tr th:only-of-type {\n",
       "        vertical-align: middle;\n",
       "    }\n",
       "\n",
       "    .dataframe tbody tr th {\n",
       "        vertical-align: top;\n",
       "    }\n",
       "\n",
       "    .dataframe thead th {\n",
       "        text-align: right;\n",
       "    }\n",
       "</style>\n",
       "<table border=\"1\" class=\"dataframe\">\n",
       "  <thead>\n",
       "    <tr style=\"text-align: right;\">\n",
       "      <th></th>\n",
       "      <th>review_scores_rating</th>\n",
       "      <th>review_scores_accuracy</th>\n",
       "      <th>review_scores_cleanliness</th>\n",
       "      <th>review_scores_checkin</th>\n",
       "      <th>review_scores_communication</th>\n",
       "      <th>review_scores_location</th>\n",
       "      <th>review_scores_value</th>\n",
       "    </tr>\n",
       "  </thead>\n",
       "  <tbody>\n",
       "    <tr>\n",
       "      <th>2262</th>\n",
       "      <td>NaN</td>\n",
       "      <td>NaN</td>\n",
       "      <td>NaN</td>\n",
       "      <td>NaN</td>\n",
       "      <td>NaN</td>\n",
       "      <td>NaN</td>\n",
       "      <td>NaN</td>\n",
       "    </tr>\n",
       "    <tr>\n",
       "      <th>939</th>\n",
       "      <td>95.0</td>\n",
       "      <td>10.0</td>\n",
       "      <td>10.0</td>\n",
       "      <td>10.0</td>\n",
       "      <td>9.0</td>\n",
       "      <td>9.0</td>\n",
       "      <td>9.0</td>\n",
       "    </tr>\n",
       "    <tr>\n",
       "      <th>1453</th>\n",
       "      <td>86.0</td>\n",
       "      <td>9.0</td>\n",
       "      <td>9.0</td>\n",
       "      <td>9.0</td>\n",
       "      <td>9.0</td>\n",
       "      <td>10.0</td>\n",
       "      <td>9.0</td>\n",
       "    </tr>\n",
       "    <tr>\n",
       "      <th>1264</th>\n",
       "      <td>96.0</td>\n",
       "      <td>10.0</td>\n",
       "      <td>10.0</td>\n",
       "      <td>10.0</td>\n",
       "      <td>10.0</td>\n",
       "      <td>10.0</td>\n",
       "      <td>9.0</td>\n",
       "    </tr>\n",
       "    <tr>\n",
       "      <th>2831</th>\n",
       "      <td>100.0</td>\n",
       "      <td>10.0</td>\n",
       "      <td>10.0</td>\n",
       "      <td>10.0</td>\n",
       "      <td>10.0</td>\n",
       "      <td>10.0</td>\n",
       "      <td>10.0</td>\n",
       "    </tr>\n",
       "  </tbody>\n",
       "</table>\n",
       "</div>"
      ],
      "text/plain": [
       "      review_scores_rating  review_scores_accuracy  review_scores_cleanliness  \\\n",
       "2262                   NaN                     NaN                        NaN   \n",
       "939                   95.0                    10.0                       10.0   \n",
       "1453                  86.0                     9.0                        9.0   \n",
       "1264                  96.0                    10.0                       10.0   \n",
       "2831                 100.0                    10.0                       10.0   \n",
       "\n",
       "      review_scores_checkin  review_scores_communication  \\\n",
       "2262                    NaN                          NaN   \n",
       "939                    10.0                          9.0   \n",
       "1453                    9.0                          9.0   \n",
       "1264                   10.0                         10.0   \n",
       "2831                   10.0                         10.0   \n",
       "\n",
       "      review_scores_location  review_scores_value  \n",
       "2262                     NaN                  NaN  \n",
       "939                      9.0                  9.0  \n",
       "1453                    10.0                  9.0  \n",
       "1264                    10.0                  9.0  \n",
       "2831                    10.0                 10.0  "
      ]
     },
     "execution_count": 1296,
     "metadata": {},
     "output_type": "execute_result"
    }
   ],
   "source": [
    "df_boston_listings[['review_scores_rating', 'review_scores_accuracy',\n",
    "       'review_scores_cleanliness', 'review_scores_checkin',\n",
    "       'review_scores_communication', 'review_scores_location',\n",
    "       'review_scores_value']].sample(5)"
   ]
  },
  {
   "cell_type": "code",
   "execution_count": 1297,
   "metadata": {},
   "outputs": [
    {
     "data": {
      "text/html": [
       "<div>\n",
       "<style scoped>\n",
       "    .dataframe tbody tr th:only-of-type {\n",
       "        vertical-align: middle;\n",
       "    }\n",
       "\n",
       "    .dataframe tbody tr th {\n",
       "        vertical-align: top;\n",
       "    }\n",
       "\n",
       "    .dataframe thead th {\n",
       "        text-align: right;\n",
       "    }\n",
       "</style>\n",
       "<table border=\"1\" class=\"dataframe\">\n",
       "  <thead>\n",
       "    <tr style=\"text-align: right;\">\n",
       "      <th></th>\n",
       "      <th>id</th>\n",
       "      <th>has_availability</th>\n",
       "      <th>availability_30</th>\n",
       "      <th>availability_60</th>\n",
       "      <th>availability_90</th>\n",
       "      <th>availability_365</th>\n",
       "    </tr>\n",
       "  </thead>\n",
       "  <tbody>\n",
       "    <tr>\n",
       "      <th>0</th>\n",
       "      <td>12147973</td>\n",
       "      <td>NaN</td>\n",
       "      <td>0</td>\n",
       "      <td>0</td>\n",
       "      <td>0</td>\n",
       "      <td>0</td>\n",
       "    </tr>\n",
       "    <tr>\n",
       "      <th>1</th>\n",
       "      <td>3075044</td>\n",
       "      <td>NaN</td>\n",
       "      <td>26</td>\n",
       "      <td>54</td>\n",
       "      <td>84</td>\n",
       "      <td>359</td>\n",
       "    </tr>\n",
       "    <tr>\n",
       "      <th>2</th>\n",
       "      <td>6976</td>\n",
       "      <td>NaN</td>\n",
       "      <td>19</td>\n",
       "      <td>46</td>\n",
       "      <td>61</td>\n",
       "      <td>319</td>\n",
       "    </tr>\n",
       "    <tr>\n",
       "      <th>3</th>\n",
       "      <td>1436513</td>\n",
       "      <td>NaN</td>\n",
       "      <td>6</td>\n",
       "      <td>16</td>\n",
       "      <td>26</td>\n",
       "      <td>98</td>\n",
       "    </tr>\n",
       "    <tr>\n",
       "      <th>4</th>\n",
       "      <td>7651065</td>\n",
       "      <td>NaN</td>\n",
       "      <td>13</td>\n",
       "      <td>34</td>\n",
       "      <td>59</td>\n",
       "      <td>334</td>\n",
       "    </tr>\n",
       "    <tr>\n",
       "      <th>...</th>\n",
       "      <td>...</td>\n",
       "      <td>...</td>\n",
       "      <td>...</td>\n",
       "      <td>...</td>\n",
       "      <td>...</td>\n",
       "      <td>...</td>\n",
       "    </tr>\n",
       "    <tr>\n",
       "      <th>3580</th>\n",
       "      <td>8373729</td>\n",
       "      <td>NaN</td>\n",
       "      <td>21</td>\n",
       "      <td>51</td>\n",
       "      <td>81</td>\n",
       "      <td>356</td>\n",
       "    </tr>\n",
       "    <tr>\n",
       "      <th>3581</th>\n",
       "      <td>14844274</td>\n",
       "      <td>NaN</td>\n",
       "      <td>29</td>\n",
       "      <td>59</td>\n",
       "      <td>89</td>\n",
       "      <td>364</td>\n",
       "    </tr>\n",
       "    <tr>\n",
       "      <th>3582</th>\n",
       "      <td>14585486</td>\n",
       "      <td>NaN</td>\n",
       "      <td>0</td>\n",
       "      <td>15</td>\n",
       "      <td>40</td>\n",
       "      <td>40</td>\n",
       "    </tr>\n",
       "    <tr>\n",
       "      <th>3583</th>\n",
       "      <td>14603878</td>\n",
       "      <td>NaN</td>\n",
       "      <td>5</td>\n",
       "      <td>5</td>\n",
       "      <td>5</td>\n",
       "      <td>253</td>\n",
       "    </tr>\n",
       "    <tr>\n",
       "      <th>3584</th>\n",
       "      <td>14504422</td>\n",
       "      <td>NaN</td>\n",
       "      <td>17</td>\n",
       "      <td>45</td>\n",
       "      <td>75</td>\n",
       "      <td>165</td>\n",
       "    </tr>\n",
       "  </tbody>\n",
       "</table>\n",
       "<p>3585 rows × 6 columns</p>\n",
       "</div>"
      ],
      "text/plain": [
       "            id  has_availability  availability_30  availability_60  \\\n",
       "0     12147973               NaN                0                0   \n",
       "1      3075044               NaN               26               54   \n",
       "2         6976               NaN               19               46   \n",
       "3      1436513               NaN                6               16   \n",
       "4      7651065               NaN               13               34   \n",
       "...        ...               ...              ...              ...   \n",
       "3580   8373729               NaN               21               51   \n",
       "3581  14844274               NaN               29               59   \n",
       "3582  14585486               NaN                0               15   \n",
       "3583  14603878               NaN                5                5   \n",
       "3584  14504422               NaN               17               45   \n",
       "\n",
       "      availability_90  availability_365  \n",
       "0                   0                 0  \n",
       "1                  84               359  \n",
       "2                  61               319  \n",
       "3                  26                98  \n",
       "4                  59               334  \n",
       "...               ...               ...  \n",
       "3580               81               356  \n",
       "3581               89               364  \n",
       "3582               40                40  \n",
       "3583                5               253  \n",
       "3584               75               165  \n",
       "\n",
       "[3585 rows x 6 columns]"
      ]
     },
     "execution_count": 1297,
     "metadata": {},
     "output_type": "execute_result"
    }
   ],
   "source": [
    "df_boston_listings[['id','has_availability', 'availability_30', 'availability_60',\n",
    "       'availability_90', 'availability_365']]"
   ]
  },
  {
   "cell_type": "markdown",
   "metadata": {},
   "source": [
    "###### List of issues you identiefied using rudimentry assessment"
   ]
  },
  {
   "cell_type": "markdown",
   "metadata": {},
   "source": [
    "- Issue 1\n",
    "- Issue 2\n",
    "- Issue 3\n",
    "- Issue 4"
   ]
  },
  {
   "cell_type": "markdown",
   "metadata": {},
   "source": [
    "Finding relevant column for reviews for listing"
   ]
  },
  {
   "cell_type": "code",
   "execution_count": 1298,
   "metadata": {},
   "outputs": [
    {
     "data": {
      "text/plain": [
       "array(['review_scores_rating'], dtype=object)"
      ]
     },
     "execution_count": 1298,
     "metadata": {},
     "output_type": "execute_result"
    }
   ],
   "source": [
    "df_boston_listings.columns.values[df_boston_listings.columns.str.contains('ating')]"
   ]
  },
  {
   "cell_type": "code",
   "execution_count": 1299,
   "metadata": {},
   "outputs": [
    {
     "name": "stdout",
     "output_type": "stream",
     "text": [
      "<class 'pandas.core.frame.DataFrame'>\n",
      "RangeIndex: 3585 entries, 0 to 3584\n",
      "Data columns (total 3 columns):\n",
      " #   Column                Non-Null Count  Dtype  \n",
      "---  ------                --------------  -----  \n",
      " 0   id                    3585 non-null   int64  \n",
      " 1   review_scores_rating  2772 non-null   float64\n",
      " 2   review_scores_value   2764 non-null   float64\n",
      "dtypes: float64(2), int64(1)\n",
      "memory usage: 84.1 KB\n"
     ]
    }
   ],
   "source": [
    "df_boston_listings[['id', 'review_scores_rating', 'review_scores_value']].info()"
   ]
  },
  {
   "cell_type": "code",
   "execution_count": 1300,
   "metadata": {},
   "outputs": [
    {
     "data": {
      "text/html": [
       "<div>\n",
       "<style scoped>\n",
       "    .dataframe tbody tr th:only-of-type {\n",
       "        vertical-align: middle;\n",
       "    }\n",
       "\n",
       "    .dataframe tbody tr th {\n",
       "        vertical-align: top;\n",
       "    }\n",
       "\n",
       "    .dataframe thead th {\n",
       "        text-align: right;\n",
       "    }\n",
       "</style>\n",
       "<table border=\"1\" class=\"dataframe\">\n",
       "  <thead>\n",
       "    <tr style=\"text-align: right;\">\n",
       "      <th></th>\n",
       "      <th>id</th>\n",
       "      <th>review_scores_rating</th>\n",
       "      <th>review_scores_value</th>\n",
       "    </tr>\n",
       "  </thead>\n",
       "  <tbody>\n",
       "    <tr>\n",
       "      <th>count</th>\n",
       "      <td>3.585000e+03</td>\n",
       "      <td>2772.000000</td>\n",
       "      <td>2764.000000</td>\n",
       "    </tr>\n",
       "    <tr>\n",
       "      <th>mean</th>\n",
       "      <td>8.440875e+06</td>\n",
       "      <td>91.916667</td>\n",
       "      <td>9.168234</td>\n",
       "    </tr>\n",
       "    <tr>\n",
       "      <th>std</th>\n",
       "      <td>4.500787e+06</td>\n",
       "      <td>9.531686</td>\n",
       "      <td>1.011116</td>\n",
       "    </tr>\n",
       "    <tr>\n",
       "      <th>min</th>\n",
       "      <td>3.353000e+03</td>\n",
       "      <td>20.000000</td>\n",
       "      <td>2.000000</td>\n",
       "    </tr>\n",
       "    <tr>\n",
       "      <th>25%</th>\n",
       "      <td>4.679319e+06</td>\n",
       "      <td>89.000000</td>\n",
       "      <td>9.000000</td>\n",
       "    </tr>\n",
       "    <tr>\n",
       "      <th>50%</th>\n",
       "      <td>8.577620e+06</td>\n",
       "      <td>94.000000</td>\n",
       "      <td>9.000000</td>\n",
       "    </tr>\n",
       "    <tr>\n",
       "      <th>75%</th>\n",
       "      <td>1.278953e+07</td>\n",
       "      <td>98.250000</td>\n",
       "      <td>10.000000</td>\n",
       "    </tr>\n",
       "    <tr>\n",
       "      <th>max</th>\n",
       "      <td>1.493346e+07</td>\n",
       "      <td>100.000000</td>\n",
       "      <td>10.000000</td>\n",
       "    </tr>\n",
       "  </tbody>\n",
       "</table>\n",
       "</div>"
      ],
      "text/plain": [
       "                 id  review_scores_rating  review_scores_value\n",
       "count  3.585000e+03           2772.000000          2764.000000\n",
       "mean   8.440875e+06             91.916667             9.168234\n",
       "std    4.500787e+06              9.531686             1.011116\n",
       "min    3.353000e+03             20.000000             2.000000\n",
       "25%    4.679319e+06             89.000000             9.000000\n",
       "50%    8.577620e+06             94.000000             9.000000\n",
       "75%    1.278953e+07             98.250000            10.000000\n",
       "max    1.493346e+07            100.000000            10.000000"
      ]
     },
     "execution_count": 1300,
     "metadata": {},
     "output_type": "execute_result"
    }
   ],
   "source": [
    "df_boston_listings[['id', 'review_scores_rating', 'review_scores_value']].describe()"
   ]
  },
  {
   "cell_type": "markdown",
   "metadata": {},
   "source": [
    "<li><a href=\"#TOC\">Back To Table Of Contents</a></li>"
   ]
  },
  {
   "cell_type": "markdown",
   "metadata": {},
   "source": [
    "<a id='data_preparation'></a>\n",
    "## Data Preparation"
   ]
  },
  {
   "cell_type": "markdown",
   "metadata": {},
   "source": [
    "##### Question 1 =  Which zipcodes contain listings that are leaders in being booked?"
   ]
  },
  {
   "cell_type": "markdown",
   "metadata": {},
   "source": [
    "Need to find top 3 zipcodes who have highest book rate. Relevant dataframes are df_boston_listings, df_boston_calendar"
   ]
  },
  {
   "cell_type": "code",
   "execution_count": 1301,
   "metadata": {},
   "outputs": [
    {
     "data": {
      "text/plain": [
       "Index(['listing_id', 'date', 'available', 'price'], dtype='object')"
      ]
     },
     "execution_count": 1301,
     "metadata": {},
     "output_type": "execute_result"
    }
   ],
   "source": [
    "df_boston_calendar.columns"
   ]
  },
  {
   "cell_type": "code",
   "execution_count": 1302,
   "metadata": {},
   "outputs": [
    {
     "data": {
      "text/plain": [
       "(1308890, 4)"
      ]
     },
     "execution_count": 1302,
     "metadata": {},
     "output_type": "execute_result"
    }
   ],
   "source": [
    "df_boston_calendar.shape"
   ]
  },
  {
   "cell_type": "code",
   "execution_count": 1303,
   "metadata": {},
   "outputs": [
    {
     "data": {
      "text/plain": [
       "3585"
      ]
     },
     "execution_count": 1303,
     "metadata": {},
     "output_type": "execute_result"
    }
   ],
   "source": [
    "df_boston_calendar.listing_id.nunique()"
   ]
  },
  {
   "cell_type": "code",
   "execution_count": 1304,
   "metadata": {},
   "outputs": [
    {
     "data": {
      "text/plain": [
       "3585"
      ]
     },
     "execution_count": 1304,
     "metadata": {},
     "output_type": "execute_result"
    }
   ],
   "source": [
    "df_boston_listings.id.nunique()\n"
   ]
  },
  {
   "cell_type": "code",
   "execution_count": 1305,
   "metadata": {},
   "outputs": [
    {
     "data": {
      "text/plain": [
       "Index(['listing_id', 'date', 'available', 'price'], dtype='object')"
      ]
     },
     "execution_count": 1305,
     "metadata": {},
     "output_type": "execute_result"
    }
   ],
   "source": [
    "df_boston_calendar.columns"
   ]
  },
  {
   "cell_type": "code",
   "execution_count": 1306,
   "metadata": {},
   "outputs": [
    {
     "data": {
      "text/html": [
       "<div>\n",
       "<style scoped>\n",
       "    .dataframe tbody tr th:only-of-type {\n",
       "        vertical-align: middle;\n",
       "    }\n",
       "\n",
       "    .dataframe tbody tr th {\n",
       "        vertical-align: top;\n",
       "    }\n",
       "\n",
       "    .dataframe thead th {\n",
       "        text-align: right;\n",
       "    }\n",
       "</style>\n",
       "<table border=\"1\" class=\"dataframe\">\n",
       "  <thead>\n",
       "    <tr style=\"text-align: right;\">\n",
       "      <th></th>\n",
       "      <th>listing_id</th>\n",
       "      <th>date</th>\n",
       "      <th>available</th>\n",
       "      <th>price</th>\n",
       "    </tr>\n",
       "  </thead>\n",
       "  <tbody>\n",
       "    <tr>\n",
       "      <th>836901</th>\n",
       "      <td>6844012</td>\n",
       "      <td>2016-10-19</td>\n",
       "      <td>t</td>\n",
       "      <td>$628.00</td>\n",
       "    </tr>\n",
       "    <tr>\n",
       "      <th>847663</th>\n",
       "      <td>7219056</td>\n",
       "      <td>2017-04-16</td>\n",
       "      <td>f</td>\n",
       "      <td>NaN</td>\n",
       "    </tr>\n",
       "    <tr>\n",
       "      <th>984965</th>\n",
       "      <td>6706463</td>\n",
       "      <td>2017-02-02</td>\n",
       "      <td>t</td>\n",
       "      <td>$65.00</td>\n",
       "    </tr>\n",
       "    <tr>\n",
       "      <th>761010</th>\n",
       "      <td>8696200</td>\n",
       "      <td>2016-09-20</td>\n",
       "      <td>f</td>\n",
       "      <td>NaN</td>\n",
       "    </tr>\n",
       "    <tr>\n",
       "      <th>663866</th>\n",
       "      <td>4610745</td>\n",
       "      <td>2016-11-04</td>\n",
       "      <td>f</td>\n",
       "      <td>NaN</td>\n",
       "    </tr>\n",
       "    <tr>\n",
       "      <th>314474</th>\n",
       "      <td>3343428</td>\n",
       "      <td>2017-09-02</td>\n",
       "      <td>f</td>\n",
       "      <td>NaN</td>\n",
       "    </tr>\n",
       "    <tr>\n",
       "      <th>1019129</th>\n",
       "      <td>6160803</td>\n",
       "      <td>2017-04-21</td>\n",
       "      <td>t</td>\n",
       "      <td>$245.00</td>\n",
       "    </tr>\n",
       "  </tbody>\n",
       "</table>\n",
       "</div>"
      ],
      "text/plain": [
       "         listing_id        date available    price\n",
       "836901      6844012  2016-10-19         t  $628.00\n",
       "847663      7219056  2017-04-16         f      NaN\n",
       "984965      6706463  2017-02-02         t   $65.00\n",
       "761010      8696200  2016-09-20         f      NaN\n",
       "663866      4610745  2016-11-04         f      NaN\n",
       "314474      3343428  2017-09-02         f      NaN\n",
       "1019129     6160803  2017-04-21         t  $245.00"
      ]
     },
     "execution_count": 1306,
     "metadata": {},
     "output_type": "execute_result"
    }
   ],
   "source": [
    "df_boston_calendar.sample(7)"
   ]
  },
  {
   "cell_type": "markdown",
   "metadata": {},
   "source": [
    "We need to create a new dataframe which will contain all unique zip codes and combined percentage of all of listings belonging to that zipcode.\n",
    "Relevant columns from each dataframe are:\n",
    "\n",
    "df_boston_listings\n",
    "<br>1) id\n",
    "<br>2) zipcode\n",
    "<br><br>df_boston_calendar\n",
    "<br>1) listing_id\n",
    "<br>2) date\n",
    "<br>3) available"
   ]
  },
  {
   "cell_type": "code",
   "execution_count": 1307,
   "metadata": {},
   "outputs": [
    {
     "data": {
      "text/html": [
       "<div>\n",
       "<style scoped>\n",
       "    .dataframe tbody tr th:only-of-type {\n",
       "        vertical-align: middle;\n",
       "    }\n",
       "\n",
       "    .dataframe tbody tr th {\n",
       "        vertical-align: top;\n",
       "    }\n",
       "\n",
       "    .dataframe thead th {\n",
       "        text-align: right;\n",
       "    }\n",
       "</style>\n",
       "<table border=\"1\" class=\"dataframe\">\n",
       "  <thead>\n",
       "    <tr style=\"text-align: right;\">\n",
       "      <th></th>\n",
       "      <th>id</th>\n",
       "      <th>zipcode</th>\n",
       "    </tr>\n",
       "  </thead>\n",
       "  <tbody>\n",
       "    <tr>\n",
       "      <th>439</th>\n",
       "      <td>848152</td>\n",
       "      <td>02120</td>\n",
       "    </tr>\n",
       "    <tr>\n",
       "      <th>1452</th>\n",
       "      <td>693353</td>\n",
       "      <td>02116</td>\n",
       "    </tr>\n",
       "    <tr>\n",
       "      <th>1249</th>\n",
       "      <td>8048838</td>\n",
       "      <td>02115</td>\n",
       "    </tr>\n",
       "    <tr>\n",
       "      <th>1059</th>\n",
       "      <td>12508801</td>\n",
       "      <td>02116</td>\n",
       "    </tr>\n",
       "    <tr>\n",
       "      <th>1332</th>\n",
       "      <td>9631816</td>\n",
       "      <td>02116</td>\n",
       "    </tr>\n",
       "  </tbody>\n",
       "</table>\n",
       "</div>"
      ],
      "text/plain": [
       "            id zipcode\n",
       "439     848152   02120\n",
       "1452    693353   02116\n",
       "1249   8048838   02115\n",
       "1059  12508801   02116\n",
       "1332   9631816   02116"
      ]
     },
     "execution_count": 1307,
     "metadata": {},
     "output_type": "execute_result"
    }
   ],
   "source": [
    "df_boston_listings[['id', 'zipcode']].sample(5)"
   ]
  },
  {
   "cell_type": "markdown",
   "metadata": {},
   "source": [
    "Checking for nulls and datatypes"
   ]
  },
  {
   "cell_type": "code",
   "execution_count": 1308,
   "metadata": {},
   "outputs": [
    {
     "name": "stdout",
     "output_type": "stream",
     "text": [
      "<class 'pandas.core.frame.DataFrame'>\n",
      "RangeIndex: 3585 entries, 0 to 3584\n",
      "Data columns (total 2 columns):\n",
      " #   Column   Non-Null Count  Dtype \n",
      "---  ------   --------------  ----- \n",
      " 0   id       3585 non-null   int64 \n",
      " 1   zipcode  3547 non-null   object\n",
      "dtypes: int64(1), object(1)\n",
      "memory usage: 56.1+ KB\n"
     ]
    }
   ],
   "source": [
    "df_boston_listings[['id', 'zipcode']].info()"
   ]
  },
  {
   "cell_type": "code",
   "execution_count": 1309,
   "metadata": {},
   "outputs": [
    {
     "data": {
      "text/html": [
       "<div>\n",
       "<style scoped>\n",
       "    .dataframe tbody tr th:only-of-type {\n",
       "        vertical-align: middle;\n",
       "    }\n",
       "\n",
       "    .dataframe tbody tr th {\n",
       "        vertical-align: top;\n",
       "    }\n",
       "\n",
       "    .dataframe thead th {\n",
       "        text-align: right;\n",
       "    }\n",
       "</style>\n",
       "<table border=\"1\" class=\"dataframe\">\n",
       "  <thead>\n",
       "    <tr style=\"text-align: right;\">\n",
       "      <th></th>\n",
       "      <th>listing_id</th>\n",
       "      <th>date</th>\n",
       "      <th>available</th>\n",
       "      <th>price</th>\n",
       "    </tr>\n",
       "  </thead>\n",
       "  <tbody>\n",
       "    <tr>\n",
       "      <th>1008727</th>\n",
       "      <td>3839678</td>\n",
       "      <td>2017-01-10</td>\n",
       "      <td>f</td>\n",
       "      <td>NaN</td>\n",
       "    </tr>\n",
       "    <tr>\n",
       "      <th>292275</th>\n",
       "      <td>276450</td>\n",
       "      <td>2016-12-04</td>\n",
       "      <td>t</td>\n",
       "      <td>$113.00</td>\n",
       "    </tr>\n",
       "    <tr>\n",
       "      <th>1286339</th>\n",
       "      <td>4032126</td>\n",
       "      <td>2017-02-06</td>\n",
       "      <td>t</td>\n",
       "      <td>$35.00</td>\n",
       "    </tr>\n",
       "    <tr>\n",
       "      <th>321259</th>\n",
       "      <td>4263736</td>\n",
       "      <td>2017-04-26</td>\n",
       "      <td>f</td>\n",
       "      <td>NaN</td>\n",
       "    </tr>\n",
       "    <tr>\n",
       "      <th>1162864</th>\n",
       "      <td>7745117</td>\n",
       "      <td>2016-10-01</td>\n",
       "      <td>t</td>\n",
       "      <td>$275.00</td>\n",
       "    </tr>\n",
       "  </tbody>\n",
       "</table>\n",
       "</div>"
      ],
      "text/plain": [
       "         listing_id        date available    price\n",
       "1008727     3839678  2017-01-10         f      NaN\n",
       "292275       276450  2016-12-04         t  $113.00\n",
       "1286339     4032126  2017-02-06         t   $35.00\n",
       "321259      4263736  2017-04-26         f      NaN\n",
       "1162864     7745117  2016-10-01         t  $275.00"
      ]
     },
     "execution_count": 1309,
     "metadata": {},
     "output_type": "execute_result"
    }
   ],
   "source": [
    "df_boston_calendar.sample(5)"
   ]
  },
  {
   "cell_type": "code",
   "execution_count": 1310,
   "metadata": {},
   "outputs": [
    {
     "name": "stdout",
     "output_type": "stream",
     "text": [
      "<class 'pandas.core.frame.DataFrame'>\n",
      "RangeIndex: 1308890 entries, 0 to 1308889\n",
      "Data columns (total 4 columns):\n",
      " #   Column      Non-Null Count    Dtype \n",
      "---  ------      --------------    ----- \n",
      " 0   listing_id  1308890 non-null  int64 \n",
      " 1   date        1308890 non-null  object\n",
      " 2   available   1308890 non-null  object\n",
      " 3   price       643037 non-null   object\n",
      "dtypes: int64(1), object(3)\n",
      "memory usage: 39.9+ MB\n"
     ]
    }
   ],
   "source": [
    "df_boston_calendar.info()"
   ]
  },
  {
   "cell_type": "code",
   "execution_count": 1311,
   "metadata": {},
   "outputs": [
    {
     "data": {
      "text/plain": [
       "f    665853\n",
       "t    643037\n",
       "Name: available, dtype: int64"
      ]
     },
     "execution_count": 1311,
     "metadata": {},
     "output_type": "execute_result"
    }
   ],
   "source": [
    "df_boston_calendar.available.value_counts()"
   ]
  },
  {
   "cell_type": "markdown",
   "metadata": {},
   "source": [
    "In df_boston_calendar datattypes should be changed; date from object to datetime, available from object to Bool."
   ]
  },
  {
   "cell_type": "code",
   "execution_count": 1312,
   "metadata": {},
   "outputs": [],
   "source": [
    "df_boston_calendar['date'] = pd.to_datetime(df_boston_calendar['date'])"
   ]
  },
  {
   "cell_type": "code",
   "execution_count": 1313,
   "metadata": {},
   "outputs": [
    {
     "name": "stdout",
     "output_type": "stream",
     "text": [
      "<class 'pandas.core.frame.DataFrame'>\n",
      "RangeIndex: 1308890 entries, 0 to 1308889\n",
      "Data columns (total 4 columns):\n",
      " #   Column      Non-Null Count    Dtype         \n",
      "---  ------      --------------    -----         \n",
      " 0   listing_id  1308890 non-null  int64         \n",
      " 1   date        1308890 non-null  datetime64[ns]\n",
      " 2   available   1308890 non-null  object        \n",
      " 3   price       643037 non-null   object        \n",
      "dtypes: datetime64[ns](1), int64(1), object(2)\n",
      "memory usage: 39.9+ MB\n"
     ]
    }
   ],
   "source": [
    "df_boston_calendar.info()"
   ]
  },
  {
   "cell_type": "code",
   "execution_count": 1314,
   "metadata": {},
   "outputs": [
    {
     "data": {
      "text/plain": [
       "0    f\n",
       "1    f\n",
       "2    f\n",
       "3    f\n",
       "4    f\n",
       "Name: available, dtype: object"
      ]
     },
     "execution_count": 1314,
     "metadata": {},
     "output_type": "execute_result"
    }
   ],
   "source": [
    "df_boston_calendar.available.head(5)"
   ]
  },
  {
   "cell_type": "code",
   "execution_count": 1315,
   "metadata": {},
   "outputs": [],
   "source": [
    "df_boston_calendar['available']=(df_boston_calendar.available=='t')"
   ]
  },
  {
   "cell_type": "code",
   "execution_count": 1316,
   "metadata": {},
   "outputs": [
    {
     "name": "stdout",
     "output_type": "stream",
     "text": [
      "<class 'pandas.core.frame.DataFrame'>\n",
      "RangeIndex: 1308890 entries, 0 to 1308889\n",
      "Data columns (total 4 columns):\n",
      " #   Column      Non-Null Count    Dtype         \n",
      "---  ------      --------------    -----         \n",
      " 0   listing_id  1308890 non-null  int64         \n",
      " 1   date        1308890 non-null  datetime64[ns]\n",
      " 2   available   1308890 non-null  bool          \n",
      " 3   price       643037 non-null   object        \n",
      "dtypes: bool(1), datetime64[ns](1), int64(1), object(1)\n",
      "memory usage: 31.2+ MB\n"
     ]
    }
   ],
   "source": [
    "df_boston_calendar.info()"
   ]
  },
  {
   "cell_type": "markdown",
   "metadata": {},
   "source": [
    "Create new dataframe to store data for this and possible other questions related to zipcode details"
   ]
  },
  {
   "cell_type": "code",
   "execution_count": 1317,
   "metadata": {},
   "outputs": [],
   "source": [
    "df_zipcode_details = pd.DataFrame()"
   ]
  },
  {
   "cell_type": "markdown",
   "metadata": {},
   "source": [
    "Creating first column of the dataframe using unique zipcodes fromm df_boston_listings"
   ]
  },
  {
   "cell_type": "code",
   "execution_count": 1318,
   "metadata": {},
   "outputs": [
    {
     "data": {
      "text/plain": [
       "43"
      ]
     },
     "execution_count": 1318,
     "metadata": {},
     "output_type": "execute_result"
    }
   ],
   "source": [
    "df_boston_listings.zipcode.nunique()"
   ]
  },
  {
   "cell_type": "code",
   "execution_count": 1319,
   "metadata": {},
   "outputs": [
    {
     "data": {
      "text/plain": [
       "array(['02131', nan, '02130', '02119', '02120', '02115', '02215', '02116',\n",
       "       '02111', '02109', '02113', '02110', '02114', '02108', '02121',\n",
       "       '02118', '02125', '02124', '02210', '02218', '02142', '02128',\n",
       "       '02129', '02145', '02126', '02108 02111', '02472', '02122',\n",
       "       '02446', '02135', '02134', '02445', '02132', '02467', '02136',\n",
       "       '02186', '02169', '02127', '02134-1704', '02163', '02138', '02139',\n",
       "       '02141', '02143'], dtype=object)"
      ]
     },
     "execution_count": 1319,
     "metadata": {},
     "output_type": "execute_result"
    }
   ],
   "source": [
    "df_boston_listings.zipcode.unique()"
   ]
  },
  {
   "cell_type": "code",
   "execution_count": 1320,
   "metadata": {},
   "outputs": [],
   "source": [
    "df_zipcode_details['zipcode'] = df_boston_listings.zipcode.unique()"
   ]
  },
  {
   "cell_type": "code",
   "execution_count": 1321,
   "metadata": {},
   "outputs": [
    {
     "data": {
      "text/plain": [
       "(44, 1)"
      ]
     },
     "execution_count": 1321,
     "metadata": {},
     "output_type": "execute_result"
    }
   ],
   "source": [
    "df_zipcode_details.shape"
   ]
  },
  {
   "cell_type": "code",
   "execution_count": 1322,
   "metadata": {
    "scrolled": true
   },
   "outputs": [
    {
     "data": {
      "text/plain": [
       "0           02131\n",
       "2           02130\n",
       "3           02119\n",
       "4           02120\n",
       "5           02115\n",
       "6           02215\n",
       "7           02116\n",
       "8           02111\n",
       "9           02109\n",
       "10          02113\n",
       "11          02110\n",
       "12          02114\n",
       "13          02108\n",
       "14          02121\n",
       "15          02118\n",
       "16          02125\n",
       "17          02124\n",
       "18          02210\n",
       "19          02218\n",
       "20          02142\n",
       "21          02128\n",
       "22          02129\n",
       "23          02145\n",
       "24          02126\n",
       "25    02108 02111\n",
       "26          02472\n",
       "27          02122\n",
       "28          02446\n",
       "29          02135\n",
       "30          02134\n",
       "31          02445\n",
       "32          02132\n",
       "33          02467\n",
       "34          02136\n",
       "35          02186\n",
       "36          02169\n",
       "37          02127\n",
       "38     02134-1704\n",
       "39          02163\n",
       "40          02138\n",
       "41          02139\n",
       "42          02141\n",
       "43          02143\n",
       "Name: zipcode, dtype: object"
      ]
     },
     "execution_count": 1322,
     "metadata": {},
     "output_type": "execute_result"
    }
   ],
   "source": [
    "df_zipcode_details.zipcode.dropna()"
   ]
  },
  {
   "cell_type": "code",
   "execution_count": 1323,
   "metadata": {},
   "outputs": [
    {
     "name": "stdout",
     "output_type": "stream",
     "text": [
      "<class 'pandas.core.frame.DataFrame'>\n",
      "RangeIndex: 44 entries, 0 to 43\n",
      "Data columns (total 1 columns):\n",
      " #   Column   Non-Null Count  Dtype \n",
      "---  ------   --------------  ----- \n",
      " 0   zipcode  43 non-null     object\n",
      "dtypes: object(1)\n",
      "memory usage: 480.0+ bytes\n"
     ]
    }
   ],
   "source": [
    "df_zipcode_details.info()"
   ]
  },
  {
   "cell_type": "markdown",
   "metadata": {},
   "source": [
    "Finding booked percentage for each zipcode."
   ]
  },
  {
   "cell_type": "markdown",
   "metadata": {},
   "source": [
    "I think this can be achieved in 2 steps; step 1 is to get percentage for all listings from df_boston_calendar (call mean() on it) then average percentages of all listings belonging to certain zipcode."
   ]
  },
  {
   "cell_type": "code",
   "execution_count": 1324,
   "metadata": {},
   "outputs": [
    {
     "name": "stdout",
     "output_type": "stream",
     "text": [
      "<class 'pandas.core.frame.DataFrame'>\n",
      "RangeIndex: 1308890 entries, 0 to 1308889\n",
      "Data columns (total 4 columns):\n",
      " #   Column      Non-Null Count    Dtype         \n",
      "---  ------      --------------    -----         \n",
      " 0   listing_id  1308890 non-null  int64         \n",
      " 1   date        1308890 non-null  datetime64[ns]\n",
      " 2   available   1308890 non-null  bool          \n",
      " 3   price       643037 non-null   object        \n",
      "dtypes: bool(1), datetime64[ns](1), int64(1), object(1)\n",
      "memory usage: 31.2+ MB\n"
     ]
    }
   ],
   "source": [
    "df_boston_calendar.info()"
   ]
  },
  {
   "cell_type": "code",
   "execution_count": 1325,
   "metadata": {},
   "outputs": [],
   "source": [
    "temp_df = pd.DataFrame()"
   ]
  },
  {
   "cell_type": "code",
   "execution_count": 1326,
   "metadata": {},
   "outputs": [],
   "source": [
    "temp_df['booking_percentage'] = df_boston_calendar.groupby(['listing_id'])['available'].mean()"
   ]
  },
  {
   "cell_type": "code",
   "execution_count": 1327,
   "metadata": {},
   "outputs": [
    {
     "data": {
      "text/plain": [
       "(3585, 1)"
      ]
     },
     "execution_count": 1327,
     "metadata": {},
     "output_type": "execute_result"
    }
   ],
   "source": [
    "temp_df.shape"
   ]
  },
  {
   "cell_type": "code",
   "execution_count": 1328,
   "metadata": {},
   "outputs": [
    {
     "data": {
      "text/plain": [
       "3585"
      ]
     },
     "execution_count": 1328,
     "metadata": {},
     "output_type": "execute_result"
    }
   ],
   "source": [
    "len(temp_df.index)"
   ]
  },
  {
   "cell_type": "code",
   "execution_count": 1329,
   "metadata": {},
   "outputs": [],
   "source": [
    "temp_df['listing_id']=temp_df.index"
   ]
  },
  {
   "cell_type": "code",
   "execution_count": 1330,
   "metadata": {},
   "outputs": [
    {
     "data": {
      "text/plain": [
       "(3585, 2)"
      ]
     },
     "execution_count": 1330,
     "metadata": {},
     "output_type": "execute_result"
    }
   ],
   "source": [
    "temp_df.shape"
   ]
  },
  {
   "cell_type": "markdown",
   "metadata": {},
   "source": [
    "Now we need to add column of zipcode corresponding to each listing"
   ]
  },
  {
   "cell_type": "code",
   "execution_count": 1331,
   "metadata": {},
   "outputs": [
    {
     "data": {
      "text/html": [
       "<div>\n",
       "<style scoped>\n",
       "    .dataframe tbody tr th:only-of-type {\n",
       "        vertical-align: middle;\n",
       "    }\n",
       "\n",
       "    .dataframe tbody tr th {\n",
       "        vertical-align: top;\n",
       "    }\n",
       "\n",
       "    .dataframe thead th {\n",
       "        text-align: right;\n",
       "    }\n",
       "</style>\n",
       "<table border=\"1\" class=\"dataframe\">\n",
       "  <thead>\n",
       "    <tr style=\"text-align: right;\">\n",
       "      <th></th>\n",
       "      <th>booking_percentage</th>\n",
       "      <th>listing_id</th>\n",
       "    </tr>\n",
       "    <tr>\n",
       "      <th>listing_id</th>\n",
       "      <th></th>\n",
       "      <th></th>\n",
       "    </tr>\n",
       "  </thead>\n",
       "  <tbody>\n",
       "    <tr>\n",
       "      <th>8882195</th>\n",
       "      <td>0.304110</td>\n",
       "      <td>8882195</td>\n",
       "    </tr>\n",
       "    <tr>\n",
       "      <th>13565471</th>\n",
       "      <td>0.717808</td>\n",
       "      <td>13565471</td>\n",
       "    </tr>\n",
       "    <tr>\n",
       "      <th>5702292</th>\n",
       "      <td>0.876712</td>\n",
       "      <td>5702292</td>\n",
       "    </tr>\n",
       "  </tbody>\n",
       "</table>\n",
       "</div>"
      ],
      "text/plain": [
       "            booking_percentage  listing_id\n",
       "listing_id                                \n",
       "8882195               0.304110     8882195\n",
       "13565471              0.717808    13565471\n",
       "5702292               0.876712     5702292"
      ]
     },
     "execution_count": 1331,
     "metadata": {},
     "output_type": "execute_result"
    }
   ],
   "source": [
    "temp_df.sample(3)"
   ]
  },
  {
   "cell_type": "code",
   "execution_count": 1332,
   "metadata": {},
   "outputs": [],
   "source": [
    "temp_df.reset_index(drop=True, inplace=True)"
   ]
  },
  {
   "cell_type": "code",
   "execution_count": 1333,
   "metadata": {},
   "outputs": [],
   "source": [
    "temp_df = temp_df.merge (df_boston_listings[['id','zipcode']], left_on='listing_id', right_on='id')"
   ]
  },
  {
   "cell_type": "code",
   "execution_count": 1334,
   "metadata": {},
   "outputs": [
    {
     "data": {
      "text/html": [
       "<div>\n",
       "<style scoped>\n",
       "    .dataframe tbody tr th:only-of-type {\n",
       "        vertical-align: middle;\n",
       "    }\n",
       "\n",
       "    .dataframe tbody tr th {\n",
       "        vertical-align: top;\n",
       "    }\n",
       "\n",
       "    .dataframe thead th {\n",
       "        text-align: right;\n",
       "    }\n",
       "</style>\n",
       "<table border=\"1\" class=\"dataframe\">\n",
       "  <thead>\n",
       "    <tr style=\"text-align: right;\">\n",
       "      <th></th>\n",
       "      <th>booking_percentage</th>\n",
       "      <th>listing_id</th>\n",
       "      <th>id</th>\n",
       "      <th>zipcode</th>\n",
       "    </tr>\n",
       "  </thead>\n",
       "  <tbody>\n",
       "    <tr>\n",
       "      <th>1417</th>\n",
       "      <td>0.189041</td>\n",
       "      <td>7277653</td>\n",
       "      <td>7277653</td>\n",
       "      <td>02134</td>\n",
       "    </tr>\n",
       "    <tr>\n",
       "      <th>2627</th>\n",
       "      <td>0.098630</td>\n",
       "      <td>12541136</td>\n",
       "      <td>12541136</td>\n",
       "      <td>02108</td>\n",
       "    </tr>\n",
       "    <tr>\n",
       "      <th>1177</th>\n",
       "      <td>0.487671</td>\n",
       "      <td>6268395</td>\n",
       "      <td>6268395</td>\n",
       "      <td>02215</td>\n",
       "    </tr>\n",
       "    <tr>\n",
       "      <th>134</th>\n",
       "      <td>0.800000</td>\n",
       "      <td>453660</td>\n",
       "      <td>453660</td>\n",
       "      <td>02118</td>\n",
       "    </tr>\n",
       "    <tr>\n",
       "      <th>2728</th>\n",
       "      <td>0.956164</td>\n",
       "      <td>12899026</td>\n",
       "      <td>12899026</td>\n",
       "      <td>02115</td>\n",
       "    </tr>\n",
       "    <tr>\n",
       "      <th>2498</th>\n",
       "      <td>0.356164</td>\n",
       "      <td>12033661</td>\n",
       "      <td>12033661</td>\n",
       "      <td>02130</td>\n",
       "    </tr>\n",
       "    <tr>\n",
       "      <th>660</th>\n",
       "      <td>0.479452</td>\n",
       "      <td>3653207</td>\n",
       "      <td>3653207</td>\n",
       "      <td>02116</td>\n",
       "    </tr>\n",
       "  </tbody>\n",
       "</table>\n",
       "</div>"
      ],
      "text/plain": [
       "      booking_percentage  listing_id        id zipcode\n",
       "1417            0.189041     7277653   7277653   02134\n",
       "2627            0.098630    12541136  12541136   02108\n",
       "1177            0.487671     6268395   6268395   02215\n",
       "134             0.800000      453660    453660   02118\n",
       "2728            0.956164    12899026  12899026   02115\n",
       "2498            0.356164    12033661  12033661   02130\n",
       "660             0.479452     3653207   3653207   02116"
      ]
     },
     "execution_count": 1334,
     "metadata": {},
     "output_type": "execute_result"
    }
   ],
   "source": [
    "temp_df.sample(7)"
   ]
  },
  {
   "cell_type": "code",
   "execution_count": 1335,
   "metadata": {},
   "outputs": [
    {
     "data": {
      "text/plain": [
       "(3585, 4)"
      ]
     },
     "execution_count": 1335,
     "metadata": {},
     "output_type": "execute_result"
    }
   ],
   "source": [
    "temp_df.shape"
   ]
  },
  {
   "cell_type": "markdown",
   "metadata": {},
   "source": [
    "Confirming that number of zipcodes in temp_df and df_boston_listings is the same."
   ]
  },
  {
   "cell_type": "code",
   "execution_count": 1336,
   "metadata": {},
   "outputs": [
    {
     "data": {
      "text/plain": [
       "(43, 43, 3585)"
      ]
     },
     "execution_count": 1336,
     "metadata": {},
     "output_type": "execute_result"
    }
   ],
   "source": [
    "temp_df.zipcode.nunique(), df_boston_listings.zipcode.nunique(), temp_df.listing_id.nunique()"
   ]
  },
  {
   "cell_type": "markdown",
   "metadata": {},
   "source": [
    "Taking groupby of temp_df across zipcode and taking mean on colulmn booking percentage will give us booking percentage across each zipcode"
   ]
  },
  {
   "cell_type": "code",
   "execution_count": 1337,
   "metadata": {},
   "outputs": [],
   "source": [
    "temp_df_2 = temp_df.groupby(['zipcode'])['booking_percentage'].mean()"
   ]
  },
  {
   "cell_type": "code",
   "execution_count": 1338,
   "metadata": {},
   "outputs": [
    {
     "data": {
      "text/plain": [
       "pandas.core.frame.DataFrame"
      ]
     },
     "execution_count": 1338,
     "metadata": {},
     "output_type": "execute_result"
    }
   ],
   "source": [
    "type(df_zipcode_details)"
   ]
  },
  {
   "cell_type": "code",
   "execution_count": 1339,
   "metadata": {},
   "outputs": [
    {
     "data": {
      "text/html": [
       "<div>\n",
       "<style scoped>\n",
       "    .dataframe tbody tr th:only-of-type {\n",
       "        vertical-align: middle;\n",
       "    }\n",
       "\n",
       "    .dataframe tbody tr th {\n",
       "        vertical-align: top;\n",
       "    }\n",
       "\n",
       "    .dataframe thead th {\n",
       "        text-align: right;\n",
       "    }\n",
       "</style>\n",
       "<table border=\"1\" class=\"dataframe\">\n",
       "  <thead>\n",
       "    <tr style=\"text-align: right;\">\n",
       "      <th></th>\n",
       "      <th>zipcode</th>\n",
       "    </tr>\n",
       "  </thead>\n",
       "  <tbody>\n",
       "    <tr>\n",
       "      <th>11</th>\n",
       "      <td>02110</td>\n",
       "    </tr>\n",
       "    <tr>\n",
       "      <th>18</th>\n",
       "      <td>02210</td>\n",
       "    </tr>\n",
       "    <tr>\n",
       "      <th>34</th>\n",
       "      <td>02136</td>\n",
       "    </tr>\n",
       "    <tr>\n",
       "      <th>8</th>\n",
       "      <td>02111</td>\n",
       "    </tr>\n",
       "    <tr>\n",
       "      <th>1</th>\n",
       "      <td>NaN</td>\n",
       "    </tr>\n",
       "    <tr>\n",
       "      <th>29</th>\n",
       "      <td>02135</td>\n",
       "    </tr>\n",
       "    <tr>\n",
       "      <th>27</th>\n",
       "      <td>02122</td>\n",
       "    </tr>\n",
       "  </tbody>\n",
       "</table>\n",
       "</div>"
      ],
      "text/plain": [
       "   zipcode\n",
       "11   02110\n",
       "18   02210\n",
       "34   02136\n",
       "8    02111\n",
       "1      NaN\n",
       "29   02135\n",
       "27   02122"
      ]
     },
     "execution_count": 1339,
     "metadata": {},
     "output_type": "execute_result"
    }
   ],
   "source": [
    "df_zipcode_details.sample(7)"
   ]
  },
  {
   "cell_type": "code",
   "execution_count": 1340,
   "metadata": {},
   "outputs": [
    {
     "data": {
      "text/plain": [
       "zipcode\n",
       "02121    0.666698\n",
       "02113    0.441123\n",
       "02136    0.499669\n",
       "Name: booking_percentage, dtype: float64"
      ]
     },
     "execution_count": 1340,
     "metadata": {},
     "output_type": "execute_result"
    }
   ],
   "source": [
    "temp_df_2.sample(3)"
   ]
  },
  {
   "cell_type": "code",
   "execution_count": 1341,
   "metadata": {},
   "outputs": [],
   "source": [
    "df_zipcode_details = temp_df_2.to_frame().reset_index()"
   ]
  },
  {
   "cell_type": "code",
   "execution_count": 1342,
   "metadata": {},
   "outputs": [
    {
     "data": {
      "text/html": [
       "<div>\n",
       "<style scoped>\n",
       "    .dataframe tbody tr th:only-of-type {\n",
       "        vertical-align: middle;\n",
       "    }\n",
       "\n",
       "    .dataframe tbody tr th {\n",
       "        vertical-align: top;\n",
       "    }\n",
       "\n",
       "    .dataframe thead th {\n",
       "        text-align: right;\n",
       "    }\n",
       "</style>\n",
       "<table border=\"1\" class=\"dataframe\">\n",
       "  <thead>\n",
       "    <tr style=\"text-align: right;\">\n",
       "      <th></th>\n",
       "      <th>zipcode</th>\n",
       "      <th>booking_percentage</th>\n",
       "    </tr>\n",
       "  </thead>\n",
       "  <tbody>\n",
       "    <tr>\n",
       "      <th>42</th>\n",
       "      <td>02472</td>\n",
       "      <td>0.928767</td>\n",
       "    </tr>\n",
       "    <tr>\n",
       "      <th>33</th>\n",
       "      <td>02163</td>\n",
       "      <td>0.046575</td>\n",
       "    </tr>\n",
       "    <tr>\n",
       "      <th>1</th>\n",
       "      <td>02108 02111</td>\n",
       "      <td>0.646575</td>\n",
       "    </tr>\n",
       "    <tr>\n",
       "      <th>36</th>\n",
       "      <td>02210</td>\n",
       "      <td>0.455525</td>\n",
       "    </tr>\n",
       "    <tr>\n",
       "      <th>23</th>\n",
       "      <td>02134</td>\n",
       "      <td>0.378389</td>\n",
       "    </tr>\n",
       "    <tr>\n",
       "      <th>32</th>\n",
       "      <td>02145</td>\n",
       "      <td>0.689041</td>\n",
       "    </tr>\n",
       "    <tr>\n",
       "      <th>29</th>\n",
       "      <td>02141</td>\n",
       "      <td>0.371689</td>\n",
       "    </tr>\n",
       "  </tbody>\n",
       "</table>\n",
       "</div>"
      ],
      "text/plain": [
       "        zipcode  booking_percentage\n",
       "42        02472            0.928767\n",
       "33        02163            0.046575\n",
       "1   02108 02111            0.646575\n",
       "36        02210            0.455525\n",
       "23        02134            0.378389\n",
       "32        02145            0.689041\n",
       "29        02141            0.371689"
      ]
     },
     "execution_count": 1342,
     "metadata": {},
     "output_type": "execute_result"
    }
   ],
   "source": [
    "df_zipcode_details.sample(7)"
   ]
  },
  {
   "cell_type": "code",
   "execution_count": null,
   "metadata": {},
   "outputs": [],
   "source": []
  },
  {
   "cell_type": "markdown",
   "metadata": {},
   "source": [
    "##### Question 2 =  Which zipcodes are leaders in having Listings with high reviews in user ratings?"
   ]
  },
  {
   "cell_type": "markdown",
   "metadata": {},
   "source": [
    "For this question building up from the last question, we will crete average review for each zipcode and attach it as a new column to df_zipcode_details"
   ]
  },
  {
   "cell_type": "markdown",
   "metadata": {},
   "source": [
    "For this question the column of zipcode and review_scores_value is of interest to us. They both exist in df_boston_listings."
   ]
  },
  {
   "cell_type": "markdown",
   "metadata": {},
   "source": [
    "Therefore we can simply take a groupby on zipcode column and take mean of the review_scores_value column"
   ]
  },
  {
   "cell_type": "code",
   "execution_count": 1343,
   "metadata": {},
   "outputs": [
    {
     "data": {
      "text/plain": [
       "zipcode\n",
       "02108           9.166667\n",
       "02108 02111     9.000000\n",
       "02109           9.085714\n",
       "02110           9.363636\n",
       "02111           9.156250\n",
       "02113           9.421687\n",
       "02114           9.198864\n",
       "02115           9.090164\n",
       "02116           9.115789\n",
       "02118           9.286385\n",
       "02119           9.093023\n",
       "02120           8.600000\n",
       "02121           9.238095\n",
       "02122           9.189189\n",
       "02124           9.014925\n",
       "02125           8.954545\n",
       "02126           9.055556\n",
       "02127           9.389937\n",
       "02128           9.044776\n",
       "02129           9.522388\n",
       "02130           9.414894\n",
       "02131           9.559322\n",
       "02132           9.555556\n",
       "02134           9.011696\n",
       "02134-1704      8.000000\n",
       "02135           9.181102\n",
       "02136           9.217391\n",
       "02138          10.000000\n",
       "02139           9.000000\n",
       "02141           7.500000\n",
       "02142           9.000000\n",
       "02143           7.333333\n",
       "02145           8.600000\n",
       "02163          10.000000\n",
       "02169                NaN\n",
       "02186           9.000000\n",
       "02210           9.180000\n",
       "02215           8.756944\n",
       "02218                NaN\n",
       "02445           9.500000\n",
       "02446          10.000000\n",
       "02467           9.000000\n",
       "02472                NaN\n",
       "Name: review_scores_value, dtype: float64"
      ]
     },
     "execution_count": 1343,
     "metadata": {},
     "output_type": "execute_result"
    }
   ],
   "source": [
    "df_boston_listings.groupby(['zipcode'])['review_scores_value'].mean()"
   ]
  },
  {
   "cell_type": "code",
   "execution_count": 1344,
   "metadata": {},
   "outputs": [],
   "source": [
    "temp_df = df_boston_listings.groupby(['zipcode'])['review_scores_value'].mean()"
   ]
  },
  {
   "cell_type": "code",
   "execution_count": 1345,
   "metadata": {},
   "outputs": [
    {
     "data": {
      "text/plain": [
       "pandas.core.series.Series"
      ]
     },
     "execution_count": 1345,
     "metadata": {},
     "output_type": "execute_result"
    }
   ],
   "source": [
    "type(temp_df)"
   ]
  },
  {
   "cell_type": "code",
   "execution_count": 1346,
   "metadata": {},
   "outputs": [],
   "source": [
    " temp_df_2 = temp_df.to_frame().reset_index()"
   ]
  },
  {
   "cell_type": "code",
   "execution_count": 1347,
   "metadata": {},
   "outputs": [
    {
     "data": {
      "text/html": [
       "<div>\n",
       "<style scoped>\n",
       "    .dataframe tbody tr th:only-of-type {\n",
       "        vertical-align: middle;\n",
       "    }\n",
       "\n",
       "    .dataframe tbody tr th {\n",
       "        vertical-align: top;\n",
       "    }\n",
       "\n",
       "    .dataframe thead th {\n",
       "        text-align: right;\n",
       "    }\n",
       "</style>\n",
       "<table border=\"1\" class=\"dataframe\">\n",
       "  <thead>\n",
       "    <tr style=\"text-align: right;\">\n",
       "      <th></th>\n",
       "      <th>zipcode</th>\n",
       "      <th>review_scores_value</th>\n",
       "    </tr>\n",
       "  </thead>\n",
       "  <tbody>\n",
       "    <tr>\n",
       "      <th>17</th>\n",
       "      <td>02127</td>\n",
       "      <td>9.389937</td>\n",
       "    </tr>\n",
       "    <tr>\n",
       "      <th>32</th>\n",
       "      <td>02145</td>\n",
       "      <td>8.600000</td>\n",
       "    </tr>\n",
       "    <tr>\n",
       "      <th>31</th>\n",
       "      <td>02143</td>\n",
       "      <td>7.333333</td>\n",
       "    </tr>\n",
       "  </tbody>\n",
       "</table>\n",
       "</div>"
      ],
      "text/plain": [
       "   zipcode  review_scores_value\n",
       "17   02127             9.389937\n",
       "32   02145             8.600000\n",
       "31   02143             7.333333"
      ]
     },
     "execution_count": 1347,
     "metadata": {},
     "output_type": "execute_result"
    }
   ],
   "source": [
    "temp_df_2.sample(3)"
   ]
  },
  {
   "cell_type": "markdown",
   "metadata": {},
   "source": [
    "Now all we have to do is merge this dataframe with df_zipcode_details"
   ]
  },
  {
   "cell_type": "code",
   "execution_count": 1348,
   "metadata": {},
   "outputs": [],
   "source": [
    "temp_df_3 = df_zipcode_details.merge(temp_df_2, on='zipcode')"
   ]
  },
  {
   "cell_type": "code",
   "execution_count": 1349,
   "metadata": {},
   "outputs": [
    {
     "data": {
      "text/plain": [
       "(43, 2)"
      ]
     },
     "execution_count": 1349,
     "metadata": {},
     "output_type": "execute_result"
    }
   ],
   "source": [
    "df_zipcode_details.shape"
   ]
  },
  {
   "cell_type": "code",
   "execution_count": 1350,
   "metadata": {},
   "outputs": [
    {
     "data": {
      "text/plain": [
       "(43, 3)"
      ]
     },
     "execution_count": 1350,
     "metadata": {},
     "output_type": "execute_result"
    }
   ],
   "source": [
    "temp_df_3.shape"
   ]
  },
  {
   "cell_type": "code",
   "execution_count": 1351,
   "metadata": {},
   "outputs": [],
   "source": [
    "df_zipcode_details = df_zipcode_details.merge(temp_df_2, on='zipcode')"
   ]
  },
  {
   "cell_type": "code",
   "execution_count": 1352,
   "metadata": {},
   "outputs": [
    {
     "data": {
      "text/plain": [
       "(43, 3)"
      ]
     },
     "execution_count": 1352,
     "metadata": {},
     "output_type": "execute_result"
    }
   ],
   "source": [
    "df_zipcode_details.shape"
   ]
  },
  {
   "cell_type": "code",
   "execution_count": 1353,
   "metadata": {},
   "outputs": [
    {
     "data": {
      "text/html": [
       "<div>\n",
       "<style scoped>\n",
       "    .dataframe tbody tr th:only-of-type {\n",
       "        vertical-align: middle;\n",
       "    }\n",
       "\n",
       "    .dataframe tbody tr th {\n",
       "        vertical-align: top;\n",
       "    }\n",
       "\n",
       "    .dataframe thead th {\n",
       "        text-align: right;\n",
       "    }\n",
       "</style>\n",
       "<table border=\"1\" class=\"dataframe\">\n",
       "  <thead>\n",
       "    <tr style=\"text-align: right;\">\n",
       "      <th></th>\n",
       "      <th>zipcode</th>\n",
       "      <th>booking_percentage</th>\n",
       "      <th>review_scores_value</th>\n",
       "    </tr>\n",
       "  </thead>\n",
       "  <tbody>\n",
       "    <tr>\n",
       "      <th>18</th>\n",
       "      <td>02128</td>\n",
       "      <td>0.548808</td>\n",
       "      <td>9.044776</td>\n",
       "    </tr>\n",
       "    <tr>\n",
       "      <th>26</th>\n",
       "      <td>02136</td>\n",
       "      <td>0.499669</td>\n",
       "      <td>9.217391</td>\n",
       "    </tr>\n",
       "    <tr>\n",
       "      <th>29</th>\n",
       "      <td>02141</td>\n",
       "      <td>0.371689</td>\n",
       "      <td>7.500000</td>\n",
       "    </tr>\n",
       "    <tr>\n",
       "      <th>16</th>\n",
       "      <td>02126</td>\n",
       "      <td>0.782763</td>\n",
       "      <td>9.055556</td>\n",
       "    </tr>\n",
       "    <tr>\n",
       "      <th>14</th>\n",
       "      <td>02124</td>\n",
       "      <td>0.673938</td>\n",
       "      <td>9.014925</td>\n",
       "    </tr>\n",
       "  </tbody>\n",
       "</table>\n",
       "</div>"
      ],
      "text/plain": [
       "   zipcode  booking_percentage  review_scores_value\n",
       "18   02128            0.548808             9.044776\n",
       "26   02136            0.499669             9.217391\n",
       "29   02141            0.371689             7.500000\n",
       "16   02126            0.782763             9.055556\n",
       "14   02124            0.673938             9.014925"
      ]
     },
     "execution_count": 1353,
     "metadata": {},
     "output_type": "execute_result"
    }
   ],
   "source": [
    "df_zipcode_details.sample(5)"
   ]
  },
  {
   "cell_type": "markdown",
   "metadata": {},
   "source": [
    "##### Question 3 =  Which neighbourhood are leaders in having Listings being booked?"
   ]
  },
  {
   "cell_type": "markdown",
   "metadata": {},
   "source": [
    "For this question columns of interst are neighbourhood from df_boston_listings and available from df_boston_calendar"
   ]
  },
  {
   "cell_type": "markdown",
   "metadata": {},
   "source": [
    "Create new dataframe to store data for this and possible other questions related to neighbourhood details"
   ]
  },
  {
   "cell_type": "code",
   "execution_count": 1354,
   "metadata": {},
   "outputs": [],
   "source": [
    "df_neighbourhood_details = pd.DataFrame()"
   ]
  },
  {
   "cell_type": "code",
   "execution_count": 1355,
   "metadata": {},
   "outputs": [],
   "source": [
    "df_neighbourhood_details['neighbourhood'] = df_boston_listings.neighbourhood.unique()"
   ]
  },
  {
   "cell_type": "code",
   "execution_count": 1356,
   "metadata": {},
   "outputs": [
    {
     "data": {
      "text/plain": [
       "(31, 1)"
      ]
     },
     "execution_count": 1356,
     "metadata": {},
     "output_type": "execute_result"
    }
   ],
   "source": [
    "df_neighbourhood_details.shape"
   ]
  },
  {
   "cell_type": "code",
   "execution_count": 1357,
   "metadata": {},
   "outputs": [],
   "source": [
    "temp_df = pd.DataFrame()"
   ]
  },
  {
   "cell_type": "code",
   "execution_count": 1358,
   "metadata": {},
   "outputs": [],
   "source": [
    "temp_df['booking_percentage'] = df_boston_calendar.groupby(['listing_id'])['available'].mean()"
   ]
  },
  {
   "cell_type": "code",
   "execution_count": 1359,
   "metadata": {},
   "outputs": [
    {
     "data": {
      "text/plain": [
       "(3585, 1)"
      ]
     },
     "execution_count": 1359,
     "metadata": {},
     "output_type": "execute_result"
    }
   ],
   "source": [
    "temp_df.shape"
   ]
  },
  {
   "cell_type": "code",
   "execution_count": 1360,
   "metadata": {},
   "outputs": [
    {
     "data": {
      "text/html": [
       "<div>\n",
       "<style scoped>\n",
       "    .dataframe tbody tr th:only-of-type {\n",
       "        vertical-align: middle;\n",
       "    }\n",
       "\n",
       "    .dataframe tbody tr th {\n",
       "        vertical-align: top;\n",
       "    }\n",
       "\n",
       "    .dataframe thead th {\n",
       "        text-align: right;\n",
       "    }\n",
       "</style>\n",
       "<table border=\"1\" class=\"dataframe\">\n",
       "  <thead>\n",
       "    <tr style=\"text-align: right;\">\n",
       "      <th></th>\n",
       "      <th>booking_percentage</th>\n",
       "    </tr>\n",
       "    <tr>\n",
       "      <th>listing_id</th>\n",
       "      <th></th>\n",
       "    </tr>\n",
       "  </thead>\n",
       "  <tbody>\n",
       "    <tr>\n",
       "      <th>4518100</th>\n",
       "      <td>0.898630</td>\n",
       "    </tr>\n",
       "    <tr>\n",
       "      <th>12626504</th>\n",
       "      <td>0.257534</td>\n",
       "    </tr>\n",
       "    <tr>\n",
       "      <th>14365669</th>\n",
       "      <td>0.961644</td>\n",
       "    </tr>\n",
       "  </tbody>\n",
       "</table>\n",
       "</div>"
      ],
      "text/plain": [
       "            booking_percentage\n",
       "listing_id                    \n",
       "4518100               0.898630\n",
       "12626504              0.257534\n",
       "14365669              0.961644"
      ]
     },
     "execution_count": 1360,
     "metadata": {},
     "output_type": "execute_result"
    }
   ],
   "source": [
    "temp_df.sample(3)"
   ]
  },
  {
   "cell_type": "code",
   "execution_count": 1361,
   "metadata": {},
   "outputs": [],
   "source": [
    "temp_df['listing_id'] = temp_df.index"
   ]
  },
  {
   "cell_type": "code",
   "execution_count": 1362,
   "metadata": {},
   "outputs": [],
   "source": [
    "temp_df.reset_index(drop=True, inplace=True)"
   ]
  },
  {
   "cell_type": "code",
   "execution_count": 1363,
   "metadata": {},
   "outputs": [
    {
     "data": {
      "text/html": [
       "<div>\n",
       "<style scoped>\n",
       "    .dataframe tbody tr th:only-of-type {\n",
       "        vertical-align: middle;\n",
       "    }\n",
       "\n",
       "    .dataframe tbody tr th {\n",
       "        vertical-align: top;\n",
       "    }\n",
       "\n",
       "    .dataframe thead th {\n",
       "        text-align: right;\n",
       "    }\n",
       "</style>\n",
       "<table border=\"1\" class=\"dataframe\">\n",
       "  <thead>\n",
       "    <tr style=\"text-align: right;\">\n",
       "      <th></th>\n",
       "      <th>booking_percentage</th>\n",
       "      <th>listing_id</th>\n",
       "    </tr>\n",
       "  </thead>\n",
       "  <tbody>\n",
       "    <tr>\n",
       "      <th>2950</th>\n",
       "      <td>0.0</td>\n",
       "      <td>13491626</td>\n",
       "    </tr>\n",
       "    <tr>\n",
       "      <th>1792</th>\n",
       "      <td>0.0</td>\n",
       "      <td>8577620</td>\n",
       "    </tr>\n",
       "    <tr>\n",
       "      <th>1928</th>\n",
       "      <td>0.0</td>\n",
       "      <td>9238963</td>\n",
       "    </tr>\n",
       "  </tbody>\n",
       "</table>\n",
       "</div>"
      ],
      "text/plain": [
       "      booking_percentage  listing_id\n",
       "2950                 0.0    13491626\n",
       "1792                 0.0     8577620\n",
       "1928                 0.0     9238963"
      ]
     },
     "execution_count": 1363,
     "metadata": {},
     "output_type": "execute_result"
    }
   ],
   "source": [
    "temp_df.sample(3)"
   ]
  },
  {
   "cell_type": "markdown",
   "metadata": {},
   "source": [
    "Adding a column of neighbourhood and taking average of booking percentage is the next step"
   ]
  },
  {
   "cell_type": "code",
   "execution_count": 1364,
   "metadata": {},
   "outputs": [],
   "source": [
    "temp_df_2 = temp_df.merge(df_boston_listings[['neighbourhood', 'id']], left_on='listing_id', right_on='id')"
   ]
  },
  {
   "cell_type": "code",
   "execution_count": 1365,
   "metadata": {},
   "outputs": [
    {
     "data": {
      "text/html": [
       "<div>\n",
       "<style scoped>\n",
       "    .dataframe tbody tr th:only-of-type {\n",
       "        vertical-align: middle;\n",
       "    }\n",
       "\n",
       "    .dataframe tbody tr th {\n",
       "        vertical-align: top;\n",
       "    }\n",
       "\n",
       "    .dataframe thead th {\n",
       "        text-align: right;\n",
       "    }\n",
       "</style>\n",
       "<table border=\"1\" class=\"dataframe\">\n",
       "  <thead>\n",
       "    <tr style=\"text-align: right;\">\n",
       "      <th></th>\n",
       "      <th>booking_percentage</th>\n",
       "      <th>listing_id</th>\n",
       "      <th>neighbourhood</th>\n",
       "      <th>id</th>\n",
       "    </tr>\n",
       "  </thead>\n",
       "  <tbody>\n",
       "    <tr>\n",
       "      <th>2811</th>\n",
       "      <td>0.000000</td>\n",
       "      <td>13083058</td>\n",
       "      <td>Fenway/Kenmore</td>\n",
       "      <td>13083058</td>\n",
       "    </tr>\n",
       "    <tr>\n",
       "      <th>444</th>\n",
       "      <td>0.567123</td>\n",
       "      <td>2186358</td>\n",
       "      <td>Fenway/Kenmore</td>\n",
       "      <td>2186358</td>\n",
       "    </tr>\n",
       "    <tr>\n",
       "      <th>385</th>\n",
       "      <td>0.898630</td>\n",
       "      <td>1819994</td>\n",
       "      <td>Fenway/Kenmore</td>\n",
       "      <td>1819994</td>\n",
       "    </tr>\n",
       "  </tbody>\n",
       "</table>\n",
       "</div>"
      ],
      "text/plain": [
       "      booking_percentage  listing_id   neighbourhood        id\n",
       "2811            0.000000    13083058  Fenway/Kenmore  13083058\n",
       "444             0.567123     2186358  Fenway/Kenmore   2186358\n",
       "385             0.898630     1819994  Fenway/Kenmore   1819994"
      ]
     },
     "execution_count": 1365,
     "metadata": {},
     "output_type": "execute_result"
    }
   ],
   "source": [
    "temp_df_2.sample(3)"
   ]
  },
  {
   "cell_type": "code",
   "execution_count": 1366,
   "metadata": {},
   "outputs": [],
   "source": [
    "temp_df_3 = temp_df_2.groupby(['neighbourhood'])['booking_percentage'].mean()\n"
   ]
  },
  {
   "cell_type": "code",
   "execution_count": 1367,
   "metadata": {},
   "outputs": [
    {
     "data": {
      "text/plain": [
       "(30,)"
      ]
     },
     "execution_count": 1367,
     "metadata": {},
     "output_type": "execute_result"
    }
   ],
   "source": [
    "temp_df_3.shape"
   ]
  },
  {
   "cell_type": "code",
   "execution_count": 1368,
   "metadata": {},
   "outputs": [
    {
     "data": {
      "text/plain": [
       "pandas.core.series.Series"
      ]
     },
     "execution_count": 1368,
     "metadata": {},
     "output_type": "execute_result"
    }
   ],
   "source": [
    "type(temp_df_3)"
   ]
  },
  {
   "cell_type": "code",
   "execution_count": 1369,
   "metadata": {},
   "outputs": [
    {
     "data": {
      "text/plain": [
       "neighbourhood\n",
       "Cambridge    0.688063\n",
       "Brookline    0.326712\n",
       "South End    0.464062\n",
       "Name: booking_percentage, dtype: float64"
      ]
     },
     "execution_count": 1369,
     "metadata": {},
     "output_type": "execute_result"
    }
   ],
   "source": [
    "temp_df_3.sample(3)"
   ]
  },
  {
   "cell_type": "code",
   "execution_count": 1370,
   "metadata": {},
   "outputs": [],
   "source": [
    "df_neighbourhood_details = temp_df_3.to_frame().reset_index()"
   ]
  },
  {
   "cell_type": "code",
   "execution_count": 1371,
   "metadata": {},
   "outputs": [
    {
     "data": {
      "text/plain": [
       "(30, 2)"
      ]
     },
     "execution_count": 1371,
     "metadata": {},
     "output_type": "execute_result"
    }
   ],
   "source": [
    "df_neighbourhood_details.shape"
   ]
  },
  {
   "cell_type": "code",
   "execution_count": 1372,
   "metadata": {},
   "outputs": [
    {
     "data": {
      "text/html": [
       "<div>\n",
       "<style scoped>\n",
       "    .dataframe tbody tr th:only-of-type {\n",
       "        vertical-align: middle;\n",
       "    }\n",
       "\n",
       "    .dataframe tbody tr th {\n",
       "        vertical-align: top;\n",
       "    }\n",
       "\n",
       "    .dataframe thead th {\n",
       "        text-align: right;\n",
       "    }\n",
       "</style>\n",
       "<table border=\"1\" class=\"dataframe\">\n",
       "  <thead>\n",
       "    <tr style=\"text-align: right;\">\n",
       "      <th></th>\n",
       "      <th>neighbourhood</th>\n",
       "      <th>booking_percentage</th>\n",
       "    </tr>\n",
       "  </thead>\n",
       "  <tbody>\n",
       "    <tr>\n",
       "      <th>25</th>\n",
       "      <td>South Boston</td>\n",
       "      <td>0.476421</td>\n",
       "    </tr>\n",
       "    <tr>\n",
       "      <th>12</th>\n",
       "      <td>Fenway/Kenmore</td>\n",
       "      <td>0.398196</td>\n",
       "    </tr>\n",
       "    <tr>\n",
       "      <th>4</th>\n",
       "      <td>Cambridge</td>\n",
       "      <td>0.688063</td>\n",
       "    </tr>\n",
       "  </tbody>\n",
       "</table>\n",
       "</div>"
      ],
      "text/plain": [
       "     neighbourhood  booking_percentage\n",
       "25    South Boston            0.476421\n",
       "12  Fenway/Kenmore            0.398196\n",
       "4        Cambridge            0.688063"
      ]
     },
     "execution_count": 1372,
     "metadata": {},
     "output_type": "execute_result"
    }
   ],
   "source": [
    "df_neighbourhood_details.sample(3)"
   ]
  },
  {
   "cell_type": "markdown",
   "metadata": {},
   "source": [
    "##### Question 4 = Which neighbourhoods are leaders with listings having high reviews in user ratings?"
   ]
  },
  {
   "cell_type": "markdown",
   "metadata": {},
   "source": [
    "Picking up resultant dataframe from earlier question; df_neighbourhood_details for this question we add another column giving average review for each neighbourhood."
   ]
  },
  {
   "cell_type": "markdown",
   "metadata": {},
   "source": [
    "Taking groupby of df_boston_listings across neighbourhood and taking mean on colulmn review_scores_value will give us the third column"
   ]
  },
  {
   "cell_type": "code",
   "execution_count": 1373,
   "metadata": {},
   "outputs": [],
   "source": [
    "temp_df = df_boston_listings.groupby(['neighbourhood'])['review_scores_value'].mean()"
   ]
  },
  {
   "cell_type": "code",
   "execution_count": 1374,
   "metadata": {},
   "outputs": [
    {
     "data": {
      "text/plain": [
       "(30,)"
      ]
     },
     "execution_count": 1374,
     "metadata": {},
     "output_type": "execute_result"
    }
   ],
   "source": [
    "temp_df.shape"
   ]
  },
  {
   "cell_type": "code",
   "execution_count": 1375,
   "metadata": {},
   "outputs": [
    {
     "data": {
      "text/plain": [
       "neighbourhood\n",
       "Roslindale          9.565217\n",
       "Theater District    8.863636\n",
       "North End           9.327103\n",
       "Name: review_scores_value, dtype: float64"
      ]
     },
     "execution_count": 1375,
     "metadata": {},
     "output_type": "execute_result"
    }
   ],
   "source": [
    "temp_df.sample(3)"
   ]
  },
  {
   "cell_type": "code",
   "execution_count": 1376,
   "metadata": {},
   "outputs": [
    {
     "data": {
      "text/plain": [
       "pandas.core.frame.DataFrame"
      ]
     },
     "execution_count": 1376,
     "metadata": {},
     "output_type": "execute_result"
    }
   ],
   "source": [
    "type(df_zipcode_details)"
   ]
  },
  {
   "cell_type": "code",
   "execution_count": 1377,
   "metadata": {},
   "outputs": [],
   "source": [
    "temp_df_2 = temp_df.to_frame().reset_index()"
   ]
  },
  {
   "cell_type": "code",
   "execution_count": 1378,
   "metadata": {},
   "outputs": [
    {
     "data": {
      "text/html": [
       "<div>\n",
       "<style scoped>\n",
       "    .dataframe tbody tr th:only-of-type {\n",
       "        vertical-align: middle;\n",
       "    }\n",
       "\n",
       "    .dataframe tbody tr th {\n",
       "        vertical-align: top;\n",
       "    }\n",
       "\n",
       "    .dataframe thead th {\n",
       "        text-align: right;\n",
       "    }\n",
       "</style>\n",
       "<table border=\"1\" class=\"dataframe\">\n",
       "  <thead>\n",
       "    <tr style=\"text-align: right;\">\n",
       "      <th></th>\n",
       "      <th>neighbourhood</th>\n",
       "      <th>review_scores_value</th>\n",
       "    </tr>\n",
       "  </thead>\n",
       "  <tbody>\n",
       "    <tr>\n",
       "      <th>22</th>\n",
       "      <td>Roslindale</td>\n",
       "      <td>9.565217</td>\n",
       "    </tr>\n",
       "    <tr>\n",
       "      <th>19</th>\n",
       "      <td>Mattapan</td>\n",
       "      <td>8.666667</td>\n",
       "    </tr>\n",
       "    <tr>\n",
       "      <th>8</th>\n",
       "      <td>Dorchester</td>\n",
       "      <td>9.071429</td>\n",
       "    </tr>\n",
       "  </tbody>\n",
       "</table>\n",
       "</div>"
      ],
      "text/plain": [
       "   neighbourhood  review_scores_value\n",
       "22    Roslindale             9.565217\n",
       "19      Mattapan             8.666667\n",
       "8     Dorchester             9.071429"
      ]
     },
     "execution_count": 1378,
     "metadata": {},
     "output_type": "execute_result"
    }
   ],
   "source": [
    "temp_df_2.sample(3)"
   ]
  },
  {
   "cell_type": "markdown",
   "metadata": {},
   "source": [
    "To add this column; review_scores_value to dataframe df_neighbourhood_details we will take a merge"
   ]
  },
  {
   "cell_type": "code",
   "execution_count": 1379,
   "metadata": {},
   "outputs": [],
   "source": [
    "temp_df_3 = temp_df_2.merge(df_neighbourhood_details, on='neighbourhood')"
   ]
  },
  {
   "cell_type": "code",
   "execution_count": 1380,
   "metadata": {},
   "outputs": [
    {
     "data": {
      "text/plain": [
       "(30, 3)"
      ]
     },
     "execution_count": 1380,
     "metadata": {},
     "output_type": "execute_result"
    }
   ],
   "source": [
    "temp_df_3.shape"
   ]
  },
  {
   "cell_type": "code",
   "execution_count": 1381,
   "metadata": {},
   "outputs": [
    {
     "data": {
      "text/html": [
       "<div>\n",
       "<style scoped>\n",
       "    .dataframe tbody tr th:only-of-type {\n",
       "        vertical-align: middle;\n",
       "    }\n",
       "\n",
       "    .dataframe tbody tr th {\n",
       "        vertical-align: top;\n",
       "    }\n",
       "\n",
       "    .dataframe thead th {\n",
       "        text-align: right;\n",
       "    }\n",
       "</style>\n",
       "<table border=\"1\" class=\"dataframe\">\n",
       "  <thead>\n",
       "    <tr style=\"text-align: right;\">\n",
       "      <th></th>\n",
       "      <th>neighbourhood</th>\n",
       "      <th>review_scores_value</th>\n",
       "      <th>booking_percentage</th>\n",
       "    </tr>\n",
       "  </thead>\n",
       "  <tbody>\n",
       "    <tr>\n",
       "      <th>1</th>\n",
       "      <td>Back Bay</td>\n",
       "      <td>9.127854</td>\n",
       "      <td>0.525999</td>\n",
       "    </tr>\n",
       "    <tr>\n",
       "      <th>23</th>\n",
       "      <td>Roxbury</td>\n",
       "      <td>8.978947</td>\n",
       "      <td>0.583373</td>\n",
       "    </tr>\n",
       "    <tr>\n",
       "      <th>28</th>\n",
       "      <td>West End</td>\n",
       "      <td>8.891892</td>\n",
       "      <td>0.648187</td>\n",
       "    </tr>\n",
       "    <tr>\n",
       "      <th>18</th>\n",
       "      <td>Leather District</td>\n",
       "      <td>9.800000</td>\n",
       "      <td>0.559247</td>\n",
       "    </tr>\n",
       "    <tr>\n",
       "      <th>10</th>\n",
       "      <td>Downtown Crossing</td>\n",
       "      <td>9.047619</td>\n",
       "      <td>0.349210</td>\n",
       "    </tr>\n",
       "  </tbody>\n",
       "</table>\n",
       "</div>"
      ],
      "text/plain": [
       "        neighbourhood  review_scores_value  booking_percentage\n",
       "1            Back Bay             9.127854            0.525999\n",
       "23            Roxbury             8.978947            0.583373\n",
       "28           West End             8.891892            0.648187\n",
       "18   Leather District             9.800000            0.559247\n",
       "10  Downtown Crossing             9.047619            0.349210"
      ]
     },
     "execution_count": 1381,
     "metadata": {},
     "output_type": "execute_result"
    }
   ],
   "source": [
    "temp_df_3.sample(5)"
   ]
  },
  {
   "cell_type": "code",
   "execution_count": 1382,
   "metadata": {},
   "outputs": [],
   "source": [
    "df_neighbourhood_details = temp_df_3"
   ]
  },
  {
   "cell_type": "code",
   "execution_count": 1383,
   "metadata": {},
   "outputs": [
    {
     "data": {
      "text/html": [
       "<div>\n",
       "<style scoped>\n",
       "    .dataframe tbody tr th:only-of-type {\n",
       "        vertical-align: middle;\n",
       "    }\n",
       "\n",
       "    .dataframe tbody tr th {\n",
       "        vertical-align: top;\n",
       "    }\n",
       "\n",
       "    .dataframe thead th {\n",
       "        text-align: right;\n",
       "    }\n",
       "</style>\n",
       "<table border=\"1\" class=\"dataframe\">\n",
       "  <thead>\n",
       "    <tr style=\"text-align: right;\">\n",
       "      <th></th>\n",
       "      <th>neighbourhood</th>\n",
       "      <th>review_scores_value</th>\n",
       "      <th>booking_percentage</th>\n",
       "    </tr>\n",
       "  </thead>\n",
       "  <tbody>\n",
       "    <tr>\n",
       "      <th>1</th>\n",
       "      <td>Back Bay</td>\n",
       "      <td>9.127854</td>\n",
       "      <td>0.525999</td>\n",
       "    </tr>\n",
       "    <tr>\n",
       "      <th>11</th>\n",
       "      <td>East Boston</td>\n",
       "      <td>8.981132</td>\n",
       "      <td>0.542091</td>\n",
       "    </tr>\n",
       "    <tr>\n",
       "      <th>23</th>\n",
       "      <td>Roxbury</td>\n",
       "      <td>8.978947</td>\n",
       "      <td>0.583373</td>\n",
       "    </tr>\n",
       "    <tr>\n",
       "      <th>19</th>\n",
       "      <td>Mattapan</td>\n",
       "      <td>8.666667</td>\n",
       "      <td>0.695479</td>\n",
       "    </tr>\n",
       "    <tr>\n",
       "      <th>26</th>\n",
       "      <td>South End</td>\n",
       "      <td>9.236948</td>\n",
       "      <td>0.464062</td>\n",
       "    </tr>\n",
       "  </tbody>\n",
       "</table>\n",
       "</div>"
      ],
      "text/plain": [
       "   neighbourhood  review_scores_value  booking_percentage\n",
       "1       Back Bay             9.127854            0.525999\n",
       "11   East Boston             8.981132            0.542091\n",
       "23       Roxbury             8.978947            0.583373\n",
       "19      Mattapan             8.666667            0.695479\n",
       "26     South End             9.236948            0.464062"
      ]
     },
     "execution_count": 1383,
     "metadata": {},
     "output_type": "execute_result"
    }
   ],
   "source": [
    "df_neighbourhood_details.sample(5)"
   ]
  },
  {
   "cell_type": "markdown",
   "metadata": {},
   "source": [
    "##### Question 5 = Predicting price of the listing space using subset of features. Trying to understand which are most impactful features out of selected ones ."
   ]
  },
  {
   "cell_type": "markdown",
   "metadata": {},
   "source": [
    "X:\n",
    "1. host_since\n",
    "2. host_listings_count\n",
    "3. room_type\n",
    "4. bathrooms\n",
    "5. bedrooms\n",
    "6. beds\n",
    "7. square_feet\n",
    "8. neighbourhood\n",
    "9. zipcode\n",
    "10. minimum_nights\n",
    "11. maximum_nights\n",
    "\n",
    "y:\n",
    "1. price"
   ]
  },
  {
   "cell_type": "markdown",
   "metadata": {},
   "source": [
    "Checking how many listings have different values in host_listings_count and host_total_listings_count"
   ]
  },
  {
   "cell_type": "code",
   "execution_count": 1384,
   "metadata": {},
   "outputs": [
    {
     "data": {
      "text/html": [
       "<div>\n",
       "<style scoped>\n",
       "    .dataframe tbody tr th:only-of-type {\n",
       "        vertical-align: middle;\n",
       "    }\n",
       "\n",
       "    .dataframe tbody tr th {\n",
       "        vertical-align: top;\n",
       "    }\n",
       "\n",
       "    .dataframe thead th {\n",
       "        text-align: right;\n",
       "    }\n",
       "</style>\n",
       "<table border=\"1\" class=\"dataframe\">\n",
       "  <thead>\n",
       "    <tr style=\"text-align: right;\">\n",
       "      <th></th>\n",
       "      <th>id</th>\n",
       "      <th>listing_url</th>\n",
       "      <th>scrape_id</th>\n",
       "      <th>last_scraped</th>\n",
       "      <th>name</th>\n",
       "      <th>summary</th>\n",
       "      <th>space</th>\n",
       "      <th>description</th>\n",
       "      <th>experiences_offered</th>\n",
       "      <th>neighborhood_overview</th>\n",
       "      <th>...</th>\n",
       "      <th>review_scores_value</th>\n",
       "      <th>requires_license</th>\n",
       "      <th>license</th>\n",
       "      <th>jurisdiction_names</th>\n",
       "      <th>instant_bookable</th>\n",
       "      <th>cancellation_policy</th>\n",
       "      <th>require_guest_profile_picture</th>\n",
       "      <th>require_guest_phone_verification</th>\n",
       "      <th>calculated_host_listings_count</th>\n",
       "      <th>reviews_per_month</th>\n",
       "    </tr>\n",
       "  </thead>\n",
       "  <tbody>\n",
       "  </tbody>\n",
       "</table>\n",
       "<p>0 rows × 95 columns</p>\n",
       "</div>"
      ],
      "text/plain": [
       "Empty DataFrame\n",
       "Columns: [id, listing_url, scrape_id, last_scraped, name, summary, space, description, experiences_offered, neighborhood_overview, notes, transit, access, interaction, house_rules, thumbnail_url, medium_url, picture_url, xl_picture_url, host_id, host_url, host_name, host_since, host_location, host_about, host_response_time, host_response_rate, host_acceptance_rate, host_is_superhost, host_thumbnail_url, host_picture_url, host_neighbourhood, host_listings_count, host_total_listings_count, host_verifications, host_has_profile_pic, host_identity_verified, street, neighbourhood, neighbourhood_cleansed, neighbourhood_group_cleansed, city, state, zipcode, market, smart_location, country_code, country, latitude, longitude, is_location_exact, property_type, room_type, accommodates, bathrooms, bedrooms, beds, bed_type, amenities, square_feet, price, weekly_price, monthly_price, security_deposit, cleaning_fee, guests_included, extra_people, minimum_nights, maximum_nights, calendar_updated, has_availability, availability_30, availability_60, availability_90, availability_365, calendar_last_scraped, number_of_reviews, first_review, last_review, review_scores_rating, review_scores_accuracy, review_scores_cleanliness, review_scores_checkin, review_scores_communication, review_scores_location, review_scores_value, requires_license, license, jurisdiction_names, instant_bookable, cancellation_policy, require_guest_profile_picture, require_guest_phone_verification, calculated_host_listings_count, reviews_per_month]\n",
       "Index: []\n",
       "\n",
       "[0 rows x 95 columns]"
      ]
     },
     "execution_count": 1384,
     "metadata": {},
     "output_type": "execute_result"
    }
   ],
   "source": [
    "df_boston_listings[df_boston_listings.host_listings_count != df_boston_listings.host_total_listings_count]"
   ]
  },
  {
   "cell_type": "code",
   "execution_count": 1385,
   "metadata": {},
   "outputs": [
    {
     "data": {
      "text/plain": [
       "Index(['listing_url', 'thumbnail_url', 'medium_url', 'picture_url',\n",
       "       'xl_picture_url', 'host_url', 'host_thumbnail_url', 'host_picture_url'],\n",
       "      dtype='object')"
      ]
     },
     "execution_count": 1385,
     "metadata": {},
     "output_type": "execute_result"
    }
   ],
   "source": [
    "df_boston_listings.columns[df_boston_listings.columns.str.contains('url')]"
   ]
  },
  {
   "cell_type": "code",
   "execution_count": 1386,
   "metadata": {},
   "outputs": [
    {
     "data": {
      "text/plain": [
       "(picture_url           0\n",
       " xl_picture_url      599\n",
       " medium_url          599\n",
       " host_url              0\n",
       " host_picture_url      0\n",
       " dtype: int64,)"
      ]
     },
     "execution_count": 1386,
     "metadata": {},
     "output_type": "execute_result"
    }
   ],
   "source": [
    "df_boston_listings[['picture_url','xl_picture_url','medium_url','host_url','host_picture_url']].isna().sum(), \n"
   ]
  },
  {
   "cell_type": "code",
   "execution_count": 1387,
   "metadata": {},
   "outputs": [
    {
     "data": {
      "text/plain": [
       "(3585, 95)"
      ]
     },
     "execution_count": 1387,
     "metadata": {},
     "output_type": "execute_result"
    }
   ],
   "source": [
    "df_boston_listings.shape"
   ]
  },
  {
   "cell_type": "code",
   "execution_count": 1388,
   "metadata": {},
   "outputs": [
    {
     "data": {
      "text/html": [
       "<div>\n",
       "<style scoped>\n",
       "    .dataframe tbody tr th:only-of-type {\n",
       "        vertical-align: middle;\n",
       "    }\n",
       "\n",
       "    .dataframe tbody tr th {\n",
       "        vertical-align: top;\n",
       "    }\n",
       "\n",
       "    .dataframe thead th {\n",
       "        text-align: right;\n",
       "    }\n",
       "</style>\n",
       "<table border=\"1\" class=\"dataframe\">\n",
       "  <thead>\n",
       "    <tr style=\"text-align: right;\">\n",
       "      <th></th>\n",
       "      <th>id</th>\n",
       "      <th>neighbourhood</th>\n",
       "      <th>summary</th>\n",
       "      <th>price</th>\n",
       "      <th>weekly_price</th>\n",
       "      <th>monthly_price</th>\n",
       "    </tr>\n",
       "  </thead>\n",
       "  <tbody>\n",
       "    <tr>\n",
       "      <th>2542</th>\n",
       "      <td>13347495</td>\n",
       "      <td>Allston-Brighton</td>\n",
       "      <td>My place is close to Green Line T, Whole Foods...</td>\n",
       "      <td>$79.00</td>\n",
       "      <td>NaN</td>\n",
       "      <td>NaN</td>\n",
       "    </tr>\n",
       "    <tr>\n",
       "      <th>1364</th>\n",
       "      <td>11201204</td>\n",
       "      <td>Back Bay</td>\n",
       "      <td>This beautiful studio apartment is just minute...</td>\n",
       "      <td>$105.00</td>\n",
       "      <td>NaN</td>\n",
       "      <td>NaN</td>\n",
       "    </tr>\n",
       "    <tr>\n",
       "      <th>198</th>\n",
       "      <td>554720</td>\n",
       "      <td>Jamaica Plain</td>\n",
       "      <td>Newly renovated two bedroom, two bathroom on a...</td>\n",
       "      <td>$240.00</td>\n",
       "      <td>$1,300.00</td>\n",
       "      <td>NaN</td>\n",
       "    </tr>\n",
       "    <tr>\n",
       "      <th>1184</th>\n",
       "      <td>13928400</td>\n",
       "      <td>NaN</td>\n",
       "      <td>Welcome to an amazing retreat in the heart of ...</td>\n",
       "      <td>$169.00</td>\n",
       "      <td>NaN</td>\n",
       "      <td>NaN</td>\n",
       "    </tr>\n",
       "    <tr>\n",
       "      <th>3383</th>\n",
       "      <td>831744</td>\n",
       "      <td>Allston-Brighton</td>\n",
       "      <td>Cozy, light-filled one-bedroom apartment with ...</td>\n",
       "      <td>$295.00</td>\n",
       "      <td>NaN</td>\n",
       "      <td>NaN</td>\n",
       "    </tr>\n",
       "    <tr>\n",
       "      <th>722</th>\n",
       "      <td>12407753</td>\n",
       "      <td>North End</td>\n",
       "      <td>Beautiful North End Apartment with large brigh...</td>\n",
       "      <td>$180.00</td>\n",
       "      <td>NaN</td>\n",
       "      <td>NaN</td>\n",
       "    </tr>\n",
       "    <tr>\n",
       "      <th>1656</th>\n",
       "      <td>12308927</td>\n",
       "      <td>East Boston</td>\n",
       "      <td>This is a cozy bedroom with INDIVIDUAL LOCK in...</td>\n",
       "      <td>$44.00</td>\n",
       "      <td>NaN</td>\n",
       "      <td>NaN</td>\n",
       "    </tr>\n",
       "  </tbody>\n",
       "</table>\n",
       "</div>"
      ],
      "text/plain": [
       "            id     neighbourhood  \\\n",
       "2542  13347495  Allston-Brighton   \n",
       "1364  11201204          Back Bay   \n",
       "198     554720     Jamaica Plain   \n",
       "1184  13928400               NaN   \n",
       "3383    831744  Allston-Brighton   \n",
       "722   12407753         North End   \n",
       "1656  12308927       East Boston   \n",
       "\n",
       "                                                summary    price weekly_price  \\\n",
       "2542  My place is close to Green Line T, Whole Foods...   $79.00          NaN   \n",
       "1364  This beautiful studio apartment is just minute...  $105.00          NaN   \n",
       "198   Newly renovated two bedroom, two bathroom on a...  $240.00    $1,300.00   \n",
       "1184  Welcome to an amazing retreat in the heart of ...  $169.00          NaN   \n",
       "3383  Cozy, light-filled one-bedroom apartment with ...  $295.00          NaN   \n",
       "722   Beautiful North End Apartment with large brigh...  $180.00          NaN   \n",
       "1656  This is a cozy bedroom with INDIVIDUAL LOCK in...   $44.00          NaN   \n",
       "\n",
       "     monthly_price  \n",
       "2542           NaN  \n",
       "1364           NaN  \n",
       "198            NaN  \n",
       "1184           NaN  \n",
       "3383           NaN  \n",
       "722            NaN  \n",
       "1656           NaN  "
      ]
     },
     "execution_count": 1388,
     "metadata": {},
     "output_type": "execute_result"
    }
   ],
   "source": [
    "df_boston_listings[['id', 'neighbourhood','summary','price','weekly_price','monthly_price']].sample(7)"
   ]
  },
  {
   "cell_type": "markdown",
   "metadata": {},
   "source": [
    "Creating new dataframe with selected X and y"
   ]
  },
  {
   "cell_type": "code",
   "execution_count": 1389,
   "metadata": {},
   "outputs": [],
   "source": [
    "df_predict_price = df_boston_listings.copy()"
   ]
  },
  {
   "cell_type": "code",
   "execution_count": 1390,
   "metadata": {},
   "outputs": [],
   "source": [
    "predict_price_x = ['host_since', 'host_listings_count', 'room_type', 'bathrooms', 'bedrooms', 'beds', 'square_feet',\\\n",
    "'neighbourhood', 'zipcode', 'minimum_nights', 'maximum_nights']"
   ]
  },
  {
   "cell_type": "code",
   "execution_count": 1391,
   "metadata": {},
   "outputs": [],
   "source": [
    "predict_price_y = ['price']"
   ]
  },
  {
   "cell_type": "code",
   "execution_count": 1392,
   "metadata": {},
   "outputs": [],
   "source": [
    "df_predict_price = df_predict_price[predict_price_y + predict_price_x]"
   ]
  },
  {
   "cell_type": "code",
   "execution_count": 1393,
   "metadata": {},
   "outputs": [
    {
     "data": {
      "text/html": [
       "<div>\n",
       "<style scoped>\n",
       "    .dataframe tbody tr th:only-of-type {\n",
       "        vertical-align: middle;\n",
       "    }\n",
       "\n",
       "    .dataframe tbody tr th {\n",
       "        vertical-align: top;\n",
       "    }\n",
       "\n",
       "    .dataframe thead th {\n",
       "        text-align: right;\n",
       "    }\n",
       "</style>\n",
       "<table border=\"1\" class=\"dataframe\">\n",
       "  <thead>\n",
       "    <tr style=\"text-align: right;\">\n",
       "      <th></th>\n",
       "      <th>price</th>\n",
       "      <th>host_since</th>\n",
       "      <th>host_listings_count</th>\n",
       "      <th>room_type</th>\n",
       "      <th>bathrooms</th>\n",
       "      <th>bedrooms</th>\n",
       "      <th>beds</th>\n",
       "      <th>square_feet</th>\n",
       "      <th>neighbourhood</th>\n",
       "      <th>zipcode</th>\n",
       "      <th>minimum_nights</th>\n",
       "      <th>maximum_nights</th>\n",
       "    </tr>\n",
       "  </thead>\n",
       "  <tbody>\n",
       "    <tr>\n",
       "      <th>2927</th>\n",
       "      <td>$72.00</td>\n",
       "      <td>2012-03-23</td>\n",
       "      <td>5</td>\n",
       "      <td>Private room</td>\n",
       "      <td>1.0</td>\n",
       "      <td>1.0</td>\n",
       "      <td>2.0</td>\n",
       "      <td>NaN</td>\n",
       "      <td>Mattapan</td>\n",
       "      <td>02121</td>\n",
       "      <td>3</td>\n",
       "      <td>1125</td>\n",
       "    </tr>\n",
       "    <tr>\n",
       "      <th>1819</th>\n",
       "      <td>$249.00</td>\n",
       "      <td>2009-07-10</td>\n",
       "      <td>558</td>\n",
       "      <td>Entire home/apt</td>\n",
       "      <td>1.0</td>\n",
       "      <td>1.0</td>\n",
       "      <td>1.0</td>\n",
       "      <td>NaN</td>\n",
       "      <td>West End</td>\n",
       "      <td>02114</td>\n",
       "      <td>4</td>\n",
       "      <td>365</td>\n",
       "    </tr>\n",
       "    <tr>\n",
       "      <th>3279</th>\n",
       "      <td>$250.00</td>\n",
       "      <td>2015-01-25</td>\n",
       "      <td>7</td>\n",
       "      <td>Entire home/apt</td>\n",
       "      <td>1.0</td>\n",
       "      <td>3.0</td>\n",
       "      <td>8.0</td>\n",
       "      <td>NaN</td>\n",
       "      <td>South Boston</td>\n",
       "      <td>02127</td>\n",
       "      <td>1</td>\n",
       "      <td>1125</td>\n",
       "    </tr>\n",
       "  </tbody>\n",
       "</table>\n",
       "</div>"
      ],
      "text/plain": [
       "        price  host_since  host_listings_count        room_type  bathrooms  \\\n",
       "2927   $72.00  2012-03-23                    5     Private room        1.0   \n",
       "1819  $249.00  2009-07-10                  558  Entire home/apt        1.0   \n",
       "3279  $250.00  2015-01-25                    7  Entire home/apt        1.0   \n",
       "\n",
       "      bedrooms  beds  square_feet neighbourhood zipcode  minimum_nights  \\\n",
       "2927       1.0   2.0          NaN      Mattapan   02121               3   \n",
       "1819       1.0   1.0          NaN      West End   02114               4   \n",
       "3279       3.0   8.0          NaN  South Boston   02127               1   \n",
       "\n",
       "      maximum_nights  \n",
       "2927            1125  \n",
       "1819             365  \n",
       "3279            1125  "
      ]
     },
     "execution_count": 1393,
     "metadata": {},
     "output_type": "execute_result"
    }
   ],
   "source": [
    "df_predict_price.sample(3)"
   ]
  },
  {
   "cell_type": "markdown",
   "metadata": {},
   "source": [
    "##### Clean the data, drop not useful data, replace missing values, do feature engineering."
   ]
  },
  {
   "cell_type": "markdown",
   "metadata": {},
   "source": [
    "Checking and dropping rows where all columns are NaN"
   ]
  },
  {
   "cell_type": "code",
   "execution_count": 1394,
   "metadata": {},
   "outputs": [
    {
     "data": {
      "text/plain": [
       "(3585, 12)"
      ]
     },
     "execution_count": 1394,
     "metadata": {},
     "output_type": "execute_result"
    }
   ],
   "source": [
    "df_predict_price.shape"
   ]
  },
  {
   "cell_type": "code",
   "execution_count": 1395,
   "metadata": {},
   "outputs": [],
   "source": [
    "df_predict_price.dropna(how='all', inplace=True)"
   ]
  },
  {
   "cell_type": "code",
   "execution_count": 1396,
   "metadata": {},
   "outputs": [
    {
     "data": {
      "text/plain": [
       "(3585, 12)"
      ]
     },
     "execution_count": 1396,
     "metadata": {},
     "output_type": "execute_result"
    }
   ],
   "source": [
    "df_predict_price.shape"
   ]
  },
  {
   "cell_type": "markdown",
   "metadata": {},
   "source": [
    "Checking and if needed dropping rows where y value; price is NaN"
   ]
  },
  {
   "cell_type": "code",
   "execution_count": 1397,
   "metadata": {},
   "outputs": [
    {
     "data": {
      "text/plain": [
       "0"
      ]
     },
     "execution_count": 1397,
     "metadata": {},
     "output_type": "execute_result"
    }
   ],
   "source": [
    "df_predict_price.price.isna().sum()"
   ]
  },
  {
   "cell_type": "markdown",
   "metadata": {},
   "source": [
    "Checking datatypes of columns in df_predict_price"
   ]
  },
  {
   "cell_type": "code",
   "execution_count": 1398,
   "metadata": {},
   "outputs": [
    {
     "data": {
      "text/html": [
       "<div>\n",
       "<style scoped>\n",
       "    .dataframe tbody tr th:only-of-type {\n",
       "        vertical-align: middle;\n",
       "    }\n",
       "\n",
       "    .dataframe tbody tr th {\n",
       "        vertical-align: top;\n",
       "    }\n",
       "\n",
       "    .dataframe thead th {\n",
       "        text-align: right;\n",
       "    }\n",
       "</style>\n",
       "<table border=\"1\" class=\"dataframe\">\n",
       "  <thead>\n",
       "    <tr style=\"text-align: right;\">\n",
       "      <th></th>\n",
       "      <th>price</th>\n",
       "      <th>host_since</th>\n",
       "      <th>host_listings_count</th>\n",
       "      <th>room_type</th>\n",
       "      <th>bathrooms</th>\n",
       "      <th>bedrooms</th>\n",
       "      <th>beds</th>\n",
       "      <th>square_feet</th>\n",
       "      <th>neighbourhood</th>\n",
       "      <th>zipcode</th>\n",
       "      <th>minimum_nights</th>\n",
       "      <th>maximum_nights</th>\n",
       "    </tr>\n",
       "  </thead>\n",
       "  <tbody>\n",
       "    <tr>\n",
       "      <th>2003</th>\n",
       "      <td>$199.00</td>\n",
       "      <td>2015-12-18</td>\n",
       "      <td>16</td>\n",
       "      <td>Entire home/apt</td>\n",
       "      <td>1.0</td>\n",
       "      <td>1.0</td>\n",
       "      <td>1.0</td>\n",
       "      <td>NaN</td>\n",
       "      <td>Beacon Hill</td>\n",
       "      <td>02108</td>\n",
       "      <td>2</td>\n",
       "      <td>1125</td>\n",
       "    </tr>\n",
       "    <tr>\n",
       "      <th>2268</th>\n",
       "      <td>$213.00</td>\n",
       "      <td>2015-03-02</td>\n",
       "      <td>1</td>\n",
       "      <td>Private room</td>\n",
       "      <td>1.0</td>\n",
       "      <td>1.0</td>\n",
       "      <td>2.0</td>\n",
       "      <td>NaN</td>\n",
       "      <td>NaN</td>\n",
       "      <td>02215</td>\n",
       "      <td>1</td>\n",
       "      <td>1125</td>\n",
       "    </tr>\n",
       "    <tr>\n",
       "      <th>1661</th>\n",
       "      <td>$120.00</td>\n",
       "      <td>2010-03-15</td>\n",
       "      <td>2</td>\n",
       "      <td>Private room</td>\n",
       "      <td>1.0</td>\n",
       "      <td>1.0</td>\n",
       "      <td>2.0</td>\n",
       "      <td>NaN</td>\n",
       "      <td>East Boston</td>\n",
       "      <td>02128</td>\n",
       "      <td>1</td>\n",
       "      <td>1125</td>\n",
       "    </tr>\n",
       "  </tbody>\n",
       "</table>\n",
       "</div>"
      ],
      "text/plain": [
       "        price  host_since  host_listings_count        room_type  bathrooms  \\\n",
       "2003  $199.00  2015-12-18                   16  Entire home/apt        1.0   \n",
       "2268  $213.00  2015-03-02                    1     Private room        1.0   \n",
       "1661  $120.00  2010-03-15                    2     Private room        1.0   \n",
       "\n",
       "      bedrooms  beds  square_feet neighbourhood zipcode  minimum_nights  \\\n",
       "2003       1.0   1.0          NaN   Beacon Hill   02108               2   \n",
       "2268       1.0   2.0          NaN           NaN   02215               1   \n",
       "1661       1.0   2.0          NaN   East Boston   02128               1   \n",
       "\n",
       "      maximum_nights  \n",
       "2003            1125  \n",
       "2268            1125  \n",
       "1661            1125  "
      ]
     },
     "execution_count": 1398,
     "metadata": {},
     "output_type": "execute_result"
    }
   ],
   "source": [
    "df_predict_price.sample(3)"
   ]
  },
  {
   "cell_type": "code",
   "execution_count": 1399,
   "metadata": {},
   "outputs": [
    {
     "data": {
      "text/plain": [
       "array(['Entire home/apt', 'Private room', 'Shared room'], dtype=object)"
      ]
     },
     "execution_count": 1399,
     "metadata": {},
     "output_type": "execute_result"
    }
   ],
   "source": [
    "df_predict_price.room_type.unique()"
   ]
  },
  {
   "cell_type": "code",
   "execution_count": 1400,
   "metadata": {},
   "outputs": [
    {
     "data": {
      "text/plain": [
       "array(['Roslindale', nan, 'Jamaica Plain', 'Mission Hill',\n",
       "       'Fenway/Kenmore', 'Back Bay', 'Leather District', 'Chinatown',\n",
       "       'Hyde Park', 'North End', 'Roxbury', 'South End', 'Mattapan',\n",
       "       'East Boston', 'South Boston', 'Charlestown', 'West End',\n",
       "       'Beacon Hill', 'Theater District', 'Downtown Crossing', 'Downtown',\n",
       "       'Financial District', 'Government Center', 'Allston-Brighton',\n",
       "       'West Roxbury', 'Chestnut Hill', 'Dorchester', 'Brookline',\n",
       "       'Cambridge', 'Somerville', 'Harvard Square'], dtype=object)"
      ]
     },
     "execution_count": 1400,
     "metadata": {},
     "output_type": "execute_result"
    }
   ],
   "source": [
    "df_predict_price.neighbourhood.unique()"
   ]
  },
  {
   "cell_type": "code",
   "execution_count": 1401,
   "metadata": {},
   "outputs": [
    {
     "data": {
      "text/plain": [
       "array(['02131', nan, '02130', '02119', '02120', '02115', '02215', '02116',\n",
       "       '02111', '02109', '02113', '02110', '02114', '02108', '02121',\n",
       "       '02118', '02125', '02124', '02210', '02218', '02142', '02128',\n",
       "       '02129', '02145', '02126', '02108 02111', '02472', '02122',\n",
       "       '02446', '02135', '02134', '02445', '02132', '02467', '02136',\n",
       "       '02186', '02169', '02127', '02134-1704', '02163', '02138', '02139',\n",
       "       '02141', '02143'], dtype=object)"
      ]
     },
     "execution_count": 1401,
     "metadata": {},
     "output_type": "execute_result"
    }
   ],
   "source": [
    "df_predict_price.zipcode.unique()"
   ]
  },
  {
   "cell_type": "code",
   "execution_count": 1402,
   "metadata": {},
   "outputs": [
    {
     "name": "stdout",
     "output_type": "stream",
     "text": [
      "<class 'pandas.core.frame.DataFrame'>\n",
      "Int64Index: 3585 entries, 0 to 3584\n",
      "Data columns (total 12 columns):\n",
      " #   Column               Non-Null Count  Dtype  \n",
      "---  ------               --------------  -----  \n",
      " 0   price                3585 non-null   object \n",
      " 1   host_since           3585 non-null   object \n",
      " 2   host_listings_count  3585 non-null   int64  \n",
      " 3   room_type            3585 non-null   object \n",
      " 4   bathrooms            3571 non-null   float64\n",
      " 5   bedrooms             3575 non-null   float64\n",
      " 6   beds                 3576 non-null   float64\n",
      " 7   square_feet          56 non-null     float64\n",
      " 8   neighbourhood        3042 non-null   object \n",
      " 9   zipcode              3547 non-null   object \n",
      " 10  minimum_nights       3585 non-null   int64  \n",
      " 11  maximum_nights       3585 non-null   int64  \n",
      "dtypes: float64(4), int64(3), object(5)\n",
      "memory usage: 364.1+ KB\n"
     ]
    }
   ],
   "source": [
    "df_predict_price.info()"
   ]
  },
  {
   "cell_type": "markdown",
   "metadata": {},
   "source": [
    "Following are datatype changes that need to be done:\n",
    "1. Change price from object to float\n",
    "2. change host_since from object to datatime and create different columns for year, month and day.\n",
    "3. Convert room_type from categorical to quantitative using get_dummies\n",
    "4. Change datatype of zipcode from object to float"
   ]
  },
  {
   "cell_type": "code",
   "execution_count": 1403,
   "metadata": {},
   "outputs": [
    {
     "data": {
      "text/plain": [
       "208     $225.00\n",
       "3454    $150.00\n",
       "2787     $65.00\n",
       "Name: price, dtype: object"
      ]
     },
     "execution_count": 1403,
     "metadata": {},
     "output_type": "execute_result"
    }
   ],
   "source": [
    "df_predict_price.price.sample(3)"
   ]
  },
  {
   "cell_type": "code",
   "execution_count": 1404,
   "metadata": {},
   "outputs": [
    {
     "data": {
      "text/plain": [
       "{str}"
      ]
     },
     "execution_count": 1404,
     "metadata": {},
     "output_type": "execute_result"
    }
   ],
   "source": [
    "set(df_predict_price.price.apply(type))"
   ]
  },
  {
   "cell_type": "code",
   "execution_count": 1405,
   "metadata": {},
   "outputs": [],
   "source": [
    "df_predict_price.price = df_predict_price.price.replace({'\\$':'',',':''}, regex=True).astype('float')"
   ]
  },
  {
   "cell_type": "code",
   "execution_count": 1406,
   "metadata": {},
   "outputs": [
    {
     "data": {
      "text/plain": [
       "1628    112.0\n",
       "2978     68.0\n",
       "3426     45.0\n",
       "Name: price, dtype: float64"
      ]
     },
     "execution_count": 1406,
     "metadata": {},
     "output_type": "execute_result"
    }
   ],
   "source": [
    "df_predict_price.price.sample(3)"
   ]
  },
  {
   "cell_type": "code",
   "execution_count": 1407,
   "metadata": {},
   "outputs": [],
   "source": [
    "df_predict_price['host_since'] = pd.to_datetime(df_predict_price['host_since'])"
   ]
  },
  {
   "cell_type": "code",
   "execution_count": 1408,
   "metadata": {},
   "outputs": [
    {
     "data": {
      "text/plain": [
       "price                         float64\n",
       "host_since             datetime64[ns]\n",
       "host_listings_count             int64\n",
       "room_type                      object\n",
       "bathrooms                     float64\n",
       "bedrooms                      float64\n",
       "beds                          float64\n",
       "square_feet                   float64\n",
       "neighbourhood                  object\n",
       "zipcode                        object\n",
       "minimum_nights                  int64\n",
       "maximum_nights                  int64\n",
       "dtype: object"
      ]
     },
     "execution_count": 1408,
     "metadata": {},
     "output_type": "execute_result"
    }
   ],
   "source": [
    "df_predict_price.dtypes"
   ]
  },
  {
   "cell_type": "markdown",
   "metadata": {},
   "source": [
    "df_predict_price.host_since is datetime that should be changed to year, month, day columns as LinearRegression model cannot work on datetime datatype."
   ]
  },
  {
   "cell_type": "code",
   "execution_count": 1409,
   "metadata": {},
   "outputs": [],
   "source": [
    "df_predict_price['host_since_year'] = pd.DatetimeIndex(df_predict_price['host_since']).year"
   ]
  },
  {
   "cell_type": "code",
   "execution_count": 1410,
   "metadata": {},
   "outputs": [],
   "source": [
    "df_predict_price['host_since_month'] = pd.DatetimeIndex(df_predict_price['host_since']).month"
   ]
  },
  {
   "cell_type": "code",
   "execution_count": 1411,
   "metadata": {},
   "outputs": [],
   "source": [
    "df_predict_price['host_since_day'] = pd.DatetimeIndex(df_predict_price['host_since']).day"
   ]
  },
  {
   "cell_type": "code",
   "execution_count": 1412,
   "metadata": {},
   "outputs": [
    {
     "data": {
      "text/plain": [
       "Entire home/apt    2127\n",
       "Private room       1378\n",
       "Shared room          80\n",
       "Name: room_type, dtype: int64"
      ]
     },
     "execution_count": 1412,
     "metadata": {},
     "output_type": "execute_result"
    }
   ],
   "source": [
    "df_predict_price.room_type.value_counts()"
   ]
  },
  {
   "cell_type": "code",
   "execution_count": 1413,
   "metadata": {},
   "outputs": [],
   "source": [
    "cat_df = pd.get_dummies(df_predict_price['room_type'], dummy_na=True,prefix='room_type')"
   ]
  },
  {
   "cell_type": "code",
   "execution_count": 1414,
   "metadata": {},
   "outputs": [
    {
     "data": {
      "text/plain": [
       "(3585, 4)"
      ]
     },
     "execution_count": 1414,
     "metadata": {},
     "output_type": "execute_result"
    }
   ],
   "source": [
    "cat_df.shape"
   ]
  },
  {
   "cell_type": "code",
   "execution_count": 1415,
   "metadata": {},
   "outputs": [
    {
     "data": {
      "text/plain": [
       "(3585, 15)"
      ]
     },
     "execution_count": 1415,
     "metadata": {},
     "output_type": "execute_result"
    }
   ],
   "source": [
    "df_predict_price.shape"
   ]
  },
  {
   "cell_type": "code",
   "execution_count": 1416,
   "metadata": {},
   "outputs": [
    {
     "data": {
      "text/plain": [
       "(3585, 19)"
      ]
     },
     "execution_count": 1416,
     "metadata": {},
     "output_type": "execute_result"
    }
   ],
   "source": [
    "df_predict_price.merge(cat_df, left_index=True, right_index=True).shape"
   ]
  },
  {
   "cell_type": "code",
   "execution_count": 1417,
   "metadata": {},
   "outputs": [],
   "source": [
    "df_predict_price = df_predict_price.merge(cat_df, left_index=True, right_index=True)"
   ]
  },
  {
   "cell_type": "code",
   "execution_count": 1418,
   "metadata": {},
   "outputs": [
    {
     "data": {
      "text/plain": [
       "1028    02118\n",
       "1955    02111\n",
       "200     02130\n",
       "2897    02124\n",
       "1892    02114\n",
       "Name: zipcode, dtype: object"
      ]
     },
     "execution_count": 1418,
     "metadata": {},
     "output_type": "execute_result"
    }
   ],
   "source": [
    "df_predict_price.zipcode.sample(5)"
   ]
  },
  {
   "cell_type": "code",
   "execution_count": 1419,
   "metadata": {},
   "outputs": [
    {
     "data": {
      "text/plain": [
       "{'02108',\n",
       " '02108 02111',\n",
       " '02109',\n",
       " '02110',\n",
       " '02111',\n",
       " '02113',\n",
       " '02114',\n",
       " '02115',\n",
       " '02116',\n",
       " '02118',\n",
       " '02119',\n",
       " '02120',\n",
       " '02121',\n",
       " '02122',\n",
       " '02124',\n",
       " '02125',\n",
       " '02126',\n",
       " '02127',\n",
       " '02128',\n",
       " '02129',\n",
       " '02130',\n",
       " '02131',\n",
       " '02132',\n",
       " '02134',\n",
       " '02134-1704',\n",
       " '02135',\n",
       " '02136',\n",
       " '02138',\n",
       " '02139',\n",
       " '02141',\n",
       " '02142',\n",
       " '02143',\n",
       " '02145',\n",
       " '02163',\n",
       " '02169',\n",
       " '02186',\n",
       " '02210',\n",
       " '02215',\n",
       " '02218',\n",
       " '02445',\n",
       " '02446',\n",
       " '02467',\n",
       " '02472',\n",
       " nan}"
      ]
     },
     "execution_count": 1419,
     "metadata": {},
     "output_type": "execute_result"
    }
   ],
   "source": [
    "set(df_predict_price.zipcode)"
   ]
  },
  {
   "cell_type": "markdown",
   "metadata": {},
   "source": [
    "First we need to replace space and hyphen in some zipcodes then change the datattype."
   ]
  },
  {
   "cell_type": "code",
   "execution_count": 1420,
   "metadata": {},
   "outputs": [],
   "source": [
    "df_predict_price.zipcode.replace({' ':'','-':''}, regex=True, inplace=True)"
   ]
  },
  {
   "cell_type": "code",
   "execution_count": 1421,
   "metadata": {},
   "outputs": [],
   "source": [
    "df_predict_price.zipcode = df_predict_price.zipcode.astype('float')"
   ]
  },
  {
   "cell_type": "code",
   "execution_count": 1422,
   "metadata": {},
   "outputs": [
    {
     "name": "stdout",
     "output_type": "stream",
     "text": [
      "<class 'pandas.core.frame.DataFrame'>\n",
      "Int64Index: 3585 entries, 0 to 3584\n",
      "Data columns (total 19 columns):\n",
      " #   Column                     Non-Null Count  Dtype         \n",
      "---  ------                     --------------  -----         \n",
      " 0   price                      3585 non-null   float64       \n",
      " 1   host_since                 3585 non-null   datetime64[ns]\n",
      " 2   host_listings_count        3585 non-null   int64         \n",
      " 3   room_type                  3585 non-null   object        \n",
      " 4   bathrooms                  3571 non-null   float64       \n",
      " 5   bedrooms                   3575 non-null   float64       \n",
      " 6   beds                       3576 non-null   float64       \n",
      " 7   square_feet                56 non-null     float64       \n",
      " 8   neighbourhood              3042 non-null   object        \n",
      " 9   zipcode                    3547 non-null   float64       \n",
      " 10  minimum_nights             3585 non-null   int64         \n",
      " 11  maximum_nights             3585 non-null   int64         \n",
      " 12  host_since_year            3585 non-null   int64         \n",
      " 13  host_since_month           3585 non-null   int64         \n",
      " 14  host_since_day             3585 non-null   int64         \n",
      " 15  room_type_Entire home/apt  3585 non-null   uint8         \n",
      " 16  room_type_Private room     3585 non-null   uint8         \n",
      " 17  room_type_Shared room      3585 non-null   uint8         \n",
      " 18  room_type_nan              3585 non-null   uint8         \n",
      "dtypes: datetime64[ns](1), float64(6), int64(6), object(2), uint8(4)\n",
      "memory usage: 622.1+ KB\n"
     ]
    }
   ],
   "source": [
    "df_predict_price.info()"
   ]
  },
  {
   "cell_type": "code",
   "execution_count": null,
   "metadata": {},
   "outputs": [],
   "source": []
  },
  {
   "cell_type": "markdown",
   "metadata": {},
   "source": [
    "Checking presence of NaN and deciding what to do about it for each column"
   ]
  },
  {
   "cell_type": "code",
   "execution_count": 1423,
   "metadata": {},
   "outputs": [
    {
     "data": {
      "text/plain": [
       "price                           0\n",
       "host_since                      0\n",
       "host_listings_count             0\n",
       "room_type                       0\n",
       "bathrooms                      14\n",
       "bedrooms                       10\n",
       "beds                            9\n",
       "square_feet                  3529\n",
       "neighbourhood                 543\n",
       "zipcode                        38\n",
       "minimum_nights                  0\n",
       "maximum_nights                  0\n",
       "host_since_year                 0\n",
       "host_since_month                0\n",
       "host_since_day                  0\n",
       "room_type_Entire home/apt       0\n",
       "room_type_Private room          0\n",
       "room_type_Shared room           0\n",
       "room_type_nan                   0\n",
       "dtype: int64"
      ]
     },
     "execution_count": 1423,
     "metadata": {},
     "output_type": "execute_result"
    }
   ],
   "source": [
    "df_predict_price.isna().sum()"
   ]
  },
  {
   "cell_type": "markdown",
   "metadata": {},
   "source": [
    "Checking NaN value percentage for each column"
   ]
  },
  {
   "cell_type": "code",
   "execution_count": 1424,
   "metadata": {},
   "outputs": [
    {
     "data": {
      "text/plain": [
       "price                        0.000000\n",
       "host_since                   0.000000\n",
       "host_listings_count          0.000000\n",
       "room_type                    0.000000\n",
       "bathrooms                    0.003905\n",
       "bedrooms                     0.002789\n",
       "beds                         0.002510\n",
       "square_feet                  0.984379\n",
       "neighbourhood                0.151464\n",
       "zipcode                      0.010600\n",
       "minimum_nights               0.000000\n",
       "maximum_nights               0.000000\n",
       "host_since_year              0.000000\n",
       "host_since_month             0.000000\n",
       "host_since_day               0.000000\n",
       "room_type_Entire home/apt    0.000000\n",
       "room_type_Private room       0.000000\n",
       "room_type_Shared room        0.000000\n",
       "room_type_nan                0.000000\n",
       "dtype: float64"
      ]
     },
     "execution_count": 1424,
     "metadata": {},
     "output_type": "execute_result"
    }
   ],
   "source": [
    "df_predict_price.isna().mean()"
   ]
  },
  {
   "cell_type": "code",
   "execution_count": 1425,
   "metadata": {},
   "outputs": [
    {
     "data": {
      "image/png": "[encoded data removed]",
      "text/plain": [
       "<Figure size 432x288 with 1 Axes>"
      ]
     },
     "metadata": {
      "needs_background": "light"
     },
     "output_type": "display_data"
    }
   ],
   "source": [
    "ax = df_predict_price.isna().mean().plot(kind='bar')\n"
   ]
  },
  {
   "cell_type": "markdown",
   "metadata": {},
   "source": [
    "As we can clearly see column of neighborhood is missing some values, and column of square feet has whooping 98% values absent which makes it outright useless for us as we cannot guess it or impute it with mean/median/mode as none of those approaches is sensible for square feet."
   ]
  },
  {
   "cell_type": "markdown",
   "metadata": {},
   "source": [
    "Following are observations and approach for each column containng NaN values:\n",
    "\n",
    "- bathrooms = impute with median\n",
    "- bedrooms = impute with median\n",
    "- beds = impute with median \n",
    "- square_feet = drop the column; reason being 98% values are absent.\n",
    "- neighborhood = drop the rows where neighborhood is NaN\n",
    "- zipcode = drop the rows where the value is NaN"
   ]
  },
  {
   "cell_type": "markdown",
   "metadata": {},
   "source": [
    "Imputing values for columns bathrooms, bedrooms and beds."
   ]
  },
  {
   "cell_type": "code",
   "execution_count": 1426,
   "metadata": {},
   "outputs": [
    {
     "data": {
      "text/plain": [
       "1.0"
      ]
     },
     "execution_count": 1426,
     "metadata": {},
     "output_type": "execute_result"
    }
   ],
   "source": [
    "df_predict_price.bathrooms.median()"
   ]
  },
  {
   "cell_type": "code",
   "execution_count": 1427,
   "metadata": {},
   "outputs": [
    {
     "data": {
      "text/plain": [
       "14"
      ]
     },
     "execution_count": 1427,
     "metadata": {},
     "output_type": "execute_result"
    }
   ],
   "source": [
    "df_predict_price.bathrooms.isna().sum()"
   ]
  },
  {
   "cell_type": "code",
   "execution_count": 1428,
   "metadata": {},
   "outputs": [],
   "source": [
    "df_predict_price.bathrooms.fillna(df_predict_price.bathrooms.median(), inplace=True)"
   ]
  },
  {
   "cell_type": "code",
   "execution_count": 1429,
   "metadata": {},
   "outputs": [
    {
     "data": {
      "text/plain": [
       "0"
      ]
     },
     "execution_count": 1429,
     "metadata": {},
     "output_type": "execute_result"
    }
   ],
   "source": [
    "df_predict_price.bathrooms.isna().sum()"
   ]
  },
  {
   "cell_type": "code",
   "execution_count": 1430,
   "metadata": {},
   "outputs": [
    {
     "data": {
      "text/plain": [
       "1.0"
      ]
     },
     "execution_count": 1430,
     "metadata": {},
     "output_type": "execute_result"
    }
   ],
   "source": [
    "df_predict_price.bedrooms.median()"
   ]
  },
  {
   "cell_type": "code",
   "execution_count": 1431,
   "metadata": {},
   "outputs": [
    {
     "data": {
      "text/plain": [
       "10"
      ]
     },
     "execution_count": 1431,
     "metadata": {},
     "output_type": "execute_result"
    }
   ],
   "source": [
    "df_predict_price.bedrooms.isna().sum()"
   ]
  },
  {
   "cell_type": "code",
   "execution_count": 1432,
   "metadata": {},
   "outputs": [],
   "source": [
    "df_predict_price.bedrooms.fillna(df_predict_price.bedrooms.median(), inplace=True)"
   ]
  },
  {
   "cell_type": "code",
   "execution_count": 1433,
   "metadata": {},
   "outputs": [
    {
     "data": {
      "text/plain": [
       "0"
      ]
     },
     "execution_count": 1433,
     "metadata": {},
     "output_type": "execute_result"
    }
   ],
   "source": [
    "df_predict_price.bedrooms.isna().sum()"
   ]
  },
  {
   "cell_type": "code",
   "execution_count": 1434,
   "metadata": {},
   "outputs": [
    {
     "data": {
      "text/plain": [
       "1.0"
      ]
     },
     "execution_count": 1434,
     "metadata": {},
     "output_type": "execute_result"
    }
   ],
   "source": [
    "df_predict_price.beds.median()"
   ]
  },
  {
   "cell_type": "code",
   "execution_count": 1435,
   "metadata": {},
   "outputs": [
    {
     "data": {
      "text/plain": [
       "9"
      ]
     },
     "execution_count": 1435,
     "metadata": {},
     "output_type": "execute_result"
    }
   ],
   "source": [
    "df_predict_price.beds.isna().sum()"
   ]
  },
  {
   "cell_type": "code",
   "execution_count": 1436,
   "metadata": {},
   "outputs": [],
   "source": [
    "df_predict_price.beds.fillna(df_predict_price.beds.median(), inplace=True)"
   ]
  },
  {
   "cell_type": "code",
   "execution_count": 1437,
   "metadata": {},
   "outputs": [
    {
     "data": {
      "text/plain": [
       "0"
      ]
     },
     "execution_count": 1437,
     "metadata": {},
     "output_type": "execute_result"
    }
   ],
   "source": [
    "df_predict_price.beds.isna().sum()"
   ]
  },
  {
   "cell_type": "markdown",
   "metadata": {},
   "source": [
    "Dropping square_feet column"
   ]
  },
  {
   "cell_type": "code",
   "execution_count": 1438,
   "metadata": {},
   "outputs": [
    {
     "data": {
      "text/plain": [
       "0.9843793584379359"
      ]
     },
     "execution_count": 1438,
     "metadata": {},
     "output_type": "execute_result"
    }
   ],
   "source": [
    "df_predict_price.square_feet.isna().mean()"
   ]
  },
  {
   "cell_type": "code",
   "execution_count": 1439,
   "metadata": {},
   "outputs": [
    {
     "data": {
      "text/plain": [
       "Index(['square_feet'], dtype='object')"
      ]
     },
     "execution_count": 1439,
     "metadata": {},
     "output_type": "execute_result"
    }
   ],
   "source": [
    "df_predict_price.columns[df_predict_price.columns.str.contains('quare')]"
   ]
  },
  {
   "cell_type": "code",
   "execution_count": 1440,
   "metadata": {},
   "outputs": [],
   "source": [
    "df_predict_price.drop(columns=['square_feet'], inplace=True)"
   ]
  },
  {
   "cell_type": "code",
   "execution_count": 1441,
   "metadata": {},
   "outputs": [
    {
     "data": {
      "text/plain": [
       "Index([], dtype='object')"
      ]
     },
     "execution_count": 1441,
     "metadata": {},
     "output_type": "execute_result"
    }
   ],
   "source": [
    "df_predict_price.columns[df_predict_price.columns.str.contains('quare')]"
   ]
  },
  {
   "cell_type": "markdown",
   "metadata": {},
   "source": [
    "Dropping rows of df_predict_price where values in either neighbourhood or zipcode are NaN"
   ]
  },
  {
   "cell_type": "code",
   "execution_count": 1442,
   "metadata": {},
   "outputs": [
    {
     "data": {
      "text/plain": [
       "543"
      ]
     },
     "execution_count": 1442,
     "metadata": {},
     "output_type": "execute_result"
    }
   ],
   "source": [
    "df_predict_price.neighbourhood.isna().sum()"
   ]
  },
  {
   "cell_type": "code",
   "execution_count": 1443,
   "metadata": {},
   "outputs": [
    {
     "data": {
      "text/plain": [
       "38"
      ]
     },
     "execution_count": 1443,
     "metadata": {},
     "output_type": "execute_result"
    }
   ],
   "source": [
    "df_predict_price.zipcode.isna().sum()"
   ]
  },
  {
   "cell_type": "code",
   "execution_count": 1444,
   "metadata": {},
   "outputs": [
    {
     "data": {
      "text/plain": [
       "(3585, 18)"
      ]
     },
     "execution_count": 1444,
     "metadata": {},
     "output_type": "execute_result"
    }
   ],
   "source": [
    "df_predict_price.shape"
   ]
  },
  {
   "cell_type": "code",
   "execution_count": 1445,
   "metadata": {},
   "outputs": [],
   "source": [
    "df_predict_price.dropna(subset=['neighbourhood', 'zipcode'], inplace=True)"
   ]
  },
  {
   "cell_type": "code",
   "execution_count": 1446,
   "metadata": {},
   "outputs": [
    {
     "data": {
      "text/plain": [
       "(3037, 18)"
      ]
     },
     "execution_count": 1446,
     "metadata": {},
     "output_type": "execute_result"
    }
   ],
   "source": [
    "df_predict_price.shape"
   ]
  },
  {
   "cell_type": "code",
   "execution_count": 1447,
   "metadata": {},
   "outputs": [
    {
     "data": {
      "text/plain": [
       "0"
      ]
     },
     "execution_count": 1447,
     "metadata": {},
     "output_type": "execute_result"
    }
   ],
   "source": [
    "df_predict_price.neighbourhood.isna().sum()"
   ]
  },
  {
   "cell_type": "code",
   "execution_count": 1448,
   "metadata": {},
   "outputs": [
    {
     "data": {
      "text/plain": [
       "0"
      ]
     },
     "execution_count": 1448,
     "metadata": {},
     "output_type": "execute_result"
    }
   ],
   "source": [
    "df_predict_price.zipcode.isna().sum()"
   ]
  },
  {
   "cell_type": "code",
   "execution_count": null,
   "metadata": {},
   "outputs": [],
   "source": []
  },
  {
   "cell_type": "code",
   "execution_count": 1449,
   "metadata": {},
   "outputs": [
    {
     "data": {
      "text/plain": [
       "price                               float64\n",
       "host_since                   datetime64[ns]\n",
       "host_listings_count                   int64\n",
       "room_type                            object\n",
       "bathrooms                           float64\n",
       "bedrooms                            float64\n",
       "beds                                float64\n",
       "neighbourhood                        object\n",
       "zipcode                             float64\n",
       "minimum_nights                        int64\n",
       "maximum_nights                        int64\n",
       "host_since_year                       int64\n",
       "host_since_month                      int64\n",
       "host_since_day                        int64\n",
       "room_type_Entire home/apt             uint8\n",
       "room_type_Private room                uint8\n",
       "room_type_Shared room                 uint8\n",
       "room_type_nan                         uint8\n",
       "dtype: object"
      ]
     },
     "execution_count": 1449,
     "metadata": {},
     "output_type": "execute_result"
    }
   ],
   "source": [
    "df_predict_price.dtypes"
   ]
  },
  {
   "cell_type": "code",
   "execution_count": null,
   "metadata": {},
   "outputs": [],
   "source": []
  },
  {
   "cell_type": "markdown",
   "metadata": {},
   "source": [
    "##### Question 6 = Predicting review_scores_value using subset of features. What are factors that are important causing a listing to get high rating in column review_scores_value?"
   ]
  },
  {
   "cell_type": "markdown",
   "metadata": {},
   "source": [
    "X:\n",
    "1. host_since\n",
    "2. host_response_time\n",
    "3. host_response_rate\n",
    "4. host_acceptance_rate\n",
    "5. host_is_superhost\n",
    "6. host_identity_verified\n",
    "7. neighbourhood\n",
    "8. zipcode\n",
    "9. price\n",
    "10. security_deposit\n",
    "11. cleaning_fee\n",
    "\n",
    "\n",
    "y:\n",
    "1. review_scores_value"
   ]
  },
  {
   "cell_type": "code",
   "execution_count": 1450,
   "metadata": {},
   "outputs": [
    {
     "data": {
      "text/plain": [
       "array([nan, '$95.00', '$100.00', '$200.00', '$500.00', '$150.00',\n",
       "       '$250.00', '$446.00', '$223.00', '$300.00', '$400.00', '$800.00',\n",
       "       '$298.00', '$450.00', '$650.00', '$2,000.00', '$240.00',\n",
       "       '$1,000.00', '$350.00', '$1,500.00', '$4,500.00', '$600.00',\n",
       "       '$301.00', '$2,500.00', '$99.00', '$275.00', '$375.00', '$199.00',\n",
       "       '$1,200.00', '$180.00', '$220.00', '$160.00', '$299.00', '$750.00',\n",
       "       '$325.00', '$1,250.00', '$125.00', '$900.00', '$475.00',\n",
       "       '$4,000.00', '$185.00', '$3,000.00', '$330.00', '$147.00',\n",
       "       '$425.00', '$399.00', '$120.00', '$307.00', '$1,900.00', '$950.00',\n",
       "       '$175.00', '$179.00', '$128.00', '$700.00', '$118.00'],\n",
       "      dtype=object)"
      ]
     },
     "execution_count": 1450,
     "metadata": {},
     "output_type": "execute_result"
    }
   ],
   "source": [
    "df_boston_listings.security_deposit.unique()"
   ]
  },
  {
   "cell_type": "code",
   "execution_count": 1451,
   "metadata": {},
   "outputs": [
    {
     "data": {
      "text/plain": [
       "array(['$35.00', '$10.00', nan, '$50.00', '$15.00', '$30.00', '$40.00',\n",
       "       '$150.00', '$20.00', '$100.00', '$85.00', '$25.00', '$56.00',\n",
       "       '$45.00', '$125.00', '$80.00', '$5.00', '$120.00', '$18.00',\n",
       "       '$90.00', '$200.00', '$140.00', '$95.00', '$60.00', '$75.00',\n",
       "       '$7.00', '$64.00', '$12.00', '$135.00', '$250.00', '$70.00',\n",
       "       '$9.00', '$8.00', '$55.00', '$175.00', '$65.00', '$69.00',\n",
       "       '$130.00', '$6.00', '$84.00', '$13.00', '$29.00', '$160.00',\n",
       "       '$49.00', '$119.00', '$197.00', '$155.00', '$158.00', '$166.00',\n",
       "       '$199.00', '$99.00', '$225.00', '$39.00', '$54.00', '$24.00',\n",
       "       '$110.00', '$136.00', '$115.00', '$83.00', '$42.00', '$139.00',\n",
       "       '$79.00', '$37.00', '$28.00', '$82.00', '$19.00', '$57.00',\n",
       "       '$72.00', '$58.00', '$66.00', '$180.00', '$300.00', '$14.00',\n",
       "       '$129.00', '$105.00', '$149.00', '$52.00', '$34.00', '$59.00',\n",
       "       '$230.00'], dtype=object)"
      ]
     },
     "execution_count": 1451,
     "metadata": {},
     "output_type": "execute_result"
    }
   ],
   "source": [
    "df_boston_listings.cleaning_fee.unique()"
   ]
  },
  {
   "cell_type": "code",
   "execution_count": 1452,
   "metadata": {},
   "outputs": [
    {
     "data": {
      "text/plain": [
       "30"
      ]
     },
     "execution_count": 1452,
     "metadata": {},
     "output_type": "execute_result"
    }
   ],
   "source": [
    "df_boston_listings.neighbourhood.nunique()"
   ]
  },
  {
   "cell_type": "code",
   "execution_count": 1453,
   "metadata": {},
   "outputs": [
    {
     "data": {
      "text/plain": [
       "(3585, 95)"
      ]
     },
     "execution_count": 1453,
     "metadata": {},
     "output_type": "execute_result"
    }
   ],
   "source": [
    "df_boston_listings.shape"
   ]
  },
  {
   "cell_type": "markdown",
   "metadata": {},
   "source": [
    "Creating dataframe with relevant X and y"
   ]
  },
  {
   "cell_type": "code",
   "execution_count": 1454,
   "metadata": {},
   "outputs": [],
   "source": [
    "df_predict_review_scores_value = df_boston_listings.copy()"
   ]
  },
  {
   "cell_type": "code",
   "execution_count": 1455,
   "metadata": {},
   "outputs": [],
   "source": [
    "predict_review_scores_value_x = ['host_since', 'host_response_time', 'host_response_rate', 'host_acceptance_rate',\\\n",
    "'host_is_superhost', 'host_identity_verified', 'neighbourhood', 'zipcode', 'price', 'security_deposit', 'cleaning_fee']"
   ]
  },
  {
   "cell_type": "code",
   "execution_count": 1456,
   "metadata": {},
   "outputs": [],
   "source": [
    "predict_review_scores_value_y = ['review_scores_value']"
   ]
  },
  {
   "cell_type": "code",
   "execution_count": 1457,
   "metadata": {},
   "outputs": [],
   "source": [
    "df_predict_review_scores_value = df_predict_review_scores_value[predict_review_scores_value_y + predict_review_scores_value_x]"
   ]
  },
  {
   "cell_type": "code",
   "execution_count": 1458,
   "metadata": {},
   "outputs": [
    {
     "data": {
      "text/html": [
       "<div>\n",
       "<style scoped>\n",
       "    .dataframe tbody tr th:only-of-type {\n",
       "        vertical-align: middle;\n",
       "    }\n",
       "\n",
       "    .dataframe tbody tr th {\n",
       "        vertical-align: top;\n",
       "    }\n",
       "\n",
       "    .dataframe thead th {\n",
       "        text-align: right;\n",
       "    }\n",
       "</style>\n",
       "<table border=\"1\" class=\"dataframe\">\n",
       "  <thead>\n",
       "    <tr style=\"text-align: right;\">\n",
       "      <th></th>\n",
       "      <th>review_scores_value</th>\n",
       "      <th>host_since</th>\n",
       "      <th>host_response_time</th>\n",
       "      <th>host_response_rate</th>\n",
       "      <th>host_acceptance_rate</th>\n",
       "      <th>host_is_superhost</th>\n",
       "      <th>host_identity_verified</th>\n",
       "      <th>neighbourhood</th>\n",
       "      <th>zipcode</th>\n",
       "      <th>price</th>\n",
       "      <th>security_deposit</th>\n",
       "      <th>cleaning_fee</th>\n",
       "    </tr>\n",
       "  </thead>\n",
       "  <tbody>\n",
       "    <tr>\n",
       "      <th>1391</th>\n",
       "      <td>NaN</td>\n",
       "      <td>2014-09-29</td>\n",
       "      <td>NaN</td>\n",
       "      <td>NaN</td>\n",
       "      <td>NaN</td>\n",
       "      <td>f</td>\n",
       "      <td>t</td>\n",
       "      <td>Back Bay</td>\n",
       "      <td>02116</td>\n",
       "      <td>$250.00</td>\n",
       "      <td>$100.00</td>\n",
       "      <td>$50.00</td>\n",
       "    </tr>\n",
       "    <tr>\n",
       "      <th>713</th>\n",
       "      <td>9.0</td>\n",
       "      <td>2014-12-06</td>\n",
       "      <td>within an hour</td>\n",
       "      <td>100%</td>\n",
       "      <td>100%</td>\n",
       "      <td>f</td>\n",
       "      <td>f</td>\n",
       "      <td>North End</td>\n",
       "      <td>02113</td>\n",
       "      <td>$180.00</td>\n",
       "      <td>NaN</td>\n",
       "      <td>NaN</td>\n",
       "    </tr>\n",
       "    <tr>\n",
       "      <th>2318</th>\n",
       "      <td>8.0</td>\n",
       "      <td>2014-09-21</td>\n",
       "      <td>within an hour</td>\n",
       "      <td>100%</td>\n",
       "      <td>100%</td>\n",
       "      <td>f</td>\n",
       "      <td>t</td>\n",
       "      <td>Fenway/Kenmore</td>\n",
       "      <td>02115</td>\n",
       "      <td>$90.00</td>\n",
       "      <td>NaN</td>\n",
       "      <td>$10.00</td>\n",
       "    </tr>\n",
       "  </tbody>\n",
       "</table>\n",
       "</div>"
      ],
      "text/plain": [
       "      review_scores_value  host_since host_response_time host_response_rate  \\\n",
       "1391                  NaN  2014-09-29                NaN                NaN   \n",
       "713                   9.0  2014-12-06     within an hour               100%   \n",
       "2318                  8.0  2014-09-21     within an hour               100%   \n",
       "\n",
       "     host_acceptance_rate host_is_superhost host_identity_verified  \\\n",
       "1391                  NaN                 f                      t   \n",
       "713                  100%                 f                      f   \n",
       "2318                 100%                 f                      t   \n",
       "\n",
       "       neighbourhood zipcode    price security_deposit cleaning_fee  \n",
       "1391        Back Bay   02116  $250.00          $100.00       $50.00  \n",
       "713        North End   02113  $180.00              NaN          NaN  \n",
       "2318  Fenway/Kenmore   02115   $90.00              NaN       $10.00  "
      ]
     },
     "execution_count": 1458,
     "metadata": {},
     "output_type": "execute_result"
    }
   ],
   "source": [
    "df_predict_review_scores_value.sample(3)"
   ]
  },
  {
   "cell_type": "markdown",
   "metadata": {},
   "source": [
    "##### Clean the data, drop not useful data, replace missing values, do feature engineering."
   ]
  },
  {
   "cell_type": "code",
   "execution_count": 1459,
   "metadata": {},
   "outputs": [
    {
     "data": {
      "text/plain": [
       "Index(['review_scores_value', 'host_since', 'host_response_time',\n",
       "       'host_response_rate', 'host_acceptance_rate', 'host_is_superhost',\n",
       "       'host_identity_verified', 'neighbourhood', 'zipcode', 'price',\n",
       "       'security_deposit', 'cleaning_fee'],\n",
       "      dtype='object')"
      ]
     },
     "execution_count": 1459,
     "metadata": {},
     "output_type": "execute_result"
    }
   ],
   "source": [
    "df_predict_review_scores_value.columns"
   ]
  },
  {
   "cell_type": "markdown",
   "metadata": {},
   "source": [
    "Checking if we have any rows where all columns are NaN"
   ]
  },
  {
   "cell_type": "code",
   "execution_count": 1460,
   "metadata": {},
   "outputs": [
    {
     "data": {
      "text/plain": [
       "review_scores_value        821\n",
       "host_since                   0\n",
       "host_response_time         471\n",
       "host_response_rate         471\n",
       "host_acceptance_rate       471\n",
       "host_is_superhost            0\n",
       "host_identity_verified       0\n",
       "neighbourhood              543\n",
       "zipcode                     38\n",
       "price                        0\n",
       "security_deposit          2243\n",
       "cleaning_fee              1107\n",
       "dtype: int64"
      ]
     },
     "execution_count": 1460,
     "metadata": {},
     "output_type": "execute_result"
    }
   ],
   "source": [
    "df_predict_review_scores_value.isna().sum()"
   ]
  },
  {
   "cell_type": "code",
   "execution_count": 1461,
   "metadata": {},
   "outputs": [
    {
     "data": {
      "text/plain": [
       "<AxesSubplot:>"
      ]
     },
     "execution_count": 1461,
     "metadata": {},
     "output_type": "execute_result"
    },
    {
     "data": {
      "image/png": "[encoded data removed]",
      "text/plain": [
       "<Figure size 432x288 with 1 Axes>"
      ]
     },
     "metadata": {
      "needs_background": "light"
     },
     "output_type": "display_data"
    }
   ],
   "source": [
    "df_predict_review_scores_value.isna().sum().plot(kind='bar')"
   ]
  },
  {
   "cell_type": "code",
   "execution_count": 1462,
   "metadata": {},
   "outputs": [
    {
     "data": {
      "text/plain": [
       "review_scores_value       0.229010\n",
       "host_since                0.000000\n",
       "host_response_time        0.131381\n",
       "host_response_rate        0.131381\n",
       "host_acceptance_rate      0.131381\n",
       "host_is_superhost         0.000000\n",
       "host_identity_verified    0.000000\n",
       "neighbourhood             0.151464\n",
       "zipcode                   0.010600\n",
       "price                     0.000000\n",
       "security_deposit          0.625662\n",
       "cleaning_fee              0.308787\n",
       "dtype: float64"
      ]
     },
     "execution_count": 1462,
     "metadata": {},
     "output_type": "execute_result"
    }
   ],
   "source": [
    "df_predict_review_scores_value.isna().mean()"
   ]
  },
  {
   "cell_type": "markdown",
   "metadata": {},
   "source": [
    "Dropping rows where label (y variable); review_scores_value is NaN"
   ]
  },
  {
   "cell_type": "code",
   "execution_count": 1463,
   "metadata": {},
   "outputs": [
    {
     "data": {
      "text/plain": [
       "(2764, 12)"
      ]
     },
     "execution_count": 1463,
     "metadata": {},
     "output_type": "execute_result"
    }
   ],
   "source": [
    "df_predict_review_scores_value.dropna(subset=['review_scores_value']).shape"
   ]
  },
  {
   "cell_type": "code",
   "execution_count": 1464,
   "metadata": {},
   "outputs": [],
   "source": [
    "df_predict_review_scores_value.dropna(subset=['review_scores_value'],inplace=True)"
   ]
  },
  {
   "cell_type": "code",
   "execution_count": 1465,
   "metadata": {},
   "outputs": [
    {
     "data": {
      "text/plain": [
       "(2764, 12)"
      ]
     },
     "execution_count": 1465,
     "metadata": {},
     "output_type": "execute_result"
    }
   ],
   "source": [
    "df_predict_review_scores_value.shape"
   ]
  },
  {
   "cell_type": "code",
   "execution_count": 1466,
   "metadata": {},
   "outputs": [
    {
     "data": {
      "text/plain": [
       "0"
      ]
     },
     "execution_count": 1466,
     "metadata": {},
     "output_type": "execute_result"
    }
   ],
   "source": [
    "df_predict_review_scores_value.review_scores_value.isna().sum()"
   ]
  },
  {
   "cell_type": "markdown",
   "metadata": {},
   "source": [
    "Checking for datatypes of all columns, make appropriate chagnges as needed."
   ]
  },
  {
   "cell_type": "code",
   "execution_count": 1467,
   "metadata": {},
   "outputs": [
    {
     "data": {
      "text/html": [
       "<div>\n",
       "<style scoped>\n",
       "    .dataframe tbody tr th:only-of-type {\n",
       "        vertical-align: middle;\n",
       "    }\n",
       "\n",
       "    .dataframe tbody tr th {\n",
       "        vertical-align: top;\n",
       "    }\n",
       "\n",
       "    .dataframe thead th {\n",
       "        text-align: right;\n",
       "    }\n",
       "</style>\n",
       "<table border=\"1\" class=\"dataframe\">\n",
       "  <thead>\n",
       "    <tr style=\"text-align: right;\">\n",
       "      <th></th>\n",
       "      <th>review_scores_value</th>\n",
       "      <th>host_since</th>\n",
       "      <th>host_response_time</th>\n",
       "      <th>host_response_rate</th>\n",
       "      <th>host_acceptance_rate</th>\n",
       "      <th>host_is_superhost</th>\n",
       "      <th>host_identity_verified</th>\n",
       "      <th>neighbourhood</th>\n",
       "      <th>zipcode</th>\n",
       "      <th>price</th>\n",
       "      <th>security_deposit</th>\n",
       "      <th>cleaning_fee</th>\n",
       "    </tr>\n",
       "  </thead>\n",
       "  <tbody>\n",
       "    <tr>\n",
       "      <th>1349</th>\n",
       "      <td>10.0</td>\n",
       "      <td>2014-07-28</td>\n",
       "      <td>within an hour</td>\n",
       "      <td>92%</td>\n",
       "      <td>79%</td>\n",
       "      <td>f</td>\n",
       "      <td>f</td>\n",
       "      <td>NaN</td>\n",
       "      <td>02115</td>\n",
       "      <td>$139.00</td>\n",
       "      <td>NaN</td>\n",
       "      <td>NaN</td>\n",
       "    </tr>\n",
       "    <tr>\n",
       "      <th>172</th>\n",
       "      <td>10.0</td>\n",
       "      <td>2014-08-02</td>\n",
       "      <td>within an hour</td>\n",
       "      <td>100%</td>\n",
       "      <td>100%</td>\n",
       "      <td>f</td>\n",
       "      <td>f</td>\n",
       "      <td>Jamaica Plain</td>\n",
       "      <td>02130</td>\n",
       "      <td>$92.00</td>\n",
       "      <td>NaN</td>\n",
       "      <td>$10.00</td>\n",
       "    </tr>\n",
       "    <tr>\n",
       "      <th>396</th>\n",
       "      <td>9.0</td>\n",
       "      <td>2011-10-08</td>\n",
       "      <td>NaN</td>\n",
       "      <td>NaN</td>\n",
       "      <td>NaN</td>\n",
       "      <td>f</td>\n",
       "      <td>t</td>\n",
       "      <td>Jamaica Plain</td>\n",
       "      <td>02130</td>\n",
       "      <td>$175.00</td>\n",
       "      <td>$200.00</td>\n",
       "      <td>$30.00</td>\n",
       "    </tr>\n",
       "  </tbody>\n",
       "</table>\n",
       "</div>"
      ],
      "text/plain": [
       "      review_scores_value  host_since host_response_time host_response_rate  \\\n",
       "1349                 10.0  2014-07-28     within an hour                92%   \n",
       "172                  10.0  2014-08-02     within an hour               100%   \n",
       "396                   9.0  2011-10-08                NaN                NaN   \n",
       "\n",
       "     host_acceptance_rate host_is_superhost host_identity_verified  \\\n",
       "1349                  79%                 f                      f   \n",
       "172                  100%                 f                      f   \n",
       "396                   NaN                 f                      t   \n",
       "\n",
       "      neighbourhood zipcode    price security_deposit cleaning_fee  \n",
       "1349            NaN   02115  $139.00              NaN          NaN  \n",
       "172   Jamaica Plain   02130   $92.00              NaN       $10.00  \n",
       "396   Jamaica Plain   02130  $175.00          $200.00       $30.00  "
      ]
     },
     "execution_count": 1467,
     "metadata": {},
     "output_type": "execute_result"
    }
   ],
   "source": [
    "df_predict_review_scores_value.sample(3)"
   ]
  },
  {
   "cell_type": "code",
   "execution_count": 1468,
   "metadata": {},
   "outputs": [
    {
     "name": "stdout",
     "output_type": "stream",
     "text": [
      "<class 'pandas.core.frame.DataFrame'>\n",
      "Int64Index: 2764 entries, 1 to 3583\n",
      "Data columns (total 12 columns):\n",
      " #   Column                  Non-Null Count  Dtype  \n",
      "---  ------                  --------------  -----  \n",
      " 0   review_scores_value     2764 non-null   float64\n",
      " 1   host_since              2764 non-null   object \n",
      " 2   host_response_time      2547 non-null   object \n",
      " 3   host_response_rate      2547 non-null   object \n",
      " 4   host_acceptance_rate    2547 non-null   object \n",
      " 5   host_is_superhost       2764 non-null   object \n",
      " 6   host_identity_verified  2764 non-null   object \n",
      " 7   neighbourhood           2361 non-null   object \n",
      " 8   zipcode                 2739 non-null   object \n",
      " 9   price                   2764 non-null   object \n",
      " 10  security_deposit        1118 non-null   object \n",
      " 11  cleaning_fee            1972 non-null   object \n",
      "dtypes: float64(1), object(11)\n",
      "memory usage: 280.7+ KB\n"
     ]
    }
   ],
   "source": [
    "df_predict_review_scores_value.info()"
   ]
  },
  {
   "cell_type": "code",
   "execution_count": 1469,
   "metadata": {},
   "outputs": [
    {
     "data": {
      "text/plain": [
       "within an hour        1171\n",
       "within a few hours     975\n",
       "within a day           379\n",
       "a few days or more      22\n",
       "Name: host_response_time, dtype: int64"
      ]
     },
     "execution_count": 1469,
     "metadata": {},
     "output_type": "execute_result"
    }
   ],
   "source": [
    "df_predict_review_scores_value.host_response_time.value_counts()"
   ]
  },
  {
   "cell_type": "markdown",
   "metadata": {},
   "source": [
    "Following are proposed datatype changes:\n",
    "\n",
    "1. change host_since from object to float.\n",
    "2. change host_response_rate from object to float\n",
    "3. change host_acceptance_rate from object to float\n",
    "4. change host_is_superhost from object to Bool\n",
    "5. change host_identity_verified from object to Bool\n",
    "6. change price from object to float\n",
    "7. change security_deposit from object to float\n",
    "8. change cleaning_fee from object to float\n",
    "9. Change zipcode from object to float."
   ]
  },
  {
   "cell_type": "code",
   "execution_count": 1470,
   "metadata": {},
   "outputs": [
    {
     "data": {
      "text/plain": [
       "1333    2013-07-31\n",
       "3099    2013-10-14\n",
       "524     2014-03-21\n",
       "Name: host_since, dtype: object"
      ]
     },
     "execution_count": 1470,
     "metadata": {},
     "output_type": "execute_result"
    }
   ],
   "source": [
    "df_predict_review_scores_value.host_since.sample(3)"
   ]
  },
  {
   "cell_type": "code",
   "execution_count": 1471,
   "metadata": {},
   "outputs": [
    {
     "data": {
      "text/plain": [
       "1       20120607.0\n",
       "2       20090511.0\n",
       "3       20130421.0\n",
       "4       20140511.0\n",
       "5       20160323.0\n",
       "           ...    \n",
       "3574    20160825.0\n",
       "3575    20140731.0\n",
       "3578    20160618.0\n",
       "3580    20140731.0\n",
       "3583    20160527.0\n",
       "Name: host_since, Length: 2764, dtype: float64"
      ]
     },
     "execution_count": 1471,
     "metadata": {},
     "output_type": "execute_result"
    }
   ],
   "source": [
    "df_predict_review_scores_value.host_since.replace({'-':''}, regex=True).astype('float')"
   ]
  },
  {
   "cell_type": "code",
   "execution_count": 1472,
   "metadata": {},
   "outputs": [],
   "source": [
    "df_predict_review_scores_value['host_since'] = df_predict_review_scores_value.host_since.replace({'-':''}, regex=True).astype('float')"
   ]
  },
  {
   "cell_type": "code",
   "execution_count": 1473,
   "metadata": {},
   "outputs": [
    {
     "data": {
      "text/plain": [
       "(2764, 12)"
      ]
     },
     "execution_count": 1473,
     "metadata": {},
     "output_type": "execute_result"
    }
   ],
   "source": [
    "df_predict_review_scores_value.shape"
   ]
  },
  {
   "cell_type": "code",
   "execution_count": 1474,
   "metadata": {},
   "outputs": [
    {
     "data": {
      "text/plain": [
       "Index(['review_scores_value', 'host_since', 'host_response_time',\n",
       "       'host_response_rate', 'host_acceptance_rate', 'host_is_superhost',\n",
       "       'host_identity_verified', 'neighbourhood', 'zipcode', 'price',\n",
       "       'security_deposit', 'cleaning_fee'],\n",
       "      dtype='object')"
      ]
     },
     "execution_count": 1474,
     "metadata": {},
     "output_type": "execute_result"
    }
   ],
   "source": [
    "df_predict_review_scores_value.columns"
   ]
  },
  {
   "cell_type": "code",
   "execution_count": 1475,
   "metadata": {},
   "outputs": [
    {
     "data": {
      "text/plain": [
       "2497    100%\n",
       "2811    100%\n",
       "610      96%\n",
       "Name: host_response_rate, dtype: object"
      ]
     },
     "execution_count": 1475,
     "metadata": {},
     "output_type": "execute_result"
    }
   ],
   "source": [
    "df_predict_review_scores_value.host_response_rate.sample(3)"
   ]
  },
  {
   "cell_type": "markdown",
   "metadata": {},
   "source": [
    "df_predict_price.price = df_predict_price.price.replace({'\\$':'',',':''}, regex=True).astype('float')"
   ]
  },
  {
   "cell_type": "code",
   "execution_count": 1476,
   "metadata": {},
   "outputs": [],
   "source": [
    "df_predict_review_scores_value.host_response_rate = df_predict_review_scores_value.host_response_rate.replace({'%':'',',':''}, regex=True).astype('float')"
   ]
  },
  {
   "cell_type": "code",
   "execution_count": 1477,
   "metadata": {},
   "outputs": [
    {
     "data": {
      "text/plain": [
       "678      81.0\n",
       "1901    100.0\n",
       "1124    100.0\n",
       "Name: host_response_rate, dtype: float64"
      ]
     },
     "execution_count": 1477,
     "metadata": {},
     "output_type": "execute_result"
    }
   ],
   "source": [
    "df_predict_review_scores_value.host_response_rate.sample(3)"
   ]
  },
  {
   "cell_type": "code",
   "execution_count": 1478,
   "metadata": {},
   "outputs": [
    {
     "data": {
      "text/plain": [
       "3578    100%\n",
       "3428     98%\n",
       "897     100%\n",
       "Name: host_acceptance_rate, dtype: object"
      ]
     },
     "execution_count": 1478,
     "metadata": {},
     "output_type": "execute_result"
    }
   ],
   "source": [
    "df_predict_review_scores_value.host_acceptance_rate.sample(3)"
   ]
  },
  {
   "cell_type": "code",
   "execution_count": 1479,
   "metadata": {},
   "outputs": [],
   "source": [
    "df_predict_review_scores_value.host_acceptance_rate = df_predict_review_scores_value.host_acceptance_rate\\\n",
    ".replace({'%':'',',':''}, regex=True).astype('float')"
   ]
  },
  {
   "cell_type": "code",
   "execution_count": 1480,
   "metadata": {},
   "outputs": [
    {
     "data": {
      "text/plain": [
       "2517    100.0\n",
       "1654     64.0\n",
       "1920    100.0\n",
       "Name: host_acceptance_rate, dtype: float64"
      ]
     },
     "execution_count": 1480,
     "metadata": {},
     "output_type": "execute_result"
    }
   ],
   "source": [
    "df_predict_review_scores_value.host_acceptance_rate.sample(3)"
   ]
  },
  {
   "cell_type": "code",
   "execution_count": 1481,
   "metadata": {},
   "outputs": [
    {
     "data": {
      "text/plain": [
       "397     f\n",
       "2137    f\n",
       "776     f\n",
       "Name: host_is_superhost, dtype: object"
      ]
     },
     "execution_count": 1481,
     "metadata": {},
     "output_type": "execute_result"
    }
   ],
   "source": [
    "df_predict_review_scores_value.host_is_superhost.sample(3)"
   ]
  },
  {
   "cell_type": "code",
   "execution_count": 1482,
   "metadata": {},
   "outputs": [],
   "source": [
    "df_predict_review_scores_value['host_is_superhost']=(df_predict_review_scores_value.host_is_superhost=='t')"
   ]
  },
  {
   "cell_type": "code",
   "execution_count": 1483,
   "metadata": {},
   "outputs": [
    {
     "data": {
      "text/plain": [
       "1534    False\n",
       "3009     True\n",
       "893     False\n",
       "Name: host_is_superhost, dtype: bool"
      ]
     },
     "execution_count": 1483,
     "metadata": {},
     "output_type": "execute_result"
    }
   ],
   "source": [
    "df_predict_review_scores_value.host_is_superhost.sample(3)"
   ]
  },
  {
   "cell_type": "code",
   "execution_count": 1484,
   "metadata": {},
   "outputs": [
    {
     "data": {
      "text/plain": [
       "50     t\n",
       "164    t\n",
       "524    t\n",
       "Name: host_identity_verified, dtype: object"
      ]
     },
     "execution_count": 1484,
     "metadata": {},
     "output_type": "execute_result"
    }
   ],
   "source": [
    "df_predict_review_scores_value.host_identity_verified.sample(3)"
   ]
  },
  {
   "cell_type": "code",
   "execution_count": 1485,
   "metadata": {},
   "outputs": [],
   "source": [
    "df_predict_review_scores_value['host_identity_verified']=(df_predict_review_scores_value.host_identity_verified=='t')"
   ]
  },
  {
   "cell_type": "code",
   "execution_count": 1486,
   "metadata": {},
   "outputs": [
    {
     "data": {
      "text/plain": [
       "907      True\n",
       "3210    False\n",
       "2076     True\n",
       "Name: host_identity_verified, dtype: bool"
      ]
     },
     "execution_count": 1486,
     "metadata": {},
     "output_type": "execute_result"
    }
   ],
   "source": [
    "df_predict_review_scores_value.host_identity_verified.sample(3)"
   ]
  },
  {
   "cell_type": "code",
   "execution_count": 1487,
   "metadata": {},
   "outputs": [
    {
     "data": {
      "text/plain": [
       "378      $85.00\n",
       "3237    $150.00\n",
       "1223    $150.00\n",
       "Name: price, dtype: object"
      ]
     },
     "execution_count": 1487,
     "metadata": {},
     "output_type": "execute_result"
    }
   ],
   "source": [
    "df_predict_review_scores_value.price.sample(3)"
   ]
  },
  {
   "cell_type": "code",
   "execution_count": 1488,
   "metadata": {},
   "outputs": [],
   "source": [
    "df_predict_review_scores_value.price = df_predict_review_scores_value.price.replace({'\\$':'',',':''}, regex=True)\\\n",
    ".astype('float')"
   ]
  },
  {
   "cell_type": "code",
   "execution_count": 1489,
   "metadata": {},
   "outputs": [
    {
     "data": {
      "text/plain": [
       "1275    160.0\n",
       "499     109.0\n",
       "1039     99.0\n",
       "Name: price, dtype: float64"
      ]
     },
     "execution_count": 1489,
     "metadata": {},
     "output_type": "execute_result"
    }
   ],
   "source": [
    "df_predict_review_scores_value.price.sample(3)"
   ]
  },
  {
   "cell_type": "code",
   "execution_count": 1490,
   "metadata": {},
   "outputs": [
    {
     "data": {
      "text/plain": [
       "1657    NaN\n",
       "1489    NaN\n",
       "2135    NaN\n",
       "Name: security_deposit, dtype: object"
      ]
     },
     "execution_count": 1490,
     "metadata": {},
     "output_type": "execute_result"
    }
   ],
   "source": [
    "df_predict_review_scores_value.security_deposit.sample(3)"
   ]
  },
  {
   "cell_type": "code",
   "execution_count": 1491,
   "metadata": {},
   "outputs": [],
   "source": [
    "df_predict_review_scores_value.security_deposit = df_predict_review_scores_value.security_deposit.replace({'\\$':'',',':''}, regex=True)\\\n",
    ".astype('float')"
   ]
  },
  {
   "cell_type": "code",
   "execution_count": 1492,
   "metadata": {},
   "outputs": [
    {
     "data": {
      "text/plain": [
       "812       NaN\n",
       "1519      NaN\n",
       "2943    100.0\n",
       "Name: security_deposit, dtype: float64"
      ]
     },
     "execution_count": 1492,
     "metadata": {},
     "output_type": "execute_result"
    }
   ],
   "source": [
    "df_predict_review_scores_value.security_deposit.sample(3)"
   ]
  },
  {
   "cell_type": "code",
   "execution_count": 1493,
   "metadata": {},
   "outputs": [
    {
     "data": {
      "text/plain": [
       "2674     $20.00\n",
       "1735        NaN\n",
       "1320    $100.00\n",
       "Name: cleaning_fee, dtype: object"
      ]
     },
     "execution_count": 1493,
     "metadata": {},
     "output_type": "execute_result"
    }
   ],
   "source": [
    "df_predict_review_scores_value.cleaning_fee.sample(3)"
   ]
  },
  {
   "cell_type": "code",
   "execution_count": 1494,
   "metadata": {},
   "outputs": [],
   "source": [
    "df_predict_review_scores_value.cleaning_fee = df_predict_review_scores_value.cleaning_fee.replace({'\\$':'',',':''}, regex=True)\\\n",
    ".astype('float')"
   ]
  },
  {
   "cell_type": "code",
   "execution_count": 1495,
   "metadata": {},
   "outputs": [
    {
     "data": {
      "text/plain": [
       "552      50.0\n",
       "3062    100.0\n",
       "117      80.0\n",
       "Name: cleaning_fee, dtype: float64"
      ]
     },
     "execution_count": 1495,
     "metadata": {},
     "output_type": "execute_result"
    }
   ],
   "source": [
    "df_predict_review_scores_value.cleaning_fee.sample(3)"
   ]
  },
  {
   "cell_type": "code",
   "execution_count": 1496,
   "metadata": {},
   "outputs": [
    {
     "name": "stdout",
     "output_type": "stream",
     "text": [
      "<class 'pandas.core.frame.DataFrame'>\n",
      "Int64Index: 2764 entries, 1 to 3583\n",
      "Data columns (total 12 columns):\n",
      " #   Column                  Non-Null Count  Dtype  \n",
      "---  ------                  --------------  -----  \n",
      " 0   review_scores_value     2764 non-null   float64\n",
      " 1   host_since              2764 non-null   float64\n",
      " 2   host_response_time      2547 non-null   object \n",
      " 3   host_response_rate      2547 non-null   float64\n",
      " 4   host_acceptance_rate    2547 non-null   float64\n",
      " 5   host_is_superhost       2764 non-null   bool   \n",
      " 6   host_identity_verified  2764 non-null   bool   \n",
      " 7   neighbourhood           2361 non-null   object \n",
      " 8   zipcode                 2739 non-null   object \n",
      " 9   price                   2764 non-null   float64\n",
      " 10  security_deposit        1118 non-null   float64\n",
      " 11  cleaning_fee            1972 non-null   float64\n",
      "dtypes: bool(2), float64(7), object(3)\n",
      "memory usage: 242.9+ KB\n"
     ]
    }
   ],
   "source": [
    "df_predict_review_scores_value.info()"
   ]
  },
  {
   "cell_type": "code",
   "execution_count": 1497,
   "metadata": {},
   "outputs": [
    {
     "data": {
      "text/plain": [
       "4"
      ]
     },
     "execution_count": 1497,
     "metadata": {},
     "output_type": "execute_result"
    }
   ],
   "source": [
    "df_predict_review_scores_value.host_response_time.nunique()"
   ]
  },
  {
   "cell_type": "code",
   "execution_count": 1498,
   "metadata": {},
   "outputs": [
    {
     "data": {
      "text/plain": [
       "29"
      ]
     },
     "execution_count": 1498,
     "metadata": {},
     "output_type": "execute_result"
    }
   ],
   "source": [
    "df_predict_review_scores_value.neighbourhood.nunique()"
   ]
  },
  {
   "cell_type": "markdown",
   "metadata": {},
   "source": [
    "Converting host_response_time from object to categorical using pd.get_dummies"
   ]
  },
  {
   "cell_type": "code",
   "execution_count": 1499,
   "metadata": {},
   "outputs": [],
   "source": [
    "cat_df = pd.get_dummies(df_predict_review_scores_value['host_response_time'], dummy_na=True,prefix='host_response_time')"
   ]
  },
  {
   "cell_type": "code",
   "execution_count": 1500,
   "metadata": {},
   "outputs": [
    {
     "data": {
      "text/html": [
       "<div>\n",
       "<style scoped>\n",
       "    .dataframe tbody tr th:only-of-type {\n",
       "        vertical-align: middle;\n",
       "    }\n",
       "\n",
       "    .dataframe tbody tr th {\n",
       "        vertical-align: top;\n",
       "    }\n",
       "\n",
       "    .dataframe thead th {\n",
       "        text-align: right;\n",
       "    }\n",
       "</style>\n",
       "<table border=\"1\" class=\"dataframe\">\n",
       "  <thead>\n",
       "    <tr style=\"text-align: right;\">\n",
       "      <th></th>\n",
       "      <th>host_response_time_a few days or more</th>\n",
       "      <th>host_response_time_within a day</th>\n",
       "      <th>host_response_time_within a few hours</th>\n",
       "      <th>host_response_time_within an hour</th>\n",
       "      <th>host_response_time_nan</th>\n",
       "    </tr>\n",
       "  </thead>\n",
       "  <tbody>\n",
       "    <tr>\n",
       "      <th>1158</th>\n",
       "      <td>0</td>\n",
       "      <td>1</td>\n",
       "      <td>0</td>\n",
       "      <td>0</td>\n",
       "      <td>0</td>\n",
       "    </tr>\n",
       "    <tr>\n",
       "      <th>1154</th>\n",
       "      <td>0</td>\n",
       "      <td>0</td>\n",
       "      <td>1</td>\n",
       "      <td>0</td>\n",
       "      <td>0</td>\n",
       "    </tr>\n",
       "    <tr>\n",
       "      <th>1900</th>\n",
       "      <td>0</td>\n",
       "      <td>0</td>\n",
       "      <td>1</td>\n",
       "      <td>0</td>\n",
       "      <td>0</td>\n",
       "    </tr>\n",
       "  </tbody>\n",
       "</table>\n",
       "</div>"
      ],
      "text/plain": [
       "      host_response_time_a few days or more  host_response_time_within a day  \\\n",
       "1158                                      0                                1   \n",
       "1154                                      0                                0   \n",
       "1900                                      0                                0   \n",
       "\n",
       "      host_response_time_within a few hours  \\\n",
       "1158                                      0   \n",
       "1154                                      1   \n",
       "1900                                      1   \n",
       "\n",
       "      host_response_time_within an hour  host_response_time_nan  \n",
       "1158                                  0                       0  \n",
       "1154                                  0                       0  \n",
       "1900                                  0                       0  "
      ]
     },
     "execution_count": 1500,
     "metadata": {},
     "output_type": "execute_result"
    }
   ],
   "source": [
    "cat_df.sample(3)"
   ]
  },
  {
   "cell_type": "code",
   "execution_count": 1501,
   "metadata": {},
   "outputs": [
    {
     "data": {
      "text/plain": [
       "(2764, 5)"
      ]
     },
     "execution_count": 1501,
     "metadata": {},
     "output_type": "execute_result"
    }
   ],
   "source": [
    "cat_df.shape"
   ]
  },
  {
   "cell_type": "code",
   "execution_count": 1502,
   "metadata": {},
   "outputs": [
    {
     "data": {
      "text/plain": [
       "(2764, 12)"
      ]
     },
     "execution_count": 1502,
     "metadata": {},
     "output_type": "execute_result"
    }
   ],
   "source": [
    "df_predict_review_scores_value.shape"
   ]
  },
  {
   "cell_type": "code",
   "execution_count": 1503,
   "metadata": {},
   "outputs": [
    {
     "data": {
      "text/plain": [
       "(2764, 17)"
      ]
     },
     "execution_count": 1503,
     "metadata": {},
     "output_type": "execute_result"
    }
   ],
   "source": [
    "df_predict_review_scores_value.merge(cat_df, left_index=True, right_index=True).shape"
   ]
  },
  {
   "cell_type": "code",
   "execution_count": 1504,
   "metadata": {},
   "outputs": [],
   "source": [
    "df_predict_review_scores_value = df_predict_review_scores_value.merge(cat_df, left_index=True, right_index=True)"
   ]
  },
  {
   "cell_type": "code",
   "execution_count": 1505,
   "metadata": {},
   "outputs": [
    {
     "data": {
      "text/plain": [
       "(2764, 17)"
      ]
     },
     "execution_count": 1505,
     "metadata": {},
     "output_type": "execute_result"
    }
   ],
   "source": [
    "df_predict_review_scores_value.shape"
   ]
  },
  {
   "cell_type": "code",
   "execution_count": 1506,
   "metadata": {},
   "outputs": [
    {
     "data": {
      "text/plain": [
       "2866    02125\n",
       "314     02130\n",
       "878     02119\n",
       "384     02130\n",
       "2764    02126\n",
       "Name: zipcode, dtype: object"
      ]
     },
     "execution_count": 1506,
     "metadata": {},
     "output_type": "execute_result"
    }
   ],
   "source": [
    "df_predict_review_scores_value.zipcode.sample(5)"
   ]
  },
  {
   "cell_type": "code",
   "execution_count": 1507,
   "metadata": {},
   "outputs": [
    {
     "data": {
      "text/plain": [
       "{'02108',\n",
       " '02108 02111',\n",
       " '02109',\n",
       " '02110',\n",
       " '02111',\n",
       " '02113',\n",
       " '02114',\n",
       " '02115',\n",
       " '02116',\n",
       " '02118',\n",
       " '02119',\n",
       " '02120',\n",
       " '02121',\n",
       " '02122',\n",
       " '02124',\n",
       " '02125',\n",
       " '02126',\n",
       " '02127',\n",
       " '02128',\n",
       " '02129',\n",
       " '02130',\n",
       " '02131',\n",
       " '02132',\n",
       " '02134',\n",
       " '02134-1704',\n",
       " '02135',\n",
       " '02136',\n",
       " '02138',\n",
       " '02139',\n",
       " '02141',\n",
       " '02142',\n",
       " '02143',\n",
       " '02145',\n",
       " '02163',\n",
       " '02186',\n",
       " '02210',\n",
       " '02215',\n",
       " '02445',\n",
       " '02446',\n",
       " '02467',\n",
       " nan}"
      ]
     },
     "execution_count": 1507,
     "metadata": {},
     "output_type": "execute_result"
    }
   ],
   "source": [
    "set(df_predict_review_scores_value.zipcode)"
   ]
  },
  {
   "cell_type": "markdown",
   "metadata": {},
   "source": [
    "First we need to replace space and hyphen in some zipcodes then change the datattype."
   ]
  },
  {
   "cell_type": "code",
   "execution_count": 1508,
   "metadata": {},
   "outputs": [],
   "source": [
    "df_predict_review_scores_value.zipcode.replace({' ':'','-':''}, regex=True, inplace=True)"
   ]
  },
  {
   "cell_type": "code",
   "execution_count": 1509,
   "metadata": {},
   "outputs": [],
   "source": [
    "df_predict_review_scores_value.zipcode = df_predict_review_scores_value.zipcode.astype('float')"
   ]
  },
  {
   "cell_type": "code",
   "execution_count": 1510,
   "metadata": {},
   "outputs": [
    {
     "name": "stdout",
     "output_type": "stream",
     "text": [
      "<class 'pandas.core.frame.DataFrame'>\n",
      "Int64Index: 2764 entries, 1 to 3583\n",
      "Data columns (total 17 columns):\n",
      " #   Column                                 Non-Null Count  Dtype  \n",
      "---  ------                                 --------------  -----  \n",
      " 0   review_scores_value                    2764 non-null   float64\n",
      " 1   host_since                             2764 non-null   float64\n",
      " 2   host_response_time                     2547 non-null   object \n",
      " 3   host_response_rate                     2547 non-null   float64\n",
      " 4   host_acceptance_rate                   2547 non-null   float64\n",
      " 5   host_is_superhost                      2764 non-null   bool   \n",
      " 6   host_identity_verified                 2764 non-null   bool   \n",
      " 7   neighbourhood                          2361 non-null   object \n",
      " 8   zipcode                                2739 non-null   float64\n",
      " 9   price                                  2764 non-null   float64\n",
      " 10  security_deposit                       1118 non-null   float64\n",
      " 11  cleaning_fee                           1972 non-null   float64\n",
      " 12  host_response_time_a few days or more  2764 non-null   uint8  \n",
      " 13  host_response_time_within a day        2764 non-null   uint8  \n",
      " 14  host_response_time_within a few hours  2764 non-null   uint8  \n",
      " 15  host_response_time_within an hour      2764 non-null   uint8  \n",
      " 16  host_response_time_nan                 2764 non-null   uint8  \n",
      "dtypes: bool(2), float64(8), object(2), uint8(5)\n",
      "memory usage: 336.4+ KB\n"
     ]
    }
   ],
   "source": [
    "df_predict_review_scores_value.info()"
   ]
  },
  {
   "cell_type": "code",
   "execution_count": null,
   "metadata": {},
   "outputs": [],
   "source": []
  },
  {
   "cell_type": "code",
   "execution_count": null,
   "metadata": {},
   "outputs": [],
   "source": []
  },
  {
   "cell_type": "markdown",
   "metadata": {},
   "source": [
    "Checking for NaN in all X columns."
   ]
  },
  {
   "cell_type": "code",
   "execution_count": 1511,
   "metadata": {},
   "outputs": [
    {
     "data": {
      "text/plain": [
       "review_scores_value                      0.000000\n",
       "host_since                               0.000000\n",
       "host_response_time                       0.078509\n",
       "host_response_rate                       0.078509\n",
       "host_acceptance_rate                     0.078509\n",
       "host_is_superhost                        0.000000\n",
       "host_identity_verified                   0.000000\n",
       "neighbourhood                            0.145803\n",
       "zipcode                                  0.009045\n",
       "price                                    0.000000\n",
       "security_deposit                         0.595514\n",
       "cleaning_fee                             0.286541\n",
       "host_response_time_a few days or more    0.000000\n",
       "host_response_time_within a day          0.000000\n",
       "host_response_time_within a few hours    0.000000\n",
       "host_response_time_within an hour        0.000000\n",
       "host_response_time_nan                   0.000000\n",
       "dtype: float64"
      ]
     },
     "execution_count": 1511,
     "metadata": {},
     "output_type": "execute_result"
    }
   ],
   "source": [
    "df_predict_review_scores_value.isna().mean()"
   ]
  },
  {
   "cell_type": "code",
   "execution_count": 1512,
   "metadata": {},
   "outputs": [
    {
     "data": {
      "text/plain": [
       "review_scores_value                         0\n",
       "host_since                                  0\n",
       "host_response_time                        217\n",
       "host_response_rate                        217\n",
       "host_acceptance_rate                      217\n",
       "host_is_superhost                           0\n",
       "host_identity_verified                      0\n",
       "neighbourhood                             403\n",
       "zipcode                                    25\n",
       "price                                       0\n",
       "security_deposit                         1646\n",
       "cleaning_fee                              792\n",
       "host_response_time_a few days or more       0\n",
       "host_response_time_within a day             0\n",
       "host_response_time_within a few hours       0\n",
       "host_response_time_within an hour           0\n",
       "host_response_time_nan                      0\n",
       "dtype: int64"
      ]
     },
     "execution_count": 1512,
     "metadata": {},
     "output_type": "execute_result"
    }
   ],
   "source": [
    "df_predict_review_scores_value.isna().sum()"
   ]
  },
  {
   "cell_type": "code",
   "execution_count": 1513,
   "metadata": {},
   "outputs": [
    {
     "data": {
      "text/plain": [
       "<AxesSubplot:>"
      ]
     },
     "execution_count": 1513,
     "metadata": {},
     "output_type": "execute_result"
    },
    {
     "data": {
      "image/png": "[encoded data removed]",
      "text/plain": [
       "<Figure size 432x288 with 1 Axes>"
      ]
     },
     "metadata": {
      "needs_background": "light"
     },
     "output_type": "display_data"
    }
   ],
   "source": [
    "df_predict_review_scores_value.isna().mean().plot(kind='bar')"
   ]
  },
  {
   "cell_type": "markdown",
   "metadata": {},
   "source": [
    "Following is an approach for columns having NaN values:\n",
    "1. host_response_time = Drop the column, we already have converted the categorical column to dummy columns with different dummy column for NaN values.\n",
    "2. host_response_rate = Impute the value with average(mean) of the column.\n",
    "3. host_acceptance_rate = Impute the value with average(mean) of the column.\n",
    "4. neighborhood = Drop the rows where neighborhood values are NaN as there is no easy way to recover the missing values.\n",
    "5. security_deposit = 59% values are missing, so we will simply drop this column from the analysis.\n",
    "6. cleaning_fee = Impute the value with average(mean) of the column.\n",
    "7. zipcoode = Drop rows where zipcode is missing."
   ]
  },
  {
   "cell_type": "code",
   "execution_count": 1514,
   "metadata": {},
   "outputs": [
    {
     "data": {
      "text/plain": [
       "(2764, 17)"
      ]
     },
     "execution_count": 1514,
     "metadata": {},
     "output_type": "execute_result"
    }
   ],
   "source": [
    "df_predict_review_scores_value.shape"
   ]
  },
  {
   "cell_type": "code",
   "execution_count": 1515,
   "metadata": {},
   "outputs": [],
   "source": [
    "df_predict_review_scores_value.drop(columns=['host_response_time'], inplace=True)"
   ]
  },
  {
   "cell_type": "code",
   "execution_count": 1516,
   "metadata": {},
   "outputs": [
    {
     "data": {
      "text/plain": [
       "(2764, 16)"
      ]
     },
     "execution_count": 1516,
     "metadata": {},
     "output_type": "execute_result"
    }
   ],
   "source": [
    "df_predict_review_scores_value.shape"
   ]
  },
  {
   "cell_type": "code",
   "execution_count": 1517,
   "metadata": {},
   "outputs": [
    {
     "data": {
      "text/plain": [
       "217"
      ]
     },
     "execution_count": 1517,
     "metadata": {},
     "output_type": "execute_result"
    }
   ],
   "source": [
    "df_predict_review_scores_value.host_response_rate.isna().sum()"
   ]
  },
  {
   "cell_type": "code",
   "execution_count": 1518,
   "metadata": {},
   "outputs": [],
   "source": [
    "df_predict_review_scores_value.host_response_rate.fillna(df_predict_review_scores_value.host_response_rate.mean()\\\n",
    "                                                         , inplace=True)"
   ]
  },
  {
   "cell_type": "code",
   "execution_count": 1519,
   "metadata": {},
   "outputs": [
    {
     "data": {
      "text/plain": [
       "0"
      ]
     },
     "execution_count": 1519,
     "metadata": {},
     "output_type": "execute_result"
    }
   ],
   "source": [
    "df_predict_review_scores_value.host_response_rate.isna().sum()"
   ]
  },
  {
   "cell_type": "code",
   "execution_count": null,
   "metadata": {},
   "outputs": [],
   "source": []
  },
  {
   "cell_type": "code",
   "execution_count": 1520,
   "metadata": {},
   "outputs": [
    {
     "data": {
      "text/plain": [
       "217"
      ]
     },
     "execution_count": 1520,
     "metadata": {},
     "output_type": "execute_result"
    }
   ],
   "source": [
    "df_predict_review_scores_value.host_acceptance_rate.isna().sum()"
   ]
  },
  {
   "cell_type": "code",
   "execution_count": 1521,
   "metadata": {},
   "outputs": [],
   "source": [
    "df_predict_review_scores_value.host_acceptance_rate.fillna(df_predict_review_scores_value.host_acceptance_rate.mean()\\\n",
    "                                                         , inplace=True)"
   ]
  },
  {
   "cell_type": "code",
   "execution_count": 1522,
   "metadata": {},
   "outputs": [
    {
     "data": {
      "text/plain": [
       "0"
      ]
     },
     "execution_count": 1522,
     "metadata": {},
     "output_type": "execute_result"
    }
   ],
   "source": [
    "df_predict_review_scores_value.host_acceptance_rate.isna().sum()"
   ]
  },
  {
   "cell_type": "code",
   "execution_count": null,
   "metadata": {},
   "outputs": [],
   "source": []
  },
  {
   "cell_type": "code",
   "execution_count": 1523,
   "metadata": {},
   "outputs": [
    {
     "data": {
      "text/plain": [
       "(2764, 16)"
      ]
     },
     "execution_count": 1523,
     "metadata": {},
     "output_type": "execute_result"
    }
   ],
   "source": [
    "df_predict_review_scores_value.shape"
   ]
  },
  {
   "cell_type": "code",
   "execution_count": 1524,
   "metadata": {},
   "outputs": [],
   "source": [
    "df_predict_review_scores_value.dropna(subset=['neighbourhood'], inplace=True)"
   ]
  },
  {
   "cell_type": "code",
   "execution_count": 1525,
   "metadata": {},
   "outputs": [
    {
     "data": {
      "text/plain": [
       "(2361, 16)"
      ]
     },
     "execution_count": 1525,
     "metadata": {},
     "output_type": "execute_result"
    }
   ],
   "source": [
    "df_predict_review_scores_value.shape"
   ]
  },
  {
   "cell_type": "code",
   "execution_count": null,
   "metadata": {},
   "outputs": [],
   "source": []
  },
  {
   "cell_type": "code",
   "execution_count": 1526,
   "metadata": {},
   "outputs": [
    {
     "data": {
      "text/plain": [
       "(2361, 16)"
      ]
     },
     "execution_count": 1526,
     "metadata": {},
     "output_type": "execute_result"
    }
   ],
   "source": [
    "df_predict_review_scores_value.shape"
   ]
  },
  {
   "cell_type": "code",
   "execution_count": 1527,
   "metadata": {},
   "outputs": [],
   "source": [
    "df_predict_review_scores_value.drop(columns=['security_deposit'], inplace=True)"
   ]
  },
  {
   "cell_type": "code",
   "execution_count": 1528,
   "metadata": {},
   "outputs": [
    {
     "data": {
      "text/plain": [
       "(2361, 15)"
      ]
     },
     "execution_count": 1528,
     "metadata": {},
     "output_type": "execute_result"
    }
   ],
   "source": [
    "df_predict_review_scores_value.shape"
   ]
  },
  {
   "cell_type": "code",
   "execution_count": null,
   "metadata": {},
   "outputs": [],
   "source": []
  },
  {
   "cell_type": "code",
   "execution_count": 1529,
   "metadata": {},
   "outputs": [
    {
     "data": {
      "text/plain": [
       "662"
      ]
     },
     "execution_count": 1529,
     "metadata": {},
     "output_type": "execute_result"
    }
   ],
   "source": [
    "df_predict_review_scores_value.cleaning_fee.isna().sum()"
   ]
  },
  {
   "cell_type": "code",
   "execution_count": 1530,
   "metadata": {},
   "outputs": [],
   "source": [
    "df_predict_review_scores_value.cleaning_fee.fillna(df_predict_review_scores_value.cleaning_fee.mean()\\\n",
    "                                                         , inplace=True)"
   ]
  },
  {
   "cell_type": "code",
   "execution_count": 1531,
   "metadata": {},
   "outputs": [
    {
     "data": {
      "text/plain": [
       "0"
      ]
     },
     "execution_count": 1531,
     "metadata": {},
     "output_type": "execute_result"
    }
   ],
   "source": [
    "df_predict_review_scores_value.cleaning_fee.isna().sum()"
   ]
  },
  {
   "cell_type": "code",
   "execution_count": 1532,
   "metadata": {},
   "outputs": [],
   "source": [
    "df_predict_review_scores_value.dropna(subset=['zipcode'], inplace=True)"
   ]
  },
  {
   "cell_type": "markdown",
   "metadata": {},
   "source": [
    "##### Question 7 = what are factors that cause a listing to be booked a lot?  Predicting average availability of a listing."
   ]
  },
  {
   "cell_type": "markdown",
   "metadata": {},
   "source": [
    "X:\n",
    "1. host_since\n",
    "2. neighbourhood\n",
    "3. street\n",
    "4. zipcode\n",
    "5. bathrooms\n",
    "6. beds\n",
    "7. price\n",
    "8. number_of_reviews\n",
    "9. review_scores_value\n",
    "10. require_guest_phone_verification\n",
    "11. listing_id\n",
    "\n",
    "\n",
    "y:\n",
    "1. column describing average availability for each listing (calendar.listing_id.available.mean()) = listing_average_availability"
   ]
  },
  {
   "cell_type": "code",
   "execution_count": 1533,
   "metadata": {},
   "outputs": [
    {
     "data": {
      "text/plain": [
       "Boston                   3568\n",
       "San Francisco               1\n",
       "Other (Domestic)            1\n",
       "Other (International)       1\n",
       "Name: market, dtype: int64"
      ]
     },
     "execution_count": 1533,
     "metadata": {},
     "output_type": "execute_result"
    }
   ],
   "source": [
    "df_boston_listings.market.value_counts()"
   ]
  },
  {
   "cell_type": "code",
   "execution_count": 1534,
   "metadata": {},
   "outputs": [],
   "source": [
    "predict_listing_average_availability_x = ['id','host_since', 'neighbourhood', 'street', 'zipcode', 'bathrooms', 'beds',\\\n",
    "'price', 'number_of_reviews', 'review_scores_value', 'require_guest_phone_verification']"
   ]
  },
  {
   "cell_type": "markdown",
   "metadata": {},
   "source": [
    "Creating dataframe with relevant X and y"
   ]
  },
  {
   "cell_type": "code",
   "execution_count": 1535,
   "metadata": {},
   "outputs": [],
   "source": [
    "df_predict_listing_average_availability = df_boston_listings.copy()"
   ]
  },
  {
   "cell_type": "markdown",
   "metadata": {},
   "source": [
    "As the predicted column is a derived column we need to create it from existing columns."
   ]
  },
  {
   "cell_type": "code",
   "execution_count": 1536,
   "metadata": {},
   "outputs": [],
   "source": [
    "temp_df = pd.DataFrame()"
   ]
  },
  {
   "cell_type": "code",
   "execution_count": 1537,
   "metadata": {},
   "outputs": [],
   "source": [
    "temp_df['average_availability'] = df_boston_calendar.groupby(['listing_id'])['available'].mean()"
   ]
  },
  {
   "cell_type": "code",
   "execution_count": 1538,
   "metadata": {},
   "outputs": [
    {
     "data": {
      "text/plain": [
       "(3585, 1)"
      ]
     },
     "execution_count": 1538,
     "metadata": {},
     "output_type": "execute_result"
    }
   ],
   "source": [
    "temp_df.shape"
   ]
  },
  {
   "cell_type": "code",
   "execution_count": 1539,
   "metadata": {},
   "outputs": [
    {
     "data": {
      "text/html": [
       "<div>\n",
       "<style scoped>\n",
       "    .dataframe tbody tr th:only-of-type {\n",
       "        vertical-align: middle;\n",
       "    }\n",
       "\n",
       "    .dataframe tbody tr th {\n",
       "        vertical-align: top;\n",
       "    }\n",
       "\n",
       "    .dataframe thead th {\n",
       "        text-align: right;\n",
       "    }\n",
       "</style>\n",
       "<table border=\"1\" class=\"dataframe\">\n",
       "  <thead>\n",
       "    <tr style=\"text-align: right;\">\n",
       "      <th></th>\n",
       "      <th>average_availability</th>\n",
       "    </tr>\n",
       "    <tr>\n",
       "      <th>listing_id</th>\n",
       "      <th></th>\n",
       "    </tr>\n",
       "  </thead>\n",
       "  <tbody>\n",
       "    <tr>\n",
       "      <th>4516065</th>\n",
       "      <td>0.013699</td>\n",
       "    </tr>\n",
       "    <tr>\n",
       "      <th>447826</th>\n",
       "      <td>0.808219</td>\n",
       "    </tr>\n",
       "    <tr>\n",
       "      <th>8983081</th>\n",
       "      <td>0.487671</td>\n",
       "    </tr>\n",
       "  </tbody>\n",
       "</table>\n",
       "</div>"
      ],
      "text/plain": [
       "            average_availability\n",
       "listing_id                      \n",
       "4516065                 0.013699\n",
       "447826                  0.808219\n",
       "8983081                 0.487671"
      ]
     },
     "execution_count": 1539,
     "metadata": {},
     "output_type": "execute_result"
    }
   ],
   "source": [
    "temp_df.sample(3)"
   ]
  },
  {
   "cell_type": "code",
   "execution_count": 1540,
   "metadata": {},
   "outputs": [],
   "source": [
    "temp_df['listing_id'] = temp_df.index"
   ]
  },
  {
   "cell_type": "code",
   "execution_count": 1541,
   "metadata": {},
   "outputs": [],
   "source": [
    "temp_df.reset_index(drop=True, inplace=True)"
   ]
  },
  {
   "cell_type": "code",
   "execution_count": 1542,
   "metadata": {},
   "outputs": [
    {
     "data": {
      "text/html": [
       "<div>\n",
       "<style scoped>\n",
       "    .dataframe tbody tr th:only-of-type {\n",
       "        vertical-align: middle;\n",
       "    }\n",
       "\n",
       "    .dataframe tbody tr th {\n",
       "        vertical-align: top;\n",
       "    }\n",
       "\n",
       "    .dataframe thead th {\n",
       "        text-align: right;\n",
       "    }\n",
       "</style>\n",
       "<table border=\"1\" class=\"dataframe\">\n",
       "  <thead>\n",
       "    <tr style=\"text-align: right;\">\n",
       "      <th></th>\n",
       "      <th>average_availability</th>\n",
       "      <th>listing_id</th>\n",
       "    </tr>\n",
       "  </thead>\n",
       "  <tbody>\n",
       "    <tr>\n",
       "      <th>3577</th>\n",
       "      <td>0.219178</td>\n",
       "      <td>14918194</td>\n",
       "    </tr>\n",
       "    <tr>\n",
       "      <th>1486</th>\n",
       "      <td>0.997260</td>\n",
       "      <td>7529525</td>\n",
       "    </tr>\n",
       "    <tr>\n",
       "      <th>2447</th>\n",
       "      <td>0.000000</td>\n",
       "      <td>11799482</td>\n",
       "    </tr>\n",
       "  </tbody>\n",
       "</table>\n",
       "</div>"
      ],
      "text/plain": [
       "      average_availability  listing_id\n",
       "3577              0.219178    14918194\n",
       "1486              0.997260     7529525\n",
       "2447              0.000000    11799482"
      ]
     },
     "execution_count": 1542,
     "metadata": {},
     "output_type": "execute_result"
    }
   ],
   "source": [
    "temp_df.sample(3)"
   ]
  },
  {
   "cell_type": "code",
   "execution_count": 1543,
   "metadata": {},
   "outputs": [
    {
     "name": "stdout",
     "output_type": "stream",
     "text": [
      "Index(['id', 'listing_url', 'scrape_id', 'last_scraped', 'name', 'summary',\n",
      "       'space', 'description', 'experiences_offered', 'neighborhood_overview',\n",
      "       'notes', 'transit', 'access', 'interaction', 'house_rules',\n",
      "       'thumbnail_url', 'medium_url', 'picture_url', 'xl_picture_url',\n",
      "       'host_id', 'host_url', 'host_name', 'host_since', 'host_location',\n",
      "       'host_about', 'host_response_time', 'host_response_rate',\n",
      "       'host_acceptance_rate', 'host_is_superhost', 'host_thumbnail_url',\n",
      "       'host_picture_url', 'host_neighbourhood', 'host_listings_count',\n",
      "       'host_total_listings_count', 'host_verifications',\n",
      "       'host_has_profile_pic', 'host_identity_verified', 'street',\n",
      "       'neighbourhood', 'neighbourhood_cleansed',\n",
      "       'neighbourhood_group_cleansed', 'city', 'state', 'zipcode', 'market',\n",
      "       'smart_location', 'country_code', 'country', 'latitude', 'longitude',\n",
      "       'is_location_exact', 'property_type', 'room_type', 'accommodates',\n",
      "       'bathrooms', 'bedrooms', 'beds', 'bed_type', 'amenities', 'square_feet',\n",
      "       'price', 'weekly_price', 'monthly_price', 'security_deposit',\n",
      "       'cleaning_fee', 'guests_included', 'extra_people', 'minimum_nights',\n",
      "       'maximum_nights', 'calendar_updated', 'has_availability',\n",
      "       'availability_30', 'availability_60', 'availability_90',\n",
      "       'availability_365', 'calendar_last_scraped', 'number_of_reviews',\n",
      "       'first_review', 'last_review', 'review_scores_rating',\n",
      "       'review_scores_accuracy', 'review_scores_cleanliness',\n",
      "       'review_scores_checkin', 'review_scores_communication',\n",
      "       'review_scores_location', 'review_scores_value', 'requires_license',\n",
      "       'license', 'jurisdiction_names', 'instant_bookable',\n",
      "       'cancellation_policy', 'require_guest_profile_picture',\n",
      "       'require_guest_phone_verification', 'calculated_host_listings_count',\n",
      "       'reviews_per_month'],\n",
      "      dtype='object')\n",
      "Index(['average_availability', 'listing_id'], dtype='object')\n"
     ]
    }
   ],
   "source": [
    "print(df_predict_listing_average_availability.columns)\n",
    "print(temp_df.columns)"
   ]
  },
  {
   "cell_type": "code",
   "execution_count": 1544,
   "metadata": {},
   "outputs": [
    {
     "name": "stdout",
     "output_type": "stream",
     "text": [
      "(3585, 95)\n",
      "(3585, 2)\n"
     ]
    }
   ],
   "source": [
    "print(df_predict_listing_average_availability.shape)\n",
    "print(temp_df.shape)"
   ]
  },
  {
   "cell_type": "code",
   "execution_count": 1545,
   "metadata": {},
   "outputs": [
    {
     "data": {
      "text/plain": [
       "3585"
      ]
     },
     "execution_count": 1545,
     "metadata": {},
     "output_type": "execute_result"
    }
   ],
   "source": [
    "len(df_predict_listing_average_availability.merge(temp_df, left_on='id', right_on='listing_id'))"
   ]
  },
  {
   "cell_type": "code",
   "execution_count": 1546,
   "metadata": {},
   "outputs": [],
   "source": [
    "df_predict_listing_average_availability = df_predict_listing_average_availability.merge(temp_df, left_on='id', right_on='listing_id')"
   ]
  },
  {
   "cell_type": "code",
   "execution_count": 1547,
   "metadata": {},
   "outputs": [
    {
     "data": {
      "text/plain": [
       "(3585, 97)"
      ]
     },
     "execution_count": 1547,
     "metadata": {},
     "output_type": "execute_result"
    }
   ],
   "source": [
    "df_predict_listing_average_availability.shape"
   ]
  },
  {
   "cell_type": "code",
   "execution_count": 1548,
   "metadata": {},
   "outputs": [
    {
     "data": {
      "text/html": [
       "<div>\n",
       "<style scoped>\n",
       "    .dataframe tbody tr th:only-of-type {\n",
       "        vertical-align: middle;\n",
       "    }\n",
       "\n",
       "    .dataframe tbody tr th {\n",
       "        vertical-align: top;\n",
       "    }\n",
       "\n",
       "    .dataframe thead th {\n",
       "        text-align: right;\n",
       "    }\n",
       "</style>\n",
       "<table border=\"1\" class=\"dataframe\">\n",
       "  <thead>\n",
       "    <tr style=\"text-align: right;\">\n",
       "      <th></th>\n",
       "      <th>id</th>\n",
       "      <th>listing_url</th>\n",
       "      <th>scrape_id</th>\n",
       "      <th>last_scraped</th>\n",
       "      <th>name</th>\n",
       "      <th>summary</th>\n",
       "      <th>space</th>\n",
       "      <th>description</th>\n",
       "      <th>experiences_offered</th>\n",
       "      <th>neighborhood_overview</th>\n",
       "      <th>...</th>\n",
       "      <th>license</th>\n",
       "      <th>jurisdiction_names</th>\n",
       "      <th>instant_bookable</th>\n",
       "      <th>cancellation_policy</th>\n",
       "      <th>require_guest_profile_picture</th>\n",
       "      <th>require_guest_phone_verification</th>\n",
       "      <th>calculated_host_listings_count</th>\n",
       "      <th>reviews_per_month</th>\n",
       "      <th>average_availability</th>\n",
       "      <th>listing_id</th>\n",
       "    </tr>\n",
       "  </thead>\n",
       "  <tbody>\n",
       "    <tr>\n",
       "      <th>651</th>\n",
       "      <td>14857923</td>\n",
       "      <td>https://www.airbnb.com/rooms/14857923</td>\n",
       "      <td>20160906204935</td>\n",
       "      <td>2016-09-07</td>\n",
       "      <td>2 Bedroom North End, Walk to Everything, Cozy!</td>\n",
       "      <td>First floor apartment, NO stairs! Two bedrooms...</td>\n",
       "      <td>NaN</td>\n",
       "      <td>First floor apartment, NO stairs! Two bedrooms...</td>\n",
       "      <td>none</td>\n",
       "      <td>NaN</td>\n",
       "      <td>...</td>\n",
       "      <td>NaN</td>\n",
       "      <td>NaN</td>\n",
       "      <td>f</td>\n",
       "      <td>strict</td>\n",
       "      <td>f</td>\n",
       "      <td>f</td>\n",
       "      <td>24</td>\n",
       "      <td>NaN</td>\n",
       "      <td>0.942466</td>\n",
       "      <td>14857923</td>\n",
       "    </tr>\n",
       "    <tr>\n",
       "      <th>2484</th>\n",
       "      <td>3589267</td>\n",
       "      <td>https://www.airbnb.com/rooms/3589267</td>\n",
       "      <td>20160906204935</td>\n",
       "      <td>2016-09-07</td>\n",
       "      <td>There's No Place Like {Our} Home</td>\n",
       "      <td>Hi! We will update availability for upcoming m...</td>\n",
       "      <td>UPDATE: 17 Sept (how did that happen?!) : So m...</td>\n",
       "      <td>Hi! We will update availability for upcoming m...</td>\n",
       "      <td>none</td>\n",
       "      <td>You mean you don't know? It's only the best st...</td>\n",
       "      <td>...</td>\n",
       "      <td>NaN</td>\n",
       "      <td>NaN</td>\n",
       "      <td>f</td>\n",
       "      <td>strict</td>\n",
       "      <td>f</td>\n",
       "      <td>f</td>\n",
       "      <td>1</td>\n",
       "      <td>0.62</td>\n",
       "      <td>0.939726</td>\n",
       "      <td>3589267</td>\n",
       "    </tr>\n",
       "    <tr>\n",
       "      <th>2880</th>\n",
       "      <td>7006683</td>\n",
       "      <td>https://www.airbnb.com/rooms/7006683</td>\n",
       "      <td>20160906204935</td>\n",
       "      <td>2016-09-07</td>\n",
       "      <td>Nice Bedroom in Boston</td>\n",
       "      <td>I have an extra bedroom available. Clean and s...</td>\n",
       "      <td>NaN</td>\n",
       "      <td>I have an extra bedroom available. Clean and s...</td>\n",
       "      <td>none</td>\n",
       "      <td>NaN</td>\n",
       "      <td>...</td>\n",
       "      <td>NaN</td>\n",
       "      <td>NaN</td>\n",
       "      <td>f</td>\n",
       "      <td>moderate</td>\n",
       "      <td>f</td>\n",
       "      <td>f</td>\n",
       "      <td>2</td>\n",
       "      <td>0.15</td>\n",
       "      <td>0.665753</td>\n",
       "      <td>7006683</td>\n",
       "    </tr>\n",
       "  </tbody>\n",
       "</table>\n",
       "<p>3 rows × 97 columns</p>\n",
       "</div>"
      ],
      "text/plain": [
       "            id                            listing_url       scrape_id  \\\n",
       "651   14857923  https://www.airbnb.com/rooms/14857923  20160906204935   \n",
       "2484   3589267   https://www.airbnb.com/rooms/3589267  20160906204935   \n",
       "2880   7006683   https://www.airbnb.com/rooms/7006683  20160906204935   \n",
       "\n",
       "     last_scraped                                            name  \\\n",
       "651    2016-09-07  2 Bedroom North End, Walk to Everything, Cozy!   \n",
       "2484   2016-09-07                There's No Place Like {Our} Home   \n",
       "2880   2016-09-07                          Nice Bedroom in Boston   \n",
       "\n",
       "                                                summary  \\\n",
       "651   First floor apartment, NO stairs! Two bedrooms...   \n",
       "2484  Hi! We will update availability for upcoming m...   \n",
       "2880  I have an extra bedroom available. Clean and s...   \n",
       "\n",
       "                                                  space  \\\n",
       "651                                                 NaN   \n",
       "2484  UPDATE: 17 Sept (how did that happen?!) : So m...   \n",
       "2880                                                NaN   \n",
       "\n",
       "                                            description experiences_offered  \\\n",
       "651   First floor apartment, NO stairs! Two bedrooms...                none   \n",
       "2484  Hi! We will update availability for upcoming m...                none   \n",
       "2880  I have an extra bedroom available. Clean and s...                none   \n",
       "\n",
       "                                  neighborhood_overview  ... license  \\\n",
       "651                                                 NaN  ...     NaN   \n",
       "2484  You mean you don't know? It's only the best st...  ...     NaN   \n",
       "2880                                                NaN  ...     NaN   \n",
       "\n",
       "     jurisdiction_names instant_bookable cancellation_policy  \\\n",
       "651                 NaN                f              strict   \n",
       "2484                NaN                f              strict   \n",
       "2880                NaN                f            moderate   \n",
       "\n",
       "     require_guest_profile_picture require_guest_phone_verification  \\\n",
       "651                              f                                f   \n",
       "2484                             f                                f   \n",
       "2880                             f                                f   \n",
       "\n",
       "     calculated_host_listings_count reviews_per_month average_availability  \\\n",
       "651                              24               NaN             0.942466   \n",
       "2484                              1              0.62             0.939726   \n",
       "2880                              2              0.15             0.665753   \n",
       "\n",
       "      listing_id  \n",
       "651     14857923  \n",
       "2484     3589267  \n",
       "2880     7006683  \n",
       "\n",
       "[3 rows x 97 columns]"
      ]
     },
     "execution_count": 1548,
     "metadata": {},
     "output_type": "execute_result"
    }
   ],
   "source": [
    "df_predict_listing_average_availability.sample(3)"
   ]
  },
  {
   "cell_type": "code",
   "execution_count": 1549,
   "metadata": {},
   "outputs": [
    {
     "data": {
      "text/plain": [
       "Index(['id', 'listing_url', 'scrape_id', 'last_scraped', 'name', 'summary',\n",
       "       'space', 'description', 'experiences_offered', 'neighborhood_overview',\n",
       "       'notes', 'transit', 'access', 'interaction', 'house_rules',\n",
       "       'thumbnail_url', 'medium_url', 'picture_url', 'xl_picture_url',\n",
       "       'host_id', 'host_url', 'host_name', 'host_since', 'host_location',\n",
       "       'host_about', 'host_response_time', 'host_response_rate',\n",
       "       'host_acceptance_rate', 'host_is_superhost', 'host_thumbnail_url',\n",
       "       'host_picture_url', 'host_neighbourhood', 'host_listings_count',\n",
       "       'host_total_listings_count', 'host_verifications',\n",
       "       'host_has_profile_pic', 'host_identity_verified', 'street',\n",
       "       'neighbourhood', 'neighbourhood_cleansed',\n",
       "       'neighbourhood_group_cleansed', 'city', 'state', 'zipcode', 'market',\n",
       "       'smart_location', 'country_code', 'country', 'latitude', 'longitude',\n",
       "       'is_location_exact', 'property_type', 'room_type', 'accommodates',\n",
       "       'bathrooms', 'bedrooms', 'beds', 'bed_type', 'amenities', 'square_feet',\n",
       "       'price', 'weekly_price', 'monthly_price', 'security_deposit',\n",
       "       'cleaning_fee', 'guests_included', 'extra_people', 'minimum_nights',\n",
       "       'maximum_nights', 'calendar_updated', 'has_availability',\n",
       "       'availability_30', 'availability_60', 'availability_90',\n",
       "       'availability_365', 'calendar_last_scraped', 'number_of_reviews',\n",
       "       'first_review', 'last_review', 'review_scores_rating',\n",
       "       'review_scores_accuracy', 'review_scores_cleanliness',\n",
       "       'review_scores_checkin', 'review_scores_communication',\n",
       "       'review_scores_location', 'review_scores_value', 'requires_license',\n",
       "       'license', 'jurisdiction_names', 'instant_bookable',\n",
       "       'cancellation_policy', 'require_guest_profile_picture',\n",
       "       'require_guest_phone_verification', 'calculated_host_listings_count',\n",
       "       'reviews_per_month', 'average_availability', 'listing_id'],\n",
       "      dtype='object')"
      ]
     },
     "execution_count": 1549,
     "metadata": {},
     "output_type": "execute_result"
    }
   ],
   "source": [
    "df_predict_listing_average_availability.columns"
   ]
  },
  {
   "cell_type": "markdown",
   "metadata": {},
   "source": [
    "We do not need id, listing_id column in this dataframe. Therefore we will drop it now."
   ]
  },
  {
   "cell_type": "code",
   "execution_count": 1550,
   "metadata": {},
   "outputs": [],
   "source": [
    "predict_listing_average_availability_x = ['average_availability','host_since', 'neighbourhood', 'street', 'zipcode', 'bathrooms',\n",
    "       'beds', 'price', 'number_of_reviews', 'review_scores_value',\n",
    "       'require_guest_phone_verification']"
   ]
  },
  {
   "cell_type": "code",
   "execution_count": 1551,
   "metadata": {},
   "outputs": [],
   "source": [
    "df_predict_listing_average_availability = df_predict_listing_average_availability[predict_listing_average_availability_x]"
   ]
  },
  {
   "cell_type": "code",
   "execution_count": 1552,
   "metadata": {},
   "outputs": [
    {
     "data": {
      "text/plain": [
       "Index(['average_availability', 'host_since', 'neighbourhood', 'street',\n",
       "       'zipcode', 'bathrooms', 'beds', 'price', 'number_of_reviews',\n",
       "       'review_scores_value', 'require_guest_phone_verification'],\n",
       "      dtype='object')"
      ]
     },
     "execution_count": 1552,
     "metadata": {},
     "output_type": "execute_result"
    }
   ],
   "source": [
    "df_predict_listing_average_availability.columns"
   ]
  },
  {
   "cell_type": "code",
   "execution_count": 1553,
   "metadata": {},
   "outputs": [
    {
     "data": {
      "text/html": [
       "<div>\n",
       "<style scoped>\n",
       "    .dataframe tbody tr th:only-of-type {\n",
       "        vertical-align: middle;\n",
       "    }\n",
       "\n",
       "    .dataframe tbody tr th {\n",
       "        vertical-align: top;\n",
       "    }\n",
       "\n",
       "    .dataframe thead th {\n",
       "        text-align: right;\n",
       "    }\n",
       "</style>\n",
       "<table border=\"1\" class=\"dataframe\">\n",
       "  <thead>\n",
       "    <tr style=\"text-align: right;\">\n",
       "      <th></th>\n",
       "      <th>average_availability</th>\n",
       "      <th>host_since</th>\n",
       "      <th>neighbourhood</th>\n",
       "      <th>street</th>\n",
       "      <th>zipcode</th>\n",
       "      <th>bathrooms</th>\n",
       "      <th>beds</th>\n",
       "      <th>price</th>\n",
       "      <th>number_of_reviews</th>\n",
       "      <th>review_scores_value</th>\n",
       "      <th>require_guest_phone_verification</th>\n",
       "    </tr>\n",
       "  </thead>\n",
       "  <tbody>\n",
       "    <tr>\n",
       "      <th>341</th>\n",
       "      <td>0.838356</td>\n",
       "      <td>2013-02-09</td>\n",
       "      <td>Jamaica Plain</td>\n",
       "      <td>Chestnut Ave, Jamaica Plain, MA 02130, United ...</td>\n",
       "      <td>02130</td>\n",
       "      <td>2.0</td>\n",
       "      <td>4.0</td>\n",
       "      <td>$250.00</td>\n",
       "      <td>3</td>\n",
       "      <td>9.0</td>\n",
       "      <td>f</td>\n",
       "    </tr>\n",
       "    <tr>\n",
       "      <th>3194</th>\n",
       "      <td>0.090411</td>\n",
       "      <td>2015-12-20</td>\n",
       "      <td>NaN</td>\n",
       "      <td>Boston, MA, United States</td>\n",
       "      <td>NaN</td>\n",
       "      <td>1.0</td>\n",
       "      <td>1.0</td>\n",
       "      <td>$150.00</td>\n",
       "      <td>1</td>\n",
       "      <td>8.0</td>\n",
       "      <td>f</td>\n",
       "    </tr>\n",
       "    <tr>\n",
       "      <th>1907</th>\n",
       "      <td>0.783562</td>\n",
       "      <td>2014-10-09</td>\n",
       "      <td>Beacon Hill</td>\n",
       "      <td>Temple Street, Boston, MA 02114, United States</td>\n",
       "      <td>02114</td>\n",
       "      <td>1.0</td>\n",
       "      <td>1.0</td>\n",
       "      <td>$157.00</td>\n",
       "      <td>2</td>\n",
       "      <td>8.0</td>\n",
       "      <td>f</td>\n",
       "    </tr>\n",
       "  </tbody>\n",
       "</table>\n",
       "</div>"
      ],
      "text/plain": [
       "      average_availability  host_since  neighbourhood  \\\n",
       "341               0.838356  2013-02-09  Jamaica Plain   \n",
       "3194              0.090411  2015-12-20            NaN   \n",
       "1907              0.783562  2014-10-09    Beacon Hill   \n",
       "\n",
       "                                                 street zipcode  bathrooms  \\\n",
       "341   Chestnut Ave, Jamaica Plain, MA 02130, United ...   02130        2.0   \n",
       "3194                          Boston, MA, United States     NaN        1.0   \n",
       "1907     Temple Street, Boston, MA 02114, United States   02114        1.0   \n",
       "\n",
       "      beds    price  number_of_reviews  review_scores_value  \\\n",
       "341    4.0  $250.00                  3                  9.0   \n",
       "3194   1.0  $150.00                  1                  8.0   \n",
       "1907   1.0  $157.00                  2                  8.0   \n",
       "\n",
       "     require_guest_phone_verification  \n",
       "341                                 f  \n",
       "3194                                f  \n",
       "1907                                f  "
      ]
     },
     "execution_count": 1553,
     "metadata": {},
     "output_type": "execute_result"
    }
   ],
   "source": [
    "df_predict_listing_average_availability.sample(3)"
   ]
  },
  {
   "cell_type": "markdown",
   "metadata": {},
   "source": [
    "##### Clean the data, drop not useful data, replace missing values, do feature engineering."
   ]
  },
  {
   "cell_type": "code",
   "execution_count": 1554,
   "metadata": {},
   "outputs": [
    {
     "data": {
      "text/plain": [
       "(3585, 11)"
      ]
     },
     "execution_count": 1554,
     "metadata": {},
     "output_type": "execute_result"
    }
   ],
   "source": [
    "df_predict_listing_average_availability.shape"
   ]
  },
  {
   "cell_type": "code",
   "execution_count": 1555,
   "metadata": {},
   "outputs": [
    {
     "name": "stdout",
     "output_type": "stream",
     "text": [
      "<class 'pandas.core.frame.DataFrame'>\n",
      "Int64Index: 3585 entries, 0 to 3584\n",
      "Data columns (total 11 columns):\n",
      " #   Column                            Non-Null Count  Dtype  \n",
      "---  ------                            --------------  -----  \n",
      " 0   average_availability              3585 non-null   float64\n",
      " 1   host_since                        3585 non-null   object \n",
      " 2   neighbourhood                     3042 non-null   object \n",
      " 3   street                            3585 non-null   object \n",
      " 4   zipcode                           3547 non-null   object \n",
      " 5   bathrooms                         3571 non-null   float64\n",
      " 6   beds                              3576 non-null   float64\n",
      " 7   price                             3585 non-null   object \n",
      " 8   number_of_reviews                 3585 non-null   int64  \n",
      " 9   review_scores_value               2764 non-null   float64\n",
      " 10  require_guest_phone_verification  3585 non-null   object \n",
      "dtypes: float64(4), int64(1), object(6)\n",
      "memory usage: 336.1+ KB\n"
     ]
    }
   ],
   "source": [
    "df_predict_listing_average_availability.info()"
   ]
  },
  {
   "cell_type": "markdown",
   "metadata": {},
   "source": [
    "Checking for presence of rows where all columns are NaN"
   ]
  },
  {
   "cell_type": "code",
   "execution_count": 1556,
   "metadata": {},
   "outputs": [
    {
     "data": {
      "text/plain": [
       "average_availability                  0\n",
       "host_since                            0\n",
       "neighbourhood                       543\n",
       "street                                0\n",
       "zipcode                              38\n",
       "bathrooms                            14\n",
       "beds                                  9\n",
       "price                                 0\n",
       "number_of_reviews                     0\n",
       "review_scores_value                 821\n",
       "require_guest_phone_verification      0\n",
       "dtype: int64"
      ]
     },
     "execution_count": 1556,
     "metadata": {},
     "output_type": "execute_result"
    }
   ],
   "source": [
    "df_predict_listing_average_availability.isna().sum()"
   ]
  },
  {
   "cell_type": "code",
   "execution_count": 1557,
   "metadata": {},
   "outputs": [
    {
     "data": {
      "text/plain": [
       "average_availability                0.000000\n",
       "host_since                          0.000000\n",
       "neighbourhood                       0.151464\n",
       "street                              0.000000\n",
       "zipcode                             0.010600\n",
       "bathrooms                           0.003905\n",
       "beds                                0.002510\n",
       "price                               0.000000\n",
       "number_of_reviews                   0.000000\n",
       "review_scores_value                 0.229010\n",
       "require_guest_phone_verification    0.000000\n",
       "dtype: float64"
      ]
     },
     "execution_count": 1557,
     "metadata": {},
     "output_type": "execute_result"
    }
   ],
   "source": [
    "df_predict_listing_average_availability.isna().mean()"
   ]
  },
  {
   "cell_type": "markdown",
   "metadata": {},
   "source": [
    "Checking and dropping rows where y value (listing_average_availability) is NaN"
   ]
  },
  {
   "cell_type": "code",
   "execution_count": 1558,
   "metadata": {},
   "outputs": [
    {
     "data": {
      "text/plain": [
       "0"
      ]
     },
     "execution_count": 1558,
     "metadata": {},
     "output_type": "execute_result"
    }
   ],
   "source": [
    "df_predict_listing_average_availability.average_availability.isna().sum()"
   ]
  },
  {
   "cell_type": "markdown",
   "metadata": {},
   "source": [
    "Checking datatypes of all columns and making relevant changes if needed"
   ]
  },
  {
   "cell_type": "code",
   "execution_count": 1559,
   "metadata": {},
   "outputs": [
    {
     "name": "stdout",
     "output_type": "stream",
     "text": [
      "<class 'pandas.core.frame.DataFrame'>\n",
      "Int64Index: 3585 entries, 0 to 3584\n",
      "Data columns (total 11 columns):\n",
      " #   Column                            Non-Null Count  Dtype  \n",
      "---  ------                            --------------  -----  \n",
      " 0   average_availability              3585 non-null   float64\n",
      " 1   host_since                        3585 non-null   object \n",
      " 2   neighbourhood                     3042 non-null   object \n",
      " 3   street                            3585 non-null   object \n",
      " 4   zipcode                           3547 non-null   object \n",
      " 5   bathrooms                         3571 non-null   float64\n",
      " 6   beds                              3576 non-null   float64\n",
      " 7   price                             3585 non-null   object \n",
      " 8   number_of_reviews                 3585 non-null   int64  \n",
      " 9   review_scores_value               2764 non-null   float64\n",
      " 10  require_guest_phone_verification  3585 non-null   object \n",
      "dtypes: float64(4), int64(1), object(6)\n",
      "memory usage: 336.1+ KB\n"
     ]
    }
   ],
   "source": [
    "df_predict_listing_average_availability.info()"
   ]
  },
  {
   "cell_type": "code",
   "execution_count": 1560,
   "metadata": {},
   "outputs": [
    {
     "data": {
      "text/plain": [
       "(1239, (3585, 11))"
      ]
     },
     "execution_count": 1560,
     "metadata": {},
     "output_type": "execute_result"
    }
   ],
   "source": [
    "df_predict_listing_average_availability.street.nunique(), df_predict_listing_average_availability.shape"
   ]
  },
  {
   "cell_type": "code",
   "execution_count": 1561,
   "metadata": {},
   "outputs": [
    {
     "data": {
      "text/plain": [
       "1336    t\n",
       "2451    f\n",
       "3478    f\n",
       "Name: require_guest_phone_verification, dtype: object"
      ]
     },
     "execution_count": 1561,
     "metadata": {},
     "output_type": "execute_result"
    }
   ],
   "source": [
    "df_predict_listing_average_availability.require_guest_phone_verification.sample(3)"
   ]
  },
  {
   "cell_type": "markdown",
   "metadata": {},
   "source": [
    "Following are proposed datatype changes:\n",
    "\n",
    "1. change host_since from object to float.\n",
    "2. change price from object to float.\n",
    "3. change require_guest_phone_verification from object to Bool\n",
    "4. Change zipcode from Object to float"
   ]
  },
  {
   "cell_type": "code",
   "execution_count": 1562,
   "metadata": {},
   "outputs": [
    {
     "data": {
      "text/plain": [
       "0       20150415.0\n",
       "1       20120607.0\n",
       "2       20090511.0\n",
       "3       20130421.0\n",
       "4       20140511.0\n",
       "           ...    \n",
       "3580    20140731.0\n",
       "3581    20150702.0\n",
       "3582    20140114.0\n",
       "3583    20160527.0\n",
       "3584    20150820.0\n",
       "Name: host_since, Length: 3585, dtype: float64"
      ]
     },
     "execution_count": 1562,
     "metadata": {},
     "output_type": "execute_result"
    }
   ],
   "source": [
    "df_predict_listing_average_availability.host_since.replace({'-':''}, regex=True).astype('float')"
   ]
  },
  {
   "cell_type": "code",
   "execution_count": 1563,
   "metadata": {},
   "outputs": [],
   "source": [
    "df_predict_listing_average_availability.host_since = df_predict_listing_average_availability.host_since.replace({'-':''}, regex=True).astype('float')"
   ]
  },
  {
   "cell_type": "code",
   "execution_count": 1564,
   "metadata": {},
   "outputs": [
    {
     "data": {
      "text/plain": [
       "Index(['average_availability', 'host_since', 'neighbourhood', 'street',\n",
       "       'zipcode', 'bathrooms', 'beds', 'price', 'number_of_reviews',\n",
       "       'review_scores_value', 'require_guest_phone_verification'],\n",
       "      dtype='object')"
      ]
     },
     "execution_count": 1564,
     "metadata": {},
     "output_type": "execute_result"
    }
   ],
   "source": [
    "df_predict_listing_average_availability.columns"
   ]
  },
  {
   "cell_type": "code",
   "execution_count": 1565,
   "metadata": {},
   "outputs": [
    {
     "data": {
      "text/plain": [
       "356     $235.00\n",
       "3018    $300.00\n",
       "323     $200.00\n",
       "Name: price, dtype: object"
      ]
     },
     "execution_count": 1565,
     "metadata": {},
     "output_type": "execute_result"
    }
   ],
   "source": [
    "df_predict_listing_average_availability.price.sample(3)"
   ]
  },
  {
   "cell_type": "code",
   "execution_count": 1566,
   "metadata": {},
   "outputs": [],
   "source": [
    "df_predict_listing_average_availability.price = df_predict_listing_average_availability.price\\\n",
    ".replace({'\\$':'',',':''}, regex=True).astype('float')"
   ]
  },
  {
   "cell_type": "code",
   "execution_count": 1567,
   "metadata": {},
   "outputs": [
    {
     "data": {
      "text/plain": [
       "2375    241.0\n",
       "2393    150.0\n",
       "3513    269.0\n",
       "Name: price, dtype: float64"
      ]
     },
     "execution_count": 1567,
     "metadata": {},
     "output_type": "execute_result"
    }
   ],
   "source": [
    "df_predict_listing_average_availability.price.sample(3)"
   ]
  },
  {
   "cell_type": "code",
   "execution_count": 1568,
   "metadata": {},
   "outputs": [
    {
     "data": {
      "text/plain": [
       "3398    f\n",
       "2930    f\n",
       "2944    f\n",
       "Name: require_guest_phone_verification, dtype: object"
      ]
     },
     "execution_count": 1568,
     "metadata": {},
     "output_type": "execute_result"
    }
   ],
   "source": [
    "df_predict_listing_average_availability.require_guest_phone_verification.sample(3)"
   ]
  },
  {
   "cell_type": "code",
   "execution_count": 1569,
   "metadata": {},
   "outputs": [],
   "source": [
    "df_predict_listing_average_availability['require_guest_phone_verification']=\\\n",
    "(df_predict_listing_average_availability.require_guest_phone_verification=='t')"
   ]
  },
  {
   "cell_type": "code",
   "execution_count": 1570,
   "metadata": {},
   "outputs": [
    {
     "data": {
      "text/plain": [
       "3049    False\n",
       "3543    False\n",
       "320     False\n",
       "Name: require_guest_phone_verification, dtype: bool"
      ]
     },
     "execution_count": 1570,
     "metadata": {},
     "output_type": "execute_result"
    }
   ],
   "source": [
    "df_predict_listing_average_availability.require_guest_phone_verification.sample(3)"
   ]
  },
  {
   "cell_type": "code",
   "execution_count": 1571,
   "metadata": {
    "scrolled": true
   },
   "outputs": [
    {
     "data": {
      "text/plain": [
       "{'02108',\n",
       " '02108 02111',\n",
       " '02109',\n",
       " '02110',\n",
       " '02111',\n",
       " '02113',\n",
       " '02114',\n",
       " '02115',\n",
       " '02116',\n",
       " '02118',\n",
       " '02119',\n",
       " '02120',\n",
       " '02121',\n",
       " '02122',\n",
       " '02124',\n",
       " '02125',\n",
       " '02126',\n",
       " '02127',\n",
       " '02128',\n",
       " '02129',\n",
       " '02130',\n",
       " '02131',\n",
       " '02132',\n",
       " '02134',\n",
       " '02134-1704',\n",
       " '02135',\n",
       " '02136',\n",
       " '02138',\n",
       " '02139',\n",
       " '02141',\n",
       " '02142',\n",
       " '02143',\n",
       " '02145',\n",
       " '02163',\n",
       " '02169',\n",
       " '02186',\n",
       " '02210',\n",
       " '02215',\n",
       " '02218',\n",
       " '02445',\n",
       " '02446',\n",
       " '02467',\n",
       " '02472',\n",
       " nan}"
      ]
     },
     "execution_count": 1571,
     "metadata": {},
     "output_type": "execute_result"
    }
   ],
   "source": [
    "set(df_predict_listing_average_availability.zipcode)"
   ]
  },
  {
   "cell_type": "markdown",
   "metadata": {},
   "source": [
    "First we need to replace space and hyphen in some zipcodes then change the datattype."
   ]
  },
  {
   "cell_type": "code",
   "execution_count": 1572,
   "metadata": {},
   "outputs": [],
   "source": [
    "df_predict_listing_average_availability.zipcode.replace({' ':'','-':''}, regex=True, inplace=True)"
   ]
  },
  {
   "cell_type": "code",
   "execution_count": 1573,
   "metadata": {},
   "outputs": [],
   "source": [
    "df_predict_listing_average_availability.zipcode = df_predict_listing_average_availability.zipcode.astype('float')"
   ]
  },
  {
   "cell_type": "code",
   "execution_count": 1574,
   "metadata": {},
   "outputs": [
    {
     "name": "stdout",
     "output_type": "stream",
     "text": [
      "<class 'pandas.core.frame.DataFrame'>\n",
      "Int64Index: 3585 entries, 0 to 3584\n",
      "Data columns (total 11 columns):\n",
      " #   Column                            Non-Null Count  Dtype  \n",
      "---  ------                            --------------  -----  \n",
      " 0   average_availability              3585 non-null   float64\n",
      " 1   host_since                        3585 non-null   float64\n",
      " 2   neighbourhood                     3042 non-null   object \n",
      " 3   street                            3585 non-null   object \n",
      " 4   zipcode                           3547 non-null   float64\n",
      " 5   bathrooms                         3571 non-null   float64\n",
      " 6   beds                              3576 non-null   float64\n",
      " 7   price                             3585 non-null   float64\n",
      " 8   number_of_reviews                 3585 non-null   int64  \n",
      " 9   review_scores_value               2764 non-null   float64\n",
      " 10  require_guest_phone_verification  3585 non-null   bool   \n",
      "dtypes: bool(1), float64(7), int64(1), object(2)\n",
      "memory usage: 311.6+ KB\n"
     ]
    }
   ],
   "source": [
    "df_predict_listing_average_availability.info()"
   ]
  },
  {
   "cell_type": "code",
   "execution_count": 1575,
   "metadata": {},
   "outputs": [
    {
     "data": {
      "text/plain": [
       "average_availability                False\n",
       "host_since                          False\n",
       "neighbourhood                        True\n",
       "street                              False\n",
       "zipcode                              True\n",
       "bathrooms                            True\n",
       "beds                                 True\n",
       "price                               False\n",
       "number_of_reviews                   False\n",
       "review_scores_value                  True\n",
       "require_guest_phone_verification    False\n",
       "dtype: bool"
      ]
     },
     "execution_count": 1575,
     "metadata": {},
     "output_type": "execute_result"
    }
   ],
   "source": [
    "df_predict_listing_average_availability.isna().any()"
   ]
  },
  {
   "cell_type": "code",
   "execution_count": 1576,
   "metadata": {},
   "outputs": [
    {
     "data": {
      "text/plain": [
       "average_availability                  0\n",
       "host_since                            0\n",
       "neighbourhood                       543\n",
       "street                                0\n",
       "zipcode                              38\n",
       "bathrooms                            14\n",
       "beds                                  9\n",
       "price                                 0\n",
       "number_of_reviews                     0\n",
       "review_scores_value                 821\n",
       "require_guest_phone_verification      0\n",
       "dtype: int64"
      ]
     },
     "execution_count": 1576,
     "metadata": {},
     "output_type": "execute_result"
    }
   ],
   "source": [
    "df_predict_listing_average_availability.isna().sum()"
   ]
  },
  {
   "cell_type": "code",
   "execution_count": 1577,
   "metadata": {},
   "outputs": [
    {
     "data": {
      "text/plain": [
       "average_availability                0.000000\n",
       "host_since                          0.000000\n",
       "neighbourhood                       0.151464\n",
       "street                              0.000000\n",
       "zipcode                             0.010600\n",
       "bathrooms                           0.003905\n",
       "beds                                0.002510\n",
       "price                               0.000000\n",
       "number_of_reviews                   0.000000\n",
       "review_scores_value                 0.229010\n",
       "require_guest_phone_verification    0.000000\n",
       "dtype: float64"
      ]
     },
     "execution_count": 1577,
     "metadata": {},
     "output_type": "execute_result"
    }
   ],
   "source": [
    "df_predict_listing_average_availability.isna().mean()"
   ]
  },
  {
   "cell_type": "code",
   "execution_count": 1578,
   "metadata": {},
   "outputs": [
    {
     "data": {
      "text/plain": [
       "<AxesSubplot:>"
      ]
     },
     "execution_count": 1578,
     "metadata": {},
     "output_type": "execute_result"
    },
    {
     "data": {
      "image/png": "[encoded data removed]",
      "text/plain": [
       "<Figure size 432x288 with 1 Axes>"
      ]
     },
     "metadata": {
      "needs_background": "light"
     },
     "output_type": "display_data"
    }
   ],
   "source": [
    "df_predict_listing_average_availability.isna().mean().plot(kind='bar')"
   ]
  },
  {
   "cell_type": "code",
   "execution_count": 1579,
   "metadata": {},
   "outputs": [
    {
     "data": {
      "text/plain": [
       "average_availability                  0\n",
       "host_since                            0\n",
       "neighbourhood                       543\n",
       "street                                0\n",
       "zipcode                              38\n",
       "bathrooms                            14\n",
       "beds                                  9\n",
       "price                                 0\n",
       "number_of_reviews                     0\n",
       "review_scores_value                 821\n",
       "require_guest_phone_verification      0\n",
       "dtype: int64"
      ]
     },
     "execution_count": 1579,
     "metadata": {},
     "output_type": "execute_result"
    }
   ],
   "source": [
    "df_predict_listing_average_availability.isna().sum()"
   ]
  },
  {
   "cell_type": "markdown",
   "metadata": {},
   "source": [
    "Following are observations and approach for each column containng NaN values:\n",
    "\n",
    "1. neighborhood = drop the rows where neighborhood is NaN\n",
    "2. zipcode = drop the rows where the value is NaN\n",
    "3. bathrooms = impute with median\n",
    "4. beds = impute with median\n",
    "5. review_scores_value = drop rows where the value is NaN\n"
   ]
  },
  {
   "cell_type": "markdown",
   "metadata": {},
   "source": [
    "Dropping rows where either neighbourhood, zipcode, review_scores_value is NaN"
   ]
  },
  {
   "cell_type": "code",
   "execution_count": 1580,
   "metadata": {},
   "outputs": [
    {
     "data": {
      "text/plain": [
       "(3585, 11)"
      ]
     },
     "execution_count": 1580,
     "metadata": {},
     "output_type": "execute_result"
    }
   ],
   "source": [
    "df_predict_listing_average_availability.shape"
   ]
  },
  {
   "cell_type": "code",
   "execution_count": 1581,
   "metadata": {},
   "outputs": [],
   "source": [
    "df_predict_listing_average_availability.dropna(subset=['neighbourhood','zipcode','review_scores_value'], inplace=True)"
   ]
  },
  {
   "cell_type": "code",
   "execution_count": 1582,
   "metadata": {},
   "outputs": [
    {
     "data": {
      "text/plain": [
       "(2357, 11)"
      ]
     },
     "execution_count": 1582,
     "metadata": {},
     "output_type": "execute_result"
    }
   ],
   "source": [
    "df_predict_listing_average_availability.shape"
   ]
  },
  {
   "cell_type": "code",
   "execution_count": 1583,
   "metadata": {},
   "outputs": [],
   "source": [
    "df_predict_listing_average_availability.bathrooms.fillna(df_predict_listing_average_availability.\\\n",
    "                                                         bathrooms.median(), inplace=True)"
   ]
  },
  {
   "cell_type": "code",
   "execution_count": 1584,
   "metadata": {},
   "outputs": [],
   "source": [
    "df_predict_listing_average_availability.beds.fillna(df_predict_listing_average_availability.\\\n",
    "                                                         beds.median(), inplace=True)"
   ]
  },
  {
   "cell_type": "code",
   "execution_count": 1585,
   "metadata": {
    "scrolled": true
   },
   "outputs": [
    {
     "data": {
      "text/plain": [
       "average_availability                0\n",
       "host_since                          0\n",
       "neighbourhood                       0\n",
       "street                              0\n",
       "zipcode                             0\n",
       "bathrooms                           0\n",
       "beds                                0\n",
       "price                               0\n",
       "number_of_reviews                   0\n",
       "review_scores_value                 0\n",
       "require_guest_phone_verification    0\n",
       "dtype: int64"
      ]
     },
     "execution_count": 1585,
     "metadata": {},
     "output_type": "execute_result"
    }
   ],
   "source": [
    "df_predict_listing_average_availability.isna().sum()"
   ]
  },
  {
   "cell_type": "markdown",
   "metadata": {},
   "source": [
    "<li><a href=\"#TOC\">Back To Table Of Contents</a></li>"
   ]
  },
  {
   "cell_type": "markdown",
   "metadata": {},
   "source": [
    "<a id='modeling'></a>\n",
    "## Modeling\n",
    "\n",
    "> **Tip**: Here starts modeling of the data, depending on the targeted business goals and insights modeling technique/s is chosen and relevant model is trained and predictions are made. Performance of the model is also evaluated in this step using several inbuilt functions.\n",
    "<br><br>All proposed questions might not need data mining techniques, in such cases descriptive and inferential statistics is used to get the needed answers.\n"
   ]
  },
  {
   "cell_type": "markdown",
   "metadata": {},
   "source": [
    "##### Question 1 =  Which zipcodes contain listings that are leaders in being booked?"
   ]
  },
  {
   "cell_type": "code",
   "execution_count": 1586,
   "metadata": {},
   "outputs": [
    {
     "data": {
      "text/html": [
       "<div>\n",
       "<style scoped>\n",
       "    .dataframe tbody tr th:only-of-type {\n",
       "        vertical-align: middle;\n",
       "    }\n",
       "\n",
       "    .dataframe tbody tr th {\n",
       "        vertical-align: top;\n",
       "    }\n",
       "\n",
       "    .dataframe thead th {\n",
       "        text-align: right;\n",
       "    }\n",
       "</style>\n",
       "<table border=\"1\" class=\"dataframe\">\n",
       "  <thead>\n",
       "    <tr style=\"text-align: right;\">\n",
       "      <th></th>\n",
       "      <th>zipcode</th>\n",
       "      <th>booking_percentage</th>\n",
       "      <th>review_scores_value</th>\n",
       "    </tr>\n",
       "  </thead>\n",
       "  <tbody>\n",
       "    <tr>\n",
       "      <th>14</th>\n",
       "      <td>02124</td>\n",
       "      <td>0.673938</td>\n",
       "      <td>9.014925</td>\n",
       "    </tr>\n",
       "    <tr>\n",
       "      <th>22</th>\n",
       "      <td>02132</td>\n",
       "      <td>0.583932</td>\n",
       "      <td>9.555556</td>\n",
       "    </tr>\n",
       "    <tr>\n",
       "      <th>0</th>\n",
       "      <td>02108</td>\n",
       "      <td>0.459018</td>\n",
       "      <td>9.166667</td>\n",
       "    </tr>\n",
       "  </tbody>\n",
       "</table>\n",
       "</div>"
      ],
      "text/plain": [
       "   zipcode  booking_percentage  review_scores_value\n",
       "14   02124            0.673938             9.014925\n",
       "22   02132            0.583932             9.555556\n",
       "0    02108            0.459018             9.166667"
      ]
     },
     "execution_count": 1586,
     "metadata": {},
     "output_type": "execute_result"
    }
   ],
   "source": [
    "df_zipcode_details.sample(3)"
   ]
  },
  {
   "cell_type": "markdown",
   "metadata": {},
   "source": [
    "In order to find top x zipcodes ranked in booking percentage, we can simply use nlargest function."
   ]
  },
  {
   "cell_type": "code",
   "execution_count": 1587,
   "metadata": {},
   "outputs": [
    {
     "data": {
      "text/html": [
       "<div>\n",
       "<style scoped>\n",
       "    .dataframe tbody tr th:only-of-type {\n",
       "        vertical-align: middle;\n",
       "    }\n",
       "\n",
       "    .dataframe tbody tr th {\n",
       "        vertical-align: top;\n",
       "    }\n",
       "\n",
       "    .dataframe thead th {\n",
       "        text-align: right;\n",
       "    }\n",
       "</style>\n",
       "<table border=\"1\" class=\"dataframe\">\n",
       "  <thead>\n",
       "    <tr style=\"text-align: right;\">\n",
       "      <th></th>\n",
       "      <th>zipcode</th>\n",
       "      <th>booking_percentage</th>\n",
       "    </tr>\n",
       "  </thead>\n",
       "  <tbody>\n",
       "    <tr>\n",
       "      <th>34</th>\n",
       "      <td>02169</td>\n",
       "      <td>0.989041</td>\n",
       "    </tr>\n",
       "    <tr>\n",
       "      <th>31</th>\n",
       "      <td>02143</td>\n",
       "      <td>0.984344</td>\n",
       "    </tr>\n",
       "    <tr>\n",
       "      <th>42</th>\n",
       "      <td>02472</td>\n",
       "      <td>0.928767</td>\n",
       "    </tr>\n",
       "    <tr>\n",
       "      <th>38</th>\n",
       "      <td>02218</td>\n",
       "      <td>0.915068</td>\n",
       "    </tr>\n",
       "    <tr>\n",
       "      <th>30</th>\n",
       "      <td>02142</td>\n",
       "      <td>0.901370</td>\n",
       "    </tr>\n",
       "    <tr>\n",
       "      <th>16</th>\n",
       "      <td>02126</td>\n",
       "      <td>0.782763</td>\n",
       "    </tr>\n",
       "    <tr>\n",
       "      <th>13</th>\n",
       "      <td>02122</td>\n",
       "      <td>0.714384</td>\n",
       "    </tr>\n",
       "    <tr>\n",
       "      <th>32</th>\n",
       "      <td>02145</td>\n",
       "      <td>0.689041</td>\n",
       "    </tr>\n",
       "    <tr>\n",
       "      <th>14</th>\n",
       "      <td>02124</td>\n",
       "      <td>0.673938</td>\n",
       "    </tr>\n",
       "    <tr>\n",
       "      <th>21</th>\n",
       "      <td>02131</td>\n",
       "      <td>0.669758</td>\n",
       "    </tr>\n",
       "    <tr>\n",
       "      <th>12</th>\n",
       "      <td>02121</td>\n",
       "      <td>0.666698</td>\n",
       "    </tr>\n",
       "    <tr>\n",
       "      <th>24</th>\n",
       "      <td>02134-1704</td>\n",
       "      <td>0.665753</td>\n",
       "    </tr>\n",
       "    <tr>\n",
       "      <th>1</th>\n",
       "      <td>02108 02111</td>\n",
       "      <td>0.646575</td>\n",
       "    </tr>\n",
       "    <tr>\n",
       "      <th>10</th>\n",
       "      <td>02119</td>\n",
       "      <td>0.612877</td>\n",
       "    </tr>\n",
       "    <tr>\n",
       "      <th>15</th>\n",
       "      <td>02125</td>\n",
       "      <td>0.584050</td>\n",
       "    </tr>\n",
       "  </tbody>\n",
       "</table>\n",
       "</div>"
      ],
      "text/plain": [
       "        zipcode  booking_percentage\n",
       "34        02169            0.989041\n",
       "31        02143            0.984344\n",
       "42        02472            0.928767\n",
       "38        02218            0.915068\n",
       "30        02142            0.901370\n",
       "16        02126            0.782763\n",
       "13        02122            0.714384\n",
       "32        02145            0.689041\n",
       "14        02124            0.673938\n",
       "21        02131            0.669758\n",
       "12        02121            0.666698\n",
       "24   02134-1704            0.665753\n",
       "1   02108 02111            0.646575\n",
       "10        02119            0.612877\n",
       "15        02125            0.584050"
      ]
     },
     "execution_count": 1587,
     "metadata": {},
     "output_type": "execute_result"
    }
   ],
   "source": [
    "df_zipcode_details.nlargest(15, 'booking_percentage')[['zipcode','booking_percentage']]"
   ]
  },
  {
   "cell_type": "code",
   "execution_count": 1588,
   "metadata": {},
   "outputs": [
    {
     "data": {
      "text/plain": [
       "(43, 3)"
      ]
     },
     "execution_count": 1588,
     "metadata": {},
     "output_type": "execute_result"
    }
   ],
   "source": [
    "df_zipcode_details.shape"
   ]
  },
  {
   "cell_type": "markdown",
   "metadata": {},
   "source": [
    "Plotting the top 10 zipcodes"
   ]
  },
  {
   "cell_type": "code",
   "execution_count": 1589,
   "metadata": {},
   "outputs": [
    {
     "data": {
      "text/plain": [
       "<AxesSubplot:>"
      ]
     },
     "execution_count": 1589,
     "metadata": {},
     "output_type": "execute_result"
    },
    {
     "data": {
      "image/png": "[encoded data removed]",
      "text/plain": [
       "<Figure size 432x288 with 1 Axes>"
      ]
     },
     "metadata": {
      "needs_background": "light"
     },
     "output_type": "display_data"
    }
   ],
   "source": [
    "df_zipcode_details.nlargest(15, 'booking_percentage')[['zipcode','booking_percentage']].plot(kind='bar')"
   ]
  },
  {
   "cell_type": "markdown",
   "metadata": {},
   "source": [
    "Plotting all zipcodes"
   ]
  },
  {
   "cell_type": "code",
   "execution_count": 1590,
   "metadata": {},
   "outputs": [
    {
     "data": {
      "image/png": "[encoded data removed]",
      "text/plain": [
       "<Figure size 432x288 with 1 Axes>"
      ]
     },
     "metadata": {
      "needs_background": "light"
     },
     "output_type": "display_data"
    }
   ],
   "source": [
    "df_zipcode_details[['zipcode', 'booking_percentage']].plot(kind='bar')\n",
    "plt.xticks(rotation=90);"
   ]
  },
  {
   "cell_type": "markdown",
   "metadata": {},
   "source": [
    "It is difficult to see the zipcodes  in this figure, we will try this again with larger figure size"
   ]
  },
  {
   "cell_type": "code",
   "execution_count": 1591,
   "metadata": {},
   "outputs": [
    {
     "data": {
      "image/png": "[encoded data removed]",
      "text/plain": [
       "<Figure size 720x720 with 1 Axes>"
      ]
     },
     "metadata": {
      "needs_background": "light"
     },
     "output_type": "display_data"
    }
   ],
   "source": [
    "from matplotlib.pyplot import figure\n",
    "plt.figure(figsize=(10,10))\n",
    "plt.bar(df_zipcode_details['zipcode'], df_zipcode_details['booking_percentage'])\n",
    "plt.xticks(rotation=90);"
   ]
  },
  {
   "cell_type": "markdown",
   "metadata": {},
   "source": [
    "Replotting the same graph with sorted based on booking percentage."
   ]
  },
  {
   "cell_type": "code",
   "execution_count": 1592,
   "metadata": {},
   "outputs": [
    {
     "data": {
      "image/png": "[encoded data removed]",
      "text/plain": [
       "<Figure size 720x720 with 1 Axes>"
      ]
     },
     "metadata": {
      "needs_background": "light"
     },
     "output_type": "display_data"
    }
   ],
   "source": [
    "from matplotlib.pyplot import figure\n",
    "plt.figure(figsize=(10,10))\n",
    "plt.bar(df_zipcode_details['zipcode'], df_zipcode_details['booking_percentage'].sort_values(ascending=False))\n",
    "plt.xticks(rotation=90);"
   ]
  },
  {
   "cell_type": "markdown",
   "metadata": {},
   "source": [
    "##### Question 2 =  Which zipcodes are leaders in having Listings with high reviews in user ratings? "
   ]
  },
  {
   "cell_type": "code",
   "execution_count": 1593,
   "metadata": {},
   "outputs": [
    {
     "data": {
      "text/html": [
       "<div>\n",
       "<style scoped>\n",
       "    .dataframe tbody tr th:only-of-type {\n",
       "        vertical-align: middle;\n",
       "    }\n",
       "\n",
       "    .dataframe tbody tr th {\n",
       "        vertical-align: top;\n",
       "    }\n",
       "\n",
       "    .dataframe thead th {\n",
       "        text-align: right;\n",
       "    }\n",
       "</style>\n",
       "<table border=\"1\" class=\"dataframe\">\n",
       "  <thead>\n",
       "    <tr style=\"text-align: right;\">\n",
       "      <th></th>\n",
       "      <th>zipcode</th>\n",
       "      <th>booking_percentage</th>\n",
       "      <th>review_scores_value</th>\n",
       "    </tr>\n",
       "  </thead>\n",
       "  <tbody>\n",
       "    <tr>\n",
       "      <th>5</th>\n",
       "      <td>02113</td>\n",
       "      <td>0.441123</td>\n",
       "      <td>9.421687</td>\n",
       "    </tr>\n",
       "    <tr>\n",
       "      <th>24</th>\n",
       "      <td>02134-1704</td>\n",
       "      <td>0.665753</td>\n",
       "      <td>8.000000</td>\n",
       "    </tr>\n",
       "    <tr>\n",
       "      <th>16</th>\n",
       "      <td>02126</td>\n",
       "      <td>0.782763</td>\n",
       "      <td>9.055556</td>\n",
       "    </tr>\n",
       "  </tbody>\n",
       "</table>\n",
       "</div>"
      ],
      "text/plain": [
       "       zipcode  booking_percentage  review_scores_value\n",
       "5        02113            0.441123             9.421687\n",
       "24  02134-1704            0.665753             8.000000\n",
       "16       02126            0.782763             9.055556"
      ]
     },
     "execution_count": 1593,
     "metadata": {},
     "output_type": "execute_result"
    }
   ],
   "source": [
    "df_zipcode_details.sample(3)"
   ]
  },
  {
   "cell_type": "code",
   "execution_count": 1594,
   "metadata": {},
   "outputs": [],
   "source": [
    "df_temp = df_zipcode_details.nlargest(15, 'review_scores_value')[['zipcode','review_scores_value']]"
   ]
  },
  {
   "cell_type": "code",
   "execution_count": 1595,
   "metadata": {},
   "outputs": [
    {
     "data": {
      "text/html": [
       "<div>\n",
       "<style scoped>\n",
       "    .dataframe tbody tr th:only-of-type {\n",
       "        vertical-align: middle;\n",
       "    }\n",
       "\n",
       "    .dataframe tbody tr th {\n",
       "        vertical-align: top;\n",
       "    }\n",
       "\n",
       "    .dataframe thead th {\n",
       "        text-align: right;\n",
       "    }\n",
       "</style>\n",
       "<table border=\"1\" class=\"dataframe\">\n",
       "  <thead>\n",
       "    <tr style=\"text-align: right;\">\n",
       "      <th></th>\n",
       "      <th>zipcode</th>\n",
       "      <th>review_scores_value</th>\n",
       "    </tr>\n",
       "  </thead>\n",
       "  <tbody>\n",
       "    <tr>\n",
       "      <th>27</th>\n",
       "      <td>02138</td>\n",
       "      <td>10.000000</td>\n",
       "    </tr>\n",
       "    <tr>\n",
       "      <th>33</th>\n",
       "      <td>02163</td>\n",
       "      <td>10.000000</td>\n",
       "    </tr>\n",
       "    <tr>\n",
       "      <th>40</th>\n",
       "      <td>02446</td>\n",
       "      <td>10.000000</td>\n",
       "    </tr>\n",
       "    <tr>\n",
       "      <th>21</th>\n",
       "      <td>02131</td>\n",
       "      <td>9.559322</td>\n",
       "    </tr>\n",
       "    <tr>\n",
       "      <th>22</th>\n",
       "      <td>02132</td>\n",
       "      <td>9.555556</td>\n",
       "    </tr>\n",
       "    <tr>\n",
       "      <th>19</th>\n",
       "      <td>02129</td>\n",
       "      <td>9.522388</td>\n",
       "    </tr>\n",
       "    <tr>\n",
       "      <th>39</th>\n",
       "      <td>02445</td>\n",
       "      <td>9.500000</td>\n",
       "    </tr>\n",
       "    <tr>\n",
       "      <th>5</th>\n",
       "      <td>02113</td>\n",
       "      <td>9.421687</td>\n",
       "    </tr>\n",
       "    <tr>\n",
       "      <th>20</th>\n",
       "      <td>02130</td>\n",
       "      <td>9.414894</td>\n",
       "    </tr>\n",
       "    <tr>\n",
       "      <th>17</th>\n",
       "      <td>02127</td>\n",
       "      <td>9.389937</td>\n",
       "    </tr>\n",
       "    <tr>\n",
       "      <th>3</th>\n",
       "      <td>02110</td>\n",
       "      <td>9.363636</td>\n",
       "    </tr>\n",
       "    <tr>\n",
       "      <th>9</th>\n",
       "      <td>02118</td>\n",
       "      <td>9.286385</td>\n",
       "    </tr>\n",
       "    <tr>\n",
       "      <th>12</th>\n",
       "      <td>02121</td>\n",
       "      <td>9.238095</td>\n",
       "    </tr>\n",
       "    <tr>\n",
       "      <th>26</th>\n",
       "      <td>02136</td>\n",
       "      <td>9.217391</td>\n",
       "    </tr>\n",
       "    <tr>\n",
       "      <th>6</th>\n",
       "      <td>02114</td>\n",
       "      <td>9.198864</td>\n",
       "    </tr>\n",
       "  </tbody>\n",
       "</table>\n",
       "</div>"
      ],
      "text/plain": [
       "   zipcode  review_scores_value\n",
       "27   02138            10.000000\n",
       "33   02163            10.000000\n",
       "40   02446            10.000000\n",
       "21   02131             9.559322\n",
       "22   02132             9.555556\n",
       "19   02129             9.522388\n",
       "39   02445             9.500000\n",
       "5    02113             9.421687\n",
       "20   02130             9.414894\n",
       "17   02127             9.389937\n",
       "3    02110             9.363636\n",
       "9    02118             9.286385\n",
       "12   02121             9.238095\n",
       "26   02136             9.217391\n",
       "6    02114             9.198864"
      ]
     },
     "execution_count": 1595,
     "metadata": {},
     "output_type": "execute_result"
    }
   ],
   "source": [
    "df_temp"
   ]
  },
  {
   "cell_type": "code",
   "execution_count": 1596,
   "metadata": {},
   "outputs": [
    {
     "data": {
      "image/png": "[encoded data removed]",
      "text/plain": [
       "<Figure size 432x288 with 1 Axes>"
      ]
     },
     "metadata": {
      "needs_background": "light"
     },
     "output_type": "display_data"
    }
   ],
   "source": [
    "plt.bar(df_temp.zipcode, df_temp.review_scores_value)\n",
    "plt.xticks(rotation=90);"
   ]
  },
  {
   "cell_type": "code",
   "execution_count": 1597,
   "metadata": {},
   "outputs": [
    {
     "data": {
      "image/png": "[encoded data removed]",
      "text/plain": [
       "<Figure size 720x720 with 1 Axes>"
      ]
     },
     "metadata": {
      "needs_background": "light"
     },
     "output_type": "display_data"
    }
   ],
   "source": [
    "from matplotlib.pyplot import figure\n",
    "plt.figure(figsize=(10,10))\n",
    "plt.bar(df_zipcode_details['zipcode'], df_zipcode_details['review_scores_value'].sort_values(ascending=False))\n",
    "plt.xticks(rotation=90);"
   ]
  },
  {
   "cell_type": "markdown",
   "metadata": {},
   "source": [
    "##### Question 3 =  Which neighbourhood are leaders in having Listings being booked?"
   ]
  },
  {
   "cell_type": "code",
   "execution_count": 1598,
   "metadata": {},
   "outputs": [
    {
     "data": {
      "text/html": [
       "<div>\n",
       "<style scoped>\n",
       "    .dataframe tbody tr th:only-of-type {\n",
       "        vertical-align: middle;\n",
       "    }\n",
       "\n",
       "    .dataframe tbody tr th {\n",
       "        vertical-align: top;\n",
       "    }\n",
       "\n",
       "    .dataframe thead th {\n",
       "        text-align: right;\n",
       "    }\n",
       "</style>\n",
       "<table border=\"1\" class=\"dataframe\">\n",
       "  <thead>\n",
       "    <tr style=\"text-align: right;\">\n",
       "      <th></th>\n",
       "      <th>neighbourhood</th>\n",
       "      <th>review_scores_value</th>\n",
       "      <th>booking_percentage</th>\n",
       "    </tr>\n",
       "  </thead>\n",
       "  <tbody>\n",
       "    <tr>\n",
       "      <th>11</th>\n",
       "      <td>East Boston</td>\n",
       "      <td>8.981132</td>\n",
       "      <td>0.542091</td>\n",
       "    </tr>\n",
       "    <tr>\n",
       "      <th>3</th>\n",
       "      <td>Brookline</td>\n",
       "      <td>9.500000</td>\n",
       "      <td>0.326712</td>\n",
       "    </tr>\n",
       "    <tr>\n",
       "      <th>16</th>\n",
       "      <td>Hyde Park</td>\n",
       "      <td>9.277778</td>\n",
       "      <td>0.460384</td>\n",
       "    </tr>\n",
       "  </tbody>\n",
       "</table>\n",
       "</div>"
      ],
      "text/plain": [
       "   neighbourhood  review_scores_value  booking_percentage\n",
       "11   East Boston             8.981132            0.542091\n",
       "3      Brookline             9.500000            0.326712\n",
       "16     Hyde Park             9.277778            0.460384"
      ]
     },
     "execution_count": 1598,
     "metadata": {},
     "output_type": "execute_result"
    }
   ],
   "source": [
    "df_neighbourhood_details.sample(3)"
   ]
  },
  {
   "cell_type": "code",
   "execution_count": 1599,
   "metadata": {},
   "outputs": [],
   "source": [
    "df_temp = df_neighbourhood_details.nlargest(15, 'booking_percentage')[['neighbourhood','booking_percentage']]"
   ]
  },
  {
   "cell_type": "code",
   "execution_count": 1600,
   "metadata": {},
   "outputs": [
    {
     "data": {
      "text/html": [
       "<div>\n",
       "<style scoped>\n",
       "    .dataframe tbody tr th:only-of-type {\n",
       "        vertical-align: middle;\n",
       "    }\n",
       "\n",
       "    .dataframe tbody tr th {\n",
       "        vertical-align: top;\n",
       "    }\n",
       "\n",
       "    .dataframe thead th {\n",
       "        text-align: right;\n",
       "    }\n",
       "</style>\n",
       "<table border=\"1\" class=\"dataframe\">\n",
       "  <thead>\n",
       "    <tr style=\"text-align: right;\">\n",
       "      <th></th>\n",
       "      <th>neighbourhood</th>\n",
       "      <th>booking_percentage</th>\n",
       "    </tr>\n",
       "  </thead>\n",
       "  <tbody>\n",
       "    <tr>\n",
       "      <th>14</th>\n",
       "      <td>Government Center</td>\n",
       "      <td>0.788128</td>\n",
       "    </tr>\n",
       "    <tr>\n",
       "      <th>6</th>\n",
       "      <td>Chestnut Hill</td>\n",
       "      <td>0.722603</td>\n",
       "    </tr>\n",
       "    <tr>\n",
       "      <th>19</th>\n",
       "      <td>Mattapan</td>\n",
       "      <td>0.695479</td>\n",
       "    </tr>\n",
       "    <tr>\n",
       "      <th>4</th>\n",
       "      <td>Cambridge</td>\n",
       "      <td>0.688063</td>\n",
       "    </tr>\n",
       "    <tr>\n",
       "      <th>22</th>\n",
       "      <td>Roslindale</td>\n",
       "      <td>0.669973</td>\n",
       "    </tr>\n",
       "    <tr>\n",
       "      <th>24</th>\n",
       "      <td>Somerville</td>\n",
       "      <td>0.661117</td>\n",
       "    </tr>\n",
       "    <tr>\n",
       "      <th>28</th>\n",
       "      <td>West End</td>\n",
       "      <td>0.648187</td>\n",
       "    </tr>\n",
       "    <tr>\n",
       "      <th>8</th>\n",
       "      <td>Dorchester</td>\n",
       "      <td>0.613109</td>\n",
       "    </tr>\n",
       "    <tr>\n",
       "      <th>23</th>\n",
       "      <td>Roxbury</td>\n",
       "      <td>0.583373</td>\n",
       "    </tr>\n",
       "    <tr>\n",
       "      <th>9</th>\n",
       "      <td>Downtown</td>\n",
       "      <td>0.561986</td>\n",
       "    </tr>\n",
       "    <tr>\n",
       "      <th>18</th>\n",
       "      <td>Leather District</td>\n",
       "      <td>0.559247</td>\n",
       "    </tr>\n",
       "    <tr>\n",
       "      <th>29</th>\n",
       "      <td>West Roxbury</td>\n",
       "      <td>0.558434</td>\n",
       "    </tr>\n",
       "    <tr>\n",
       "      <th>11</th>\n",
       "      <td>East Boston</td>\n",
       "      <td>0.542091</td>\n",
       "    </tr>\n",
       "    <tr>\n",
       "      <th>1</th>\n",
       "      <td>Back Bay</td>\n",
       "      <td>0.525999</td>\n",
       "    </tr>\n",
       "    <tr>\n",
       "      <th>7</th>\n",
       "      <td>Chinatown</td>\n",
       "      <td>0.519881</td>\n",
       "    </tr>\n",
       "  </tbody>\n",
       "</table>\n",
       "</div>"
      ],
      "text/plain": [
       "        neighbourhood  booking_percentage\n",
       "14  Government Center            0.788128\n",
       "6       Chestnut Hill            0.722603\n",
       "19           Mattapan            0.695479\n",
       "4           Cambridge            0.688063\n",
       "22         Roslindale            0.669973\n",
       "24         Somerville            0.661117\n",
       "28           West End            0.648187\n",
       "8          Dorchester            0.613109\n",
       "23            Roxbury            0.583373\n",
       "9            Downtown            0.561986\n",
       "18   Leather District            0.559247\n",
       "29       West Roxbury            0.558434\n",
       "11        East Boston            0.542091\n",
       "1            Back Bay            0.525999\n",
       "7           Chinatown            0.519881"
      ]
     },
     "execution_count": 1600,
     "metadata": {},
     "output_type": "execute_result"
    }
   ],
   "source": [
    "df_temp"
   ]
  },
  {
   "cell_type": "code",
   "execution_count": 1601,
   "metadata": {},
   "outputs": [
    {
     "data": {
      "image/png": "[encoded data removed]",
      "text/plain": [
       "<Figure size 432x288 with 1 Axes>"
      ]
     },
     "metadata": {
      "needs_background": "light"
     },
     "output_type": "display_data"
    }
   ],
   "source": [
    "plt.bar(df_temp.neighbourhood, df_temp.booking_percentage)\n",
    "plt.xticks(rotation=90);"
   ]
  },
  {
   "cell_type": "code",
   "execution_count": null,
   "metadata": {},
   "outputs": [],
   "source": []
  },
  {
   "cell_type": "markdown",
   "metadata": {},
   "source": [
    "##### Question 4 = Which neighbourhoods are leaders with listings having high reviews in user ratings?"
   ]
  },
  {
   "cell_type": "code",
   "execution_count": 1602,
   "metadata": {},
   "outputs": [
    {
     "data": {
      "text/html": [
       "<div>\n",
       "<style scoped>\n",
       "    .dataframe tbody tr th:only-of-type {\n",
       "        vertical-align: middle;\n",
       "    }\n",
       "\n",
       "    .dataframe tbody tr th {\n",
       "        vertical-align: top;\n",
       "    }\n",
       "\n",
       "    .dataframe thead th {\n",
       "        text-align: right;\n",
       "    }\n",
       "</style>\n",
       "<table border=\"1\" class=\"dataframe\">\n",
       "  <thead>\n",
       "    <tr style=\"text-align: right;\">\n",
       "      <th></th>\n",
       "      <th>neighbourhood</th>\n",
       "      <th>review_scores_value</th>\n",
       "      <th>booking_percentage</th>\n",
       "    </tr>\n",
       "  </thead>\n",
       "  <tbody>\n",
       "    <tr>\n",
       "      <th>20</th>\n",
       "      <td>Mission Hill</td>\n",
       "      <td>8.626866</td>\n",
       "      <td>0.348052</td>\n",
       "    </tr>\n",
       "    <tr>\n",
       "      <th>3</th>\n",
       "      <td>Brookline</td>\n",
       "      <td>9.500000</td>\n",
       "      <td>0.326712</td>\n",
       "    </tr>\n",
       "    <tr>\n",
       "      <th>0</th>\n",
       "      <td>Allston-Brighton</td>\n",
       "      <td>9.059701</td>\n",
       "      <td>0.380521</td>\n",
       "    </tr>\n",
       "  </tbody>\n",
       "</table>\n",
       "</div>"
      ],
      "text/plain": [
       "       neighbourhood  review_scores_value  booking_percentage\n",
       "20      Mission Hill             8.626866            0.348052\n",
       "3          Brookline             9.500000            0.326712\n",
       "0   Allston-Brighton             9.059701            0.380521"
      ]
     },
     "execution_count": 1602,
     "metadata": {},
     "output_type": "execute_result"
    }
   ],
   "source": [
    "df_neighbourhood_details.sample(3)"
   ]
  },
  {
   "cell_type": "code",
   "execution_count": 1603,
   "metadata": {},
   "outputs": [],
   "source": [
    "df_temp = df_neighbourhood_details.nlargest(15, 'review_scores_value')[['neighbourhood','review_scores_value']]"
   ]
  },
  {
   "cell_type": "code",
   "execution_count": 1604,
   "metadata": {},
   "outputs": [
    {
     "data": {
      "text/html": [
       "<div>\n",
       "<style scoped>\n",
       "    .dataframe tbody tr th:only-of-type {\n",
       "        vertical-align: middle;\n",
       "    }\n",
       "\n",
       "    .dataframe tbody tr th {\n",
       "        vertical-align: top;\n",
       "    }\n",
       "\n",
       "    .dataframe thead th {\n",
       "        text-align: right;\n",
       "    }\n",
       "</style>\n",
       "<table border=\"1\" class=\"dataframe\">\n",
       "  <thead>\n",
       "    <tr style=\"text-align: right;\">\n",
       "      <th></th>\n",
       "      <th>neighbourhood</th>\n",
       "      <th>review_scores_value</th>\n",
       "    </tr>\n",
       "  </thead>\n",
       "  <tbody>\n",
       "    <tr>\n",
       "      <th>13</th>\n",
       "      <td>Financial District</td>\n",
       "      <td>10.000000</td>\n",
       "    </tr>\n",
       "    <tr>\n",
       "      <th>18</th>\n",
       "      <td>Leather District</td>\n",
       "      <td>9.800000</td>\n",
       "    </tr>\n",
       "    <tr>\n",
       "      <th>29</th>\n",
       "      <td>West Roxbury</td>\n",
       "      <td>9.629630</td>\n",
       "    </tr>\n",
       "    <tr>\n",
       "      <th>22</th>\n",
       "      <td>Roslindale</td>\n",
       "      <td>9.565217</td>\n",
       "    </tr>\n",
       "    <tr>\n",
       "      <th>3</th>\n",
       "      <td>Brookline</td>\n",
       "      <td>9.500000</td>\n",
       "    </tr>\n",
       "    <tr>\n",
       "      <th>17</th>\n",
       "      <td>Jamaica Plain</td>\n",
       "      <td>9.460967</td>\n",
       "    </tr>\n",
       "    <tr>\n",
       "      <th>5</th>\n",
       "      <td>Charlestown</td>\n",
       "      <td>9.442623</td>\n",
       "    </tr>\n",
       "    <tr>\n",
       "      <th>25</th>\n",
       "      <td>South Boston</td>\n",
       "      <td>9.353933</td>\n",
       "    </tr>\n",
       "    <tr>\n",
       "      <th>14</th>\n",
       "      <td>Government Center</td>\n",
       "      <td>9.333333</td>\n",
       "    </tr>\n",
       "    <tr>\n",
       "      <th>21</th>\n",
       "      <td>North End</td>\n",
       "      <td>9.327103</td>\n",
       "    </tr>\n",
       "    <tr>\n",
       "      <th>16</th>\n",
       "      <td>Hyde Park</td>\n",
       "      <td>9.277778</td>\n",
       "    </tr>\n",
       "    <tr>\n",
       "      <th>2</th>\n",
       "      <td>Beacon Hill</td>\n",
       "      <td>9.248366</td>\n",
       "    </tr>\n",
       "    <tr>\n",
       "      <th>26</th>\n",
       "      <td>South End</td>\n",
       "      <td>9.236948</td>\n",
       "    </tr>\n",
       "    <tr>\n",
       "      <th>1</th>\n",
       "      <td>Back Bay</td>\n",
       "      <td>9.127854</td>\n",
       "    </tr>\n",
       "    <tr>\n",
       "      <th>7</th>\n",
       "      <td>Chinatown</td>\n",
       "      <td>9.088889</td>\n",
       "    </tr>\n",
       "  </tbody>\n",
       "</table>\n",
       "</div>"
      ],
      "text/plain": [
       "         neighbourhood  review_scores_value\n",
       "13  Financial District            10.000000\n",
       "18    Leather District             9.800000\n",
       "29        West Roxbury             9.629630\n",
       "22          Roslindale             9.565217\n",
       "3            Brookline             9.500000\n",
       "17       Jamaica Plain             9.460967\n",
       "5          Charlestown             9.442623\n",
       "25        South Boston             9.353933\n",
       "14   Government Center             9.333333\n",
       "21           North End             9.327103\n",
       "16           Hyde Park             9.277778\n",
       "2          Beacon Hill             9.248366\n",
       "26           South End             9.236948\n",
       "1             Back Bay             9.127854\n",
       "7            Chinatown             9.088889"
      ]
     },
     "execution_count": 1604,
     "metadata": {},
     "output_type": "execute_result"
    }
   ],
   "source": [
    "df_temp"
   ]
  },
  {
   "cell_type": "code",
   "execution_count": 1605,
   "metadata": {},
   "outputs": [
    {
     "data": {
      "image/png": "[encoded data removed]",
      "text/plain": [
       "<Figure size 432x288 with 1 Axes>"
      ]
     },
     "metadata": {
      "needs_background": "light"
     },
     "output_type": "display_data"
    }
   ],
   "source": [
    "plt.bar(df_temp.neighbourhood, df_temp.review_scores_value)\n",
    "plt.xticks(rotation=90);"
   ]
  },
  {
   "cell_type": "code",
   "execution_count": 1606,
   "metadata": {},
   "outputs": [
    {
     "data": {
      "image/png": "[encoded data removed]",
      "text/plain": [
       "<Figure size 720x720 with 1 Axes>"
      ]
     },
     "metadata": {
      "needs_background": "light"
     },
     "output_type": "display_data"
    }
   ],
   "source": [
    "from matplotlib.pyplot import figure\n",
    "plt.figure(figsize=(10,10))\n",
    "plt.bar(df_neighbourhood_details['neighbourhood'], df_neighbourhood_details['review_scores_value'].sort_values(ascending=False))\n",
    "plt.xticks(rotation=90);"
   ]
  },
  {
   "cell_type": "markdown",
   "metadata": {},
   "source": [
    "##### Question 5 = Predicting price of the listing space using subset of features. Trying to understand which are most impactful features out of selected ones ."
   ]
  },
  {
   "cell_type": "code",
   "execution_count": 1607,
   "metadata": {},
   "outputs": [
    {
     "data": {
      "text/html": [
       "<div>\n",
       "<style scoped>\n",
       "    .dataframe tbody tr th:only-of-type {\n",
       "        vertical-align: middle;\n",
       "    }\n",
       "\n",
       "    .dataframe tbody tr th {\n",
       "        vertical-align: top;\n",
       "    }\n",
       "\n",
       "    .dataframe thead th {\n",
       "        text-align: right;\n",
       "    }\n",
       "</style>\n",
       "<table border=\"1\" class=\"dataframe\">\n",
       "  <thead>\n",
       "    <tr style=\"text-align: right;\">\n",
       "      <th></th>\n",
       "      <th>price</th>\n",
       "      <th>host_since</th>\n",
       "      <th>host_listings_count</th>\n",
       "      <th>room_type</th>\n",
       "      <th>bathrooms</th>\n",
       "      <th>bedrooms</th>\n",
       "      <th>beds</th>\n",
       "      <th>neighbourhood</th>\n",
       "      <th>zipcode</th>\n",
       "      <th>minimum_nights</th>\n",
       "      <th>maximum_nights</th>\n",
       "      <th>host_since_year</th>\n",
       "      <th>host_since_month</th>\n",
       "      <th>host_since_day</th>\n",
       "      <th>room_type_Entire home/apt</th>\n",
       "      <th>room_type_Private room</th>\n",
       "      <th>room_type_Shared room</th>\n",
       "      <th>room_type_nan</th>\n",
       "    </tr>\n",
       "  </thead>\n",
       "  <tbody>\n",
       "    <tr>\n",
       "      <th>2290</th>\n",
       "      <td>239.0</td>\n",
       "      <td>2014-07-16</td>\n",
       "      <td>21</td>\n",
       "      <td>Entire home/apt</td>\n",
       "      <td>1.0</td>\n",
       "      <td>1.0</td>\n",
       "      <td>1.0</td>\n",
       "      <td>Fenway/Kenmore</td>\n",
       "      <td>2215.0</td>\n",
       "      <td>2</td>\n",
       "      <td>90</td>\n",
       "      <td>2014</td>\n",
       "      <td>7</td>\n",
       "      <td>16</td>\n",
       "      <td>1</td>\n",
       "      <td>0</td>\n",
       "      <td>0</td>\n",
       "      <td>0</td>\n",
       "    </tr>\n",
       "    <tr>\n",
       "      <th>1832</th>\n",
       "      <td>425.0</td>\n",
       "      <td>2012-04-11</td>\n",
       "      <td>1</td>\n",
       "      <td>Entire home/apt</td>\n",
       "      <td>1.0</td>\n",
       "      <td>1.0</td>\n",
       "      <td>1.0</td>\n",
       "      <td>West End</td>\n",
       "      <td>2108.0</td>\n",
       "      <td>2</td>\n",
       "      <td>180</td>\n",
       "      <td>2012</td>\n",
       "      <td>4</td>\n",
       "      <td>11</td>\n",
       "      <td>1</td>\n",
       "      <td>0</td>\n",
       "      <td>0</td>\n",
       "      <td>0</td>\n",
       "    </tr>\n",
       "    <tr>\n",
       "      <th>309</th>\n",
       "      <td>135.0</td>\n",
       "      <td>2013-09-13</td>\n",
       "      <td>1</td>\n",
       "      <td>Entire home/apt</td>\n",
       "      <td>1.0</td>\n",
       "      <td>2.0</td>\n",
       "      <td>3.0</td>\n",
       "      <td>Jamaica Plain</td>\n",
       "      <td>2130.0</td>\n",
       "      <td>2</td>\n",
       "      <td>1125</td>\n",
       "      <td>2013</td>\n",
       "      <td>9</td>\n",
       "      <td>13</td>\n",
       "      <td>1</td>\n",
       "      <td>0</td>\n",
       "      <td>0</td>\n",
       "      <td>0</td>\n",
       "    </tr>\n",
       "  </tbody>\n",
       "</table>\n",
       "</div>"
      ],
      "text/plain": [
       "      price host_since  host_listings_count        room_type  bathrooms  \\\n",
       "2290  239.0 2014-07-16                   21  Entire home/apt        1.0   \n",
       "1832  425.0 2012-04-11                    1  Entire home/apt        1.0   \n",
       "309   135.0 2013-09-13                    1  Entire home/apt        1.0   \n",
       "\n",
       "      bedrooms  beds   neighbourhood  zipcode  minimum_nights  maximum_nights  \\\n",
       "2290       1.0   1.0  Fenway/Kenmore   2215.0               2              90   \n",
       "1832       1.0   1.0        West End   2108.0               2             180   \n",
       "309        2.0   3.0   Jamaica Plain   2130.0               2            1125   \n",
       "\n",
       "      host_since_year  host_since_month  host_since_day  \\\n",
       "2290             2014                 7              16   \n",
       "1832             2012                 4              11   \n",
       "309              2013                 9              13   \n",
       "\n",
       "      room_type_Entire home/apt  room_type_Private room  \\\n",
       "2290                          1                       0   \n",
       "1832                          1                       0   \n",
       "309                           1                       0   \n",
       "\n",
       "      room_type_Shared room  room_type_nan  \n",
       "2290                      0              0  \n",
       "1832                      0              0  \n",
       "309                       0              0  "
      ]
     },
     "execution_count": 1607,
     "metadata": {},
     "output_type": "execute_result"
    }
   ],
   "source": [
    "df_predict_price.sample(3)"
   ]
  },
  {
   "cell_type": "code",
   "execution_count": 1608,
   "metadata": {},
   "outputs": [
    {
     "name": "stdout",
     "output_type": "stream",
     "text": [
      "<class 'pandas.core.frame.DataFrame'>\n",
      "Int64Index: 3037 entries, 0 to 3584\n",
      "Data columns (total 18 columns):\n",
      " #   Column                     Non-Null Count  Dtype         \n",
      "---  ------                     --------------  -----         \n",
      " 0   price                      3037 non-null   float64       \n",
      " 1   host_since                 3037 non-null   datetime64[ns]\n",
      " 2   host_listings_count        3037 non-null   int64         \n",
      " 3   room_type                  3037 non-null   object        \n",
      " 4   bathrooms                  3037 non-null   float64       \n",
      " 5   bedrooms                   3037 non-null   float64       \n",
      " 6   beds                       3037 non-null   float64       \n",
      " 7   neighbourhood              3037 non-null   object        \n",
      " 8   zipcode                    3037 non-null   float64       \n",
      " 9   minimum_nights             3037 non-null   int64         \n",
      " 10  maximum_nights             3037 non-null   int64         \n",
      " 11  host_since_year            3037 non-null   int64         \n",
      " 12  host_since_month           3037 non-null   int64         \n",
      " 13  host_since_day             3037 non-null   int64         \n",
      " 14  room_type_Entire home/apt  3037 non-null   uint8         \n",
      " 15  room_type_Private room     3037 non-null   uint8         \n",
      " 16  room_type_Shared room      3037 non-null   uint8         \n",
      " 17  room_type_nan              3037 non-null   uint8         \n",
      "dtypes: datetime64[ns](1), float64(5), int64(6), object(2), uint8(4)\n",
      "memory usage: 367.8+ KB\n"
     ]
    }
   ],
   "source": [
    "df_predict_price.info()"
   ]
  },
  {
   "cell_type": "code",
   "execution_count": 1609,
   "metadata": {},
   "outputs": [
    {
     "data": {
      "text/plain": [
       "array(['price', 'host_since', 'host_listings_count', 'room_type',\n",
       "       'bathrooms', 'bedrooms', 'beds', 'neighbourhood', 'zipcode',\n",
       "       'minimum_nights', 'maximum_nights', 'host_since_year',\n",
       "       'host_since_month', 'host_since_day', 'room_type_Entire home/apt',\n",
       "       'room_type_Private room', 'room_type_Shared room', 'room_type_nan'],\n",
       "      dtype=object)"
      ]
     },
     "execution_count": 1609,
     "metadata": {},
     "output_type": "execute_result"
    }
   ],
   "source": [
    "df_predict_price.columns.values"
   ]
  },
  {
   "cell_type": "code",
   "execution_count": 1610,
   "metadata": {},
   "outputs": [],
   "source": [
    "X = ['host_listings_count', 'bathrooms', 'bedrooms', 'beds', 'zipcode',\n",
    "       'minimum_nights', 'maximum_nights', 'room_type_Entire home/apt',\n",
    "       'room_type_Private room', 'room_type_Shared room', 'room_type_nan',\n",
    "       'host_since_year', 'host_since_month', 'host_since_day']"
   ]
  },
  {
   "cell_type": "code",
   "execution_count": 1611,
   "metadata": {},
   "outputs": [],
   "source": [
    "y = ['price']"
   ]
  },
  {
   "cell_type": "code",
   "execution_count": 1612,
   "metadata": {},
   "outputs": [],
   "source": [
    "X_train, X_test, y_train, y_test = train_test_split (df_predict_price[X], df_predict_price[y]\\\n",
    "                                                     , test_size = .3, random_state = 42)"
   ]
  },
  {
   "cell_type": "code",
   "execution_count": 1613,
   "metadata": {},
   "outputs": [],
   "source": [
    "lm_model = LinearRegression(normalize=True)"
   ]
  },
  {
   "cell_type": "code",
   "execution_count": 1614,
   "metadata": {},
   "outputs": [
    {
     "data": {
      "text/plain": [
       "LinearRegression(normalize=True)"
      ]
     },
     "execution_count": 1614,
     "metadata": {},
     "output_type": "execute_result"
    }
   ],
   "source": [
    "lm_model.fit(X_train, y_train)"
   ]
  },
  {
   "cell_type": "code",
   "execution_count": 1615,
   "metadata": {},
   "outputs": [],
   "source": [
    "y_pred = lm_model.predict(X_test)"
   ]
  },
  {
   "cell_type": "code",
   "execution_count": 1616,
   "metadata": {},
   "outputs": [],
   "source": [
    "r2_test_score = r2_score(y_test, y_pred)"
   ]
  },
  {
   "cell_type": "code",
   "execution_count": 1617,
   "metadata": {},
   "outputs": [
    {
     "name": "stdout",
     "output_type": "stream",
     "text": [
      "0.23351756822540115\n"
     ]
    }
   ],
   "source": [
    "print(r2_test_score)"
   ]
  },
  {
   "cell_type": "code",
   "execution_count": 1618,
   "metadata": {},
   "outputs": [],
   "source": [
    "mse_score = mean_squared_error(y_test, y_pred)"
   ]
  },
  {
   "cell_type": "code",
   "execution_count": 1619,
   "metadata": {},
   "outputs": [
    {
     "name": "stdout",
     "output_type": "stream",
     "text": [
      "18261.829271055034\n"
     ]
    }
   ],
   "source": [
    "print(mse_score)"
   ]
  },
  {
   "cell_type": "code",
   "execution_count": null,
   "metadata": {},
   "outputs": [],
   "source": []
  },
  {
   "cell_type": "code",
   "execution_count": 1620,
   "metadata": {},
   "outputs": [],
   "source": [
    "X = ['host_listings_count','bathrooms', 'bedrooms', 'room_type_Entire home/apt', \n",
    "       'room_type_Private room', 'room_type_Shared room', 'room_type_nan',\n",
    "       'host_since_year', 'host_since_month', 'host_since_day']"
   ]
  },
  {
   "cell_type": "code",
   "execution_count": 1621,
   "metadata": {},
   "outputs": [],
   "source": [
    "y = ['price']"
   ]
  },
  {
   "cell_type": "code",
   "execution_count": 1622,
   "metadata": {},
   "outputs": [],
   "source": [
    "X_train, X_test, y_train, y_test = train_test_split (df_predict_price[X], df_predict_price[y]\\\n",
    "                                                     , test_size = .5, random_state = 42)"
   ]
  },
  {
   "cell_type": "code",
   "execution_count": 1623,
   "metadata": {},
   "outputs": [],
   "source": [
    "lm_model = LinearRegression(normalize=True)"
   ]
  },
  {
   "cell_type": "code",
   "execution_count": 1624,
   "metadata": {},
   "outputs": [
    {
     "data": {
      "text/plain": [
       "LinearRegression(normalize=True)"
      ]
     },
     "execution_count": 1624,
     "metadata": {},
     "output_type": "execute_result"
    }
   ],
   "source": [
    "lm_model.fit(X_train, y_train)"
   ]
  },
  {
   "cell_type": "code",
   "execution_count": 1625,
   "metadata": {},
   "outputs": [],
   "source": [
    "y_pred = lm_model.predict(X_test)"
   ]
  },
  {
   "cell_type": "code",
   "execution_count": 1626,
   "metadata": {},
   "outputs": [],
   "source": [
    "r2_test_score = r2_score(y_test, y_pred)"
   ]
  },
  {
   "cell_type": "code",
   "execution_count": 1627,
   "metadata": {},
   "outputs": [
    {
     "name": "stdout",
     "output_type": "stream",
     "text": [
      "0.27941615971352785\n"
     ]
    }
   ],
   "source": [
    "print(r2_test_score)"
   ]
  },
  {
   "cell_type": "code",
   "execution_count": 1628,
   "metadata": {},
   "outputs": [],
   "source": [
    "mse_score = mean_squared_error(y_test, y_pred)"
   ]
  },
  {
   "cell_type": "code",
   "execution_count": 1629,
   "metadata": {},
   "outputs": [
    {
     "name": "stdout",
     "output_type": "stream",
     "text": [
      "14977.222514812376\n"
     ]
    }
   ],
   "source": [
    "print(mse_score)"
   ]
  },
  {
   "cell_type": "code",
   "execution_count": 1630,
   "metadata": {},
   "outputs": [
    {
     "data": {
      "text/plain": [
       "(1, 10)"
      ]
     },
     "execution_count": 1630,
     "metadata": {},
     "output_type": "execute_result"
    }
   ],
   "source": [
    "(lm_model.coef_.shape)"
   ]
  },
  {
   "cell_type": "code",
   "execution_count": 1631,
   "metadata": {},
   "outputs": [
    {
     "data": {
      "text/plain": [
       "10"
      ]
     },
     "execution_count": 1631,
     "metadata": {},
     "output_type": "execute_result"
    }
   ],
   "source": [
    "len(lm_model.coef_[0])"
   ]
  },
  {
   "cell_type": "code",
   "execution_count": 1632,
   "metadata": {},
   "outputs": [],
   "source": [
    "coefs = pd.Series((lm_model.coef_[0]), index=X)"
   ]
  },
  {
   "cell_type": "code",
   "execution_count": 1633,
   "metadata": {},
   "outputs": [
    {
     "data": {
      "text/plain": [
       "(10,)"
      ]
     },
     "execution_count": 1633,
     "metadata": {},
     "output_type": "execute_result"
    }
   ],
   "source": [
    "coefs.shape"
   ]
  },
  {
   "cell_type": "code",
   "execution_count": 1634,
   "metadata": {},
   "outputs": [
    {
     "data": {
      "text/plain": [
       "bedrooms                     4.313399e+01\n",
       "bathrooms                    4.158632e+01\n",
       "host_since_month             1.807154e-01\n",
       "host_listings_count          2.346363e-02\n",
       "host_since_year              1.022474e-02\n",
       "host_since_day              -1.876208e-01\n",
       "room_type_Entire home/apt   -4.111379e+15\n",
       "room_type_Private room      -4.111379e+15\n",
       "room_type_Shared room       -4.111379e+15\n",
       "room_type_nan               -4.219002e+15\n",
       "dtype: float64"
      ]
     },
     "execution_count": 1634,
     "metadata": {},
     "output_type": "execute_result"
    }
   ],
   "source": [
    "coefs.sort_values(ascending=False)"
   ]
  },
  {
   "cell_type": "markdown",
   "metadata": {},
   "source": [
    "From the coefficients values we can see that the biggest predictors for the price of a listings are number of bedrooms and bathrooms. This was expected. Another factor deserving attention is host_listings_count. if host has more listings then that is a factor in increasing the price. Room type also affects price in expected sense; if a room is shared it means there is a possibility that the price will go down."
   ]
  },
  {
   "cell_type": "markdown",
   "metadata": {},
   "source": [
    "##### Question 6 = Predicting review_scores_value using subset of features. What are factors that are important causing a listing to get high rating in column review_scores_value?"
   ]
  },
  {
   "cell_type": "code",
   "execution_count": 1635,
   "metadata": {},
   "outputs": [
    {
     "data": {
      "text/html": [
       "<div>\n",
       "<style scoped>\n",
       "    .dataframe tbody tr th:only-of-type {\n",
       "        vertical-align: middle;\n",
       "    }\n",
       "\n",
       "    .dataframe tbody tr th {\n",
       "        vertical-align: top;\n",
       "    }\n",
       "\n",
       "    .dataframe thead th {\n",
       "        text-align: right;\n",
       "    }\n",
       "</style>\n",
       "<table border=\"1\" class=\"dataframe\">\n",
       "  <thead>\n",
       "    <tr style=\"text-align: right;\">\n",
       "      <th></th>\n",
       "      <th>review_scores_value</th>\n",
       "      <th>host_since</th>\n",
       "      <th>host_response_rate</th>\n",
       "      <th>host_acceptance_rate</th>\n",
       "      <th>host_is_superhost</th>\n",
       "      <th>host_identity_verified</th>\n",
       "      <th>neighbourhood</th>\n",
       "      <th>zipcode</th>\n",
       "      <th>price</th>\n",
       "      <th>cleaning_fee</th>\n",
       "      <th>host_response_time_a few days or more</th>\n",
       "      <th>host_response_time_within a day</th>\n",
       "      <th>host_response_time_within a few hours</th>\n",
       "      <th>host_response_time_within an hour</th>\n",
       "      <th>host_response_time_nan</th>\n",
       "    </tr>\n",
       "  </thead>\n",
       "  <tbody>\n",
       "    <tr>\n",
       "      <th>312</th>\n",
       "      <td>10.0</td>\n",
       "      <td>20160623.0</td>\n",
       "      <td>100.0</td>\n",
       "      <td>100.0</td>\n",
       "      <td>False</td>\n",
       "      <td>True</td>\n",
       "      <td>Jamaica Plain</td>\n",
       "      <td>2130.0</td>\n",
       "      <td>70.0</td>\n",
       "      <td>10.0</td>\n",
       "      <td>0</td>\n",
       "      <td>0</td>\n",
       "      <td>0</td>\n",
       "      <td>1</td>\n",
       "      <td>0</td>\n",
       "    </tr>\n",
       "    <tr>\n",
       "      <th>384</th>\n",
       "      <td>9.0</td>\n",
       "      <td>20140801.0</td>\n",
       "      <td>73.0</td>\n",
       "      <td>100.0</td>\n",
       "      <td>False</td>\n",
       "      <td>True</td>\n",
       "      <td>Jamaica Plain</td>\n",
       "      <td>2130.0</td>\n",
       "      <td>49.0</td>\n",
       "      <td>50.0</td>\n",
       "      <td>0</td>\n",
       "      <td>0</td>\n",
       "      <td>1</td>\n",
       "      <td>0</td>\n",
       "      <td>0</td>\n",
       "    </tr>\n",
       "    <tr>\n",
       "      <th>1848</th>\n",
       "      <td>9.0</td>\n",
       "      <td>20120302.0</td>\n",
       "      <td>97.0</td>\n",
       "      <td>95.0</td>\n",
       "      <td>False</td>\n",
       "      <td>True</td>\n",
       "      <td>Beacon Hill</td>\n",
       "      <td>2114.0</td>\n",
       "      <td>133.0</td>\n",
       "      <td>50.0</td>\n",
       "      <td>0</td>\n",
       "      <td>0</td>\n",
       "      <td>0</td>\n",
       "      <td>1</td>\n",
       "      <td>0</td>\n",
       "    </tr>\n",
       "  </tbody>\n",
       "</table>\n",
       "</div>"
      ],
      "text/plain": [
       "      review_scores_value  host_since  host_response_rate  \\\n",
       "312                  10.0  20160623.0               100.0   \n",
       "384                   9.0  20140801.0                73.0   \n",
       "1848                  9.0  20120302.0                97.0   \n",
       "\n",
       "      host_acceptance_rate  host_is_superhost  host_identity_verified  \\\n",
       "312                  100.0              False                    True   \n",
       "384                  100.0              False                    True   \n",
       "1848                  95.0              False                    True   \n",
       "\n",
       "      neighbourhood  zipcode  price  cleaning_fee  \\\n",
       "312   Jamaica Plain   2130.0   70.0          10.0   \n",
       "384   Jamaica Plain   2130.0   49.0          50.0   \n",
       "1848    Beacon Hill   2114.0  133.0          50.0   \n",
       "\n",
       "      host_response_time_a few days or more  host_response_time_within a day  \\\n",
       "312                                       0                                0   \n",
       "384                                       0                                0   \n",
       "1848                                      0                                0   \n",
       "\n",
       "      host_response_time_within a few hours  \\\n",
       "312                                       0   \n",
       "384                                       1   \n",
       "1848                                      0   \n",
       "\n",
       "      host_response_time_within an hour  host_response_time_nan  \n",
       "312                                   1                       0  \n",
       "384                                   0                       0  \n",
       "1848                                  1                       0  "
      ]
     },
     "execution_count": 1635,
     "metadata": {},
     "output_type": "execute_result"
    }
   ],
   "source": [
    "df_predict_review_scores_value.sample(3)"
   ]
  },
  {
   "cell_type": "code",
   "execution_count": 1636,
   "metadata": {},
   "outputs": [
    {
     "data": {
      "text/plain": [
       "Index(['review_scores_value', 'host_since', 'host_response_rate',\n",
       "       'host_acceptance_rate', 'host_is_superhost', 'host_identity_verified',\n",
       "       'neighbourhood', 'zipcode', 'price', 'cleaning_fee',\n",
       "       'host_response_time_a few days or more',\n",
       "       'host_response_time_within a day',\n",
       "       'host_response_time_within a few hours',\n",
       "       'host_response_time_within an hour', 'host_response_time_nan'],\n",
       "      dtype='object')"
      ]
     },
     "execution_count": 1636,
     "metadata": {},
     "output_type": "execute_result"
    }
   ],
   "source": [
    "df_predict_review_scores_value.columns"
   ]
  },
  {
   "cell_type": "code",
   "execution_count": 1637,
   "metadata": {},
   "outputs": [
    {
     "name": "stdout",
     "output_type": "stream",
     "text": [
      "<class 'pandas.core.frame.DataFrame'>\n",
      "Int64Index: 2357 entries, 1 to 3583\n",
      "Data columns (total 15 columns):\n",
      " #   Column                                 Non-Null Count  Dtype  \n",
      "---  ------                                 --------------  -----  \n",
      " 0   review_scores_value                    2357 non-null   float64\n",
      " 1   host_since                             2357 non-null   float64\n",
      " 2   host_response_rate                     2357 non-null   float64\n",
      " 3   host_acceptance_rate                   2357 non-null   float64\n",
      " 4   host_is_superhost                      2357 non-null   bool   \n",
      " 5   host_identity_verified                 2357 non-null   bool   \n",
      " 6   neighbourhood                          2357 non-null   object \n",
      " 7   zipcode                                2357 non-null   float64\n",
      " 8   price                                  2357 non-null   float64\n",
      " 9   cleaning_fee                           2357 non-null   float64\n",
      " 10  host_response_time_a few days or more  2357 non-null   uint8  \n",
      " 11  host_response_time_within a day        2357 non-null   uint8  \n",
      " 12  host_response_time_within a few hours  2357 non-null   uint8  \n",
      " 13  host_response_time_within an hour      2357 non-null   uint8  \n",
      " 14  host_response_time_nan                 2357 non-null   uint8  \n",
      "dtypes: bool(2), float64(7), object(1), uint8(5)\n",
      "memory usage: 181.8+ KB\n"
     ]
    }
   ],
   "source": [
    "df_predict_review_scores_value.info()"
   ]
  },
  {
   "cell_type": "code",
   "execution_count": 1638,
   "metadata": {},
   "outputs": [],
   "source": [
    "X = ['host_since', 'host_response_rate',\n",
    "       'host_acceptance_rate', 'host_is_superhost', 'host_identity_verified',\n",
    "       'zipcode', 'price', 'cleaning_fee',\n",
    "       'host_response_time_a few days or more',\n",
    "       'host_response_time_within a day',\n",
    "       'host_response_time_within a few hours',\n",
    "       'host_response_time_within an hour', 'host_response_time_nan']"
   ]
  },
  {
   "cell_type": "code",
   "execution_count": 1639,
   "metadata": {},
   "outputs": [],
   "source": [
    "y = ['review_scores_value']"
   ]
  },
  {
   "cell_type": "code",
   "execution_count": 1640,
   "metadata": {},
   "outputs": [
    {
     "data": {
      "text/plain": [
       "review_scores_value                      False\n",
       "host_since                               False\n",
       "host_response_rate                       False\n",
       "host_acceptance_rate                     False\n",
       "host_is_superhost                        False\n",
       "host_identity_verified                   False\n",
       "neighbourhood                            False\n",
       "zipcode                                  False\n",
       "price                                    False\n",
       "cleaning_fee                             False\n",
       "host_response_time_a few days or more    False\n",
       "host_response_time_within a day          False\n",
       "host_response_time_within a few hours    False\n",
       "host_response_time_within an hour        False\n",
       "host_response_time_nan                   False\n",
       "dtype: bool"
      ]
     },
     "execution_count": 1640,
     "metadata": {},
     "output_type": "execute_result"
    }
   ],
   "source": [
    "df_predict_review_scores_value.isna().any()"
   ]
  },
  {
   "cell_type": "code",
   "execution_count": 1641,
   "metadata": {},
   "outputs": [
    {
     "data": {
      "text/html": [
       "<div>\n",
       "<style scoped>\n",
       "    .dataframe tbody tr th:only-of-type {\n",
       "        vertical-align: middle;\n",
       "    }\n",
       "\n",
       "    .dataframe tbody tr th {\n",
       "        vertical-align: top;\n",
       "    }\n",
       "\n",
       "    .dataframe thead th {\n",
       "        text-align: right;\n",
       "    }\n",
       "</style>\n",
       "<table border=\"1\" class=\"dataframe\">\n",
       "  <thead>\n",
       "    <tr style=\"text-align: right;\">\n",
       "      <th></th>\n",
       "      <th>host_since</th>\n",
       "      <th>host_response_rate</th>\n",
       "      <th>host_acceptance_rate</th>\n",
       "      <th>host_is_superhost</th>\n",
       "      <th>host_identity_verified</th>\n",
       "      <th>zipcode</th>\n",
       "      <th>price</th>\n",
       "      <th>cleaning_fee</th>\n",
       "      <th>host_response_time_a few days or more</th>\n",
       "      <th>host_response_time_within a day</th>\n",
       "      <th>host_response_time_within a few hours</th>\n",
       "      <th>host_response_time_within an hour</th>\n",
       "      <th>host_response_time_nan</th>\n",
       "    </tr>\n",
       "  </thead>\n",
       "  <tbody>\n",
       "    <tr>\n",
       "      <th>1675</th>\n",
       "      <td>20160426.0</td>\n",
       "      <td>95.629761</td>\n",
       "      <td>85.180997</td>\n",
       "      <td>False</td>\n",
       "      <td>False</td>\n",
       "      <td>2128.0</td>\n",
       "      <td>225.0</td>\n",
       "      <td>68.152443</td>\n",
       "      <td>0</td>\n",
       "      <td>0</td>\n",
       "      <td>0</td>\n",
       "      <td>0</td>\n",
       "      <td>1</td>\n",
       "    </tr>\n",
       "    <tr>\n",
       "      <th>3263</th>\n",
       "      <td>20111117.0</td>\n",
       "      <td>100.000000</td>\n",
       "      <td>100.000000</td>\n",
       "      <td>False</td>\n",
       "      <td>True</td>\n",
       "      <td>2127.0</td>\n",
       "      <td>175.0</td>\n",
       "      <td>25.000000</td>\n",
       "      <td>0</td>\n",
       "      <td>0</td>\n",
       "      <td>0</td>\n",
       "      <td>1</td>\n",
       "      <td>0</td>\n",
       "    </tr>\n",
       "    <tr>\n",
       "      <th>3332</th>\n",
       "      <td>20110414.0</td>\n",
       "      <td>100.000000</td>\n",
       "      <td>87.000000</td>\n",
       "      <td>True</td>\n",
       "      <td>False</td>\n",
       "      <td>2134.0</td>\n",
       "      <td>189.0</td>\n",
       "      <td>68.152443</td>\n",
       "      <td>0</td>\n",
       "      <td>0</td>\n",
       "      <td>1</td>\n",
       "      <td>0</td>\n",
       "      <td>0</td>\n",
       "    </tr>\n",
       "  </tbody>\n",
       "</table>\n",
       "</div>"
      ],
      "text/plain": [
       "      host_since  host_response_rate  host_acceptance_rate  host_is_superhost  \\\n",
       "1675  20160426.0           95.629761             85.180997              False   \n",
       "3263  20111117.0          100.000000            100.000000              False   \n",
       "3332  20110414.0          100.000000             87.000000               True   \n",
       "\n",
       "      host_identity_verified  zipcode  price  cleaning_fee  \\\n",
       "1675                   False   2128.0  225.0     68.152443   \n",
       "3263                    True   2127.0  175.0     25.000000   \n",
       "3332                   False   2134.0  189.0     68.152443   \n",
       "\n",
       "      host_response_time_a few days or more  host_response_time_within a day  \\\n",
       "1675                                      0                                0   \n",
       "3263                                      0                                0   \n",
       "3332                                      0                                0   \n",
       "\n",
       "      host_response_time_within a few hours  \\\n",
       "1675                                      0   \n",
       "3263                                      0   \n",
       "3332                                      1   \n",
       "\n",
       "      host_response_time_within an hour  host_response_time_nan  \n",
       "1675                                  0                       1  \n",
       "3263                                  1                       0  \n",
       "3332                                  0                       0  "
      ]
     },
     "execution_count": 1641,
     "metadata": {},
     "output_type": "execute_result"
    }
   ],
   "source": [
    "df_predict_review_scores_value[X].sample(3)"
   ]
  },
  {
   "cell_type": "code",
   "execution_count": 1642,
   "metadata": {},
   "outputs": [],
   "source": [
    "X_train, X_test, y_train, y_test = train_test_split (df_predict_review_scores_value[X], df_predict_review_scores_value[y]\\\n",
    "                                                     , test_size = .3, random_state = 42)"
   ]
  },
  {
   "cell_type": "code",
   "execution_count": 1643,
   "metadata": {},
   "outputs": [],
   "source": [
    "lm_model = LinearRegression(normalize=True)"
   ]
  },
  {
   "cell_type": "code",
   "execution_count": 1644,
   "metadata": {
    "scrolled": true
   },
   "outputs": [
    {
     "data": {
      "text/plain": [
       "LinearRegression(normalize=True)"
      ]
     },
     "execution_count": 1644,
     "metadata": {},
     "output_type": "execute_result"
    }
   ],
   "source": [
    "lm_model.fit(X_train, y_train)"
   ]
  },
  {
   "cell_type": "code",
   "execution_count": 1645,
   "metadata": {},
   "outputs": [],
   "source": [
    "y_pred = lm_model.predict(X_test)"
   ]
  },
  {
   "cell_type": "code",
   "execution_count": 1646,
   "metadata": {},
   "outputs": [],
   "source": [
    "r2_test_score = r2_score(y_test, y_pred)"
   ]
  },
  {
   "cell_type": "code",
   "execution_count": 1647,
   "metadata": {},
   "outputs": [
    {
     "name": "stdout",
     "output_type": "stream",
     "text": [
      "0.08291473442553376\n"
     ]
    }
   ],
   "source": [
    "print(r2_test_score)"
   ]
  },
  {
   "cell_type": "code",
   "execution_count": 1648,
   "metadata": {},
   "outputs": [],
   "source": [
    "mse_score = mean_squared_error(y_test, y_pred)"
   ]
  },
  {
   "cell_type": "code",
   "execution_count": 1649,
   "metadata": {},
   "outputs": [
    {
     "name": "stdout",
     "output_type": "stream",
     "text": [
      "0.8803553113154868\n"
     ]
    }
   ],
   "source": [
    "print(mse_score)"
   ]
  },
  {
   "cell_type": "code",
   "execution_count": null,
   "metadata": {},
   "outputs": [],
   "source": []
  },
  {
   "cell_type": "code",
   "execution_count": 1650,
   "metadata": {},
   "outputs": [],
   "source": [
    "coefs = pd.Series((lm_model.coef_[0]), index=X)"
   ]
  },
  {
   "cell_type": "code",
   "execution_count": 1651,
   "metadata": {},
   "outputs": [
    {
     "data": {
      "text/plain": [
       "(13,)"
      ]
     },
     "execution_count": 1651,
     "metadata": {},
     "output_type": "execute_result"
    }
   ],
   "source": [
    "coefs.shape"
   ]
  },
  {
   "cell_type": "code",
   "execution_count": 1652,
   "metadata": {},
   "outputs": [
    {
     "data": {
      "text/plain": [
       "host_is_superhost                        5.693209e-01\n",
       "host_response_time_a few days or more    5.344887e-01\n",
       "host_response_time_within a day          2.727056e-01\n",
       "host_identity_verified                   1.017505e-01\n",
       "host_response_time_nan                   4.463273e-02\n",
       "host_response_rate                       3.708724e-03\n",
       "host_acceptance_rate                     3.419968e-03\n",
       "price                                    4.278628e-04\n",
       "host_since                               1.979361e-06\n",
       "zipcode                                 -4.279859e-10\n",
       "cleaning_fee                            -1.484054e-03\n",
       "host_response_time_within an hour       -6.146597e-02\n",
       "host_response_time_within a few hours   -1.031090e-01\n",
       "dtype: float64"
      ]
     },
     "execution_count": 1652,
     "metadata": {},
     "output_type": "execute_result"
    }
   ],
   "source": [
    "coefs.sort_values(ascending=False)"
   ]
  },
  {
   "cell_type": "markdown",
   "metadata": {},
   "source": [
    "From selected features ones that are most influencial in predicting review_scores_value are host_is_superhost. This sounds expected as the name suggests the host is superhost so we do expect him/her to have high ratings. \n",
    "\n",
    "Surprising result is host response time of few days as opposed to within a day is stronger contributor to getting high rating. It tells us that there is more to a customer giving high ratings then just quickness of the reply from the host. \n",
    "\n",
    "As expected cleaning fee has negative influence on rating but it is not too much which sounds normal. \n",
    "\n",
    "The feature of host_since did not turn out to be a strong one which was surprising, it tells us that just customers do not care just about how long a host has been in business. These all show correlation and not causation, so other factors play role as well."
   ]
  },
  {
   "cell_type": "markdown",
   "metadata": {},
   "source": [
    "##### Question 7 = what are factors that cause a listing to be booked a lot?  Predicting average availability of a listing."
   ]
  },
  {
   "cell_type": "code",
   "execution_count": 1653,
   "metadata": {},
   "outputs": [
    {
     "data": {
      "text/html": [
       "<div>\n",
       "<style scoped>\n",
       "    .dataframe tbody tr th:only-of-type {\n",
       "        vertical-align: middle;\n",
       "    }\n",
       "\n",
       "    .dataframe tbody tr th {\n",
       "        vertical-align: top;\n",
       "    }\n",
       "\n",
       "    .dataframe thead th {\n",
       "        text-align: right;\n",
       "    }\n",
       "</style>\n",
       "<table border=\"1\" class=\"dataframe\">\n",
       "  <thead>\n",
       "    <tr style=\"text-align: right;\">\n",
       "      <th></th>\n",
       "      <th>average_availability</th>\n",
       "      <th>host_since</th>\n",
       "      <th>neighbourhood</th>\n",
       "      <th>street</th>\n",
       "      <th>zipcode</th>\n",
       "      <th>bathrooms</th>\n",
       "      <th>beds</th>\n",
       "      <th>price</th>\n",
       "      <th>number_of_reviews</th>\n",
       "      <th>review_scores_value</th>\n",
       "      <th>require_guest_phone_verification</th>\n",
       "    </tr>\n",
       "  </thead>\n",
       "  <tbody>\n",
       "    <tr>\n",
       "      <th>8</th>\n",
       "      <td>0.950685</td>\n",
       "      <td>20121024.0</td>\n",
       "      <td>Roslindale</td>\n",
       "      <td>Sycamore St, Roslindale, MA 02131, United States</td>\n",
       "      <td>2131.0</td>\n",
       "      <td>1.0</td>\n",
       "      <td>2.0</td>\n",
       "      <td>58.0</td>\n",
       "      <td>65</td>\n",
       "      <td>10.0</td>\n",
       "      <td>False</td>\n",
       "    </tr>\n",
       "    <tr>\n",
       "      <th>585</th>\n",
       "      <td>1.000000</td>\n",
       "      <td>20090710.0</td>\n",
       "      <td>Chinatown</td>\n",
       "      <td>Washington Street, Boston, MA 02111, United St...</td>\n",
       "      <td>2111.0</td>\n",
       "      <td>1.0</td>\n",
       "      <td>1.0</td>\n",
       "      <td>349.0</td>\n",
       "      <td>4</td>\n",
       "      <td>10.0</td>\n",
       "      <td>True</td>\n",
       "    </tr>\n",
       "    <tr>\n",
       "      <th>290</th>\n",
       "      <td>0.446575</td>\n",
       "      <td>20130105.0</td>\n",
       "      <td>Jamaica Plain</td>\n",
       "      <td>Centre Street, Boston, MA 02130, United States</td>\n",
       "      <td>2130.0</td>\n",
       "      <td>1.0</td>\n",
       "      <td>1.0</td>\n",
       "      <td>75.0</td>\n",
       "      <td>22</td>\n",
       "      <td>9.0</td>\n",
       "      <td>False</td>\n",
       "    </tr>\n",
       "  </tbody>\n",
       "</table>\n",
       "</div>"
      ],
      "text/plain": [
       "     average_availability  host_since  neighbourhood  \\\n",
       "8                0.950685  20121024.0     Roslindale   \n",
       "585              1.000000  20090710.0      Chinatown   \n",
       "290              0.446575  20130105.0  Jamaica Plain   \n",
       "\n",
       "                                                street  zipcode  bathrooms  \\\n",
       "8     Sycamore St, Roslindale, MA 02131, United States   2131.0        1.0   \n",
       "585  Washington Street, Boston, MA 02111, United St...   2111.0        1.0   \n",
       "290     Centre Street, Boston, MA 02130, United States   2130.0        1.0   \n",
       "\n",
       "     beds  price  number_of_reviews  review_scores_value  \\\n",
       "8     2.0   58.0                 65                 10.0   \n",
       "585   1.0  349.0                  4                 10.0   \n",
       "290   1.0   75.0                 22                  9.0   \n",
       "\n",
       "     require_guest_phone_verification  \n",
       "8                               False  \n",
       "585                              True  \n",
       "290                             False  "
      ]
     },
     "execution_count": 1653,
     "metadata": {},
     "output_type": "execute_result"
    }
   ],
   "source": [
    "df_predict_listing_average_availability.sample(3)"
   ]
  },
  {
   "cell_type": "code",
   "execution_count": 1654,
   "metadata": {},
   "outputs": [
    {
     "data": {
      "text/plain": [
       "average_availability                False\n",
       "host_since                          False\n",
       "neighbourhood                       False\n",
       "street                              False\n",
       "zipcode                             False\n",
       "bathrooms                           False\n",
       "beds                                False\n",
       "price                               False\n",
       "number_of_reviews                   False\n",
       "review_scores_value                 False\n",
       "require_guest_phone_verification    False\n",
       "dtype: bool"
      ]
     },
     "execution_count": 1654,
     "metadata": {},
     "output_type": "execute_result"
    }
   ],
   "source": [
    "df_predict_listing_average_availability.isna().any()"
   ]
  },
  {
   "cell_type": "code",
   "execution_count": 1655,
   "metadata": {},
   "outputs": [
    {
     "name": "stdout",
     "output_type": "stream",
     "text": [
      "<class 'pandas.core.frame.DataFrame'>\n",
      "Int64Index: 2357 entries, 1 to 3583\n",
      "Data columns (total 11 columns):\n",
      " #   Column                            Non-Null Count  Dtype  \n",
      "---  ------                            --------------  -----  \n",
      " 0   average_availability              2357 non-null   float64\n",
      " 1   host_since                        2357 non-null   float64\n",
      " 2   neighbourhood                     2357 non-null   object \n",
      " 3   street                            2357 non-null   object \n",
      " 4   zipcode                           2357 non-null   float64\n",
      " 5   bathrooms                         2357 non-null   float64\n",
      " 6   beds                              2357 non-null   float64\n",
      " 7   price                             2357 non-null   float64\n",
      " 8   number_of_reviews                 2357 non-null   int64  \n",
      " 9   review_scores_value               2357 non-null   float64\n",
      " 10  require_guest_phone_verification  2357 non-null   bool   \n",
      "dtypes: bool(1), float64(7), int64(1), object(2)\n",
      "memory usage: 204.9+ KB\n"
     ]
    }
   ],
   "source": [
    "df_predict_listing_average_availability.info()"
   ]
  },
  {
   "cell_type": "code",
   "execution_count": 1656,
   "metadata": {},
   "outputs": [
    {
     "data": {
      "text/plain": [
       "Index(['average_availability', 'host_since', 'neighbourhood', 'street',\n",
       "       'zipcode', 'bathrooms', 'beds', 'price', 'number_of_reviews',\n",
       "       'review_scores_value', 'require_guest_phone_verification'],\n",
       "      dtype='object')"
      ]
     },
     "execution_count": 1656,
     "metadata": {},
     "output_type": "execute_result"
    }
   ],
   "source": [
    "df_predict_listing_average_availability.columns"
   ]
  },
  {
   "cell_type": "code",
   "execution_count": 1657,
   "metadata": {},
   "outputs": [],
   "source": [
    "X = ['host_since', 'zipcode', 'bathrooms', 'beds', 'price', 'number_of_reviews',\n",
    "       'review_scores_value', 'require_guest_phone_verification']"
   ]
  },
  {
   "cell_type": "code",
   "execution_count": 1658,
   "metadata": {},
   "outputs": [],
   "source": [
    "y = ['average_availability']"
   ]
  },
  {
   "cell_type": "code",
   "execution_count": 1659,
   "metadata": {},
   "outputs": [],
   "source": [
    "X_train, X_test, y_train, y_test = train_test_split (df_predict_listing_average_availability[X], df_predict_listing_average_availability[y]\\\n",
    "                                                     , test_size = .3, random_state = 42)"
   ]
  },
  {
   "cell_type": "code",
   "execution_count": 1660,
   "metadata": {},
   "outputs": [],
   "source": [
    "lm_model = LinearRegression(normalize=True)"
   ]
  },
  {
   "cell_type": "code",
   "execution_count": 1661,
   "metadata": {
    "scrolled": true
   },
   "outputs": [
    {
     "data": {
      "text/plain": [
       "LinearRegression(normalize=True)"
      ]
     },
     "execution_count": 1661,
     "metadata": {},
     "output_type": "execute_result"
    }
   ],
   "source": [
    "lm_model.fit(X_train, y_train)"
   ]
  },
  {
   "cell_type": "code",
   "execution_count": 1662,
   "metadata": {},
   "outputs": [],
   "source": [
    "y_pred = lm_model.predict(X_test)"
   ]
  },
  {
   "cell_type": "code",
   "execution_count": 1663,
   "metadata": {},
   "outputs": [],
   "source": [
    "r2_test_score = r2_score(y_test, y_pred)"
   ]
  },
  {
   "cell_type": "code",
   "execution_count": 1664,
   "metadata": {},
   "outputs": [
    {
     "name": "stdout",
     "output_type": "stream",
     "text": [
      "0.12605500467411512\n"
     ]
    }
   ],
   "source": [
    "print(r2_test_score)"
   ]
  },
  {
   "cell_type": "code",
   "execution_count": 1665,
   "metadata": {},
   "outputs": [],
   "source": [
    "mse_score = mean_squared_error(y_test, y_pred)"
   ]
  },
  {
   "cell_type": "code",
   "execution_count": 1666,
   "metadata": {},
   "outputs": [
    {
     "name": "stdout",
     "output_type": "stream",
     "text": [
      "0.12816943654688834\n"
     ]
    }
   ],
   "source": [
    "print(mse_score)"
   ]
  },
  {
   "cell_type": "code",
   "execution_count": 1667,
   "metadata": {},
   "outputs": [],
   "source": [
    "coefs = pd.Series((lm_model.coef_[0]), index=X)"
   ]
  },
  {
   "cell_type": "code",
   "execution_count": 1668,
   "metadata": {},
   "outputs": [
    {
     "data": {
      "text/plain": [
       "(8,)"
      ]
     },
     "execution_count": 1668,
     "metadata": {},
     "output_type": "execute_result"
    }
   ],
   "source": [
    "coefs.shape"
   ]
  },
  {
   "cell_type": "code",
   "execution_count": 1669,
   "metadata": {},
   "outputs": [
    {
     "data": {
      "text/plain": [
       "bathrooms                           4.128586e-02\n",
       "require_guest_phone_verification    2.583784e-02\n",
       "number_of_reviews                   1.795930e-03\n",
       "price                               3.194425e-04\n",
       "zipcode                            -7.279212e-10\n",
       "host_since                         -4.049402e-06\n",
       "beds                               -7.161541e-03\n",
       "review_scores_value                -2.815932e-02\n",
       "dtype: float64"
      ]
     },
     "execution_count": 1669,
     "metadata": {},
     "output_type": "execute_result"
    }
   ],
   "source": [
    "coefs.sort_values(ascending=False)"
   ]
  },
  {
   "cell_type": "markdown",
   "metadata": {},
   "source": [
    "This question was about predicting average availability of listing. Interpretation of these coefficients could tell us what are important factors causing a listing to be booked.\n",
    "\n",
    "More bathrooms a listing has more available it is. This is an indication that big listings/apartments are not booked that much.\n",
    "\n",
    "Second factor is require_guest_phone_verification. Now this is an interesting one. Availability increase is correlated to needing guests perform phone verification. This could mean that some customers are lost as they are not willing to do the verification for privacy reasons or personal reasons or whatever the reason is.\n",
    "\n",
    "As expected if the price is high it leads to listing not being booked a lot.\n",
    "\n",
    "Coefficient of beds is very surprising, it indicates that increase in availability correlates to reduciton in beds that are in the listing. \n",
    "\n",
    "Also as anticipated listings with low scores are not booked as much.\n"
   ]
  },
  {
   "cell_type": "markdown",
   "metadata": {},
   "source": [
    "<li><a href=\"#TOC\">Back To Table Of Contents</a></li>"
   ]
  },
  {
   "cell_type": "markdown",
   "metadata": {},
   "source": [
    "<a id='results_evaluation'></a>\n",
    "## Results Evaluation\n",
    "\n",
    "> **Tip**: Evaluation in this step is with regards to the business value this analysis, modeling provides. Therefore the analysis will be from the point of view of the stakeholder.\n",
    "<br>This section should make sense to non technical as well as technical audience.\n",
    "\n",
    "Earlier step showed accuracy of the model. In this section we assess the degree to which the model meets business objectives and seek to determine if there is some business reason why this model is deficient.\n",
    "\n",
    "In this section we will provide summary of each quesiton/model from business success criteria.\n",
    "\n",
    "What are the next steps? Do we need to work more on some models? That also gets mentioned at the end of the section."
   ]
  },
  {
   "cell_type": "markdown",
   "metadata": {},
   "source": [
    "1. Finding ranking of zipcodes based on listings belonging to that zipcode being booked. Based on the analysis conducted on the dataset using descriptive statistics we can see that top one is 02108 and last one is 02472.\n",
    "With this knowledge we get better handle on understanding which zipcodes should be focused on for increasing business.\n",
    "<br>\n",
    "\n",
    "2. Similar to earlier insight this insight finds zipcodes ranking based on reviews provided by customers. We can see that the leader is 02108 again. Thing to note in this insight is by looking at the graph we see we do not have lot of fluctuating values when it comes to ranking.\n",
    "<br>\n",
    "\n",
    "3. Similar to finding zipcodes booked more compared to others it is also important to discover neighbourhoods with listings being booked a lot. This is what we did in this question. Similar to earlier questions we use descriptive statistics and realize that the top neighbourhood is Government Center.\n",
    "<br>\n",
    "\n",
    "4. Which neighbourhoods are leaders in getting high reviews? Top 3 are Financial District, Leather District and West Roxbury. Thing to note here is that similar to zipcode reviews, neighbourhood reviews also do not contain lot of fluctuations.\n",
    "\n",
    "\n",
    "5. In this question we tried to predict price of the listing space using subset of features and later we want to understand which features are most important ones. Unfortunately the accuracy parameters we employed tell us that the model is not very accurate thereby indicating that collection of features count of host listings, number of bathrooms, bedrooms, type of rooms combined with period for which host has been in business does not provide us with accurate model.\n",
    "\n",
    "\n",
    "6. Now we move on to predicting review score using features related to host; how long he/she has been host, response rate, acceptance rate, price, neighbourhood of the listing and so on. In this model out of 2 parameters of accuracy we got a good score on 1. Following on that the factors most imprtant are related to host profile followed by price and address.\n",
    "\n",
    "\n",
    "7. What are things that might be causing a listing to be available compared to other listings? We develop a model to answer this question with input of combination of features related to listing, host. In this model as well out of 2 parameters of accuracy we got a good score on 1. Following on that the factors most imprtant are related to how many bathrooms it has; implying that apartments with lot of bathrooms are available more; simply stated big listings are available more compared to smaller listings. If booking a listing needs the guest to have his/her phone number verified, that might pose as discouragement for booking that listing. In the end price also acts as important motivator for listing being available or not available.\n",
    "\n"
   ]
  },
  {
   "cell_type": "markdown",
   "metadata": {},
   "source": [
    "<li><a href=\"#TOC\">Back To Table Of Contents</a></li>"
   ]
  },
  {
   "cell_type": "markdown",
   "metadata": {},
   "source": [
    "<a id='deploy_solution'></a>\n",
    "## Deployment\n"
   ]
  },
  {
   "cell_type": "markdown",
   "metadata": {},
   "source": [
    "<li><a href=\"#TOC\">Back To Table Of Contents</a></li>"
   ]
  },
  {
   "cell_type": "markdown",
   "metadata": {},
   "source": [
    "<a id='conclusions'></a>\n",
    "## Conclusions\n"
   ]
  },
  {
   "cell_type": "markdown",
   "metadata": {},
   "source": [
    "We proposed seven questions in this analysis with the pursuit of finding actionable insights for future strategy planning.\n",
    "\n",
    "\n",
    "1. In questions 1 and 2 we have discovered insights related to booking availability and user reviews classified on zipcodes where the listings are located. This information can be used to get view of the data at zipcode level.\n",
    "\n",
    "\n",
    "2. In questions 3 and 4 we go 1 level deeper compared to earlier questions and find information related to same parameters; booking availability and user reviews but at neighbourhood level. This information allows us to understand things at neighbourhood level as lot of times neighbourhoods contain some factors such as tourist attractions, access to public transport which could affect business of AirBnB. Therefore looking at available data from this perspective is also useful.\n",
    "\n",
    "\n",
    "3. In question 5 in an attempt to Predict price of a listing using subset of features we did not get good accuracy scores over mean squared errors and r2. \n",
    "\n",
    "\n",
    "3. Question 6 entailed predicting review scores of a listing based on subset of features. Over here out of r2 and mean squared error we got a good score for mean squared error and further look at the model tells us that factors related to host are more important than price.\n",
    "\n",
    "\n",
    "4. Question 7 endeavors to predict and find what features are related to the listing being booked a lot compared to other listings. Due to good mean squared error we can see factors hinting that small apartments are quick to get booked, pricier the apartment more chances of being available.\n"
   ]
  },
  {
   "cell_type": "markdown",
   "metadata": {},
   "source": [
    "<li><a href=\"#TOC\">Back To Table Of Contents</a></li>"
   ]
  },
  {
   "cell_type": "code",
   "execution_count": null,
   "metadata": {},
   "outputs": [],
   "source": []
  }
 ],
 "metadata": {
  "kernelspec": {
   "display_name": "Python 3",
   "language": "python",
   "name": "python3"
  },
  "language_info": {
   "codemirror_mode": {
    "name": "ipython",
    "version": 3
   },
   "file_extension": ".py",
   "mimetype": "text/x-python",
   "name": "python",
   "nbconvert_exporter": "python",
   "pygments_lexer": "ipython3",
   "version": "3.7.9"
  }
 },
 "nbformat": 4,
 "nbformat_minor": 2
}
