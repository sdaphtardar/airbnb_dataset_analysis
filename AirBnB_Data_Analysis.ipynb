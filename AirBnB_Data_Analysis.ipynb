{
 "cells": [
  {
   "cell_type": "markdown",
   "metadata": {},
   "source": [
    "<a id='TOC'></a>\n",
    "\n",
    "# Project: Investigate Airbnb dataset of Boston and Seattle. \n",
    "\n",
    "## Table of Contents\n",
    "<ul>\n",
    "<li><a href=\"#intro\">Introduction</a></li>\n",
    "<li><a href=\"#business_understanding\">Business Understanding</a></li>\n",
    "<li><a href=\"#data_understanding\">Data Understanding</a></li>\n",
    "<li><a href=\"#data_preparation\">Data Preparation</a></li>\n",
    "<li><a href=\"#modeling\">Modeling</a></li>    \n",
    "<li><a href=\"#results_evaluation\">Results Evaluation</a></li>\n",
    "<li><a href=\"#deploy_solution\">Deployment</a></li>\n",
    "<li><a href=\"#conclusions\">Conclusions</a></li>\n",
    "</ul>"
   ]
  },
  {
   "cell_type": "markdown",
   "metadata": {},
   "source": [
    "<a id='intro'></a>\n",
    "## Introduction\n",
    "\n",
    "Airbnb is a publicly listed company with focus on Lodging industry. It is headquartered in San Francisco but has presence in multiple countries. \n",
    "<br>\n",
    "It works in online marketplace for rental activities.\n",
    "<br><br>\n",
    "Dataset includes 2 cities; Boston and Seattle. Files for each city contain 3 csv (comma separated variable) files containing rental availability calendar, available listings and reviews.\n",
    "<br><br>\n",
    "Objective is to discover actionable insight from the available data so that stakeholders can use that information and strategize business decisions.\n"
   ]
  },
  {
   "cell_type": "markdown",
   "metadata": {},
   "source": [
    "<li><a href=\"#TOC\">Back To Table Of Contents</a></li>"
   ]
  },
  {
   "cell_type": "markdown",
   "metadata": {},
   "source": [
    "Import general packages and graphing capabilities which will be used in all datasets."
   ]
  },
  {
   "cell_type": "code",
   "execution_count": 3,
   "metadata": {},
   "outputs": [],
   "source": [
    "%matplotlib inline\n",
    "import pandas as pd\n",
    "import numpy as np\n",
    "import matplotlib.pyplot as plt\n",
    "import seaborn as sns\n",
    "import seaborn as sklearn\n"
   ]
  },
  {
   "cell_type": "markdown",
   "metadata": {},
   "source": [
    "<a id='business_understanding'></a>\n",
    "## Business Understanding\n",
    "\n",
    "Business model of Airbnb is based on revenue earning through comission for providing rental listings to end users. people willing to rent put up the listing/s on Airbnb website and customers book it through Airbnb. \n",
    "<br><br>\n",
    "Based on the data available objective of this analysis is going to be to discover factors behind several situations; e.g. which neighborhoods are always overbooked? what exactly causes that? is it because of the surrounding area or the rental facilities are very good? knowledge about these things can tell Airbnb how they can approach the situation. Maybe the listings are not very good, or the service provided is not upto the mark. whatever the reason understanding what are the environmental factors is the first step towards the improvement."
   ]
  },
  {
   "cell_type": "markdown",
   "metadata": {},
   "source": [
    "<li><a href=\"#TOC\">Back To Table Of Contents</a></li>"
   ]
  },
  {
   "cell_type": "markdown",
   "metadata": {},
   "source": [
    "<a id='data_understanding'></a>\n",
    "## Data Understanding\n",
    "\n",
    "Amongst many Objectives of this stage prime one is to get familiar with the data. The familiarity has potential to discovering features of interest for mining activities.\n"
   ]
  },
  {
   "cell_type": "markdown",
   "metadata": {},
   "source": [
    "Import the data"
   ]
  },
  {
   "cell_type": "code",
   "execution_count": 4,
   "metadata": {},
   "outputs": [],
   "source": [
    "df_boston_calendar = pd.read_csv('Boston-calendar.csv')  \n",
    "df_boston_listings =  pd.read_csv('Boston-listings.csv')\n",
    "df_boston_reviews = pd.read_csv('Boston-reviews.csv')\n",
    "df_seattle_calendar = pd.read_csv('Seattle-calendar.csv')\n",
    "df_seattle_listings = pd.read_csv('Seattle-listings.csv')\n",
    "df_seattle_reviews = pd.read_csv('Seattle-reviews.csv')"
   ]
  },
  {
   "cell_type": "markdown",
   "metadata": {},
   "source": [
    "Making backup of all dataframes "
   ]
  },
  {
   "cell_type": "code",
   "execution_count": 5,
   "metadata": {},
   "outputs": [],
   "source": [
    "backup_df_boston_calendar = df_boston_calendar.copy()\n",
    "backup_df_boston_listings =  df_boston_listings.copy()\n",
    "backup_df_boston_reviews = df_boston_reviews.copy()\n",
    "backup_df_seattle_calendar = df_seattle_calendar.copy()\n",
    "backup_df_seattle_listings = df_seattle_listings.copy()\n",
    "backup_df_seattle_reviews = df_seattle_reviews.copy()"
   ]
  },
  {
   "cell_type": "markdown",
   "metadata": {},
   "source": [
    "FIrst we will focus on dataframes ob Boston dataframes"
   ]
  },
  {
   "cell_type": "markdown",
   "metadata": {},
   "source": [
    "\n",
    "Checkout sample lines of each dataframe"
   ]
  },
  {
   "cell_type": "code",
   "execution_count": 6,
   "metadata": {},
   "outputs": [
    {
     "data": {
      "text/html": [
       "<div>\n",
       "<style scoped>\n",
       "    .dataframe tbody tr th:only-of-type {\n",
       "        vertical-align: middle;\n",
       "    }\n",
       "\n",
       "    .dataframe tbody tr th {\n",
       "        vertical-align: top;\n",
       "    }\n",
       "\n",
       "    .dataframe thead th {\n",
       "        text-align: right;\n",
       "    }\n",
       "</style>\n",
       "<table border=\"1\" class=\"dataframe\">\n",
       "  <thead>\n",
       "    <tr style=\"text-align: right;\">\n",
       "      <th></th>\n",
       "      <th>listing_id</th>\n",
       "      <th>date</th>\n",
       "      <th>available</th>\n",
       "      <th>price</th>\n",
       "    </tr>\n",
       "  </thead>\n",
       "  <tbody>\n",
       "    <tr>\n",
       "      <th>817148</th>\n",
       "      <td>10231714</td>\n",
       "      <td>2017-07-24</td>\n",
       "      <td>f</td>\n",
       "      <td>NaN</td>\n",
       "    </tr>\n",
       "    <tr>\n",
       "      <th>1116715</th>\n",
       "      <td>4435883</td>\n",
       "      <td>2016-12-27</td>\n",
       "      <td>f</td>\n",
       "      <td>NaN</td>\n",
       "    </tr>\n",
       "    <tr>\n",
       "      <th>674849</th>\n",
       "      <td>12648403</td>\n",
       "      <td>2016-10-11</td>\n",
       "      <td>f</td>\n",
       "      <td>NaN</td>\n",
       "    </tr>\n",
       "    <tr>\n",
       "      <th>608251</th>\n",
       "      <td>11618815</td>\n",
       "      <td>2017-03-28</td>\n",
       "      <td>t</td>\n",
       "      <td>$99.00</td>\n",
       "    </tr>\n",
       "    <tr>\n",
       "      <th>942375</th>\n",
       "      <td>13265095</td>\n",
       "      <td>2016-10-30</td>\n",
       "      <td>f</td>\n",
       "      <td>NaN</td>\n",
       "    </tr>\n",
       "    <tr>\n",
       "      <th>83440</th>\n",
       "      <td>1631942</td>\n",
       "      <td>2017-08-02</td>\n",
       "      <td>t</td>\n",
       "      <td>$126.00</td>\n",
       "    </tr>\n",
       "    <tr>\n",
       "      <th>1063415</th>\n",
       "      <td>13574652</td>\n",
       "      <td>2017-03-19</td>\n",
       "      <td>f</td>\n",
       "      <td>NaN</td>\n",
       "    </tr>\n",
       "  </tbody>\n",
       "</table>\n",
       "</div>"
      ],
      "text/plain": [
       "         listing_id        date available    price\n",
       "817148     10231714  2017-07-24         f      NaN\n",
       "1116715     4435883  2016-12-27         f      NaN\n",
       "674849     12648403  2016-10-11         f      NaN\n",
       "608251     11618815  2017-03-28         t   $99.00\n",
       "942375     13265095  2016-10-30         f      NaN\n",
       "83440       1631942  2017-08-02         t  $126.00\n",
       "1063415    13574652  2017-03-19         f      NaN"
      ]
     },
     "execution_count": 6,
     "metadata": {},
     "output_type": "execute_result"
    }
   ],
   "source": [
    "df_boston_calendar.sample(7)"
   ]
  },
  {
   "cell_type": "code",
   "execution_count": 7,
   "metadata": {},
   "outputs": [
    {
     "data": {
      "text/plain": [
       "f    665853\n",
       "t    643037\n",
       "Name: available, dtype: int64"
      ]
     },
     "execution_count": 7,
     "metadata": {},
     "output_type": "execute_result"
    }
   ],
   "source": [
    "df_boston_calendar.available.value_counts()"
   ]
  },
  {
   "cell_type": "code",
   "execution_count": 8,
   "metadata": {},
   "outputs": [
    {
     "data": {
      "text/html": [
       "<div>\n",
       "<style scoped>\n",
       "    .dataframe tbody tr th:only-of-type {\n",
       "        vertical-align: middle;\n",
       "    }\n",
       "\n",
       "    .dataframe tbody tr th {\n",
       "        vertical-align: top;\n",
       "    }\n",
       "\n",
       "    .dataframe thead th {\n",
       "        text-align: right;\n",
       "    }\n",
       "</style>\n",
       "<table border=\"1\" class=\"dataframe\">\n",
       "  <thead>\n",
       "    <tr style=\"text-align: right;\">\n",
       "      <th></th>\n",
       "      <th>id</th>\n",
       "      <th>listing_url</th>\n",
       "      <th>scrape_id</th>\n",
       "      <th>last_scraped</th>\n",
       "      <th>name</th>\n",
       "      <th>summary</th>\n",
       "      <th>space</th>\n",
       "      <th>description</th>\n",
       "      <th>experiences_offered</th>\n",
       "      <th>neighborhood_overview</th>\n",
       "      <th>...</th>\n",
       "      <th>review_scores_value</th>\n",
       "      <th>requires_license</th>\n",
       "      <th>license</th>\n",
       "      <th>jurisdiction_names</th>\n",
       "      <th>instant_bookable</th>\n",
       "      <th>cancellation_policy</th>\n",
       "      <th>require_guest_profile_picture</th>\n",
       "      <th>require_guest_phone_verification</th>\n",
       "      <th>calculated_host_listings_count</th>\n",
       "      <th>reviews_per_month</th>\n",
       "    </tr>\n",
       "  </thead>\n",
       "  <tbody>\n",
       "    <tr>\n",
       "      <th>1032</th>\n",
       "      <td>6810723</td>\n",
       "      <td>https://www.airbnb.com/rooms/6810723</td>\n",
       "      <td>20160906204935</td>\n",
       "      <td>2016-09-07</td>\n",
       "      <td>Columbus By Maverick, TwentyThree</td>\n",
       "      <td>The unit is stylishly designed for comfort, va...</td>\n",
       "      <td>The studio has a private (not shared) bathroom...</td>\n",
       "      <td>The unit is stylishly designed for comfort, va...</td>\n",
       "      <td>none</td>\n",
       "      <td>Bordering the neighborhoods of the South End a...</td>\n",
       "      <td>...</td>\n",
       "      <td>NaN</td>\n",
       "      <td>f</td>\n",
       "      <td>NaN</td>\n",
       "      <td>NaN</td>\n",
       "      <td>f</td>\n",
       "      <td>strict</td>\n",
       "      <td>f</td>\n",
       "      <td>f</td>\n",
       "      <td>50</td>\n",
       "      <td>NaN</td>\n",
       "    </tr>\n",
       "    <tr>\n",
       "      <th>2962</th>\n",
       "      <td>1332786</td>\n",
       "      <td>https://www.airbnb.com/rooms/1332786</td>\n",
       "      <td>20160906204935</td>\n",
       "      <td>2016-09-07</td>\n",
       "      <td>Cozy Sunporch, Quick Downtown</td>\n",
       "      <td>We've converted the first floor sun porch into...</td>\n",
       "      <td>We live in an 18 room 160 year old house that ...</td>\n",
       "      <td>We've converted the first floor sun porch into...</td>\n",
       "      <td>none</td>\n",
       "      <td>A diverse, residential neighborhood with lots ...</td>\n",
       "      <td>...</td>\n",
       "      <td>10.0</td>\n",
       "      <td>f</td>\n",
       "      <td>NaN</td>\n",
       "      <td>NaN</td>\n",
       "      <td>t</td>\n",
       "      <td>flexible</td>\n",
       "      <td>f</td>\n",
       "      <td>f</td>\n",
       "      <td>7</td>\n",
       "      <td>2.82</td>\n",
       "    </tr>\n",
       "    <tr>\n",
       "      <th>405</th>\n",
       "      <td>13968660</td>\n",
       "      <td>https://www.airbnb.com/rooms/13968660</td>\n",
       "      <td>20160906204935</td>\n",
       "      <td>2016-09-07</td>\n",
       "      <td>Charming private bedroom with bath</td>\n",
       "      <td>This great private bedroom is apart of a moder...</td>\n",
       "      <td>Great apartment in a great location. The very ...</td>\n",
       "      <td>This great private bedroom is apart of a moder...</td>\n",
       "      <td>none</td>\n",
       "      <td>Great environment with lots of restaurants, ba...</td>\n",
       "      <td>...</td>\n",
       "      <td>10.0</td>\n",
       "      <td>f</td>\n",
       "      <td>NaN</td>\n",
       "      <td>NaN</td>\n",
       "      <td>f</td>\n",
       "      <td>strict</td>\n",
       "      <td>f</td>\n",
       "      <td>f</td>\n",
       "      <td>1</td>\n",
       "      <td>1.00</td>\n",
       "    </tr>\n",
       "    <tr>\n",
       "      <th>3455</th>\n",
       "      <td>5085125</td>\n",
       "      <td>https://www.airbnb.com/rooms/5085125</td>\n",
       "      <td>20160906204935</td>\n",
       "      <td>2016-09-07</td>\n",
       "      <td>Cozy Private AC Bedroom in Boston</td>\n",
       "      <td>A simple, cozy room in a two-bedroom bedroom a...</td>\n",
       "      <td>You will have a private room with a comfortabl...</td>\n",
       "      <td>A simple, cozy room in a two-bedroom bedroom a...</td>\n",
       "      <td>none</td>\n",
       "      <td>Allston Village, which historically developed ...</td>\n",
       "      <td>...</td>\n",
       "      <td>9.0</td>\n",
       "      <td>f</td>\n",
       "      <td>NaN</td>\n",
       "      <td>NaN</td>\n",
       "      <td>t</td>\n",
       "      <td>strict</td>\n",
       "      <td>f</td>\n",
       "      <td>f</td>\n",
       "      <td>3</td>\n",
       "      <td>6.10</td>\n",
       "    </tr>\n",
       "    <tr>\n",
       "      <th>3056</th>\n",
       "      <td>10053928</td>\n",
       "      <td>https://www.airbnb.com/rooms/10053928</td>\n",
       "      <td>20160906204935</td>\n",
       "      <td>2016-09-07</td>\n",
       "      <td>Beautifully Furnished 1BR Lux Apt.</td>\n",
       "      <td>Luxury high-rise apt. with unparalleled amenit...</td>\n",
       "      <td>Our luxury high-rise apt. is conveniently loca...</td>\n",
       "      <td>Luxury high-rise apt. with unparalleled amenit...</td>\n",
       "      <td>none</td>\n",
       "      <td>NaN</td>\n",
       "      <td>...</td>\n",
       "      <td>NaN</td>\n",
       "      <td>f</td>\n",
       "      <td>NaN</td>\n",
       "      <td>NaN</td>\n",
       "      <td>f</td>\n",
       "      <td>strict</td>\n",
       "      <td>f</td>\n",
       "      <td>f</td>\n",
       "      <td>136</td>\n",
       "      <td>NaN</td>\n",
       "    </tr>\n",
       "    <tr>\n",
       "      <th>2084</th>\n",
       "      <td>8302844</td>\n",
       "      <td>https://www.airbnb.com/rooms/8302844</td>\n",
       "      <td>20160906204935</td>\n",
       "      <td>2016-09-07</td>\n",
       "      <td>Historic servant's quarters</td>\n",
       "      <td>Prime Beacon Hill location.  Cozy does not beg...</td>\n",
       "      <td>Take a small step through history as you enjoy...</td>\n",
       "      <td>Prime Beacon Hill location.  Cozy does not beg...</td>\n",
       "      <td>none</td>\n",
       "      <td>Beacon Hill is one of, if not THE, most histor...</td>\n",
       "      <td>...</td>\n",
       "      <td>9.0</td>\n",
       "      <td>f</td>\n",
       "      <td>NaN</td>\n",
       "      <td>NaN</td>\n",
       "      <td>f</td>\n",
       "      <td>strict</td>\n",
       "      <td>f</td>\n",
       "      <td>f</td>\n",
       "      <td>2</td>\n",
       "      <td>6.70</td>\n",
       "    </tr>\n",
       "    <tr>\n",
       "      <th>3120</th>\n",
       "      <td>7853971</td>\n",
       "      <td>https://www.airbnb.com/rooms/7853971</td>\n",
       "      <td>20160906204935</td>\n",
       "      <td>2016-09-07</td>\n",
       "      <td>Brand New! South Boston 1 bedroom</td>\n",
       "      <td>Brand new property completed July 2015! Locate...</td>\n",
       "      <td>NaN</td>\n",
       "      <td>Brand new property completed July 2015! Locate...</td>\n",
       "      <td>none</td>\n",
       "      <td>NaN</td>\n",
       "      <td>...</td>\n",
       "      <td>10.0</td>\n",
       "      <td>f</td>\n",
       "      <td>NaN</td>\n",
       "      <td>NaN</td>\n",
       "      <td>f</td>\n",
       "      <td>strict</td>\n",
       "      <td>f</td>\n",
       "      <td>f</td>\n",
       "      <td>19</td>\n",
       "      <td>1.25</td>\n",
       "    </tr>\n",
       "  </tbody>\n",
       "</table>\n",
       "<p>7 rows × 95 columns</p>\n",
       "</div>"
      ],
      "text/plain": [
       "            id                            listing_url       scrape_id  \\\n",
       "1032   6810723   https://www.airbnb.com/rooms/6810723  20160906204935   \n",
       "2962   1332786   https://www.airbnb.com/rooms/1332786  20160906204935   \n",
       "405   13968660  https://www.airbnb.com/rooms/13968660  20160906204935   \n",
       "3455   5085125   https://www.airbnb.com/rooms/5085125  20160906204935   \n",
       "3056  10053928  https://www.airbnb.com/rooms/10053928  20160906204935   \n",
       "2084   8302844   https://www.airbnb.com/rooms/8302844  20160906204935   \n",
       "3120   7853971   https://www.airbnb.com/rooms/7853971  20160906204935   \n",
       "\n",
       "     last_scraped                                name  \\\n",
       "1032   2016-09-07   Columbus By Maverick, TwentyThree   \n",
       "2962   2016-09-07       Cozy Sunporch, Quick Downtown   \n",
       "405    2016-09-07  Charming private bedroom with bath   \n",
       "3455   2016-09-07   Cozy Private AC Bedroom in Boston   \n",
       "3056   2016-09-07  Beautifully Furnished 1BR Lux Apt.   \n",
       "2084   2016-09-07         Historic servant's quarters   \n",
       "3120   2016-09-07   Brand New! South Boston 1 bedroom   \n",
       "\n",
       "                                                summary  \\\n",
       "1032  The unit is stylishly designed for comfort, va...   \n",
       "2962  We've converted the first floor sun porch into...   \n",
       "405   This great private bedroom is apart of a moder...   \n",
       "3455  A simple, cozy room in a two-bedroom bedroom a...   \n",
       "3056  Luxury high-rise apt. with unparalleled amenit...   \n",
       "2084  Prime Beacon Hill location.  Cozy does not beg...   \n",
       "3120  Brand new property completed July 2015! Locate...   \n",
       "\n",
       "                                                  space  \\\n",
       "1032  The studio has a private (not shared) bathroom...   \n",
       "2962  We live in an 18 room 160 year old house that ...   \n",
       "405   Great apartment in a great location. The very ...   \n",
       "3455  You will have a private room with a comfortabl...   \n",
       "3056  Our luxury high-rise apt. is conveniently loca...   \n",
       "2084  Take a small step through history as you enjoy...   \n",
       "3120                                                NaN   \n",
       "\n",
       "                                            description experiences_offered  \\\n",
       "1032  The unit is stylishly designed for comfort, va...                none   \n",
       "2962  We've converted the first floor sun porch into...                none   \n",
       "405   This great private bedroom is apart of a moder...                none   \n",
       "3455  A simple, cozy room in a two-bedroom bedroom a...                none   \n",
       "3056  Luxury high-rise apt. with unparalleled amenit...                none   \n",
       "2084  Prime Beacon Hill location.  Cozy does not beg...                none   \n",
       "3120  Brand new property completed July 2015! Locate...                none   \n",
       "\n",
       "                                  neighborhood_overview  ...  \\\n",
       "1032  Bordering the neighborhoods of the South End a...  ...   \n",
       "2962  A diverse, residential neighborhood with lots ...  ...   \n",
       "405   Great environment with lots of restaurants, ba...  ...   \n",
       "3455  Allston Village, which historically developed ...  ...   \n",
       "3056                                                NaN  ...   \n",
       "2084  Beacon Hill is one of, if not THE, most histor...  ...   \n",
       "3120                                                NaN  ...   \n",
       "\n",
       "     review_scores_value requires_license license jurisdiction_names  \\\n",
       "1032                 NaN                f     NaN                NaN   \n",
       "2962                10.0                f     NaN                NaN   \n",
       "405                 10.0                f     NaN                NaN   \n",
       "3455                 9.0                f     NaN                NaN   \n",
       "3056                 NaN                f     NaN                NaN   \n",
       "2084                 9.0                f     NaN                NaN   \n",
       "3120                10.0                f     NaN                NaN   \n",
       "\n",
       "     instant_bookable cancellation_policy require_guest_profile_picture  \\\n",
       "1032                f              strict                             f   \n",
       "2962                t            flexible                             f   \n",
       "405                 f              strict                             f   \n",
       "3455                t              strict                             f   \n",
       "3056                f              strict                             f   \n",
       "2084                f              strict                             f   \n",
       "3120                f              strict                             f   \n",
       "\n",
       "     require_guest_phone_verification calculated_host_listings_count  \\\n",
       "1032                                f                             50   \n",
       "2962                                f                              7   \n",
       "405                                 f                              1   \n",
       "3455                                f                              3   \n",
       "3056                                f                            136   \n",
       "2084                                f                              2   \n",
       "3120                                f                             19   \n",
       "\n",
       "      reviews_per_month  \n",
       "1032                NaN  \n",
       "2962               2.82  \n",
       "405                1.00  \n",
       "3455               6.10  \n",
       "3056                NaN  \n",
       "2084               6.70  \n",
       "3120               1.25  \n",
       "\n",
       "[7 rows x 95 columns]"
      ]
     },
     "execution_count": 8,
     "metadata": {},
     "output_type": "execute_result"
    }
   ],
   "source": [
    "df_boston_listings.sample(7)"
   ]
  },
  {
   "cell_type": "code",
   "execution_count": 9,
   "metadata": {},
   "outputs": [
    {
     "data": {
      "text/plain": [
       "(3585, 95)"
      ]
     },
     "execution_count": 9,
     "metadata": {},
     "output_type": "execute_result"
    }
   ],
   "source": [
    "df_boston_listings.shape"
   ]
  },
  {
   "cell_type": "code",
   "execution_count": 10,
   "metadata": {},
   "outputs": [
    {
     "data": {
      "text/plain": [
       "(68275, 6)"
      ]
     },
     "execution_count": 10,
     "metadata": {},
     "output_type": "execute_result"
    }
   ],
   "source": [
    "df_boston_reviews.shape"
   ]
  },
  {
   "cell_type": "code",
   "execution_count": 11,
   "metadata": {},
   "outputs": [
    {
     "data": {
      "text/html": [
       "<div>\n",
       "<style scoped>\n",
       "    .dataframe tbody tr th:only-of-type {\n",
       "        vertical-align: middle;\n",
       "    }\n",
       "\n",
       "    .dataframe tbody tr th {\n",
       "        vertical-align: top;\n",
       "    }\n",
       "\n",
       "    .dataframe thead th {\n",
       "        text-align: right;\n",
       "    }\n",
       "</style>\n",
       "<table border=\"1\" class=\"dataframe\">\n",
       "  <thead>\n",
       "    <tr style=\"text-align: right;\">\n",
       "      <th></th>\n",
       "      <th>listing_id</th>\n",
       "      <th>id</th>\n",
       "      <th>date</th>\n",
       "      <th>reviewer_id</th>\n",
       "      <th>reviewer_name</th>\n",
       "      <th>comments</th>\n",
       "    </tr>\n",
       "  </thead>\n",
       "  <tbody>\n",
       "    <tr>\n",
       "      <th>20950</th>\n",
       "      <td>1136972</td>\n",
       "      <td>70121366</td>\n",
       "      <td>2016-04-16</td>\n",
       "      <td>66109415</td>\n",
       "      <td>Li</td>\n",
       "      <td>Great experience at Lisa's place!!!</td>\n",
       "    </tr>\n",
       "    <tr>\n",
       "      <th>3137</th>\n",
       "      <td>10881994</td>\n",
       "      <td>87533623</td>\n",
       "      <td>2016-07-20</td>\n",
       "      <td>39457715</td>\n",
       "      <td>John</td>\n",
       "      <td>PERFECT location to visit Boston.  Paige was e...</td>\n",
       "    </tr>\n",
       "    <tr>\n",
       "      <th>34096</th>\n",
       "      <td>11418599</td>\n",
       "      <td>68254375</td>\n",
       "      <td>2016-04-03</td>\n",
       "      <td>41632935</td>\n",
       "      <td>Lada</td>\n",
       "      <td>Shawn and her friend was a great hosts! They a...</td>\n",
       "    </tr>\n",
       "    <tr>\n",
       "      <th>62894</th>\n",
       "      <td>1472520</td>\n",
       "      <td>7225740</td>\n",
       "      <td>2013-09-11</td>\n",
       "      <td>8279276</td>\n",
       "      <td>Malu</td>\n",
       "      <td>I loved my bed and pillows and I liked having ...</td>\n",
       "    </tr>\n",
       "    <tr>\n",
       "      <th>16889</th>\n",
       "      <td>1106555</td>\n",
       "      <td>21045016</td>\n",
       "      <td>2014-10-10</td>\n",
       "      <td>21452592</td>\n",
       "      <td>Missy</td>\n",
       "      <td>Great place! Super close to downtown and edwar...</td>\n",
       "    </tr>\n",
       "    <tr>\n",
       "      <th>34037</th>\n",
       "      <td>10227043</td>\n",
       "      <td>66830451</td>\n",
       "      <td>2016-03-25</td>\n",
       "      <td>21279406</td>\n",
       "      <td>John</td>\n",
       "      <td>Bobbi was great to deal with and the flat was ...</td>\n",
       "    </tr>\n",
       "    <tr>\n",
       "      <th>31458</th>\n",
       "      <td>7693354</td>\n",
       "      <td>49481873</td>\n",
       "      <td>2015-10-04</td>\n",
       "      <td>43372074</td>\n",
       "      <td>Xiaowen</td>\n",
       "      <td>I did not come and visit Liza actually, due to...</td>\n",
       "    </tr>\n",
       "  </tbody>\n",
       "</table>\n",
       "</div>"
      ],
      "text/plain": [
       "       listing_id        id        date  reviewer_id reviewer_name  \\\n",
       "20950     1136972  70121366  2016-04-16     66109415            Li   \n",
       "3137     10881994  87533623  2016-07-20     39457715          John   \n",
       "34096    11418599  68254375  2016-04-03     41632935          Lada   \n",
       "62894     1472520   7225740  2013-09-11      8279276          Malu   \n",
       "16889     1106555  21045016  2014-10-10     21452592         Missy   \n",
       "34037    10227043  66830451  2016-03-25     21279406          John   \n",
       "31458     7693354  49481873  2015-10-04     43372074       Xiaowen   \n",
       "\n",
       "                                                comments  \n",
       "20950                Great experience at Lisa's place!!!  \n",
       "3137   PERFECT location to visit Boston.  Paige was e...  \n",
       "34096  Shawn and her friend was a great hosts! They a...  \n",
       "62894  I loved my bed and pillows and I liked having ...  \n",
       "16889  Great place! Super close to downtown and edwar...  \n",
       "34037  Bobbi was great to deal with and the flat was ...  \n",
       "31458  I did not come and visit Liza actually, due to...  "
      ]
     },
     "execution_count": 11,
     "metadata": {},
     "output_type": "execute_result"
    }
   ],
   "source": [
    "df_boston_reviews.sample(7)"
   ]
  },
  {
   "cell_type": "code",
   "execution_count": 12,
   "metadata": {},
   "outputs": [
    {
     "data": {
      "text/plain": [
       "(3818, 92)"
      ]
     },
     "execution_count": 12,
     "metadata": {},
     "output_type": "execute_result"
    }
   ],
   "source": [
    "df_seattle_listings.shape"
   ]
  },
  {
   "cell_type": "code",
   "execution_count": 13,
   "metadata": {},
   "outputs": [
    {
     "data": {
      "text/plain": [
       "(3585, 95)"
      ]
     },
     "execution_count": 13,
     "metadata": {},
     "output_type": "execute_result"
    }
   ],
   "source": [
    "df_boston_listings.shape"
   ]
  },
  {
   "cell_type": "code",
   "execution_count": 14,
   "metadata": {},
   "outputs": [
    {
     "data": {
      "text/plain": [
       "(1393570, 4)"
      ]
     },
     "execution_count": 14,
     "metadata": {},
     "output_type": "execute_result"
    }
   ],
   "source": [
    "df_seattle_calendar.shape"
   ]
  },
  {
   "cell_type": "code",
   "execution_count": 15,
   "metadata": {},
   "outputs": [
    {
     "data": {
      "text/plain": [
       "(1308890, 4)"
      ]
     },
     "execution_count": 15,
     "metadata": {},
     "output_type": "execute_result"
    }
   ],
   "source": [
    "df_boston_calendar.shape"
   ]
  },
  {
   "cell_type": "code",
   "execution_count": 16,
   "metadata": {},
   "outputs": [
    {
     "data": {
      "text/plain": [
       "(84849, 6)"
      ]
     },
     "execution_count": 16,
     "metadata": {},
     "output_type": "execute_result"
    }
   ],
   "source": [
    "df_seattle_reviews.shape"
   ]
  },
  {
   "cell_type": "markdown",
   "metadata": {},
   "source": [
    "Exploring column differences between listing dataframes of Boston and Seattle."
   ]
  },
  {
   "cell_type": "code",
   "execution_count": 17,
   "metadata": {},
   "outputs": [],
   "source": [
    "bost_list_cols = set(df_boston_listings.columns.values)"
   ]
  },
  {
   "cell_type": "code",
   "execution_count": 18,
   "metadata": {},
   "outputs": [],
   "source": [
    "seatt_list_cols = set(df_seattle_listings.columns.values)"
   ]
  },
  {
   "cell_type": "code",
   "execution_count": 19,
   "metadata": {},
   "outputs": [
    {
     "data": {
      "text/plain": [
       "92"
      ]
     },
     "execution_count": 19,
     "metadata": {},
     "output_type": "execute_result"
    }
   ],
   "source": [
    "len(bost_list_cols.intersection(seatt_list_cols))"
   ]
  },
  {
   "cell_type": "code",
   "execution_count": 20,
   "metadata": {},
   "outputs": [
    {
     "data": {
      "text/plain": [
       "95"
      ]
     },
     "execution_count": 20,
     "metadata": {},
     "output_type": "execute_result"
    }
   ],
   "source": [
    "len(bost_list_cols.union(seatt_list_cols))"
   ]
  },
  {
   "cell_type": "code",
   "execution_count": 21,
   "metadata": {},
   "outputs": [
    {
     "data": {
      "text/plain": [
       "95"
      ]
     },
     "execution_count": 21,
     "metadata": {},
     "output_type": "execute_result"
    }
   ],
   "source": [
    "len(bost_list_cols | seatt_list_cols)"
   ]
  },
  {
   "cell_type": "code",
   "execution_count": 22,
   "metadata": {},
   "outputs": [
    {
     "data": {
      "text/plain": [
       "92"
      ]
     },
     "execution_count": 22,
     "metadata": {},
     "output_type": "execute_result"
    }
   ],
   "source": [
    "len(set(df_boston_listings.columns.values).intersection(set(df_seattle_listings.columns.values)))"
   ]
  },
  {
   "cell_type": "markdown",
   "metadata": {},
   "source": [
    "Columns which are presented in Boston but not in Seattle."
   ]
  },
  {
   "cell_type": "code",
   "execution_count": 23,
   "metadata": {},
   "outputs": [
    {
     "data": {
      "text/plain": [
       "3"
      ]
     },
     "execution_count": 23,
     "metadata": {},
     "output_type": "execute_result"
    }
   ],
   "source": [
    "len(bost_list_cols - seatt_list_cols)"
   ]
  },
  {
   "cell_type": "code",
   "execution_count": 24,
   "metadata": {},
   "outputs": [
    {
     "data": {
      "text/plain": [
       "{'access', 'house_rules', 'interaction'}"
      ]
     },
     "execution_count": 24,
     "metadata": {},
     "output_type": "execute_result"
    }
   ],
   "source": [
    "(bost_list_cols - seatt_list_cols)"
   ]
  },
  {
   "cell_type": "code",
   "execution_count": 25,
   "metadata": {},
   "outputs": [
    {
     "data": {
      "text/plain": [
       "0"
      ]
     },
     "execution_count": 25,
     "metadata": {},
     "output_type": "execute_result"
    }
   ],
   "source": [
    "len(seatt_list_cols - bost_list_cols)"
   ]
  },
  {
   "cell_type": "code",
   "execution_count": 26,
   "metadata": {},
   "outputs": [
    {
     "data": {
      "text/plain": [
       "array(['id', 'listing_url', 'scrape_id', 'last_scraped', 'name',\n",
       "       'summary', 'space', 'description', 'experiences_offered',\n",
       "       'neighborhood_overview', 'notes', 'transit', 'access',\n",
       "       'interaction', 'house_rules', 'thumbnail_url', 'medium_url',\n",
       "       'picture_url', 'xl_picture_url', 'host_id', 'host_url',\n",
       "       'host_name', 'host_since', 'host_location', 'host_about',\n",
       "       'host_response_time', 'host_response_rate', 'host_acceptance_rate',\n",
       "       'host_is_superhost', 'host_thumbnail_url', 'host_picture_url',\n",
       "       'host_neighbourhood', 'host_listings_count',\n",
       "       'host_total_listings_count', 'host_verifications',\n",
       "       'host_has_profile_pic', 'host_identity_verified', 'street',\n",
       "       'neighbourhood', 'neighbourhood_cleansed',\n",
       "       'neighbourhood_group_cleansed', 'city', 'state', 'zipcode',\n",
       "       'market', 'smart_location', 'country_code', 'country', 'latitude',\n",
       "       'longitude', 'is_location_exact', 'property_type', 'room_type',\n",
       "       'accommodates', 'bathrooms', 'bedrooms', 'beds', 'bed_type',\n",
       "       'amenities', 'square_feet', 'price', 'weekly_price',\n",
       "       'monthly_price', 'security_deposit', 'cleaning_fee',\n",
       "       'guests_included', 'extra_people', 'minimum_nights',\n",
       "       'maximum_nights', 'calendar_updated', 'has_availability',\n",
       "       'availability_30', 'availability_60', 'availability_90',\n",
       "       'availability_365', 'calendar_last_scraped', 'number_of_reviews',\n",
       "       'first_review', 'last_review', 'review_scores_rating',\n",
       "       'review_scores_accuracy', 'review_scores_cleanliness',\n",
       "       'review_scores_checkin', 'review_scores_communication',\n",
       "       'review_scores_location', 'review_scores_value',\n",
       "       'requires_license', 'license', 'jurisdiction_names',\n",
       "       'instant_bookable', 'cancellation_policy',\n",
       "       'require_guest_profile_picture',\n",
       "       'require_guest_phone_verification',\n",
       "       'calculated_host_listings_count', 'reviews_per_month'],\n",
       "      dtype=object)"
      ]
     },
     "execution_count": 26,
     "metadata": {},
     "output_type": "execute_result"
    }
   ],
   "source": [
    "df_boston_listings.columns.values"
   ]
  },
  {
   "cell_type": "markdown",
   "metadata": {},
   "source": [
    "<li><a href=\"#TOC\">Back To Table Of Contents</a></li>"
   ]
  },
  {
   "cell_type": "markdown",
   "metadata": {},
   "source": [
    "### Assess"
   ]
  },
  {
   "cell_type": "markdown",
   "metadata": {},
   "source": [
    "###### perform rudimentary data assessment"
   ]
  },
  {
   "cell_type": "code",
   "execution_count": 27,
   "metadata": {},
   "outputs": [],
   "source": [
    "pd.set_option('display.max_rows', 500)"
   ]
  },
  {
   "cell_type": "code",
   "execution_count": 28,
   "metadata": {
    "scrolled": false
   },
   "outputs": [
    {
     "data": {
      "text/plain": [
       "id                                     0\n",
       "listing_url                            0\n",
       "scrape_id                              0\n",
       "last_scraped                           0\n",
       "name                                   0\n",
       "summary                              143\n",
       "space                               1057\n",
       "description                            0\n",
       "experiences_offered                    0\n",
       "neighborhood_overview               1415\n",
       "notes                               1975\n",
       "transit                             1290\n",
       "access                              1489\n",
       "interaction                         1554\n",
       "house_rules                         1192\n",
       "thumbnail_url                        599\n",
       "medium_url                           599\n",
       "picture_url                            0\n",
       "xl_picture_url                       599\n",
       "host_id                                0\n",
       "host_url                               0\n",
       "host_name                              0\n",
       "host_since                             0\n",
       "host_location                         11\n",
       "host_about                          1309\n",
       "host_response_time                   471\n",
       "host_response_rate                   471\n",
       "host_acceptance_rate                 471\n",
       "host_is_superhost                      0\n",
       "host_thumbnail_url                     0\n",
       "host_picture_url                       0\n",
       "host_neighbourhood                   339\n",
       "host_listings_count                    0\n",
       "host_total_listings_count              0\n",
       "host_verifications                     0\n",
       "host_has_profile_pic                   0\n",
       "host_identity_verified                 0\n",
       "street                                 0\n",
       "neighbourhood                        543\n",
       "neighbourhood_cleansed                 0\n",
       "neighbourhood_group_cleansed        3585\n",
       "city                                   2\n",
       "state                                  0\n",
       "zipcode                               38\n",
       "market                                14\n",
       "smart_location                         0\n",
       "country_code                           0\n",
       "country                                0\n",
       "latitude                               0\n",
       "longitude                              0\n",
       "is_location_exact                      0\n",
       "property_type                          3\n",
       "room_type                              0\n",
       "accommodates                           0\n",
       "bathrooms                             14\n",
       "bedrooms                              10\n",
       "beds                                   9\n",
       "bed_type                               0\n",
       "amenities                              0\n",
       "square_feet                         3529\n",
       "price                                  0\n",
       "weekly_price                        2693\n",
       "monthly_price                       2697\n",
       "security_deposit                    2243\n",
       "cleaning_fee                        1107\n",
       "guests_included                        0\n",
       "extra_people                           0\n",
       "minimum_nights                         0\n",
       "maximum_nights                         0\n",
       "calendar_updated                       0\n",
       "has_availability                    3585\n",
       "availability_30                        0\n",
       "availability_60                        0\n",
       "availability_90                        0\n",
       "availability_365                       0\n",
       "calendar_last_scraped                  0\n",
       "number_of_reviews                      0\n",
       "first_review                         756\n",
       "last_review                          756\n",
       "review_scores_rating                 813\n",
       "review_scores_accuracy               823\n",
       "review_scores_cleanliness            818\n",
       "review_scores_checkin                820\n",
       "review_scores_communication          818\n",
       "review_scores_location               822\n",
       "review_scores_value                  821\n",
       "requires_license                       0\n",
       "license                             3585\n",
       "jurisdiction_names                  3585\n",
       "instant_bookable                       0\n",
       "cancellation_policy                    0\n",
       "require_guest_profile_picture          0\n",
       "require_guest_phone_verification       0\n",
       "calculated_host_listings_count         0\n",
       "reviews_per_month                    756\n",
       "dtype: int64"
      ]
     },
     "execution_count": 28,
     "metadata": {},
     "output_type": "execute_result"
    }
   ],
   "source": [
    "df_boston_listings.isna().sum()"
   ]
  },
  {
   "cell_type": "code",
   "execution_count": 29,
   "metadata": {},
   "outputs": [
    {
     "name": "stdout",
     "output_type": "stream",
     "text": [
      "<class 'pandas.core.frame.DataFrame'>\n",
      "RangeIndex: 1308890 entries, 0 to 1308889\n",
      "Data columns (total 4 columns):\n",
      " #   Column      Non-Null Count    Dtype \n",
      "---  ------      --------------    ----- \n",
      " 0   listing_id  1308890 non-null  int64 \n",
      " 1   date        1308890 non-null  object\n",
      " 2   available   1308890 non-null  object\n",
      " 3   price       643037 non-null   object\n",
      "dtypes: int64(1), object(3)\n",
      "memory usage: 39.9+ MB\n"
     ]
    }
   ],
   "source": [
    "df_boston_calendar.info()"
   ]
  },
  {
   "cell_type": "code",
   "execution_count": 30,
   "metadata": {},
   "outputs": [
    {
     "data": {
      "text/html": [
       "<div>\n",
       "<style scoped>\n",
       "    .dataframe tbody tr th:only-of-type {\n",
       "        vertical-align: middle;\n",
       "    }\n",
       "\n",
       "    .dataframe tbody tr th {\n",
       "        vertical-align: top;\n",
       "    }\n",
       "\n",
       "    .dataframe thead th {\n",
       "        text-align: right;\n",
       "    }\n",
       "</style>\n",
       "<table border=\"1\" class=\"dataframe\">\n",
       "  <thead>\n",
       "    <tr style=\"text-align: right;\">\n",
       "      <th></th>\n",
       "      <th>listing_id</th>\n",
       "    </tr>\n",
       "  </thead>\n",
       "  <tbody>\n",
       "    <tr>\n",
       "      <th>count</th>\n",
       "      <td>1.308890e+06</td>\n",
       "    </tr>\n",
       "    <tr>\n",
       "      <th>mean</th>\n",
       "      <td>8.442118e+06</td>\n",
       "    </tr>\n",
       "    <tr>\n",
       "      <th>std</th>\n",
       "      <td>4.500149e+06</td>\n",
       "    </tr>\n",
       "    <tr>\n",
       "      <th>min</th>\n",
       "      <td>3.353000e+03</td>\n",
       "    </tr>\n",
       "    <tr>\n",
       "      <th>25%</th>\n",
       "      <td>4.679319e+06</td>\n",
       "    </tr>\n",
       "    <tr>\n",
       "      <th>50%</th>\n",
       "      <td>8.578710e+06</td>\n",
       "    </tr>\n",
       "    <tr>\n",
       "      <th>75%</th>\n",
       "      <td>1.279603e+07</td>\n",
       "    </tr>\n",
       "    <tr>\n",
       "      <th>max</th>\n",
       "      <td>1.493346e+07</td>\n",
       "    </tr>\n",
       "  </tbody>\n",
       "</table>\n",
       "</div>"
      ],
      "text/plain": [
       "         listing_id\n",
       "count  1.308890e+06\n",
       "mean   8.442118e+06\n",
       "std    4.500149e+06\n",
       "min    3.353000e+03\n",
       "25%    4.679319e+06\n",
       "50%    8.578710e+06\n",
       "75%    1.279603e+07\n",
       "max    1.493346e+07"
      ]
     },
     "execution_count": 30,
     "metadata": {},
     "output_type": "execute_result"
    }
   ],
   "source": [
    "df_boston_calendar.describe()"
   ]
  },
  {
   "cell_type": "code",
   "execution_count": 31,
   "metadata": {},
   "outputs": [
    {
     "data": {
      "text/html": [
       "<div>\n",
       "<style scoped>\n",
       "    .dataframe tbody tr th:only-of-type {\n",
       "        vertical-align: middle;\n",
       "    }\n",
       "\n",
       "    .dataframe tbody tr th {\n",
       "        vertical-align: top;\n",
       "    }\n",
       "\n",
       "    .dataframe thead th {\n",
       "        text-align: right;\n",
       "    }\n",
       "</style>\n",
       "<table border=\"1\" class=\"dataframe\">\n",
       "  <thead>\n",
       "    <tr style=\"text-align: right;\">\n",
       "      <th></th>\n",
       "      <th>listing_id</th>\n",
       "    </tr>\n",
       "  </thead>\n",
       "  <tbody>\n",
       "    <tr>\n",
       "      <th>listing_id</th>\n",
       "      <td>1.0</td>\n",
       "    </tr>\n",
       "  </tbody>\n",
       "</table>\n",
       "</div>"
      ],
      "text/plain": [
       "            listing_id\n",
       "listing_id         1.0"
      ]
     },
     "execution_count": 31,
     "metadata": {},
     "output_type": "execute_result"
    }
   ],
   "source": [
    "df_boston_calendar.corr()"
   ]
  },
  {
   "cell_type": "code",
   "execution_count": 32,
   "metadata": {},
   "outputs": [
    {
     "data": {
      "text/plain": [
       "365"
      ]
     },
     "execution_count": 32,
     "metadata": {},
     "output_type": "execute_result"
    }
   ],
   "source": [
    "len(df_boston_calendar[(df_boston_calendar.listing_id==994138)])"
   ]
  },
  {
   "cell_type": "code",
   "execution_count": 33,
   "metadata": {},
   "outputs": [
    {
     "data": {
      "text/plain": [
       "293"
      ]
     },
     "execution_count": 33,
     "metadata": {},
     "output_type": "execute_result"
    }
   ],
   "source": [
    "len(df_boston_calendar[(df_boston_calendar.listing_id==994138) & (df_boston_calendar.available=='t')])"
   ]
  },
  {
   "cell_type": "code",
   "execution_count": 34,
   "metadata": {},
   "outputs": [
    {
     "data": {
      "text/plain": [
       "365"
      ]
     },
     "execution_count": 34,
     "metadata": {},
     "output_type": "execute_result"
    }
   ],
   "source": [
    "len(df_boston_calendar[df_boston_calendar.listing_id==197146])"
   ]
  },
  {
   "cell_type": "code",
   "execution_count": 35,
   "metadata": {},
   "outputs": [
    {
     "data": {
      "text/plain": [
       "350"
      ]
     },
     "execution_count": 35,
     "metadata": {},
     "output_type": "execute_result"
    }
   ],
   "source": [
    "len(df_boston_calendar[(df_boston_calendar.listing_id==197146) & (df_boston_calendar.available=='t')])"
   ]
  },
  {
   "cell_type": "code",
   "execution_count": 36,
   "metadata": {},
   "outputs": [
    {
     "data": {
      "text/html": [
       "<div>\n",
       "<style scoped>\n",
       "    .dataframe tbody tr th:only-of-type {\n",
       "        vertical-align: middle;\n",
       "    }\n",
       "\n",
       "    .dataframe tbody tr th {\n",
       "        vertical-align: top;\n",
       "    }\n",
       "\n",
       "    .dataframe thead th {\n",
       "        text-align: right;\n",
       "    }\n",
       "</style>\n",
       "<table border=\"1\" class=\"dataframe\">\n",
       "  <thead>\n",
       "    <tr style=\"text-align: right;\">\n",
       "      <th></th>\n",
       "      <th>listing_id</th>\n",
       "      <th>id</th>\n",
       "      <th>date</th>\n",
       "      <th>reviewer_id</th>\n",
       "      <th>reviewer_name</th>\n",
       "      <th>comments</th>\n",
       "    </tr>\n",
       "  </thead>\n",
       "  <tbody>\n",
       "    <tr>\n",
       "      <th>67253</th>\n",
       "      <td>716245</td>\n",
       "      <td>40552160</td>\n",
       "      <td>2015-08-01</td>\n",
       "      <td>23637021</td>\n",
       "      <td>Robin</td>\n",
       "      <td>Jane was an excellent host! She was incredibly...</td>\n",
       "    </tr>\n",
       "    <tr>\n",
       "      <th>11667</th>\n",
       "      <td>10964552</td>\n",
       "      <td>80699300</td>\n",
       "      <td>2016-06-19</td>\n",
       "      <td>63989728</td>\n",
       "      <td>Paula</td>\n",
       "      <td>Erin was very sweet and a great host ! \\r\\n\\r\\...</td>\n",
       "    </tr>\n",
       "    <tr>\n",
       "      <th>23934</th>\n",
       "      <td>4294835</td>\n",
       "      <td>25169718</td>\n",
       "      <td>2015-01-08</td>\n",
       "      <td>10800846</td>\n",
       "      <td>Tsukasa</td>\n",
       "      <td>I stayed at Cindy's place for 2 weeks and that...</td>\n",
       "    </tr>\n",
       "    <tr>\n",
       "      <th>28224</th>\n",
       "      <td>1544702</td>\n",
       "      <td>89227692</td>\n",
       "      <td>2016-07-27</td>\n",
       "      <td>80770981</td>\n",
       "      <td>Jacquelyn</td>\n",
       "      <td>Great place to stay. Had a good time visiting ...</td>\n",
       "    </tr>\n",
       "    <tr>\n",
       "      <th>54978</th>\n",
       "      <td>6626933</td>\n",
       "      <td>36843191</td>\n",
       "      <td>2015-07-01</td>\n",
       "      <td>15032272</td>\n",
       "      <td>Kyle</td>\n",
       "      <td>Elisabeth was a great host! Didn't see a ton o...</td>\n",
       "    </tr>\n",
       "    <tr>\n",
       "      <th>22380</th>\n",
       "      <td>625012</td>\n",
       "      <td>23093569</td>\n",
       "      <td>2014-11-23</td>\n",
       "      <td>20576812</td>\n",
       "      <td>Ásta Jenný</td>\n",
       "      <td>Gestgjafinn tók á móti okkur og gaf sér nægan ...</td>\n",
       "    </tr>\n",
       "    <tr>\n",
       "      <th>6382</th>\n",
       "      <td>2931271</td>\n",
       "      <td>22088796</td>\n",
       "      <td>2014-10-29</td>\n",
       "      <td>204501</td>\n",
       "      <td>Lev</td>\n",
       "      <td>Everything was fine.</td>\n",
       "    </tr>\n",
       "  </tbody>\n",
       "</table>\n",
       "</div>"
      ],
      "text/plain": [
       "       listing_id        id        date  reviewer_id reviewer_name  \\\n",
       "67253      716245  40552160  2015-08-01     23637021         Robin   \n",
       "11667    10964552  80699300  2016-06-19     63989728         Paula   \n",
       "23934     4294835  25169718  2015-01-08     10800846       Tsukasa   \n",
       "28224     1544702  89227692  2016-07-27     80770981     Jacquelyn   \n",
       "54978     6626933  36843191  2015-07-01     15032272          Kyle   \n",
       "22380      625012  23093569  2014-11-23     20576812    Ásta Jenný   \n",
       "6382      2931271  22088796  2014-10-29       204501           Lev   \n",
       "\n",
       "                                                comments  \n",
       "67253  Jane was an excellent host! She was incredibly...  \n",
       "11667  Erin was very sweet and a great host ! \\r\\n\\r\\...  \n",
       "23934  I stayed at Cindy's place for 2 weeks and that...  \n",
       "28224  Great place to stay. Had a good time visiting ...  \n",
       "54978  Elisabeth was a great host! Didn't see a ton o...  \n",
       "22380  Gestgjafinn tók á móti okkur og gaf sér nægan ...  \n",
       "6382                                Everything was fine.  "
      ]
     },
     "execution_count": 36,
     "metadata": {},
     "output_type": "execute_result"
    }
   ],
   "source": [
    "df_boston_reviews.sample(7)"
   ]
  },
  {
   "cell_type": "markdown",
   "metadata": {},
   "source": [
    "Exploring listings data frame to understand rating of individual listing"
   ]
  },
  {
   "cell_type": "code",
   "execution_count": 37,
   "metadata": {},
   "outputs": [
    {
     "data": {
      "text/plain": [
       "Index(['review_scores_rating'], dtype='object')"
      ]
     },
     "execution_count": 37,
     "metadata": {},
     "output_type": "execute_result"
    }
   ],
   "source": [
    "df_boston_listings.columns[df_boston_listings.columns.str.contains('ating')]"
   ]
  },
  {
   "cell_type": "code",
   "execution_count": 38,
   "metadata": {},
   "outputs": [
    {
     "data": {
      "text/plain": [
       "Index(['number_of_reviews', 'first_review', 'last_review',\n",
       "       'review_scores_rating', 'review_scores_accuracy',\n",
       "       'review_scores_cleanliness', 'review_scores_checkin',\n",
       "       'review_scores_communication', 'review_scores_location',\n",
       "       'review_scores_value', 'reviews_per_month'],\n",
       "      dtype='object')"
      ]
     },
     "execution_count": 38,
     "metadata": {},
     "output_type": "execute_result"
    }
   ],
   "source": [
    "df_boston_listings.columns[df_boston_listings.columns.str.contains('eview')]"
   ]
  },
  {
   "cell_type": "code",
   "execution_count": 39,
   "metadata": {},
   "outputs": [
    {
     "data": {
      "text/plain": [
       "Index(['review_scores_rating', 'review_scores_accuracy',\n",
       "       'review_scores_cleanliness', 'review_scores_checkin',\n",
       "       'review_scores_communication', 'review_scores_location',\n",
       "       'review_scores_value'],\n",
       "      dtype='object')"
      ]
     },
     "execution_count": 39,
     "metadata": {},
     "output_type": "execute_result"
    }
   ],
   "source": [
    "df_boston_listings.columns[df_boston_listings.columns.str.contains('core')]"
   ]
  },
  {
   "cell_type": "code",
   "execution_count": 40,
   "metadata": {},
   "outputs": [
    {
     "data": {
      "text/plain": [
       "Index(['has_availability', 'availability_30', 'availability_60',\n",
       "       'availability_90', 'availability_365'],\n",
       "      dtype='object')"
      ]
     },
     "execution_count": 40,
     "metadata": {},
     "output_type": "execute_result"
    }
   ],
   "source": [
    "df_boston_listings.columns[df_boston_listings.columns.str.contains('vailab')]"
   ]
  },
  {
   "cell_type": "code",
   "execution_count": 41,
   "metadata": {},
   "outputs": [
    {
     "data": {
      "text/html": [
       "<div>\n",
       "<style scoped>\n",
       "    .dataframe tbody tr th:only-of-type {\n",
       "        vertical-align: middle;\n",
       "    }\n",
       "\n",
       "    .dataframe tbody tr th {\n",
       "        vertical-align: top;\n",
       "    }\n",
       "\n",
       "    .dataframe thead th {\n",
       "        text-align: right;\n",
       "    }\n",
       "</style>\n",
       "<table border=\"1\" class=\"dataframe\">\n",
       "  <thead>\n",
       "    <tr style=\"text-align: right;\">\n",
       "      <th></th>\n",
       "      <th>review_scores_rating</th>\n",
       "      <th>review_scores_accuracy</th>\n",
       "      <th>review_scores_cleanliness</th>\n",
       "      <th>review_scores_checkin</th>\n",
       "      <th>review_scores_communication</th>\n",
       "      <th>review_scores_location</th>\n",
       "      <th>review_scores_value</th>\n",
       "    </tr>\n",
       "  </thead>\n",
       "  <tbody>\n",
       "    <tr>\n",
       "      <th>2538</th>\n",
       "      <td>87.0</td>\n",
       "      <td>9.0</td>\n",
       "      <td>9.0</td>\n",
       "      <td>10.0</td>\n",
       "      <td>10.0</td>\n",
       "      <td>9.0</td>\n",
       "      <td>9.0</td>\n",
       "    </tr>\n",
       "    <tr>\n",
       "      <th>1937</th>\n",
       "      <td>80.0</td>\n",
       "      <td>6.0</td>\n",
       "      <td>7.0</td>\n",
       "      <td>10.0</td>\n",
       "      <td>10.0</td>\n",
       "      <td>10.0</td>\n",
       "      <td>8.0</td>\n",
       "    </tr>\n",
       "    <tr>\n",
       "      <th>2803</th>\n",
       "      <td>87.0</td>\n",
       "      <td>9.0</td>\n",
       "      <td>9.0</td>\n",
       "      <td>9.0</td>\n",
       "      <td>9.0</td>\n",
       "      <td>9.0</td>\n",
       "      <td>9.0</td>\n",
       "    </tr>\n",
       "    <tr>\n",
       "      <th>765</th>\n",
       "      <td>90.0</td>\n",
       "      <td>10.0</td>\n",
       "      <td>10.0</td>\n",
       "      <td>10.0</td>\n",
       "      <td>10.0</td>\n",
       "      <td>10.0</td>\n",
       "      <td>9.0</td>\n",
       "    </tr>\n",
       "    <tr>\n",
       "      <th>1103</th>\n",
       "      <td>100.0</td>\n",
       "      <td>10.0</td>\n",
       "      <td>10.0</td>\n",
       "      <td>10.0</td>\n",
       "      <td>10.0</td>\n",
       "      <td>10.0</td>\n",
       "      <td>10.0</td>\n",
       "    </tr>\n",
       "  </tbody>\n",
       "</table>\n",
       "</div>"
      ],
      "text/plain": [
       "      review_scores_rating  review_scores_accuracy  review_scores_cleanliness  \\\n",
       "2538                  87.0                     9.0                        9.0   \n",
       "1937                  80.0                     6.0                        7.0   \n",
       "2803                  87.0                     9.0                        9.0   \n",
       "765                   90.0                    10.0                       10.0   \n",
       "1103                 100.0                    10.0                       10.0   \n",
       "\n",
       "      review_scores_checkin  review_scores_communication  \\\n",
       "2538                   10.0                         10.0   \n",
       "1937                   10.0                         10.0   \n",
       "2803                    9.0                          9.0   \n",
       "765                    10.0                         10.0   \n",
       "1103                   10.0                         10.0   \n",
       "\n",
       "      review_scores_location  review_scores_value  \n",
       "2538                     9.0                  9.0  \n",
       "1937                    10.0                  8.0  \n",
       "2803                     9.0                  9.0  \n",
       "765                     10.0                  9.0  \n",
       "1103                    10.0                 10.0  "
      ]
     },
     "execution_count": 41,
     "metadata": {},
     "output_type": "execute_result"
    }
   ],
   "source": [
    "df_boston_listings[['review_scores_rating', 'review_scores_accuracy',\n",
    "       'review_scores_cleanliness', 'review_scores_checkin',\n",
    "       'review_scores_communication', 'review_scores_location',\n",
    "       'review_scores_value']].sample(5)"
   ]
  },
  {
   "cell_type": "code",
   "execution_count": 42,
   "metadata": {},
   "outputs": [
    {
     "data": {
      "text/html": [
       "<div>\n",
       "<style scoped>\n",
       "    .dataframe tbody tr th:only-of-type {\n",
       "        vertical-align: middle;\n",
       "    }\n",
       "\n",
       "    .dataframe tbody tr th {\n",
       "        vertical-align: top;\n",
       "    }\n",
       "\n",
       "    .dataframe thead th {\n",
       "        text-align: right;\n",
       "    }\n",
       "</style>\n",
       "<table border=\"1\" class=\"dataframe\">\n",
       "  <thead>\n",
       "    <tr style=\"text-align: right;\">\n",
       "      <th></th>\n",
       "      <th>id</th>\n",
       "      <th>has_availability</th>\n",
       "      <th>availability_30</th>\n",
       "      <th>availability_60</th>\n",
       "      <th>availability_90</th>\n",
       "      <th>availability_365</th>\n",
       "    </tr>\n",
       "  </thead>\n",
       "  <tbody>\n",
       "    <tr>\n",
       "      <th>0</th>\n",
       "      <td>12147973</td>\n",
       "      <td>NaN</td>\n",
       "      <td>0</td>\n",
       "      <td>0</td>\n",
       "      <td>0</td>\n",
       "      <td>0</td>\n",
       "    </tr>\n",
       "    <tr>\n",
       "      <th>1</th>\n",
       "      <td>3075044</td>\n",
       "      <td>NaN</td>\n",
       "      <td>26</td>\n",
       "      <td>54</td>\n",
       "      <td>84</td>\n",
       "      <td>359</td>\n",
       "    </tr>\n",
       "    <tr>\n",
       "      <th>2</th>\n",
       "      <td>6976</td>\n",
       "      <td>NaN</td>\n",
       "      <td>19</td>\n",
       "      <td>46</td>\n",
       "      <td>61</td>\n",
       "      <td>319</td>\n",
       "    </tr>\n",
       "    <tr>\n",
       "      <th>3</th>\n",
       "      <td>1436513</td>\n",
       "      <td>NaN</td>\n",
       "      <td>6</td>\n",
       "      <td>16</td>\n",
       "      <td>26</td>\n",
       "      <td>98</td>\n",
       "    </tr>\n",
       "    <tr>\n",
       "      <th>4</th>\n",
       "      <td>7651065</td>\n",
       "      <td>NaN</td>\n",
       "      <td>13</td>\n",
       "      <td>34</td>\n",
       "      <td>59</td>\n",
       "      <td>334</td>\n",
       "    </tr>\n",
       "    <tr>\n",
       "      <th>...</th>\n",
       "      <td>...</td>\n",
       "      <td>...</td>\n",
       "      <td>...</td>\n",
       "      <td>...</td>\n",
       "      <td>...</td>\n",
       "      <td>...</td>\n",
       "    </tr>\n",
       "    <tr>\n",
       "      <th>3580</th>\n",
       "      <td>8373729</td>\n",
       "      <td>NaN</td>\n",
       "      <td>21</td>\n",
       "      <td>51</td>\n",
       "      <td>81</td>\n",
       "      <td>356</td>\n",
       "    </tr>\n",
       "    <tr>\n",
       "      <th>3581</th>\n",
       "      <td>14844274</td>\n",
       "      <td>NaN</td>\n",
       "      <td>29</td>\n",
       "      <td>59</td>\n",
       "      <td>89</td>\n",
       "      <td>364</td>\n",
       "    </tr>\n",
       "    <tr>\n",
       "      <th>3582</th>\n",
       "      <td>14585486</td>\n",
       "      <td>NaN</td>\n",
       "      <td>0</td>\n",
       "      <td>15</td>\n",
       "      <td>40</td>\n",
       "      <td>40</td>\n",
       "    </tr>\n",
       "    <tr>\n",
       "      <th>3583</th>\n",
       "      <td>14603878</td>\n",
       "      <td>NaN</td>\n",
       "      <td>5</td>\n",
       "      <td>5</td>\n",
       "      <td>5</td>\n",
       "      <td>253</td>\n",
       "    </tr>\n",
       "    <tr>\n",
       "      <th>3584</th>\n",
       "      <td>14504422</td>\n",
       "      <td>NaN</td>\n",
       "      <td>17</td>\n",
       "      <td>45</td>\n",
       "      <td>75</td>\n",
       "      <td>165</td>\n",
       "    </tr>\n",
       "  </tbody>\n",
       "</table>\n",
       "<p>3585 rows × 6 columns</p>\n",
       "</div>"
      ],
      "text/plain": [
       "            id  has_availability  availability_30  availability_60  \\\n",
       "0     12147973               NaN                0                0   \n",
       "1      3075044               NaN               26               54   \n",
       "2         6976               NaN               19               46   \n",
       "3      1436513               NaN                6               16   \n",
       "4      7651065               NaN               13               34   \n",
       "...        ...               ...              ...              ...   \n",
       "3580   8373729               NaN               21               51   \n",
       "3581  14844274               NaN               29               59   \n",
       "3582  14585486               NaN                0               15   \n",
       "3583  14603878               NaN                5                5   \n",
       "3584  14504422               NaN               17               45   \n",
       "\n",
       "      availability_90  availability_365  \n",
       "0                   0                 0  \n",
       "1                  84               359  \n",
       "2                  61               319  \n",
       "3                  26                98  \n",
       "4                  59               334  \n",
       "...               ...               ...  \n",
       "3580               81               356  \n",
       "3581               89               364  \n",
       "3582               40                40  \n",
       "3583                5               253  \n",
       "3584               75               165  \n",
       "\n",
       "[3585 rows x 6 columns]"
      ]
     },
     "execution_count": 42,
     "metadata": {},
     "output_type": "execute_result"
    }
   ],
   "source": [
    "df_boston_listings[['id','has_availability', 'availability_30', 'availability_60',\n",
    "       'availability_90', 'availability_365']]"
   ]
  },
  {
   "cell_type": "markdown",
   "metadata": {},
   "source": [
    "###### List of issues you identiefied using rudimentry assessment"
   ]
  },
  {
   "cell_type": "markdown",
   "metadata": {},
   "source": [
    "- Issue 1\n",
    "- Issue 2\n",
    "- Issue 3\n",
    "- Issue 4"
   ]
  },
  {
   "cell_type": "markdown",
   "metadata": {},
   "source": [
    "Finding relevant column for reviews for listing"
   ]
  },
  {
   "cell_type": "code",
   "execution_count": 43,
   "metadata": {},
   "outputs": [
    {
     "data": {
      "text/plain": [
       "array(['review_scores_rating'], dtype=object)"
      ]
     },
     "execution_count": 43,
     "metadata": {},
     "output_type": "execute_result"
    }
   ],
   "source": [
    "df_boston_listings.columns.values[df_boston_listings.columns.str.contains('ating')]"
   ]
  },
  {
   "cell_type": "code",
   "execution_count": 44,
   "metadata": {},
   "outputs": [
    {
     "name": "stdout",
     "output_type": "stream",
     "text": [
      "<class 'pandas.core.frame.DataFrame'>\n",
      "RangeIndex: 3585 entries, 0 to 3584\n",
      "Data columns (total 3 columns):\n",
      " #   Column                Non-Null Count  Dtype  \n",
      "---  ------                --------------  -----  \n",
      " 0   id                    3585 non-null   int64  \n",
      " 1   review_scores_rating  2772 non-null   float64\n",
      " 2   review_scores_value   2764 non-null   float64\n",
      "dtypes: float64(2), int64(1)\n",
      "memory usage: 84.1 KB\n"
     ]
    }
   ],
   "source": [
    "df_boston_listings[['id', 'review_scores_rating', 'review_scores_value']].info()"
   ]
  },
  {
   "cell_type": "code",
   "execution_count": 45,
   "metadata": {},
   "outputs": [
    {
     "data": {
      "text/html": [
       "<div>\n",
       "<style scoped>\n",
       "    .dataframe tbody tr th:only-of-type {\n",
       "        vertical-align: middle;\n",
       "    }\n",
       "\n",
       "    .dataframe tbody tr th {\n",
       "        vertical-align: top;\n",
       "    }\n",
       "\n",
       "    .dataframe thead th {\n",
       "        text-align: right;\n",
       "    }\n",
       "</style>\n",
       "<table border=\"1\" class=\"dataframe\">\n",
       "  <thead>\n",
       "    <tr style=\"text-align: right;\">\n",
       "      <th></th>\n",
       "      <th>id</th>\n",
       "      <th>review_scores_rating</th>\n",
       "      <th>review_scores_value</th>\n",
       "    </tr>\n",
       "  </thead>\n",
       "  <tbody>\n",
       "    <tr>\n",
       "      <th>count</th>\n",
       "      <td>3.585000e+03</td>\n",
       "      <td>2772.000000</td>\n",
       "      <td>2764.000000</td>\n",
       "    </tr>\n",
       "    <tr>\n",
       "      <th>mean</th>\n",
       "      <td>8.440875e+06</td>\n",
       "      <td>91.916667</td>\n",
       "      <td>9.168234</td>\n",
       "    </tr>\n",
       "    <tr>\n",
       "      <th>std</th>\n",
       "      <td>4.500787e+06</td>\n",
       "      <td>9.531686</td>\n",
       "      <td>1.011116</td>\n",
       "    </tr>\n",
       "    <tr>\n",
       "      <th>min</th>\n",
       "      <td>3.353000e+03</td>\n",
       "      <td>20.000000</td>\n",
       "      <td>2.000000</td>\n",
       "    </tr>\n",
       "    <tr>\n",
       "      <th>25%</th>\n",
       "      <td>4.679319e+06</td>\n",
       "      <td>89.000000</td>\n",
       "      <td>9.000000</td>\n",
       "    </tr>\n",
       "    <tr>\n",
       "      <th>50%</th>\n",
       "      <td>8.577620e+06</td>\n",
       "      <td>94.000000</td>\n",
       "      <td>9.000000</td>\n",
       "    </tr>\n",
       "    <tr>\n",
       "      <th>75%</th>\n",
       "      <td>1.278953e+07</td>\n",
       "      <td>98.250000</td>\n",
       "      <td>10.000000</td>\n",
       "    </tr>\n",
       "    <tr>\n",
       "      <th>max</th>\n",
       "      <td>1.493346e+07</td>\n",
       "      <td>100.000000</td>\n",
       "      <td>10.000000</td>\n",
       "    </tr>\n",
       "  </tbody>\n",
       "</table>\n",
       "</div>"
      ],
      "text/plain": [
       "                 id  review_scores_rating  review_scores_value\n",
       "count  3.585000e+03           2772.000000          2764.000000\n",
       "mean   8.440875e+06             91.916667             9.168234\n",
       "std    4.500787e+06              9.531686             1.011116\n",
       "min    3.353000e+03             20.000000             2.000000\n",
       "25%    4.679319e+06             89.000000             9.000000\n",
       "50%    8.577620e+06             94.000000             9.000000\n",
       "75%    1.278953e+07             98.250000            10.000000\n",
       "max    1.493346e+07            100.000000            10.000000"
      ]
     },
     "execution_count": 45,
     "metadata": {},
     "output_type": "execute_result"
    }
   ],
   "source": [
    "df_boston_listings[['id', 'review_scores_rating', 'review_scores_value']].describe()"
   ]
  },
  {
   "cell_type": "markdown",
   "metadata": {},
   "source": [
    "<li><a href=\"#TOC\">Back To Table Of Contents</a></li>"
   ]
  },
  {
   "cell_type": "markdown",
   "metadata": {},
   "source": [
    "<a id='data_preparation'></a>\n",
    "## Data Preparation"
   ]
  },
  {
   "cell_type": "markdown",
   "metadata": {},
   "source": [
    "##### Question 1 = Listings from which zipcodes are leaders in always being booked? (like give me top 3) "
   ]
  },
  {
   "cell_type": "markdown",
   "metadata": {},
   "source": [
    "Need to find top 3 zipcodes who have highest book rate. Relevant dataframes are df_boston_listings, df_boston_calendar"
   ]
  },
  {
   "cell_type": "code",
   "execution_count": 46,
   "metadata": {},
   "outputs": [
    {
     "data": {
      "text/plain": [
       "Index(['listing_id', 'date', 'available', 'price'], dtype='object')"
      ]
     },
     "execution_count": 46,
     "metadata": {},
     "output_type": "execute_result"
    }
   ],
   "source": [
    "df_boston_calendar.columns"
   ]
  },
  {
   "cell_type": "code",
   "execution_count": 47,
   "metadata": {},
   "outputs": [
    {
     "data": {
      "text/plain": [
       "(1308890, 4)"
      ]
     },
     "execution_count": 47,
     "metadata": {},
     "output_type": "execute_result"
    }
   ],
   "source": [
    "df_boston_calendar.shape"
   ]
  },
  {
   "cell_type": "code",
   "execution_count": 48,
   "metadata": {},
   "outputs": [
    {
     "data": {
      "text/plain": [
       "3585"
      ]
     },
     "execution_count": 48,
     "metadata": {},
     "output_type": "execute_result"
    }
   ],
   "source": [
    "df_boston_calendar.listing_id.nunique()"
   ]
  },
  {
   "cell_type": "code",
   "execution_count": 49,
   "metadata": {},
   "outputs": [
    {
     "data": {
      "text/plain": [
       "3585"
      ]
     },
     "execution_count": 49,
     "metadata": {},
     "output_type": "execute_result"
    }
   ],
   "source": [
    "df_boston_listings.id.nunique()\n"
   ]
  },
  {
   "cell_type": "code",
   "execution_count": 50,
   "metadata": {},
   "outputs": [
    {
     "data": {
      "text/plain": [
       "Index(['listing_id', 'date', 'available', 'price'], dtype='object')"
      ]
     },
     "execution_count": 50,
     "metadata": {},
     "output_type": "execute_result"
    }
   ],
   "source": [
    "df_boston_calendar.columns"
   ]
  },
  {
   "cell_type": "code",
   "execution_count": 51,
   "metadata": {},
   "outputs": [
    {
     "data": {
      "text/html": [
       "<div>\n",
       "<style scoped>\n",
       "    .dataframe tbody tr th:only-of-type {\n",
       "        vertical-align: middle;\n",
       "    }\n",
       "\n",
       "    .dataframe tbody tr th {\n",
       "        vertical-align: top;\n",
       "    }\n",
       "\n",
       "    .dataframe thead th {\n",
       "        text-align: right;\n",
       "    }\n",
       "</style>\n",
       "<table border=\"1\" class=\"dataframe\">\n",
       "  <thead>\n",
       "    <tr style=\"text-align: right;\">\n",
       "      <th></th>\n",
       "      <th>listing_id</th>\n",
       "      <th>date</th>\n",
       "      <th>available</th>\n",
       "      <th>price</th>\n",
       "    </tr>\n",
       "  </thead>\n",
       "  <tbody>\n",
       "    <tr>\n",
       "      <th>415822</th>\n",
       "      <td>8753913</td>\n",
       "      <td>2017-03-09</td>\n",
       "      <td>f</td>\n",
       "      <td>NaN</td>\n",
       "    </tr>\n",
       "    <tr>\n",
       "      <th>797208</th>\n",
       "      <td>14303099</td>\n",
       "      <td>2017-05-23</td>\n",
       "      <td>t</td>\n",
       "      <td>$350.00</td>\n",
       "    </tr>\n",
       "    <tr>\n",
       "      <th>418868</th>\n",
       "      <td>9757412</td>\n",
       "      <td>2017-02-04</td>\n",
       "      <td>f</td>\n",
       "      <td>NaN</td>\n",
       "    </tr>\n",
       "    <tr>\n",
       "      <th>859804</th>\n",
       "      <td>12870514</td>\n",
       "      <td>2016-12-12</td>\n",
       "      <td>f</td>\n",
       "      <td>NaN</td>\n",
       "    </tr>\n",
       "    <tr>\n",
       "      <th>939183</th>\n",
       "      <td>2729015</td>\n",
       "      <td>2017-04-28</td>\n",
       "      <td>f</td>\n",
       "      <td>NaN</td>\n",
       "    </tr>\n",
       "    <tr>\n",
       "      <th>433709</th>\n",
       "      <td>5588537</td>\n",
       "      <td>2017-06-08</td>\n",
       "      <td>t</td>\n",
       "      <td>$200.00</td>\n",
       "    </tr>\n",
       "    <tr>\n",
       "      <th>293681</th>\n",
       "      <td>6780313</td>\n",
       "      <td>2017-08-05</td>\n",
       "      <td>t</td>\n",
       "      <td>$65.00</td>\n",
       "    </tr>\n",
       "  </tbody>\n",
       "</table>\n",
       "</div>"
      ],
      "text/plain": [
       "        listing_id        date available    price\n",
       "415822     8753913  2017-03-09         f      NaN\n",
       "797208    14303099  2017-05-23         t  $350.00\n",
       "418868     9757412  2017-02-04         f      NaN\n",
       "859804    12870514  2016-12-12         f      NaN\n",
       "939183     2729015  2017-04-28         f      NaN\n",
       "433709     5588537  2017-06-08         t  $200.00\n",
       "293681     6780313  2017-08-05         t   $65.00"
      ]
     },
     "execution_count": 51,
     "metadata": {},
     "output_type": "execute_result"
    }
   ],
   "source": [
    "df_boston_calendar.sample(7)"
   ]
  },
  {
   "cell_type": "markdown",
   "metadata": {},
   "source": [
    "We need to create a new dataframe which will contain all unique zip codes and combined percentage of all of listings belonging to that zipcode.\n",
    "Relevant columns from each dataframe are:\n",
    "\n",
    "df_boston_listings\n",
    "<br>1) id\n",
    "<br>2) zipcode\n",
    "<br><br>df_boston_calendar\n",
    "<br>1) listing_id\n",
    "<br>2) date\n",
    "<br>3) available"
   ]
  },
  {
   "cell_type": "code",
   "execution_count": 52,
   "metadata": {},
   "outputs": [
    {
     "data": {
      "text/html": [
       "<div>\n",
       "<style scoped>\n",
       "    .dataframe tbody tr th:only-of-type {\n",
       "        vertical-align: middle;\n",
       "    }\n",
       "\n",
       "    .dataframe tbody tr th {\n",
       "        vertical-align: top;\n",
       "    }\n",
       "\n",
       "    .dataframe thead th {\n",
       "        text-align: right;\n",
       "    }\n",
       "</style>\n",
       "<table border=\"1\" class=\"dataframe\">\n",
       "  <thead>\n",
       "    <tr style=\"text-align: right;\">\n",
       "      <th></th>\n",
       "      <th>id</th>\n",
       "      <th>zipcode</th>\n",
       "    </tr>\n",
       "  </thead>\n",
       "  <tbody>\n",
       "    <tr>\n",
       "      <th>3458</th>\n",
       "      <td>14473564</td>\n",
       "      <td>02134</td>\n",
       "    </tr>\n",
       "    <tr>\n",
       "      <th>3478</th>\n",
       "      <td>13685228</td>\n",
       "      <td>02134</td>\n",
       "    </tr>\n",
       "    <tr>\n",
       "      <th>1624</th>\n",
       "      <td>8970779</td>\n",
       "      <td>02128</td>\n",
       "    </tr>\n",
       "    <tr>\n",
       "      <th>2339</th>\n",
       "      <td>8085906</td>\n",
       "      <td>02215</td>\n",
       "    </tr>\n",
       "    <tr>\n",
       "      <th>3026</th>\n",
       "      <td>13239143</td>\n",
       "      <td>02121</td>\n",
       "    </tr>\n",
       "  </tbody>\n",
       "</table>\n",
       "</div>"
      ],
      "text/plain": [
       "            id zipcode\n",
       "3458  14473564   02134\n",
       "3478  13685228   02134\n",
       "1624   8970779   02128\n",
       "2339   8085906   02215\n",
       "3026  13239143   02121"
      ]
     },
     "execution_count": 52,
     "metadata": {},
     "output_type": "execute_result"
    }
   ],
   "source": [
    "df_boston_listings[['id', 'zipcode']].sample(5)"
   ]
  },
  {
   "cell_type": "markdown",
   "metadata": {},
   "source": [
    "Checking for nulls and datatypes"
   ]
  },
  {
   "cell_type": "code",
   "execution_count": 53,
   "metadata": {},
   "outputs": [
    {
     "name": "stdout",
     "output_type": "stream",
     "text": [
      "<class 'pandas.core.frame.DataFrame'>\n",
      "RangeIndex: 3585 entries, 0 to 3584\n",
      "Data columns (total 2 columns):\n",
      " #   Column   Non-Null Count  Dtype \n",
      "---  ------   --------------  ----- \n",
      " 0   id       3585 non-null   int64 \n",
      " 1   zipcode  3547 non-null   object\n",
      "dtypes: int64(1), object(1)\n",
      "memory usage: 56.1+ KB\n"
     ]
    }
   ],
   "source": [
    "df_boston_listings[['id', 'zipcode']].info()"
   ]
  },
  {
   "cell_type": "code",
   "execution_count": 54,
   "metadata": {},
   "outputs": [
    {
     "data": {
      "text/html": [
       "<div>\n",
       "<style scoped>\n",
       "    .dataframe tbody tr th:only-of-type {\n",
       "        vertical-align: middle;\n",
       "    }\n",
       "\n",
       "    .dataframe tbody tr th {\n",
       "        vertical-align: top;\n",
       "    }\n",
       "\n",
       "    .dataframe thead th {\n",
       "        text-align: right;\n",
       "    }\n",
       "</style>\n",
       "<table border=\"1\" class=\"dataframe\">\n",
       "  <thead>\n",
       "    <tr style=\"text-align: right;\">\n",
       "      <th></th>\n",
       "      <th>listing_id</th>\n",
       "      <th>date</th>\n",
       "      <th>available</th>\n",
       "      <th>price</th>\n",
       "    </tr>\n",
       "  </thead>\n",
       "  <tbody>\n",
       "    <tr>\n",
       "      <th>349124</th>\n",
       "      <td>10427199</td>\n",
       "      <td>2017-03-05</td>\n",
       "      <td>t</td>\n",
       "      <td>$89.00</td>\n",
       "    </tr>\n",
       "    <tr>\n",
       "      <th>1111566</th>\n",
       "      <td>11648688</td>\n",
       "      <td>2017-02-01</td>\n",
       "      <td>t</td>\n",
       "      <td>$250.00</td>\n",
       "    </tr>\n",
       "    <tr>\n",
       "      <th>266093</th>\n",
       "      <td>9344096</td>\n",
       "      <td>2017-06-14</td>\n",
       "      <td>f</td>\n",
       "      <td>NaN</td>\n",
       "    </tr>\n",
       "    <tr>\n",
       "      <th>6535</th>\n",
       "      <td>13512930</td>\n",
       "      <td>2016-10-10</td>\n",
       "      <td>f</td>\n",
       "      <td>NaN</td>\n",
       "    </tr>\n",
       "    <tr>\n",
       "      <th>658978</th>\n",
       "      <td>9644312</td>\n",
       "      <td>2017-03-16</td>\n",
       "      <td>f</td>\n",
       "      <td>NaN</td>\n",
       "    </tr>\n",
       "  </tbody>\n",
       "</table>\n",
       "</div>"
      ],
      "text/plain": [
       "         listing_id        date available    price\n",
       "349124     10427199  2017-03-05         t   $89.00\n",
       "1111566    11648688  2017-02-01         t  $250.00\n",
       "266093      9344096  2017-06-14         f      NaN\n",
       "6535       13512930  2016-10-10         f      NaN\n",
       "658978      9644312  2017-03-16         f      NaN"
      ]
     },
     "execution_count": 54,
     "metadata": {},
     "output_type": "execute_result"
    }
   ],
   "source": [
    "df_boston_calendar.sample(5)"
   ]
  },
  {
   "cell_type": "code",
   "execution_count": 55,
   "metadata": {},
   "outputs": [
    {
     "name": "stdout",
     "output_type": "stream",
     "text": [
      "<class 'pandas.core.frame.DataFrame'>\n",
      "RangeIndex: 1308890 entries, 0 to 1308889\n",
      "Data columns (total 4 columns):\n",
      " #   Column      Non-Null Count    Dtype \n",
      "---  ------      --------------    ----- \n",
      " 0   listing_id  1308890 non-null  int64 \n",
      " 1   date        1308890 non-null  object\n",
      " 2   available   1308890 non-null  object\n",
      " 3   price       643037 non-null   object\n",
      "dtypes: int64(1), object(3)\n",
      "memory usage: 39.9+ MB\n"
     ]
    }
   ],
   "source": [
    "df_boston_calendar.info()"
   ]
  },
  {
   "cell_type": "code",
   "execution_count": 56,
   "metadata": {},
   "outputs": [
    {
     "data": {
      "text/plain": [
       "f    665853\n",
       "t    643037\n",
       "Name: available, dtype: int64"
      ]
     },
     "execution_count": 56,
     "metadata": {},
     "output_type": "execute_result"
    }
   ],
   "source": [
    "df_boston_calendar.available.value_counts()"
   ]
  },
  {
   "cell_type": "markdown",
   "metadata": {},
   "source": [
    "In df_boston_calendar datattypes should be changed; date from object to datetime, available from object to Bool."
   ]
  },
  {
   "cell_type": "code",
   "execution_count": 57,
   "metadata": {},
   "outputs": [],
   "source": [
    "df_boston_calendar['date'] = pd.to_datetime(df_boston_calendar['date'])"
   ]
  },
  {
   "cell_type": "code",
   "execution_count": 58,
   "metadata": {},
   "outputs": [
    {
     "name": "stdout",
     "output_type": "stream",
     "text": [
      "<class 'pandas.core.frame.DataFrame'>\n",
      "RangeIndex: 1308890 entries, 0 to 1308889\n",
      "Data columns (total 4 columns):\n",
      " #   Column      Non-Null Count    Dtype         \n",
      "---  ------      --------------    -----         \n",
      " 0   listing_id  1308890 non-null  int64         \n",
      " 1   date        1308890 non-null  datetime64[ns]\n",
      " 2   available   1308890 non-null  object        \n",
      " 3   price       643037 non-null   object        \n",
      "dtypes: datetime64[ns](1), int64(1), object(2)\n",
      "memory usage: 39.9+ MB\n"
     ]
    }
   ],
   "source": [
    "df_boston_calendar.info()"
   ]
  },
  {
   "cell_type": "code",
   "execution_count": 59,
   "metadata": {},
   "outputs": [
    {
     "data": {
      "text/plain": [
       "0    f\n",
       "1    f\n",
       "2    f\n",
       "3    f\n",
       "4    f\n",
       "Name: available, dtype: object"
      ]
     },
     "execution_count": 59,
     "metadata": {},
     "output_type": "execute_result"
    }
   ],
   "source": [
    "df_boston_calendar.available.head(5)"
   ]
  },
  {
   "cell_type": "code",
   "execution_count": 60,
   "metadata": {},
   "outputs": [],
   "source": [
    "df_boston_calendar['available']=(df_boston_calendar.available=='t')"
   ]
  },
  {
   "cell_type": "code",
   "execution_count": 61,
   "metadata": {},
   "outputs": [
    {
     "name": "stdout",
     "output_type": "stream",
     "text": [
      "<class 'pandas.core.frame.DataFrame'>\n",
      "RangeIndex: 1308890 entries, 0 to 1308889\n",
      "Data columns (total 4 columns):\n",
      " #   Column      Non-Null Count    Dtype         \n",
      "---  ------      --------------    -----         \n",
      " 0   listing_id  1308890 non-null  int64         \n",
      " 1   date        1308890 non-null  datetime64[ns]\n",
      " 2   available   1308890 non-null  bool          \n",
      " 3   price       643037 non-null   object        \n",
      "dtypes: bool(1), datetime64[ns](1), int64(1), object(1)\n",
      "memory usage: 31.2+ MB\n"
     ]
    }
   ],
   "source": [
    "df_boston_calendar.info()"
   ]
  },
  {
   "cell_type": "markdown",
   "metadata": {},
   "source": [
    "Create new dataframe to store data for this and possible other questions related to zipcode details"
   ]
  },
  {
   "cell_type": "code",
   "execution_count": 62,
   "metadata": {},
   "outputs": [],
   "source": [
    "df_zipcode_details = pd.DataFrame()"
   ]
  },
  {
   "cell_type": "markdown",
   "metadata": {},
   "source": [
    "Creating first column of the dataframe using unique zipcodes fromm df_boston_listings"
   ]
  },
  {
   "cell_type": "code",
   "execution_count": 63,
   "metadata": {},
   "outputs": [
    {
     "data": {
      "text/plain": [
       "43"
      ]
     },
     "execution_count": 63,
     "metadata": {},
     "output_type": "execute_result"
    }
   ],
   "source": [
    "df_boston_listings.zipcode.nunique()"
   ]
  },
  {
   "cell_type": "code",
   "execution_count": 64,
   "metadata": {},
   "outputs": [
    {
     "data": {
      "text/plain": [
       "array(['02131', nan, '02130', '02119', '02120', '02115', '02215', '02116',\n",
       "       '02111', '02109', '02113', '02110', '02114', '02108', '02121',\n",
       "       '02118', '02125', '02124', '02210', '02218', '02142', '02128',\n",
       "       '02129', '02145', '02126', '02108 02111', '02472', '02122',\n",
       "       '02446', '02135', '02134', '02445', '02132', '02467', '02136',\n",
       "       '02186', '02169', '02127', '02134-1704', '02163', '02138', '02139',\n",
       "       '02141', '02143'], dtype=object)"
      ]
     },
     "execution_count": 64,
     "metadata": {},
     "output_type": "execute_result"
    }
   ],
   "source": [
    "df_boston_listings.zipcode.unique()"
   ]
  },
  {
   "cell_type": "code",
   "execution_count": 65,
   "metadata": {},
   "outputs": [],
   "source": [
    "df_zipcode_details['zipcode'] = df_boston_listings.zipcode.unique()"
   ]
  },
  {
   "cell_type": "code",
   "execution_count": 66,
   "metadata": {},
   "outputs": [
    {
     "data": {
      "text/plain": [
       "(44, 1)"
      ]
     },
     "execution_count": 66,
     "metadata": {},
     "output_type": "execute_result"
    }
   ],
   "source": [
    "df_zipcode_details.shape"
   ]
  },
  {
   "cell_type": "code",
   "execution_count": 67,
   "metadata": {
    "scrolled": true
   },
   "outputs": [
    {
     "data": {
      "text/plain": [
       "0           02131\n",
       "2           02130\n",
       "3           02119\n",
       "4           02120\n",
       "5           02115\n",
       "6           02215\n",
       "7           02116\n",
       "8           02111\n",
       "9           02109\n",
       "10          02113\n",
       "11          02110\n",
       "12          02114\n",
       "13          02108\n",
       "14          02121\n",
       "15          02118\n",
       "16          02125\n",
       "17          02124\n",
       "18          02210\n",
       "19          02218\n",
       "20          02142\n",
       "21          02128\n",
       "22          02129\n",
       "23          02145\n",
       "24          02126\n",
       "25    02108 02111\n",
       "26          02472\n",
       "27          02122\n",
       "28          02446\n",
       "29          02135\n",
       "30          02134\n",
       "31          02445\n",
       "32          02132\n",
       "33          02467\n",
       "34          02136\n",
       "35          02186\n",
       "36          02169\n",
       "37          02127\n",
       "38     02134-1704\n",
       "39          02163\n",
       "40          02138\n",
       "41          02139\n",
       "42          02141\n",
       "43          02143\n",
       "Name: zipcode, dtype: object"
      ]
     },
     "execution_count": 67,
     "metadata": {},
     "output_type": "execute_result"
    }
   ],
   "source": [
    "df_zipcode_details.zipcode.dropna()"
   ]
  },
  {
   "cell_type": "code",
   "execution_count": 68,
   "metadata": {},
   "outputs": [
    {
     "name": "stdout",
     "output_type": "stream",
     "text": [
      "<class 'pandas.core.frame.DataFrame'>\n",
      "RangeIndex: 44 entries, 0 to 43\n",
      "Data columns (total 1 columns):\n",
      " #   Column   Non-Null Count  Dtype \n",
      "---  ------   --------------  ----- \n",
      " 0   zipcode  43 non-null     object\n",
      "dtypes: object(1)\n",
      "memory usage: 480.0+ bytes\n"
     ]
    }
   ],
   "source": [
    "df_zipcode_details.info()"
   ]
  },
  {
   "cell_type": "markdown",
   "metadata": {},
   "source": [
    "Finding booked percentage for each zipcode."
   ]
  },
  {
   "cell_type": "markdown",
   "metadata": {},
   "source": [
    "I think this can be achieved in 2 steps; step 1 is to get percentage for all listings from df_boston_calendar (call mean() on it) then average percentages of all listings belonging to certain zipcode."
   ]
  },
  {
   "cell_type": "code",
   "execution_count": 69,
   "metadata": {},
   "outputs": [
    {
     "name": "stdout",
     "output_type": "stream",
     "text": [
      "<class 'pandas.core.frame.DataFrame'>\n",
      "RangeIndex: 1308890 entries, 0 to 1308889\n",
      "Data columns (total 4 columns):\n",
      " #   Column      Non-Null Count    Dtype         \n",
      "---  ------      --------------    -----         \n",
      " 0   listing_id  1308890 non-null  int64         \n",
      " 1   date        1308890 non-null  datetime64[ns]\n",
      " 2   available   1308890 non-null  bool          \n",
      " 3   price       643037 non-null   object        \n",
      "dtypes: bool(1), datetime64[ns](1), int64(1), object(1)\n",
      "memory usage: 31.2+ MB\n"
     ]
    }
   ],
   "source": [
    "df_boston_calendar.info()"
   ]
  },
  {
   "cell_type": "code",
   "execution_count": 70,
   "metadata": {},
   "outputs": [],
   "source": [
    "temp_df = pd.DataFrame()"
   ]
  },
  {
   "cell_type": "code",
   "execution_count": 71,
   "metadata": {},
   "outputs": [],
   "source": [
    "temp_df['booking_percentage'] = df_boston_calendar.groupby(['listing_id'])['available'].mean()"
   ]
  },
  {
   "cell_type": "code",
   "execution_count": 72,
   "metadata": {},
   "outputs": [
    {
     "data": {
      "text/plain": [
       "(3585, 1)"
      ]
     },
     "execution_count": 72,
     "metadata": {},
     "output_type": "execute_result"
    }
   ],
   "source": [
    "temp_df.shape"
   ]
  },
  {
   "cell_type": "code",
   "execution_count": 73,
   "metadata": {},
   "outputs": [
    {
     "data": {
      "text/plain": [
       "3585"
      ]
     },
     "execution_count": 73,
     "metadata": {},
     "output_type": "execute_result"
    }
   ],
   "source": [
    "len(temp_df.index)"
   ]
  },
  {
   "cell_type": "code",
   "execution_count": 74,
   "metadata": {},
   "outputs": [],
   "source": [
    "temp_df['listing_id']=temp_df.index"
   ]
  },
  {
   "cell_type": "code",
   "execution_count": 75,
   "metadata": {},
   "outputs": [
    {
     "data": {
      "text/plain": [
       "(3585, 2)"
      ]
     },
     "execution_count": 75,
     "metadata": {},
     "output_type": "execute_result"
    }
   ],
   "source": [
    "temp_df.shape"
   ]
  },
  {
   "cell_type": "markdown",
   "metadata": {},
   "source": [
    "Now we need to add column of zipcode corresponding to each listing"
   ]
  },
  {
   "cell_type": "code",
   "execution_count": 76,
   "metadata": {},
   "outputs": [
    {
     "data": {
      "text/html": [
       "<div>\n",
       "<style scoped>\n",
       "    .dataframe tbody tr th:only-of-type {\n",
       "        vertical-align: middle;\n",
       "    }\n",
       "\n",
       "    .dataframe tbody tr th {\n",
       "        vertical-align: top;\n",
       "    }\n",
       "\n",
       "    .dataframe thead th {\n",
       "        text-align: right;\n",
       "    }\n",
       "</style>\n",
       "<table border=\"1\" class=\"dataframe\">\n",
       "  <thead>\n",
       "    <tr style=\"text-align: right;\">\n",
       "      <th></th>\n",
       "      <th>booking_percentage</th>\n",
       "      <th>listing_id</th>\n",
       "    </tr>\n",
       "    <tr>\n",
       "      <th>listing_id</th>\n",
       "      <th></th>\n",
       "      <th></th>\n",
       "    </tr>\n",
       "  </thead>\n",
       "  <tbody>\n",
       "    <tr>\n",
       "      <th>9425087</th>\n",
       "      <td>0.016438</td>\n",
       "      <td>9425087</td>\n",
       "    </tr>\n",
       "    <tr>\n",
       "      <th>12997241</th>\n",
       "      <td>0.000000</td>\n",
       "      <td>12997241</td>\n",
       "    </tr>\n",
       "    <tr>\n",
       "      <th>10749794</th>\n",
       "      <td>0.391781</td>\n",
       "      <td>10749794</td>\n",
       "    </tr>\n",
       "  </tbody>\n",
       "</table>\n",
       "</div>"
      ],
      "text/plain": [
       "            booking_percentage  listing_id\n",
       "listing_id                                \n",
       "9425087               0.016438     9425087\n",
       "12997241              0.000000    12997241\n",
       "10749794              0.391781    10749794"
      ]
     },
     "execution_count": 76,
     "metadata": {},
     "output_type": "execute_result"
    }
   ],
   "source": [
    "temp_df.sample(3)"
   ]
  },
  {
   "cell_type": "code",
   "execution_count": 77,
   "metadata": {},
   "outputs": [],
   "source": [
    "temp_df.reset_index(drop=True, inplace=True)"
   ]
  },
  {
   "cell_type": "code",
   "execution_count": 78,
   "metadata": {},
   "outputs": [],
   "source": [
    "temp_df = temp_df.merge (df_boston_listings[['id','zipcode']], left_on='listing_id', right_on='id')"
   ]
  },
  {
   "cell_type": "code",
   "execution_count": 79,
   "metadata": {},
   "outputs": [
    {
     "data": {
      "text/html": [
       "<div>\n",
       "<style scoped>\n",
       "    .dataframe tbody tr th:only-of-type {\n",
       "        vertical-align: middle;\n",
       "    }\n",
       "\n",
       "    .dataframe tbody tr th {\n",
       "        vertical-align: top;\n",
       "    }\n",
       "\n",
       "    .dataframe thead th {\n",
       "        text-align: right;\n",
       "    }\n",
       "</style>\n",
       "<table border=\"1\" class=\"dataframe\">\n",
       "  <thead>\n",
       "    <tr style=\"text-align: right;\">\n",
       "      <th></th>\n",
       "      <th>booking_percentage</th>\n",
       "      <th>listing_id</th>\n",
       "      <th>id</th>\n",
       "      <th>zipcode</th>\n",
       "    </tr>\n",
       "  </thead>\n",
       "  <tbody>\n",
       "    <tr>\n",
       "      <th>909</th>\n",
       "      <td>0.000000</td>\n",
       "      <td>4759640</td>\n",
       "      <td>4759640</td>\n",
       "      <td>02114</td>\n",
       "    </tr>\n",
       "    <tr>\n",
       "      <th>3377</th>\n",
       "      <td>0.095890</td>\n",
       "      <td>14552102</td>\n",
       "      <td>14552102</td>\n",
       "      <td>02115</td>\n",
       "    </tr>\n",
       "    <tr>\n",
       "      <th>1238</th>\n",
       "      <td>1.000000</td>\n",
       "      <td>6516588</td>\n",
       "      <td>6516588</td>\n",
       "      <td>02115</td>\n",
       "    </tr>\n",
       "    <tr>\n",
       "      <th>1083</th>\n",
       "      <td>0.109589</td>\n",
       "      <td>5844314</td>\n",
       "      <td>5844314</td>\n",
       "      <td>02125</td>\n",
       "    </tr>\n",
       "    <tr>\n",
       "      <th>1517</th>\n",
       "      <td>0.852055</td>\n",
       "      <td>7693354</td>\n",
       "      <td>7693354</td>\n",
       "      <td>02125</td>\n",
       "    </tr>\n",
       "    <tr>\n",
       "      <th>2772</th>\n",
       "      <td>0.334247</td>\n",
       "      <td>13017162</td>\n",
       "      <td>13017162</td>\n",
       "      <td>02215</td>\n",
       "    </tr>\n",
       "    <tr>\n",
       "      <th>539</th>\n",
       "      <td>0.945205</td>\n",
       "      <td>2843596</td>\n",
       "      <td>2843596</td>\n",
       "      <td>02127</td>\n",
       "    </tr>\n",
       "  </tbody>\n",
       "</table>\n",
       "</div>"
      ],
      "text/plain": [
       "      booking_percentage  listing_id        id zipcode\n",
       "909             0.000000     4759640   4759640   02114\n",
       "3377            0.095890    14552102  14552102   02115\n",
       "1238            1.000000     6516588   6516588   02115\n",
       "1083            0.109589     5844314   5844314   02125\n",
       "1517            0.852055     7693354   7693354   02125\n",
       "2772            0.334247    13017162  13017162   02215\n",
       "539             0.945205     2843596   2843596   02127"
      ]
     },
     "execution_count": 79,
     "metadata": {},
     "output_type": "execute_result"
    }
   ],
   "source": [
    "temp_df.sample(7)"
   ]
  },
  {
   "cell_type": "code",
   "execution_count": 80,
   "metadata": {},
   "outputs": [
    {
     "data": {
      "text/plain": [
       "(3585, 4)"
      ]
     },
     "execution_count": 80,
     "metadata": {},
     "output_type": "execute_result"
    }
   ],
   "source": [
    "temp_df.shape"
   ]
  },
  {
   "cell_type": "markdown",
   "metadata": {},
   "source": [
    "Confirming that number of zipcodes in temp_df and df_boston_listings is the same."
   ]
  },
  {
   "cell_type": "code",
   "execution_count": 81,
   "metadata": {},
   "outputs": [
    {
     "data": {
      "text/plain": [
       "(43, 43, 3585)"
      ]
     },
     "execution_count": 81,
     "metadata": {},
     "output_type": "execute_result"
    }
   ],
   "source": [
    "temp_df.zipcode.nunique(), df_boston_listings.zipcode.nunique(), temp_df.listing_id.nunique()"
   ]
  },
  {
   "cell_type": "markdown",
   "metadata": {},
   "source": [
    "Taking groupby of temp_df across zipcode and taking mean on colulmn booking percentage will give us booking percentage across each zipcode"
   ]
  },
  {
   "cell_type": "code",
   "execution_count": 82,
   "metadata": {},
   "outputs": [],
   "source": [
    "temp_df_2 = temp_df.groupby(['zipcode'])['booking_percentage'].mean()"
   ]
  },
  {
   "cell_type": "code",
   "execution_count": 83,
   "metadata": {},
   "outputs": [
    {
     "data": {
      "text/plain": [
       "pandas.core.frame.DataFrame"
      ]
     },
     "execution_count": 83,
     "metadata": {},
     "output_type": "execute_result"
    }
   ],
   "source": [
    "type(df_zipcode_details)"
   ]
  },
  {
   "cell_type": "code",
   "execution_count": 84,
   "metadata": {},
   "outputs": [
    {
     "data": {
      "text/html": [
       "<div>\n",
       "<style scoped>\n",
       "    .dataframe tbody tr th:only-of-type {\n",
       "        vertical-align: middle;\n",
       "    }\n",
       "\n",
       "    .dataframe tbody tr th {\n",
       "        vertical-align: top;\n",
       "    }\n",
       "\n",
       "    .dataframe thead th {\n",
       "        text-align: right;\n",
       "    }\n",
       "</style>\n",
       "<table border=\"1\" class=\"dataframe\">\n",
       "  <thead>\n",
       "    <tr style=\"text-align: right;\">\n",
       "      <th></th>\n",
       "      <th>zipcode</th>\n",
       "    </tr>\n",
       "  </thead>\n",
       "  <tbody>\n",
       "    <tr>\n",
       "      <th>5</th>\n",
       "      <td>02115</td>\n",
       "    </tr>\n",
       "    <tr>\n",
       "      <th>28</th>\n",
       "      <td>02446</td>\n",
       "    </tr>\n",
       "    <tr>\n",
       "      <th>12</th>\n",
       "      <td>02114</td>\n",
       "    </tr>\n",
       "    <tr>\n",
       "      <th>8</th>\n",
       "      <td>02111</td>\n",
       "    </tr>\n",
       "    <tr>\n",
       "      <th>32</th>\n",
       "      <td>02132</td>\n",
       "    </tr>\n",
       "    <tr>\n",
       "      <th>36</th>\n",
       "      <td>02169</td>\n",
       "    </tr>\n",
       "    <tr>\n",
       "      <th>14</th>\n",
       "      <td>02121</td>\n",
       "    </tr>\n",
       "  </tbody>\n",
       "</table>\n",
       "</div>"
      ],
      "text/plain": [
       "   zipcode\n",
       "5    02115\n",
       "28   02446\n",
       "12   02114\n",
       "8    02111\n",
       "32   02132\n",
       "36   02169\n",
       "14   02121"
      ]
     },
     "execution_count": 84,
     "metadata": {},
     "output_type": "execute_result"
    }
   ],
   "source": [
    "df_zipcode_details.sample(7)"
   ]
  },
  {
   "cell_type": "code",
   "execution_count": 85,
   "metadata": {},
   "outputs": [
    {
     "data": {
      "text/plain": [
       "zipcode\n",
       "02141    0.371689\n",
       "02215    0.438623\n",
       "02145    0.689041\n",
       "Name: booking_percentage, dtype: float64"
      ]
     },
     "execution_count": 85,
     "metadata": {},
     "output_type": "execute_result"
    }
   ],
   "source": [
    "temp_df_2.sample(3)"
   ]
  },
  {
   "cell_type": "code",
   "execution_count": 86,
   "metadata": {},
   "outputs": [],
   "source": [
    "df_zipcode_details = temp_df_2.to_frame().reset_index()"
   ]
  },
  {
   "cell_type": "code",
   "execution_count": 87,
   "metadata": {},
   "outputs": [
    {
     "data": {
      "text/html": [
       "<div>\n",
       "<style scoped>\n",
       "    .dataframe tbody tr th:only-of-type {\n",
       "        vertical-align: middle;\n",
       "    }\n",
       "\n",
       "    .dataframe tbody tr th {\n",
       "        vertical-align: top;\n",
       "    }\n",
       "\n",
       "    .dataframe thead th {\n",
       "        text-align: right;\n",
       "    }\n",
       "</style>\n",
       "<table border=\"1\" class=\"dataframe\">\n",
       "  <thead>\n",
       "    <tr style=\"text-align: right;\">\n",
       "      <th></th>\n",
       "      <th>zipcode</th>\n",
       "      <th>booking_percentage</th>\n",
       "    </tr>\n",
       "  </thead>\n",
       "  <tbody>\n",
       "    <tr>\n",
       "      <th>21</th>\n",
       "      <td>02131</td>\n",
       "      <td>0.669758</td>\n",
       "    </tr>\n",
       "    <tr>\n",
       "      <th>19</th>\n",
       "      <td>02129</td>\n",
       "      <td>0.476743</td>\n",
       "    </tr>\n",
       "    <tr>\n",
       "      <th>11</th>\n",
       "      <td>02120</td>\n",
       "      <td>0.367457</td>\n",
       "    </tr>\n",
       "    <tr>\n",
       "      <th>31</th>\n",
       "      <td>02143</td>\n",
       "      <td>0.984344</td>\n",
       "    </tr>\n",
       "    <tr>\n",
       "      <th>6</th>\n",
       "      <td>02114</td>\n",
       "      <td>0.511095</td>\n",
       "    </tr>\n",
       "    <tr>\n",
       "      <th>13</th>\n",
       "      <td>02122</td>\n",
       "      <td>0.714384</td>\n",
       "    </tr>\n",
       "    <tr>\n",
       "      <th>10</th>\n",
       "      <td>02119</td>\n",
       "      <td>0.612877</td>\n",
       "    </tr>\n",
       "  </tbody>\n",
       "</table>\n",
       "</div>"
      ],
      "text/plain": [
       "   zipcode  booking_percentage\n",
       "21   02131            0.669758\n",
       "19   02129            0.476743\n",
       "11   02120            0.367457\n",
       "31   02143            0.984344\n",
       "6    02114            0.511095\n",
       "13   02122            0.714384\n",
       "10   02119            0.612877"
      ]
     },
     "execution_count": 87,
     "metadata": {},
     "output_type": "execute_result"
    }
   ],
   "source": [
    "df_zipcode_details.sample(7)"
   ]
  },
  {
   "cell_type": "code",
   "execution_count": null,
   "metadata": {},
   "outputs": [],
   "source": []
  },
  {
   "cell_type": "markdown",
   "metadata": {},
   "source": [
    "##### Question 2 = Listings from which zipcodes are leaders in having high reviews in user ratings? (like give me top 3) "
   ]
  },
  {
   "cell_type": "markdown",
   "metadata": {},
   "source": [
    "For this question building up from the last question, we will crete average review for each zipcode and attach it as a new column to df_zipcode_details"
   ]
  },
  {
   "cell_type": "markdown",
   "metadata": {},
   "source": [
    "For this question the column of zipcode and review_scores_value is of interest to us. They both exist in df_boston_listings."
   ]
  },
  {
   "cell_type": "markdown",
   "metadata": {},
   "source": [
    "Therefore we can simply take a groupby on zipcode column and take mean of the review_scores_value column"
   ]
  },
  {
   "cell_type": "code",
   "execution_count": 88,
   "metadata": {},
   "outputs": [
    {
     "data": {
      "text/plain": [
       "zipcode\n",
       "02108           9.166667\n",
       "02108 02111     9.000000\n",
       "02109           9.085714\n",
       "02110           9.363636\n",
       "02111           9.156250\n",
       "02113           9.421687\n",
       "02114           9.198864\n",
       "02115           9.090164\n",
       "02116           9.115789\n",
       "02118           9.286385\n",
       "02119           9.093023\n",
       "02120           8.600000\n",
       "02121           9.238095\n",
       "02122           9.189189\n",
       "02124           9.014925\n",
       "02125           8.954545\n",
       "02126           9.055556\n",
       "02127           9.389937\n",
       "02128           9.044776\n",
       "02129           9.522388\n",
       "02130           9.414894\n",
       "02131           9.559322\n",
       "02132           9.555556\n",
       "02134           9.011696\n",
       "02134-1704      8.000000\n",
       "02135           9.181102\n",
       "02136           9.217391\n",
       "02138          10.000000\n",
       "02139           9.000000\n",
       "02141           7.500000\n",
       "02142           9.000000\n",
       "02143           7.333333\n",
       "02145           8.600000\n",
       "02163          10.000000\n",
       "02169                NaN\n",
       "02186           9.000000\n",
       "02210           9.180000\n",
       "02215           8.756944\n",
       "02218                NaN\n",
       "02445           9.500000\n",
       "02446          10.000000\n",
       "02467           9.000000\n",
       "02472                NaN\n",
       "Name: review_scores_value, dtype: float64"
      ]
     },
     "execution_count": 88,
     "metadata": {},
     "output_type": "execute_result"
    }
   ],
   "source": [
    "df_boston_listings.groupby(['zipcode'])['review_scores_value'].mean()"
   ]
  },
  {
   "cell_type": "code",
   "execution_count": 89,
   "metadata": {},
   "outputs": [],
   "source": [
    "temp_df = df_boston_listings.groupby(['zipcode'])['review_scores_value'].mean()"
   ]
  },
  {
   "cell_type": "code",
   "execution_count": 90,
   "metadata": {},
   "outputs": [
    {
     "data": {
      "text/plain": [
       "pandas.core.series.Series"
      ]
     },
     "execution_count": 90,
     "metadata": {},
     "output_type": "execute_result"
    }
   ],
   "source": [
    "type(temp_df)"
   ]
  },
  {
   "cell_type": "code",
   "execution_count": 91,
   "metadata": {},
   "outputs": [],
   "source": [
    " temp_df_2 = temp_df.to_frame().reset_index()"
   ]
  },
  {
   "cell_type": "code",
   "execution_count": 92,
   "metadata": {},
   "outputs": [
    {
     "data": {
      "text/html": [
       "<div>\n",
       "<style scoped>\n",
       "    .dataframe tbody tr th:only-of-type {\n",
       "        vertical-align: middle;\n",
       "    }\n",
       "\n",
       "    .dataframe tbody tr th {\n",
       "        vertical-align: top;\n",
       "    }\n",
       "\n",
       "    .dataframe thead th {\n",
       "        text-align: right;\n",
       "    }\n",
       "</style>\n",
       "<table border=\"1\" class=\"dataframe\">\n",
       "  <thead>\n",
       "    <tr style=\"text-align: right;\">\n",
       "      <th></th>\n",
       "      <th>zipcode</th>\n",
       "      <th>review_scores_value</th>\n",
       "    </tr>\n",
       "  </thead>\n",
       "  <tbody>\n",
       "    <tr>\n",
       "      <th>0</th>\n",
       "      <td>02108</td>\n",
       "      <td>9.166667</td>\n",
       "    </tr>\n",
       "    <tr>\n",
       "      <th>28</th>\n",
       "      <td>02139</td>\n",
       "      <td>9.000000</td>\n",
       "    </tr>\n",
       "    <tr>\n",
       "      <th>10</th>\n",
       "      <td>02119</td>\n",
       "      <td>9.093023</td>\n",
       "    </tr>\n",
       "  </tbody>\n",
       "</table>\n",
       "</div>"
      ],
      "text/plain": [
       "   zipcode  review_scores_value\n",
       "0    02108             9.166667\n",
       "28   02139             9.000000\n",
       "10   02119             9.093023"
      ]
     },
     "execution_count": 92,
     "metadata": {},
     "output_type": "execute_result"
    }
   ],
   "source": [
    "temp_df_2.sample(3)"
   ]
  },
  {
   "cell_type": "markdown",
   "metadata": {},
   "source": [
    "Now all we have to do is merge this dataframe with df_zipcode_details"
   ]
  },
  {
   "cell_type": "code",
   "execution_count": 93,
   "metadata": {},
   "outputs": [],
   "source": [
    "temp_df_3 = df_zipcode_details.merge(temp_df_2, on='zipcode')"
   ]
  },
  {
   "cell_type": "code",
   "execution_count": 94,
   "metadata": {},
   "outputs": [
    {
     "data": {
      "text/plain": [
       "(43, 2)"
      ]
     },
     "execution_count": 94,
     "metadata": {},
     "output_type": "execute_result"
    }
   ],
   "source": [
    "df_zipcode_details.shape"
   ]
  },
  {
   "cell_type": "code",
   "execution_count": 95,
   "metadata": {},
   "outputs": [
    {
     "data": {
      "text/plain": [
       "(43, 3)"
      ]
     },
     "execution_count": 95,
     "metadata": {},
     "output_type": "execute_result"
    }
   ],
   "source": [
    "temp_df_3.shape"
   ]
  },
  {
   "cell_type": "code",
   "execution_count": 96,
   "metadata": {},
   "outputs": [],
   "source": [
    "df_zipcode_details = df_zipcode_details.merge(temp_df_2, on='zipcode')"
   ]
  },
  {
   "cell_type": "code",
   "execution_count": 97,
   "metadata": {},
   "outputs": [
    {
     "data": {
      "text/plain": [
       "(43, 3)"
      ]
     },
     "execution_count": 97,
     "metadata": {},
     "output_type": "execute_result"
    }
   ],
   "source": [
    "df_zipcode_details.shape"
   ]
  },
  {
   "cell_type": "code",
   "execution_count": 98,
   "metadata": {},
   "outputs": [
    {
     "data": {
      "text/html": [
       "<div>\n",
       "<style scoped>\n",
       "    .dataframe tbody tr th:only-of-type {\n",
       "        vertical-align: middle;\n",
       "    }\n",
       "\n",
       "    .dataframe tbody tr th {\n",
       "        vertical-align: top;\n",
       "    }\n",
       "\n",
       "    .dataframe thead th {\n",
       "        text-align: right;\n",
       "    }\n",
       "</style>\n",
       "<table border=\"1\" class=\"dataframe\">\n",
       "  <thead>\n",
       "    <tr style=\"text-align: right;\">\n",
       "      <th></th>\n",
       "      <th>zipcode</th>\n",
       "      <th>booking_percentage</th>\n",
       "      <th>review_scores_value</th>\n",
       "    </tr>\n",
       "  </thead>\n",
       "  <tbody>\n",
       "    <tr>\n",
       "      <th>24</th>\n",
       "      <td>02134-1704</td>\n",
       "      <td>0.665753</td>\n",
       "      <td>8.000000</td>\n",
       "    </tr>\n",
       "    <tr>\n",
       "      <th>42</th>\n",
       "      <td>02472</td>\n",
       "      <td>0.928767</td>\n",
       "      <td>NaN</td>\n",
       "    </tr>\n",
       "    <tr>\n",
       "      <th>19</th>\n",
       "      <td>02129</td>\n",
       "      <td>0.476743</td>\n",
       "      <td>9.522388</td>\n",
       "    </tr>\n",
       "    <tr>\n",
       "      <th>15</th>\n",
       "      <td>02125</td>\n",
       "      <td>0.584050</td>\n",
       "      <td>8.954545</td>\n",
       "    </tr>\n",
       "    <tr>\n",
       "      <th>33</th>\n",
       "      <td>02163</td>\n",
       "      <td>0.046575</td>\n",
       "      <td>10.000000</td>\n",
       "    </tr>\n",
       "  </tbody>\n",
       "</table>\n",
       "</div>"
      ],
      "text/plain": [
       "       zipcode  booking_percentage  review_scores_value\n",
       "24  02134-1704            0.665753             8.000000\n",
       "42       02472            0.928767                  NaN\n",
       "19       02129            0.476743             9.522388\n",
       "15       02125            0.584050             8.954545\n",
       "33       02163            0.046575            10.000000"
      ]
     },
     "execution_count": 98,
     "metadata": {},
     "output_type": "execute_result"
    }
   ],
   "source": [
    "df_zipcode_details.sample(5)"
   ]
  },
  {
   "cell_type": "markdown",
   "metadata": {},
   "source": [
    "##### Question 3 = Listings from which neighbourhood are leaders in always being booked? (like give me top 3) "
   ]
  },
  {
   "cell_type": "markdown",
   "metadata": {},
   "source": [
    "For this question columns of interst are neighbourhood from df_boston_listings and available from df_boston_calendar"
   ]
  },
  {
   "cell_type": "markdown",
   "metadata": {},
   "source": [
    "Create new dataframe to store data for this and possible other questions related to neighbourhood details"
   ]
  },
  {
   "cell_type": "code",
   "execution_count": 99,
   "metadata": {},
   "outputs": [],
   "source": [
    "df_neighbourhood_details = pd.DataFrame()"
   ]
  },
  {
   "cell_type": "code",
   "execution_count": 100,
   "metadata": {},
   "outputs": [],
   "source": [
    "df_neighbourhood_details['neighbourhood'] = df_boston_listings.neighbourhood.unique()"
   ]
  },
  {
   "cell_type": "code",
   "execution_count": 101,
   "metadata": {},
   "outputs": [
    {
     "data": {
      "text/plain": [
       "(31, 1)"
      ]
     },
     "execution_count": 101,
     "metadata": {},
     "output_type": "execute_result"
    }
   ],
   "source": [
    "df_neighbourhood_details.shape"
   ]
  },
  {
   "cell_type": "code",
   "execution_count": 102,
   "metadata": {},
   "outputs": [],
   "source": [
    "temp_df = pd.DataFrame()"
   ]
  },
  {
   "cell_type": "code",
   "execution_count": 103,
   "metadata": {},
   "outputs": [],
   "source": [
    "temp_df['booking_percentage'] = df_boston_calendar.groupby(['listing_id'])['available'].mean()"
   ]
  },
  {
   "cell_type": "code",
   "execution_count": 104,
   "metadata": {},
   "outputs": [
    {
     "data": {
      "text/plain": [
       "(3585, 1)"
      ]
     },
     "execution_count": 104,
     "metadata": {},
     "output_type": "execute_result"
    }
   ],
   "source": [
    "temp_df.shape"
   ]
  },
  {
   "cell_type": "code",
   "execution_count": 105,
   "metadata": {},
   "outputs": [
    {
     "data": {
      "text/html": [
       "<div>\n",
       "<style scoped>\n",
       "    .dataframe tbody tr th:only-of-type {\n",
       "        vertical-align: middle;\n",
       "    }\n",
       "\n",
       "    .dataframe tbody tr th {\n",
       "        vertical-align: top;\n",
       "    }\n",
       "\n",
       "    .dataframe thead th {\n",
       "        text-align: right;\n",
       "    }\n",
       "</style>\n",
       "<table border=\"1\" class=\"dataframe\">\n",
       "  <thead>\n",
       "    <tr style=\"text-align: right;\">\n",
       "      <th></th>\n",
       "      <th>booking_percentage</th>\n",
       "    </tr>\n",
       "    <tr>\n",
       "      <th>listing_id</th>\n",
       "      <th></th>\n",
       "    </tr>\n",
       "  </thead>\n",
       "  <tbody>\n",
       "    <tr>\n",
       "      <th>11695285</th>\n",
       "      <td>0.723288</td>\n",
       "    </tr>\n",
       "    <tr>\n",
       "      <th>10266928</th>\n",
       "      <td>0.501370</td>\n",
       "    </tr>\n",
       "    <tr>\n",
       "      <th>13711334</th>\n",
       "      <td>0.441096</td>\n",
       "    </tr>\n",
       "  </tbody>\n",
       "</table>\n",
       "</div>"
      ],
      "text/plain": [
       "            booking_percentage\n",
       "listing_id                    \n",
       "11695285              0.723288\n",
       "10266928              0.501370\n",
       "13711334              0.441096"
      ]
     },
     "execution_count": 105,
     "metadata": {},
     "output_type": "execute_result"
    }
   ],
   "source": [
    "temp_df.sample(3)"
   ]
  },
  {
   "cell_type": "code",
   "execution_count": 106,
   "metadata": {},
   "outputs": [],
   "source": [
    "temp_df['listing_id'] = temp_df.index"
   ]
  },
  {
   "cell_type": "code",
   "execution_count": 107,
   "metadata": {},
   "outputs": [],
   "source": [
    "temp_df.reset_index(drop=True, inplace=True)"
   ]
  },
  {
   "cell_type": "code",
   "execution_count": 108,
   "metadata": {},
   "outputs": [
    {
     "data": {
      "text/html": [
       "<div>\n",
       "<style scoped>\n",
       "    .dataframe tbody tr th:only-of-type {\n",
       "        vertical-align: middle;\n",
       "    }\n",
       "\n",
       "    .dataframe tbody tr th {\n",
       "        vertical-align: top;\n",
       "    }\n",
       "\n",
       "    .dataframe thead th {\n",
       "        text-align: right;\n",
       "    }\n",
       "</style>\n",
       "<table border=\"1\" class=\"dataframe\">\n",
       "  <thead>\n",
       "    <tr style=\"text-align: right;\">\n",
       "      <th></th>\n",
       "      <th>booking_percentage</th>\n",
       "      <th>listing_id</th>\n",
       "    </tr>\n",
       "  </thead>\n",
       "  <tbody>\n",
       "    <tr>\n",
       "      <th>274</th>\n",
       "      <td>0.764384</td>\n",
       "      <td>1174776</td>\n",
       "    </tr>\n",
       "    <tr>\n",
       "      <th>1142</th>\n",
       "      <td>0.000000</td>\n",
       "      <td>6072693</td>\n",
       "    </tr>\n",
       "    <tr>\n",
       "      <th>2490</th>\n",
       "      <td>0.482192</td>\n",
       "      <td>11987762</td>\n",
       "    </tr>\n",
       "  </tbody>\n",
       "</table>\n",
       "</div>"
      ],
      "text/plain": [
       "      booking_percentage  listing_id\n",
       "274             0.764384     1174776\n",
       "1142            0.000000     6072693\n",
       "2490            0.482192    11987762"
      ]
     },
     "execution_count": 108,
     "metadata": {},
     "output_type": "execute_result"
    }
   ],
   "source": [
    "temp_df.sample(3)"
   ]
  },
  {
   "cell_type": "markdown",
   "metadata": {},
   "source": [
    "Adding a column of neighbourhood and taking average of booking percentage is the next step"
   ]
  },
  {
   "cell_type": "code",
   "execution_count": 109,
   "metadata": {},
   "outputs": [],
   "source": [
    "temp_df_2 = temp_df.merge(df_boston_listings[['neighbourhood', 'id']], left_on='listing_id', right_on='id')"
   ]
  },
  {
   "cell_type": "code",
   "execution_count": 110,
   "metadata": {},
   "outputs": [
    {
     "data": {
      "text/html": [
       "<div>\n",
       "<style scoped>\n",
       "    .dataframe tbody tr th:only-of-type {\n",
       "        vertical-align: middle;\n",
       "    }\n",
       "\n",
       "    .dataframe tbody tr th {\n",
       "        vertical-align: top;\n",
       "    }\n",
       "\n",
       "    .dataframe thead th {\n",
       "        text-align: right;\n",
       "    }\n",
       "</style>\n",
       "<table border=\"1\" class=\"dataframe\">\n",
       "  <thead>\n",
       "    <tr style=\"text-align: right;\">\n",
       "      <th></th>\n",
       "      <th>booking_percentage</th>\n",
       "      <th>listing_id</th>\n",
       "      <th>neighbourhood</th>\n",
       "      <th>id</th>\n",
       "    </tr>\n",
       "  </thead>\n",
       "  <tbody>\n",
       "    <tr>\n",
       "      <th>277</th>\n",
       "      <td>0.936986</td>\n",
       "      <td>1178162</td>\n",
       "      <td>East Boston</td>\n",
       "      <td>1178162</td>\n",
       "    </tr>\n",
       "    <tr>\n",
       "      <th>241</th>\n",
       "      <td>0.824658</td>\n",
       "      <td>1042420</td>\n",
       "      <td>East Boston</td>\n",
       "      <td>1042420</td>\n",
       "    </tr>\n",
       "    <tr>\n",
       "      <th>1388</th>\n",
       "      <td>0.046575</td>\n",
       "      <td>7114655</td>\n",
       "      <td>South End</td>\n",
       "      <td>7114655</td>\n",
       "    </tr>\n",
       "  </tbody>\n",
       "</table>\n",
       "</div>"
      ],
      "text/plain": [
       "      booking_percentage  listing_id neighbourhood       id\n",
       "277             0.936986     1178162   East Boston  1178162\n",
       "241             0.824658     1042420   East Boston  1042420\n",
       "1388            0.046575     7114655     South End  7114655"
      ]
     },
     "execution_count": 110,
     "metadata": {},
     "output_type": "execute_result"
    }
   ],
   "source": [
    "temp_df_2.sample(3)"
   ]
  },
  {
   "cell_type": "code",
   "execution_count": 111,
   "metadata": {},
   "outputs": [],
   "source": [
    "temp_df_3 = temp_df_2.groupby(['neighbourhood'])['booking_percentage'].mean()\n"
   ]
  },
  {
   "cell_type": "code",
   "execution_count": 112,
   "metadata": {},
   "outputs": [
    {
     "data": {
      "text/plain": [
       "(30,)"
      ]
     },
     "execution_count": 112,
     "metadata": {},
     "output_type": "execute_result"
    }
   ],
   "source": [
    "temp_df_3.shape"
   ]
  },
  {
   "cell_type": "code",
   "execution_count": 113,
   "metadata": {},
   "outputs": [
    {
     "data": {
      "text/plain": [
       "pandas.core.series.Series"
      ]
     },
     "execution_count": 113,
     "metadata": {},
     "output_type": "execute_result"
    }
   ],
   "source": [
    "type(temp_df_3)"
   ]
  },
  {
   "cell_type": "code",
   "execution_count": 114,
   "metadata": {},
   "outputs": [
    {
     "data": {
      "text/plain": [
       "neighbourhood\n",
       "Mission Hill    0.348052\n",
       "Dorchester      0.613109\n",
       "Chinatown       0.519881\n",
       "Name: booking_percentage, dtype: float64"
      ]
     },
     "execution_count": 114,
     "metadata": {},
     "output_type": "execute_result"
    }
   ],
   "source": [
    "temp_df_3.sample(3)"
   ]
  },
  {
   "cell_type": "code",
   "execution_count": 115,
   "metadata": {},
   "outputs": [],
   "source": [
    "df_neighbourhood_details = temp_df_3.to_frame().reset_index()"
   ]
  },
  {
   "cell_type": "code",
   "execution_count": 116,
   "metadata": {},
   "outputs": [
    {
     "data": {
      "text/plain": [
       "(30, 2)"
      ]
     },
     "execution_count": 116,
     "metadata": {},
     "output_type": "execute_result"
    }
   ],
   "source": [
    "df_neighbourhood_details.shape"
   ]
  },
  {
   "cell_type": "code",
   "execution_count": 117,
   "metadata": {},
   "outputs": [
    {
     "data": {
      "text/html": [
       "<div>\n",
       "<style scoped>\n",
       "    .dataframe tbody tr th:only-of-type {\n",
       "        vertical-align: middle;\n",
       "    }\n",
       "\n",
       "    .dataframe tbody tr th {\n",
       "        vertical-align: top;\n",
       "    }\n",
       "\n",
       "    .dataframe thead th {\n",
       "        text-align: right;\n",
       "    }\n",
       "</style>\n",
       "<table border=\"1\" class=\"dataframe\">\n",
       "  <thead>\n",
       "    <tr style=\"text-align: right;\">\n",
       "      <th></th>\n",
       "      <th>neighbourhood</th>\n",
       "      <th>booking_percentage</th>\n",
       "    </tr>\n",
       "  </thead>\n",
       "  <tbody>\n",
       "    <tr>\n",
       "      <th>23</th>\n",
       "      <td>Roxbury</td>\n",
       "      <td>0.583373</td>\n",
       "    </tr>\n",
       "    <tr>\n",
       "      <th>28</th>\n",
       "      <td>West End</td>\n",
       "      <td>0.648187</td>\n",
       "    </tr>\n",
       "    <tr>\n",
       "      <th>17</th>\n",
       "      <td>Jamaica Plain</td>\n",
       "      <td>0.485115</td>\n",
       "    </tr>\n",
       "  </tbody>\n",
       "</table>\n",
       "</div>"
      ],
      "text/plain": [
       "    neighbourhood  booking_percentage\n",
       "23        Roxbury            0.583373\n",
       "28       West End            0.648187\n",
       "17  Jamaica Plain            0.485115"
      ]
     },
     "execution_count": 117,
     "metadata": {},
     "output_type": "execute_result"
    }
   ],
   "source": [
    "df_neighbourhood_details.sample(3)"
   ]
  },
  {
   "cell_type": "markdown",
   "metadata": {},
   "source": [
    "##### Question 4 = Listings from which neighbourhood are leaders in having high reviews in user ratings? (like give me top 3)"
   ]
  },
  {
   "cell_type": "markdown",
   "metadata": {},
   "source": [
    "Picking up resultant dataframe from earlier question; df_neighbourhood_details for this question we add another column giving average review for each neighbourhood."
   ]
  },
  {
   "cell_type": "markdown",
   "metadata": {},
   "source": [
    "Taking groupby of df_boston_listings across neighbourhood and taking mean on colulmn review_scores_value will give us the third column"
   ]
  },
  {
   "cell_type": "code",
   "execution_count": 118,
   "metadata": {},
   "outputs": [],
   "source": [
    "temp_df = df_boston_listings.groupby(['neighbourhood'])['review_scores_value'].mean()"
   ]
  },
  {
   "cell_type": "code",
   "execution_count": 119,
   "metadata": {},
   "outputs": [
    {
     "data": {
      "text/plain": [
       "(30,)"
      ]
     },
     "execution_count": 119,
     "metadata": {},
     "output_type": "execute_result"
    }
   ],
   "source": [
    "temp_df.shape"
   ]
  },
  {
   "cell_type": "code",
   "execution_count": 120,
   "metadata": {},
   "outputs": [
    {
     "data": {
      "text/plain": [
       "neighbourhood\n",
       "Financial District    10.000000\n",
       "Allston-Brighton       9.059701\n",
       "Dorchester             9.071429\n",
       "Name: review_scores_value, dtype: float64"
      ]
     },
     "execution_count": 120,
     "metadata": {},
     "output_type": "execute_result"
    }
   ],
   "source": [
    "temp_df.sample(3)"
   ]
  },
  {
   "cell_type": "code",
   "execution_count": 121,
   "metadata": {},
   "outputs": [
    {
     "data": {
      "text/plain": [
       "pandas.core.frame.DataFrame"
      ]
     },
     "execution_count": 121,
     "metadata": {},
     "output_type": "execute_result"
    }
   ],
   "source": [
    "type(df_zipcode_details)"
   ]
  },
  {
   "cell_type": "code",
   "execution_count": 122,
   "metadata": {},
   "outputs": [],
   "source": [
    "temp_df_2 = temp_df.to_frame().reset_index()"
   ]
  },
  {
   "cell_type": "code",
   "execution_count": 123,
   "metadata": {},
   "outputs": [
    {
     "data": {
      "text/html": [
       "<div>\n",
       "<style scoped>\n",
       "    .dataframe tbody tr th:only-of-type {\n",
       "        vertical-align: middle;\n",
       "    }\n",
       "\n",
       "    .dataframe tbody tr th {\n",
       "        vertical-align: top;\n",
       "    }\n",
       "\n",
       "    .dataframe thead th {\n",
       "        text-align: right;\n",
       "    }\n",
       "</style>\n",
       "<table border=\"1\" class=\"dataframe\">\n",
       "  <thead>\n",
       "    <tr style=\"text-align: right;\">\n",
       "      <th></th>\n",
       "      <th>neighbourhood</th>\n",
       "      <th>review_scores_value</th>\n",
       "    </tr>\n",
       "  </thead>\n",
       "  <tbody>\n",
       "    <tr>\n",
       "      <th>25</th>\n",
       "      <td>South Boston</td>\n",
       "      <td>9.353933</td>\n",
       "    </tr>\n",
       "    <tr>\n",
       "      <th>21</th>\n",
       "      <td>North End</td>\n",
       "      <td>9.327103</td>\n",
       "    </tr>\n",
       "    <tr>\n",
       "      <th>3</th>\n",
       "      <td>Brookline</td>\n",
       "      <td>9.500000</td>\n",
       "    </tr>\n",
       "  </tbody>\n",
       "</table>\n",
       "</div>"
      ],
      "text/plain": [
       "   neighbourhood  review_scores_value\n",
       "25  South Boston             9.353933\n",
       "21     North End             9.327103\n",
       "3      Brookline             9.500000"
      ]
     },
     "execution_count": 123,
     "metadata": {},
     "output_type": "execute_result"
    }
   ],
   "source": [
    "temp_df_2.sample(3)"
   ]
  },
  {
   "cell_type": "markdown",
   "metadata": {},
   "source": [
    "To add this column; review_scores_value to dataframe df_neighbourhood_details we will take a merge"
   ]
  },
  {
   "cell_type": "code",
   "execution_count": 124,
   "metadata": {},
   "outputs": [],
   "source": [
    "temp_df_3 = temp_df_2.merge(df_neighbourhood_details, on='neighbourhood')"
   ]
  },
  {
   "cell_type": "code",
   "execution_count": 125,
   "metadata": {},
   "outputs": [
    {
     "data": {
      "text/plain": [
       "(30, 3)"
      ]
     },
     "execution_count": 125,
     "metadata": {},
     "output_type": "execute_result"
    }
   ],
   "source": [
    "temp_df_3.shape"
   ]
  },
  {
   "cell_type": "code",
   "execution_count": 126,
   "metadata": {},
   "outputs": [
    {
     "data": {
      "text/html": [
       "<div>\n",
       "<style scoped>\n",
       "    .dataframe tbody tr th:only-of-type {\n",
       "        vertical-align: middle;\n",
       "    }\n",
       "\n",
       "    .dataframe tbody tr th {\n",
       "        vertical-align: top;\n",
       "    }\n",
       "\n",
       "    .dataframe thead th {\n",
       "        text-align: right;\n",
       "    }\n",
       "</style>\n",
       "<table border=\"1\" class=\"dataframe\">\n",
       "  <thead>\n",
       "    <tr style=\"text-align: right;\">\n",
       "      <th></th>\n",
       "      <th>neighbourhood</th>\n",
       "      <th>review_scores_value</th>\n",
       "      <th>booking_percentage</th>\n",
       "    </tr>\n",
       "  </thead>\n",
       "  <tbody>\n",
       "    <tr>\n",
       "      <th>15</th>\n",
       "      <td>Harvard Square</td>\n",
       "      <td>NaN</td>\n",
       "      <td>0.117808</td>\n",
       "    </tr>\n",
       "    <tr>\n",
       "      <th>18</th>\n",
       "      <td>Leather District</td>\n",
       "      <td>9.800000</td>\n",
       "      <td>0.559247</td>\n",
       "    </tr>\n",
       "    <tr>\n",
       "      <th>9</th>\n",
       "      <td>Downtown</td>\n",
       "      <td>8.428571</td>\n",
       "      <td>0.561986</td>\n",
       "    </tr>\n",
       "    <tr>\n",
       "      <th>14</th>\n",
       "      <td>Government Center</td>\n",
       "      <td>9.333333</td>\n",
       "      <td>0.788128</td>\n",
       "    </tr>\n",
       "    <tr>\n",
       "      <th>20</th>\n",
       "      <td>Mission Hill</td>\n",
       "      <td>8.626866</td>\n",
       "      <td>0.348052</td>\n",
       "    </tr>\n",
       "  </tbody>\n",
       "</table>\n",
       "</div>"
      ],
      "text/plain": [
       "        neighbourhood  review_scores_value  booking_percentage\n",
       "15     Harvard Square                  NaN            0.117808\n",
       "18   Leather District             9.800000            0.559247\n",
       "9            Downtown             8.428571            0.561986\n",
       "14  Government Center             9.333333            0.788128\n",
       "20       Mission Hill             8.626866            0.348052"
      ]
     },
     "execution_count": 126,
     "metadata": {},
     "output_type": "execute_result"
    }
   ],
   "source": [
    "temp_df_3.sample(5)"
   ]
  },
  {
   "cell_type": "code",
   "execution_count": 127,
   "metadata": {},
   "outputs": [],
   "source": [
    "df_neighbourhood_details = temp_df_3"
   ]
  },
  {
   "cell_type": "code",
   "execution_count": 128,
   "metadata": {},
   "outputs": [
    {
     "data": {
      "text/html": [
       "<div>\n",
       "<style scoped>\n",
       "    .dataframe tbody tr th:only-of-type {\n",
       "        vertical-align: middle;\n",
       "    }\n",
       "\n",
       "    .dataframe tbody tr th {\n",
       "        vertical-align: top;\n",
       "    }\n",
       "\n",
       "    .dataframe thead th {\n",
       "        text-align: right;\n",
       "    }\n",
       "</style>\n",
       "<table border=\"1\" class=\"dataframe\">\n",
       "  <thead>\n",
       "    <tr style=\"text-align: right;\">\n",
       "      <th></th>\n",
       "      <th>neighbourhood</th>\n",
       "      <th>review_scores_value</th>\n",
       "      <th>booking_percentage</th>\n",
       "    </tr>\n",
       "  </thead>\n",
       "  <tbody>\n",
       "    <tr>\n",
       "      <th>1</th>\n",
       "      <td>Back Bay</td>\n",
       "      <td>9.127854</td>\n",
       "      <td>0.525999</td>\n",
       "    </tr>\n",
       "    <tr>\n",
       "      <th>7</th>\n",
       "      <td>Chinatown</td>\n",
       "      <td>9.088889</td>\n",
       "      <td>0.519881</td>\n",
       "    </tr>\n",
       "    <tr>\n",
       "      <th>18</th>\n",
       "      <td>Leather District</td>\n",
       "      <td>9.800000</td>\n",
       "      <td>0.559247</td>\n",
       "    </tr>\n",
       "    <tr>\n",
       "      <th>6</th>\n",
       "      <td>Chestnut Hill</td>\n",
       "      <td>9.000000</td>\n",
       "      <td>0.722603</td>\n",
       "    </tr>\n",
       "    <tr>\n",
       "      <th>25</th>\n",
       "      <td>South Boston</td>\n",
       "      <td>9.353933</td>\n",
       "      <td>0.476421</td>\n",
       "    </tr>\n",
       "  </tbody>\n",
       "</table>\n",
       "</div>"
      ],
      "text/plain": [
       "       neighbourhood  review_scores_value  booking_percentage\n",
       "1           Back Bay             9.127854            0.525999\n",
       "7          Chinatown             9.088889            0.519881\n",
       "18  Leather District             9.800000            0.559247\n",
       "6      Chestnut Hill             9.000000            0.722603\n",
       "25      South Boston             9.353933            0.476421"
      ]
     },
     "execution_count": 128,
     "metadata": {},
     "output_type": "execute_result"
    }
   ],
   "source": [
    "df_neighbourhood_details.sample(5)"
   ]
  },
  {
   "cell_type": "markdown",
   "metadata": {},
   "source": [
    "##### Question 5 = Predicting price of the listing space using subset of features. Trying to understand which are most impactful features out of selected ones ."
   ]
  },
  {
   "cell_type": "markdown",
   "metadata": {},
   "source": [
    "X:\n",
    "1. host_since\n",
    "2. host_listings_count\n",
    "3. room_type\n",
    "4. bathrooms\n",
    "5. bedrooms\n",
    "6. beds\n",
    "7. square_feet\n",
    "8. neighbourhood\n",
    "9. zipcode\n",
    "10. minimum_nights\n",
    "11. maximum_nights\n",
    "\n",
    "y:\n",
    "1. price"
   ]
  },
  {
   "cell_type": "markdown",
   "metadata": {},
   "source": [
    "Checking how many listings have different values in host_listings_count and host_total_listings_count"
   ]
  },
  {
   "cell_type": "code",
   "execution_count": 129,
   "metadata": {},
   "outputs": [
    {
     "data": {
      "text/html": [
       "<div>\n",
       "<style scoped>\n",
       "    .dataframe tbody tr th:only-of-type {\n",
       "        vertical-align: middle;\n",
       "    }\n",
       "\n",
       "    .dataframe tbody tr th {\n",
       "        vertical-align: top;\n",
       "    }\n",
       "\n",
       "    .dataframe thead th {\n",
       "        text-align: right;\n",
       "    }\n",
       "</style>\n",
       "<table border=\"1\" class=\"dataframe\">\n",
       "  <thead>\n",
       "    <tr style=\"text-align: right;\">\n",
       "      <th></th>\n",
       "      <th>id</th>\n",
       "      <th>listing_url</th>\n",
       "      <th>scrape_id</th>\n",
       "      <th>last_scraped</th>\n",
       "      <th>name</th>\n",
       "      <th>summary</th>\n",
       "      <th>space</th>\n",
       "      <th>description</th>\n",
       "      <th>experiences_offered</th>\n",
       "      <th>neighborhood_overview</th>\n",
       "      <th>...</th>\n",
       "      <th>review_scores_value</th>\n",
       "      <th>requires_license</th>\n",
       "      <th>license</th>\n",
       "      <th>jurisdiction_names</th>\n",
       "      <th>instant_bookable</th>\n",
       "      <th>cancellation_policy</th>\n",
       "      <th>require_guest_profile_picture</th>\n",
       "      <th>require_guest_phone_verification</th>\n",
       "      <th>calculated_host_listings_count</th>\n",
       "      <th>reviews_per_month</th>\n",
       "    </tr>\n",
       "  </thead>\n",
       "  <tbody>\n",
       "  </tbody>\n",
       "</table>\n",
       "<p>0 rows × 95 columns</p>\n",
       "</div>"
      ],
      "text/plain": [
       "Empty DataFrame\n",
       "Columns: [id, listing_url, scrape_id, last_scraped, name, summary, space, description, experiences_offered, neighborhood_overview, notes, transit, access, interaction, house_rules, thumbnail_url, medium_url, picture_url, xl_picture_url, host_id, host_url, host_name, host_since, host_location, host_about, host_response_time, host_response_rate, host_acceptance_rate, host_is_superhost, host_thumbnail_url, host_picture_url, host_neighbourhood, host_listings_count, host_total_listings_count, host_verifications, host_has_profile_pic, host_identity_verified, street, neighbourhood, neighbourhood_cleansed, neighbourhood_group_cleansed, city, state, zipcode, market, smart_location, country_code, country, latitude, longitude, is_location_exact, property_type, room_type, accommodates, bathrooms, bedrooms, beds, bed_type, amenities, square_feet, price, weekly_price, monthly_price, security_deposit, cleaning_fee, guests_included, extra_people, minimum_nights, maximum_nights, calendar_updated, has_availability, availability_30, availability_60, availability_90, availability_365, calendar_last_scraped, number_of_reviews, first_review, last_review, review_scores_rating, review_scores_accuracy, review_scores_cleanliness, review_scores_checkin, review_scores_communication, review_scores_location, review_scores_value, requires_license, license, jurisdiction_names, instant_bookable, cancellation_policy, require_guest_profile_picture, require_guest_phone_verification, calculated_host_listings_count, reviews_per_month]\n",
       "Index: []\n",
       "\n",
       "[0 rows x 95 columns]"
      ]
     },
     "execution_count": 129,
     "metadata": {},
     "output_type": "execute_result"
    }
   ],
   "source": [
    "df_boston_listings[df_boston_listings.host_listings_count != df_boston_listings.host_total_listings_count]"
   ]
  },
  {
   "cell_type": "code",
   "execution_count": 130,
   "metadata": {},
   "outputs": [
    {
     "data": {
      "text/plain": [
       "Index(['listing_url', 'thumbnail_url', 'medium_url', 'picture_url',\n",
       "       'xl_picture_url', 'host_url', 'host_thumbnail_url', 'host_picture_url'],\n",
       "      dtype='object')"
      ]
     },
     "execution_count": 130,
     "metadata": {},
     "output_type": "execute_result"
    }
   ],
   "source": [
    "df_boston_listings.columns[df_boston_listings.columns.str.contains('url')]"
   ]
  },
  {
   "cell_type": "code",
   "execution_count": 131,
   "metadata": {},
   "outputs": [
    {
     "data": {
      "text/plain": [
       "(picture_url           0\n",
       " xl_picture_url      599\n",
       " medium_url          599\n",
       " host_url              0\n",
       " host_picture_url      0\n",
       " dtype: int64,)"
      ]
     },
     "execution_count": 131,
     "metadata": {},
     "output_type": "execute_result"
    }
   ],
   "source": [
    "df_boston_listings[['picture_url','xl_picture_url','medium_url','host_url','host_picture_url']].isna().sum(), \n"
   ]
  },
  {
   "cell_type": "code",
   "execution_count": 132,
   "metadata": {},
   "outputs": [
    {
     "data": {
      "text/plain": [
       "(3585, 95)"
      ]
     },
     "execution_count": 132,
     "metadata": {},
     "output_type": "execute_result"
    }
   ],
   "source": [
    "df_boston_listings.shape"
   ]
  },
  {
   "cell_type": "code",
   "execution_count": 133,
   "metadata": {},
   "outputs": [
    {
     "data": {
      "text/html": [
       "<div>\n",
       "<style scoped>\n",
       "    .dataframe tbody tr th:only-of-type {\n",
       "        vertical-align: middle;\n",
       "    }\n",
       "\n",
       "    .dataframe tbody tr th {\n",
       "        vertical-align: top;\n",
       "    }\n",
       "\n",
       "    .dataframe thead th {\n",
       "        text-align: right;\n",
       "    }\n",
       "</style>\n",
       "<table border=\"1\" class=\"dataframe\">\n",
       "  <thead>\n",
       "    <tr style=\"text-align: right;\">\n",
       "      <th></th>\n",
       "      <th>id</th>\n",
       "      <th>neighbourhood</th>\n",
       "      <th>summary</th>\n",
       "      <th>price</th>\n",
       "      <th>weekly_price</th>\n",
       "      <th>monthly_price</th>\n",
       "    </tr>\n",
       "  </thead>\n",
       "  <tbody>\n",
       "    <tr>\n",
       "      <th>3234</th>\n",
       "      <td>257588</td>\n",
       "      <td>South Boston</td>\n",
       "      <td>NaN</td>\n",
       "      <td>$200.00</td>\n",
       "      <td>NaN</td>\n",
       "      <td>$5,000.00</td>\n",
       "    </tr>\n",
       "    <tr>\n",
       "      <th>471</th>\n",
       "      <td>14867747</td>\n",
       "      <td>NaN</td>\n",
       "      <td>I have a beautiful 3 bed , 1 bath apartment wh...</td>\n",
       "      <td>$20.00</td>\n",
       "      <td>NaN</td>\n",
       "      <td>NaN</td>\n",
       "    </tr>\n",
       "    <tr>\n",
       "      <th>2693</th>\n",
       "      <td>13015767</td>\n",
       "      <td>West Roxbury</td>\n",
       "      <td>In this beautiful colonial style family house,...</td>\n",
       "      <td>$65.00</td>\n",
       "      <td>NaN</td>\n",
       "      <td>NaN</td>\n",
       "    </tr>\n",
       "    <tr>\n",
       "      <th>254</th>\n",
       "      <td>7495866</td>\n",
       "      <td>Jamaica Plain</td>\n",
       "      <td>Pleasant sunny rooms on the third floor of a V...</td>\n",
       "      <td>$136.00</td>\n",
       "      <td>$849.00</td>\n",
       "      <td>$3,150.00</td>\n",
       "    </tr>\n",
       "    <tr>\n",
       "      <th>357</th>\n",
       "      <td>6764572</td>\n",
       "      <td>Jamaica Plain</td>\n",
       "      <td>Share a large Victorian house with a happy cou...</td>\n",
       "      <td>$89.00</td>\n",
       "      <td>$650.00</td>\n",
       "      <td>$2,300.00</td>\n",
       "    </tr>\n",
       "    <tr>\n",
       "      <th>1387</th>\n",
       "      <td>14722711</td>\n",
       "      <td>Back Bay</td>\n",
       "      <td>My place is close to Newbury Street (10 min wa...</td>\n",
       "      <td>$175.00</td>\n",
       "      <td>NaN</td>\n",
       "      <td>NaN</td>\n",
       "    </tr>\n",
       "    <tr>\n",
       "      <th>786</th>\n",
       "      <td>1342370</td>\n",
       "      <td>Roxbury</td>\n",
       "      <td>NaN</td>\n",
       "      <td>$265.00</td>\n",
       "      <td>NaN</td>\n",
       "      <td>NaN</td>\n",
       "    </tr>\n",
       "  </tbody>\n",
       "</table>\n",
       "</div>"
      ],
      "text/plain": [
       "            id  neighbourhood  \\\n",
       "3234    257588   South Boston   \n",
       "471   14867747            NaN   \n",
       "2693  13015767   West Roxbury   \n",
       "254    7495866  Jamaica Plain   \n",
       "357    6764572  Jamaica Plain   \n",
       "1387  14722711       Back Bay   \n",
       "786    1342370        Roxbury   \n",
       "\n",
       "                                                summary    price weekly_price  \\\n",
       "3234                                                NaN  $200.00          NaN   \n",
       "471   I have a beautiful 3 bed , 1 bath apartment wh...   $20.00          NaN   \n",
       "2693  In this beautiful colonial style family house,...   $65.00          NaN   \n",
       "254   Pleasant sunny rooms on the third floor of a V...  $136.00      $849.00   \n",
       "357   Share a large Victorian house with a happy cou...   $89.00      $650.00   \n",
       "1387  My place is close to Newbury Street (10 min wa...  $175.00          NaN   \n",
       "786                                                 NaN  $265.00          NaN   \n",
       "\n",
       "     monthly_price  \n",
       "3234     $5,000.00  \n",
       "471            NaN  \n",
       "2693           NaN  \n",
       "254      $3,150.00  \n",
       "357      $2,300.00  \n",
       "1387           NaN  \n",
       "786            NaN  "
      ]
     },
     "execution_count": 133,
     "metadata": {},
     "output_type": "execute_result"
    }
   ],
   "source": [
    "df_boston_listings[['id', 'neighbourhood','summary','price','weekly_price','monthly_price']].sample(7)"
   ]
  },
  {
   "cell_type": "markdown",
   "metadata": {},
   "source": [
    "Creating new dataframe with selected X and y"
   ]
  },
  {
   "cell_type": "code",
   "execution_count": 134,
   "metadata": {},
   "outputs": [],
   "source": [
    "df_predict_price = df_boston_listings.copy()"
   ]
  },
  {
   "cell_type": "code",
   "execution_count": 135,
   "metadata": {},
   "outputs": [],
   "source": [
    "predict_price_x = ['host_since', 'host_listings_count', 'room_type', 'bathrooms', 'bedrooms', 'beds', 'square_feet',\\\n",
    "'neighbourhood', 'zipcode', 'minimum_nights', 'maximum_nights']"
   ]
  },
  {
   "cell_type": "code",
   "execution_count": 136,
   "metadata": {},
   "outputs": [],
   "source": [
    "predict_price_y = ['price']"
   ]
  },
  {
   "cell_type": "code",
   "execution_count": 137,
   "metadata": {},
   "outputs": [],
   "source": [
    "df_predict_price = df_predict_price[predict_price_y + predict_price_x]"
   ]
  },
  {
   "cell_type": "code",
   "execution_count": 138,
   "metadata": {},
   "outputs": [
    {
     "data": {
      "text/html": [
       "<div>\n",
       "<style scoped>\n",
       "    .dataframe tbody tr th:only-of-type {\n",
       "        vertical-align: middle;\n",
       "    }\n",
       "\n",
       "    .dataframe tbody tr th {\n",
       "        vertical-align: top;\n",
       "    }\n",
       "\n",
       "    .dataframe thead th {\n",
       "        text-align: right;\n",
       "    }\n",
       "</style>\n",
       "<table border=\"1\" class=\"dataframe\">\n",
       "  <thead>\n",
       "    <tr style=\"text-align: right;\">\n",
       "      <th></th>\n",
       "      <th>price</th>\n",
       "      <th>host_since</th>\n",
       "      <th>host_listings_count</th>\n",
       "      <th>room_type</th>\n",
       "      <th>bathrooms</th>\n",
       "      <th>bedrooms</th>\n",
       "      <th>beds</th>\n",
       "      <th>square_feet</th>\n",
       "      <th>neighbourhood</th>\n",
       "      <th>zipcode</th>\n",
       "      <th>minimum_nights</th>\n",
       "      <th>maximum_nights</th>\n",
       "    </tr>\n",
       "  </thead>\n",
       "  <tbody>\n",
       "    <tr>\n",
       "      <th>2816</th>\n",
       "      <td>$50.00</td>\n",
       "      <td>2013-08-19</td>\n",
       "      <td>1</td>\n",
       "      <td>Private room</td>\n",
       "      <td>1.0</td>\n",
       "      <td>1.0</td>\n",
       "      <td>1.0</td>\n",
       "      <td>NaN</td>\n",
       "      <td>NaN</td>\n",
       "      <td>02124</td>\n",
       "      <td>1</td>\n",
       "      <td>1125</td>\n",
       "    </tr>\n",
       "    <tr>\n",
       "      <th>676</th>\n",
       "      <td>$195.00</td>\n",
       "      <td>2013-12-07</td>\n",
       "      <td>7</td>\n",
       "      <td>Entire home/apt</td>\n",
       "      <td>1.0</td>\n",
       "      <td>2.0</td>\n",
       "      <td>2.0</td>\n",
       "      <td>NaN</td>\n",
       "      <td>North End</td>\n",
       "      <td>02109</td>\n",
       "      <td>1</td>\n",
       "      <td>366</td>\n",
       "    </tr>\n",
       "    <tr>\n",
       "      <th>1745</th>\n",
       "      <td>$135.00</td>\n",
       "      <td>2012-08-31</td>\n",
       "      <td>4</td>\n",
       "      <td>Private room</td>\n",
       "      <td>1.0</td>\n",
       "      <td>1.0</td>\n",
       "      <td>1.0</td>\n",
       "      <td>NaN</td>\n",
       "      <td>Charlestown</td>\n",
       "      <td>02129</td>\n",
       "      <td>3</td>\n",
       "      <td>30</td>\n",
       "    </tr>\n",
       "  </tbody>\n",
       "</table>\n",
       "</div>"
      ],
      "text/plain": [
       "        price  host_since  host_listings_count        room_type  bathrooms  \\\n",
       "2816   $50.00  2013-08-19                    1     Private room        1.0   \n",
       "676   $195.00  2013-12-07                    7  Entire home/apt        1.0   \n",
       "1745  $135.00  2012-08-31                    4     Private room        1.0   \n",
       "\n",
       "      bedrooms  beds  square_feet neighbourhood zipcode  minimum_nights  \\\n",
       "2816       1.0   1.0          NaN           NaN   02124               1   \n",
       "676        2.0   2.0          NaN     North End   02109               1   \n",
       "1745       1.0   1.0          NaN   Charlestown   02129               3   \n",
       "\n",
       "      maximum_nights  \n",
       "2816            1125  \n",
       "676              366  \n",
       "1745              30  "
      ]
     },
     "execution_count": 138,
     "metadata": {},
     "output_type": "execute_result"
    }
   ],
   "source": [
    "df_predict_price.sample(3)"
   ]
  },
  {
   "cell_type": "markdown",
   "metadata": {},
   "source": [
    "##### Clean the data, drop not useful data, replace missing values, do feature engineering."
   ]
  },
  {
   "cell_type": "markdown",
   "metadata": {},
   "source": [
    "Checking and dropping rows where all columns are NaN"
   ]
  },
  {
   "cell_type": "code",
   "execution_count": 139,
   "metadata": {},
   "outputs": [
    {
     "data": {
      "text/plain": [
       "(3585, 12)"
      ]
     },
     "execution_count": 139,
     "metadata": {},
     "output_type": "execute_result"
    }
   ],
   "source": [
    "df_predict_price.shape"
   ]
  },
  {
   "cell_type": "code",
   "execution_count": 140,
   "metadata": {},
   "outputs": [],
   "source": [
    "df_predict_price.dropna(how='all', inplace=True)"
   ]
  },
  {
   "cell_type": "code",
   "execution_count": 141,
   "metadata": {},
   "outputs": [
    {
     "data": {
      "text/plain": [
       "(3585, 12)"
      ]
     },
     "execution_count": 141,
     "metadata": {},
     "output_type": "execute_result"
    }
   ],
   "source": [
    "df_predict_price.shape"
   ]
  },
  {
   "cell_type": "markdown",
   "metadata": {},
   "source": [
    "Checking and if needed dropping rows where y value; price is NaN"
   ]
  },
  {
   "cell_type": "code",
   "execution_count": 142,
   "metadata": {},
   "outputs": [
    {
     "data": {
      "text/plain": [
       "0"
      ]
     },
     "execution_count": 142,
     "metadata": {},
     "output_type": "execute_result"
    }
   ],
   "source": [
    "df_predict_price.price.isna().sum()"
   ]
  },
  {
   "cell_type": "markdown",
   "metadata": {},
   "source": [
    "Checking datatypes of columns in df_predict_price"
   ]
  },
  {
   "cell_type": "code",
   "execution_count": 143,
   "metadata": {},
   "outputs": [
    {
     "data": {
      "text/html": [
       "<div>\n",
       "<style scoped>\n",
       "    .dataframe tbody tr th:only-of-type {\n",
       "        vertical-align: middle;\n",
       "    }\n",
       "\n",
       "    .dataframe tbody tr th {\n",
       "        vertical-align: top;\n",
       "    }\n",
       "\n",
       "    .dataframe thead th {\n",
       "        text-align: right;\n",
       "    }\n",
       "</style>\n",
       "<table border=\"1\" class=\"dataframe\">\n",
       "  <thead>\n",
       "    <tr style=\"text-align: right;\">\n",
       "      <th></th>\n",
       "      <th>price</th>\n",
       "      <th>host_since</th>\n",
       "      <th>host_listings_count</th>\n",
       "      <th>room_type</th>\n",
       "      <th>bathrooms</th>\n",
       "      <th>bedrooms</th>\n",
       "      <th>beds</th>\n",
       "      <th>square_feet</th>\n",
       "      <th>neighbourhood</th>\n",
       "      <th>zipcode</th>\n",
       "      <th>minimum_nights</th>\n",
       "      <th>maximum_nights</th>\n",
       "    </tr>\n",
       "  </thead>\n",
       "  <tbody>\n",
       "    <tr>\n",
       "      <th>3241</th>\n",
       "      <td>$159.00</td>\n",
       "      <td>2015-12-09</td>\n",
       "      <td>1</td>\n",
       "      <td>Entire home/apt</td>\n",
       "      <td>1.0</td>\n",
       "      <td>1.0</td>\n",
       "      <td>1.0</td>\n",
       "      <td>NaN</td>\n",
       "      <td>South Boston</td>\n",
       "      <td>02127</td>\n",
       "      <td>1</td>\n",
       "      <td>7</td>\n",
       "    </tr>\n",
       "    <tr>\n",
       "      <th>1918</th>\n",
       "      <td>$250.00</td>\n",
       "      <td>2016-06-22</td>\n",
       "      <td>3</td>\n",
       "      <td>Private room</td>\n",
       "      <td>1.0</td>\n",
       "      <td>1.0</td>\n",
       "      <td>1.0</td>\n",
       "      <td>NaN</td>\n",
       "      <td>Beacon Hill</td>\n",
       "      <td>02108</td>\n",
       "      <td>1</td>\n",
       "      <td>1125</td>\n",
       "    </tr>\n",
       "    <tr>\n",
       "      <th>2217</th>\n",
       "      <td>$127.00</td>\n",
       "      <td>2013-03-25</td>\n",
       "      <td>11</td>\n",
       "      <td>Entire home/apt</td>\n",
       "      <td>1.0</td>\n",
       "      <td>1.0</td>\n",
       "      <td>2.0</td>\n",
       "      <td>NaN</td>\n",
       "      <td>Fenway/Kenmore</td>\n",
       "      <td>02215</td>\n",
       "      <td>1</td>\n",
       "      <td>1125</td>\n",
       "    </tr>\n",
       "  </tbody>\n",
       "</table>\n",
       "</div>"
      ],
      "text/plain": [
       "        price  host_since  host_listings_count        room_type  bathrooms  \\\n",
       "3241  $159.00  2015-12-09                    1  Entire home/apt        1.0   \n",
       "1918  $250.00  2016-06-22                    3     Private room        1.0   \n",
       "2217  $127.00  2013-03-25                   11  Entire home/apt        1.0   \n",
       "\n",
       "      bedrooms  beds  square_feet   neighbourhood zipcode  minimum_nights  \\\n",
       "3241       1.0   1.0          NaN    South Boston   02127               1   \n",
       "1918       1.0   1.0          NaN     Beacon Hill   02108               1   \n",
       "2217       1.0   2.0          NaN  Fenway/Kenmore   02215               1   \n",
       "\n",
       "      maximum_nights  \n",
       "3241               7  \n",
       "1918            1125  \n",
       "2217            1125  "
      ]
     },
     "execution_count": 143,
     "metadata": {},
     "output_type": "execute_result"
    }
   ],
   "source": [
    "df_predict_price.sample(3)"
   ]
  },
  {
   "cell_type": "code",
   "execution_count": 144,
   "metadata": {},
   "outputs": [
    {
     "data": {
      "text/plain": [
       "array(['Entire home/apt', 'Private room', 'Shared room'], dtype=object)"
      ]
     },
     "execution_count": 144,
     "metadata": {},
     "output_type": "execute_result"
    }
   ],
   "source": [
    "df_predict_price.room_type.unique()"
   ]
  },
  {
   "cell_type": "code",
   "execution_count": 145,
   "metadata": {},
   "outputs": [
    {
     "data": {
      "text/plain": [
       "array(['Roslindale', nan, 'Jamaica Plain', 'Mission Hill',\n",
       "       'Fenway/Kenmore', 'Back Bay', 'Leather District', 'Chinatown',\n",
       "       'Hyde Park', 'North End', 'Roxbury', 'South End', 'Mattapan',\n",
       "       'East Boston', 'South Boston', 'Charlestown', 'West End',\n",
       "       'Beacon Hill', 'Theater District', 'Downtown Crossing', 'Downtown',\n",
       "       'Financial District', 'Government Center', 'Allston-Brighton',\n",
       "       'West Roxbury', 'Chestnut Hill', 'Dorchester', 'Brookline',\n",
       "       'Cambridge', 'Somerville', 'Harvard Square'], dtype=object)"
      ]
     },
     "execution_count": 145,
     "metadata": {},
     "output_type": "execute_result"
    }
   ],
   "source": [
    "df_predict_price.neighbourhood.unique()"
   ]
  },
  {
   "cell_type": "code",
   "execution_count": 146,
   "metadata": {},
   "outputs": [
    {
     "data": {
      "text/plain": [
       "array(['02131', nan, '02130', '02119', '02120', '02115', '02215', '02116',\n",
       "       '02111', '02109', '02113', '02110', '02114', '02108', '02121',\n",
       "       '02118', '02125', '02124', '02210', '02218', '02142', '02128',\n",
       "       '02129', '02145', '02126', '02108 02111', '02472', '02122',\n",
       "       '02446', '02135', '02134', '02445', '02132', '02467', '02136',\n",
       "       '02186', '02169', '02127', '02134-1704', '02163', '02138', '02139',\n",
       "       '02141', '02143'], dtype=object)"
      ]
     },
     "execution_count": 146,
     "metadata": {},
     "output_type": "execute_result"
    }
   ],
   "source": [
    "df_predict_price.zipcode.unique()"
   ]
  },
  {
   "cell_type": "code",
   "execution_count": 147,
   "metadata": {},
   "outputs": [
    {
     "name": "stdout",
     "output_type": "stream",
     "text": [
      "<class 'pandas.core.frame.DataFrame'>\n",
      "Int64Index: 3585 entries, 0 to 3584\n",
      "Data columns (total 12 columns):\n",
      " #   Column               Non-Null Count  Dtype  \n",
      "---  ------               --------------  -----  \n",
      " 0   price                3585 non-null   object \n",
      " 1   host_since           3585 non-null   object \n",
      " 2   host_listings_count  3585 non-null   int64  \n",
      " 3   room_type            3585 non-null   object \n",
      " 4   bathrooms            3571 non-null   float64\n",
      " 5   bedrooms             3575 non-null   float64\n",
      " 6   beds                 3576 non-null   float64\n",
      " 7   square_feet          56 non-null     float64\n",
      " 8   neighbourhood        3042 non-null   object \n",
      " 9   zipcode              3547 non-null   object \n",
      " 10  minimum_nights       3585 non-null   int64  \n",
      " 11  maximum_nights       3585 non-null   int64  \n",
      "dtypes: float64(4), int64(3), object(5)\n",
      "memory usage: 364.1+ KB\n"
     ]
    }
   ],
   "source": [
    "df_predict_price.info()"
   ]
  },
  {
   "cell_type": "markdown",
   "metadata": {},
   "source": [
    "Following are datatype changes that need to be done:\n",
    "1. Change price from object to float\n",
    "2. change host_since from object to datatime\n",
    "3. Convert room_type from categorical to quantitative using get_dummies"
   ]
  },
  {
   "cell_type": "code",
   "execution_count": 148,
   "metadata": {},
   "outputs": [
    {
     "data": {
      "text/plain": [
       "2195     $45.00\n",
       "3310     $75.00\n",
       "2307    $279.00\n",
       "Name: price, dtype: object"
      ]
     },
     "execution_count": 148,
     "metadata": {},
     "output_type": "execute_result"
    }
   ],
   "source": [
    "df_predict_price.price.sample(3)"
   ]
  },
  {
   "cell_type": "code",
   "execution_count": 149,
   "metadata": {},
   "outputs": [
    {
     "data": {
      "text/plain": [
       "{str}"
      ]
     },
     "execution_count": 149,
     "metadata": {},
     "output_type": "execute_result"
    }
   ],
   "source": [
    "set(df_predict_price.price.apply(type))"
   ]
  },
  {
   "cell_type": "code",
   "execution_count": 150,
   "metadata": {},
   "outputs": [],
   "source": [
    "df_predict_price.price = df_predict_price.price.replace({'\\$':'',',':''}, regex=True).astype('float')"
   ]
  },
  {
   "cell_type": "code",
   "execution_count": 151,
   "metadata": {},
   "outputs": [
    {
     "data": {
      "text/plain": [
       "541     170.0\n",
       "453      75.0\n",
       "2736     50.0\n",
       "Name: price, dtype: float64"
      ]
     },
     "execution_count": 151,
     "metadata": {},
     "output_type": "execute_result"
    }
   ],
   "source": [
    "df_predict_price.price.sample(3)"
   ]
  },
  {
   "cell_type": "code",
   "execution_count": 152,
   "metadata": {},
   "outputs": [],
   "source": [
    "df_predict_price['host_since'] = pd.to_datetime(df_predict_price['host_since'])"
   ]
  },
  {
   "cell_type": "code",
   "execution_count": 153,
   "metadata": {},
   "outputs": [
    {
     "data": {
      "text/plain": [
       "price                         float64\n",
       "host_since             datetime64[ns]\n",
       "host_listings_count             int64\n",
       "room_type                      object\n",
       "bathrooms                     float64\n",
       "bedrooms                      float64\n",
       "beds                          float64\n",
       "square_feet                   float64\n",
       "neighbourhood                  object\n",
       "zipcode                        object\n",
       "minimum_nights                  int64\n",
       "maximum_nights                  int64\n",
       "dtype: object"
      ]
     },
     "execution_count": 153,
     "metadata": {},
     "output_type": "execute_result"
    }
   ],
   "source": [
    "df_predict_price.dtypes"
   ]
  },
  {
   "cell_type": "code",
   "execution_count": 154,
   "metadata": {},
   "outputs": [
    {
     "data": {
      "text/plain": [
       "Entire home/apt    2127\n",
       "Private room       1378\n",
       "Shared room          80\n",
       "Name: room_type, dtype: int64"
      ]
     },
     "execution_count": 154,
     "metadata": {},
     "output_type": "execute_result"
    }
   ],
   "source": [
    "df_predict_price.room_type.value_counts()"
   ]
  },
  {
   "cell_type": "code",
   "execution_count": 155,
   "metadata": {},
   "outputs": [],
   "source": [
    "cat_df = pd.get_dummies(df_predict_price['room_type'], dummy_na=True,prefix='room_type')"
   ]
  },
  {
   "cell_type": "code",
   "execution_count": 156,
   "metadata": {},
   "outputs": [
    {
     "data": {
      "text/plain": [
       "(3585, 4)"
      ]
     },
     "execution_count": 156,
     "metadata": {},
     "output_type": "execute_result"
    }
   ],
   "source": [
    "cat_df.shape"
   ]
  },
  {
   "cell_type": "code",
   "execution_count": 157,
   "metadata": {},
   "outputs": [
    {
     "data": {
      "text/plain": [
       "(3585, 12)"
      ]
     },
     "execution_count": 157,
     "metadata": {},
     "output_type": "execute_result"
    }
   ],
   "source": [
    "df_predict_price.shape"
   ]
  },
  {
   "cell_type": "code",
   "execution_count": 158,
   "metadata": {},
   "outputs": [
    {
     "data": {
      "text/plain": [
       "(3585, 16)"
      ]
     },
     "execution_count": 158,
     "metadata": {},
     "output_type": "execute_result"
    }
   ],
   "source": [
    "df_predict_price.merge(cat_df, left_index=True, right_index=True).shape"
   ]
  },
  {
   "cell_type": "code",
   "execution_count": 159,
   "metadata": {},
   "outputs": [],
   "source": [
    "df_predict_price = df_predict_price.merge(cat_df, left_index=True, right_index=True)"
   ]
  },
  {
   "cell_type": "markdown",
   "metadata": {},
   "source": [
    "Checking presence of NaN and deciding what to do about it for each column"
   ]
  },
  {
   "cell_type": "code",
   "execution_count": 160,
   "metadata": {},
   "outputs": [
    {
     "data": {
      "text/plain": [
       "price                           0\n",
       "host_since                      0\n",
       "host_listings_count             0\n",
       "room_type                       0\n",
       "bathrooms                      14\n",
       "bedrooms                       10\n",
       "beds                            9\n",
       "square_feet                  3529\n",
       "neighbourhood                 543\n",
       "zipcode                        38\n",
       "minimum_nights                  0\n",
       "maximum_nights                  0\n",
       "room_type_Entire home/apt       0\n",
       "room_type_Private room          0\n",
       "room_type_Shared room           0\n",
       "room_type_nan                   0\n",
       "dtype: int64"
      ]
     },
     "execution_count": 160,
     "metadata": {},
     "output_type": "execute_result"
    }
   ],
   "source": [
    "df_predict_price.isna().sum()"
   ]
  },
  {
   "cell_type": "markdown",
   "metadata": {},
   "source": [
    "Checking NaN value percentage for each column"
   ]
  },
  {
   "cell_type": "code",
   "execution_count": 161,
   "metadata": {},
   "outputs": [
    {
     "data": {
      "text/plain": [
       "price                        0.000000\n",
       "host_since                   0.000000\n",
       "host_listings_count          0.000000\n",
       "room_type                    0.000000\n",
       "bathrooms                    0.003905\n",
       "bedrooms                     0.002789\n",
       "beds                         0.002510\n",
       "square_feet                  0.984379\n",
       "neighbourhood                0.151464\n",
       "zipcode                      0.010600\n",
       "minimum_nights               0.000000\n",
       "maximum_nights               0.000000\n",
       "room_type_Entire home/apt    0.000000\n",
       "room_type_Private room       0.000000\n",
       "room_type_Shared room        0.000000\n",
       "room_type_nan                0.000000\n",
       "dtype: float64"
      ]
     },
     "execution_count": 161,
     "metadata": {},
     "output_type": "execute_result"
    }
   ],
   "source": [
    "df_predict_price.isna().mean()"
   ]
  },
  {
   "cell_type": "code",
   "execution_count": 162,
   "metadata": {},
   "outputs": [
    {
     "data": {
      "image/png": "[encoded data removed]",
      "text/plain": [
       "<Figure size 432x288 with 1 Axes>"
      ]
     },
     "metadata": {
      "needs_background": "light"
     },
     "output_type": "display_data"
    }
   ],
   "source": [
    "ax = df_predict_price.isna().mean().plot(kind='bar')\n"
   ]
  },
  {
   "cell_type": "markdown",
   "metadata": {},
   "source": [
    "As we can clearly see column of neighborhood is missing some values, and column of square feet has whooping 98% values absent which makes it outright useless for us as we cannot guess it or impute it with mean/median/mode as none of those approaches is sensible for square feet."
   ]
  },
  {
   "cell_type": "markdown",
   "metadata": {},
   "source": [
    "Following are observations and approach for each column containng NaN values:\n",
    "\n",
    "- bathrooms = impute with median\n",
    "- bedrooms = impute with median\n",
    "- beds = impute with median \n",
    "- square_feet = drop the column; reason being 98% values are absent.\n",
    "- neighborhood = drop the rows where neighborhood is NaN\n",
    "- zipcode = drop the rows where the value is NaN"
   ]
  },
  {
   "cell_type": "markdown",
   "metadata": {},
   "source": [
    "Imputing values for columns bathrooms, bedrooms and beds."
   ]
  },
  {
   "cell_type": "code",
   "execution_count": 163,
   "metadata": {},
   "outputs": [
    {
     "data": {
      "text/plain": [
       "1.0"
      ]
     },
     "execution_count": 163,
     "metadata": {},
     "output_type": "execute_result"
    }
   ],
   "source": [
    "df_predict_price.bathrooms.median()"
   ]
  },
  {
   "cell_type": "code",
   "execution_count": 164,
   "metadata": {},
   "outputs": [
    {
     "data": {
      "text/plain": [
       "14"
      ]
     },
     "execution_count": 164,
     "metadata": {},
     "output_type": "execute_result"
    }
   ],
   "source": [
    "df_predict_price.bathrooms.isna().sum()"
   ]
  },
  {
   "cell_type": "code",
   "execution_count": 165,
   "metadata": {},
   "outputs": [],
   "source": [
    "df_predict_price.bathrooms.fillna(df_predict_price.bathrooms.median(), inplace=True)"
   ]
  },
  {
   "cell_type": "code",
   "execution_count": 166,
   "metadata": {},
   "outputs": [
    {
     "data": {
      "text/plain": [
       "0"
      ]
     },
     "execution_count": 166,
     "metadata": {},
     "output_type": "execute_result"
    }
   ],
   "source": [
    "df_predict_price.bathrooms.isna().sum()"
   ]
  },
  {
   "cell_type": "code",
   "execution_count": 167,
   "metadata": {},
   "outputs": [
    {
     "data": {
      "text/plain": [
       "1.0"
      ]
     },
     "execution_count": 167,
     "metadata": {},
     "output_type": "execute_result"
    }
   ],
   "source": [
    "df_predict_price.bedrooms.median()"
   ]
  },
  {
   "cell_type": "code",
   "execution_count": 168,
   "metadata": {},
   "outputs": [
    {
     "data": {
      "text/plain": [
       "10"
      ]
     },
     "execution_count": 168,
     "metadata": {},
     "output_type": "execute_result"
    }
   ],
   "source": [
    "df_predict_price.bedrooms.isna().sum()"
   ]
  },
  {
   "cell_type": "code",
   "execution_count": 169,
   "metadata": {},
   "outputs": [],
   "source": [
    "df_predict_price.bedrooms.fillna(df_predict_price.bedrooms.median(), inplace=True)"
   ]
  },
  {
   "cell_type": "code",
   "execution_count": 170,
   "metadata": {},
   "outputs": [
    {
     "data": {
      "text/plain": [
       "0"
      ]
     },
     "execution_count": 170,
     "metadata": {},
     "output_type": "execute_result"
    }
   ],
   "source": [
    "df_predict_price.bedrooms.isna().sum()"
   ]
  },
  {
   "cell_type": "code",
   "execution_count": 171,
   "metadata": {},
   "outputs": [
    {
     "data": {
      "text/plain": [
       "1.0"
      ]
     },
     "execution_count": 171,
     "metadata": {},
     "output_type": "execute_result"
    }
   ],
   "source": [
    "df_predict_price.beds.median()"
   ]
  },
  {
   "cell_type": "code",
   "execution_count": 172,
   "metadata": {},
   "outputs": [
    {
     "data": {
      "text/plain": [
       "9"
      ]
     },
     "execution_count": 172,
     "metadata": {},
     "output_type": "execute_result"
    }
   ],
   "source": [
    "df_predict_price.beds.isna().sum()"
   ]
  },
  {
   "cell_type": "code",
   "execution_count": 173,
   "metadata": {},
   "outputs": [],
   "source": [
    "df_predict_price.beds.fillna(df_predict_price.beds.median(), inplace=True)"
   ]
  },
  {
   "cell_type": "code",
   "execution_count": 174,
   "metadata": {},
   "outputs": [
    {
     "data": {
      "text/plain": [
       "0"
      ]
     },
     "execution_count": 174,
     "metadata": {},
     "output_type": "execute_result"
    }
   ],
   "source": [
    "df_predict_price.beds.isna().sum()"
   ]
  },
  {
   "cell_type": "markdown",
   "metadata": {},
   "source": [
    "Dropping square_feet column"
   ]
  },
  {
   "cell_type": "code",
   "execution_count": 175,
   "metadata": {},
   "outputs": [
    {
     "data": {
      "text/plain": [
       "0.9843793584379359"
      ]
     },
     "execution_count": 175,
     "metadata": {},
     "output_type": "execute_result"
    }
   ],
   "source": [
    "df_predict_price.square_feet.isna().mean()"
   ]
  },
  {
   "cell_type": "code",
   "execution_count": 176,
   "metadata": {},
   "outputs": [
    {
     "data": {
      "text/plain": [
       "Index(['square_feet'], dtype='object')"
      ]
     },
     "execution_count": 176,
     "metadata": {},
     "output_type": "execute_result"
    }
   ],
   "source": [
    "df_predict_price.columns[df_predict_price.columns.str.contains('quare')]"
   ]
  },
  {
   "cell_type": "code",
   "execution_count": 177,
   "metadata": {},
   "outputs": [],
   "source": [
    "df_predict_price.drop(columns=['square_feet'], inplace=True)"
   ]
  },
  {
   "cell_type": "code",
   "execution_count": 178,
   "metadata": {},
   "outputs": [
    {
     "data": {
      "text/plain": [
       "Index([], dtype='object')"
      ]
     },
     "execution_count": 178,
     "metadata": {},
     "output_type": "execute_result"
    }
   ],
   "source": [
    "df_predict_price.columns[df_predict_price.columns.str.contains('quare')]"
   ]
  },
  {
   "cell_type": "markdown",
   "metadata": {},
   "source": [
    "Dropping rows of df_predict_price where values in either neighbourhood or zipcode are NaN"
   ]
  },
  {
   "cell_type": "code",
   "execution_count": 179,
   "metadata": {},
   "outputs": [
    {
     "data": {
      "text/plain": [
       "543"
      ]
     },
     "execution_count": 179,
     "metadata": {},
     "output_type": "execute_result"
    }
   ],
   "source": [
    "df_predict_price.neighbourhood.isna().sum()"
   ]
  },
  {
   "cell_type": "code",
   "execution_count": 180,
   "metadata": {},
   "outputs": [
    {
     "data": {
      "text/plain": [
       "38"
      ]
     },
     "execution_count": 180,
     "metadata": {},
     "output_type": "execute_result"
    }
   ],
   "source": [
    "df_predict_price.zipcode.isna().sum()"
   ]
  },
  {
   "cell_type": "code",
   "execution_count": 181,
   "metadata": {},
   "outputs": [
    {
     "data": {
      "text/plain": [
       "(3585, 15)"
      ]
     },
     "execution_count": 181,
     "metadata": {},
     "output_type": "execute_result"
    }
   ],
   "source": [
    "df_predict_price.shape"
   ]
  },
  {
   "cell_type": "code",
   "execution_count": 182,
   "metadata": {},
   "outputs": [],
   "source": [
    "df_predict_price.dropna(subset=['neighbourhood', 'zipcode'], inplace=True)"
   ]
  },
  {
   "cell_type": "code",
   "execution_count": 183,
   "metadata": {},
   "outputs": [
    {
     "data": {
      "text/plain": [
       "(3037, 15)"
      ]
     },
     "execution_count": 183,
     "metadata": {},
     "output_type": "execute_result"
    }
   ],
   "source": [
    "df_predict_price.shape"
   ]
  },
  {
   "cell_type": "code",
   "execution_count": 184,
   "metadata": {},
   "outputs": [
    {
     "data": {
      "text/plain": [
       "0"
      ]
     },
     "execution_count": 184,
     "metadata": {},
     "output_type": "execute_result"
    }
   ],
   "source": [
    "df_predict_price.neighbourhood.isna().sum()"
   ]
  },
  {
   "cell_type": "code",
   "execution_count": 185,
   "metadata": {},
   "outputs": [
    {
     "data": {
      "text/plain": [
       "0"
      ]
     },
     "execution_count": 185,
     "metadata": {},
     "output_type": "execute_result"
    }
   ],
   "source": [
    "df_predict_price.zipcode.isna().sum()"
   ]
  },
  {
   "cell_type": "code",
   "execution_count": null,
   "metadata": {},
   "outputs": [],
   "source": []
  },
  {
   "cell_type": "markdown",
   "metadata": {},
   "source": [
    "##### Question 6 = what are factors that are important causing a listing to get high rating in column review_scores_value?"
   ]
  },
  {
   "cell_type": "markdown",
   "metadata": {},
   "source": [
    "X:\n",
    "1. host_since\n",
    "2. host_response_time\n",
    "3. host_response_rate\n",
    "4. host_acceptance_rate\n",
    "5. host_is_superhost\n",
    "6. host_identity_verified\n",
    "7. neighbourhood\n",
    "8. zipcode\n",
    "9. price\n",
    "10. security_deposit\n",
    "11. cleaning_fee\n",
    "\n",
    "\n",
    "y:\n",
    "1. review_scores_value"
   ]
  },
  {
   "cell_type": "code",
   "execution_count": 283,
   "metadata": {},
   "outputs": [
    {
     "data": {
      "text/plain": [
       "array([nan, '$95.00', '$100.00', '$200.00', '$500.00', '$150.00',\n",
       "       '$250.00', '$446.00', '$223.00', '$300.00', '$400.00', '$800.00',\n",
       "       '$298.00', '$450.00', '$650.00', '$2,000.00', '$240.00',\n",
       "       '$1,000.00', '$350.00', '$1,500.00', '$4,500.00', '$600.00',\n",
       "       '$301.00', '$2,500.00', '$99.00', '$275.00', '$375.00', '$199.00',\n",
       "       '$1,200.00', '$180.00', '$220.00', '$160.00', '$299.00', '$750.00',\n",
       "       '$325.00', '$1,250.00', '$125.00', '$900.00', '$475.00',\n",
       "       '$4,000.00', '$185.00', '$3,000.00', '$330.00', '$147.00',\n",
       "       '$425.00', '$399.00', '$120.00', '$307.00', '$1,900.00', '$950.00',\n",
       "       '$175.00', '$179.00', '$128.00', '$700.00', '$118.00'],\n",
       "      dtype=object)"
      ]
     },
     "execution_count": 283,
     "metadata": {},
     "output_type": "execute_result"
    }
   ],
   "source": [
    "df_boston_listings.security_deposit.unique()"
   ]
  },
  {
   "cell_type": "code",
   "execution_count": 284,
   "metadata": {},
   "outputs": [
    {
     "data": {
      "text/plain": [
       "array(['$35.00', '$10.00', nan, '$50.00', '$15.00', '$30.00', '$40.00',\n",
       "       '$150.00', '$20.00', '$100.00', '$85.00', '$25.00', '$56.00',\n",
       "       '$45.00', '$125.00', '$80.00', '$5.00', '$120.00', '$18.00',\n",
       "       '$90.00', '$200.00', '$140.00', '$95.00', '$60.00', '$75.00',\n",
       "       '$7.00', '$64.00', '$12.00', '$135.00', '$250.00', '$70.00',\n",
       "       '$9.00', '$8.00', '$55.00', '$175.00', '$65.00', '$69.00',\n",
       "       '$130.00', '$6.00', '$84.00', '$13.00', '$29.00', '$160.00',\n",
       "       '$49.00', '$119.00', '$197.00', '$155.00', '$158.00', '$166.00',\n",
       "       '$199.00', '$99.00', '$225.00', '$39.00', '$54.00', '$24.00',\n",
       "       '$110.00', '$136.00', '$115.00', '$83.00', '$42.00', '$139.00',\n",
       "       '$79.00', '$37.00', '$28.00', '$82.00', '$19.00', '$57.00',\n",
       "       '$72.00', '$58.00', '$66.00', '$180.00', '$300.00', '$14.00',\n",
       "       '$129.00', '$105.00', '$149.00', '$52.00', '$34.00', '$59.00',\n",
       "       '$230.00'], dtype=object)"
      ]
     },
     "execution_count": 284,
     "metadata": {},
     "output_type": "execute_result"
    }
   ],
   "source": [
    "df_boston_listings.cleaning_fee.unique()"
   ]
  },
  {
   "cell_type": "code",
   "execution_count": 285,
   "metadata": {},
   "outputs": [
    {
     "data": {
      "text/plain": [
       "30"
      ]
     },
     "execution_count": 285,
     "metadata": {},
     "output_type": "execute_result"
    }
   ],
   "source": [
    "df_boston_listings.neighbourhood.nunique()"
   ]
  },
  {
   "cell_type": "code",
   "execution_count": 286,
   "metadata": {},
   "outputs": [
    {
     "data": {
      "text/plain": [
       "(3585, 95)"
      ]
     },
     "execution_count": 286,
     "metadata": {},
     "output_type": "execute_result"
    }
   ],
   "source": [
    "df_boston_listings.shape"
   ]
  },
  {
   "cell_type": "markdown",
   "metadata": {},
   "source": [
    "Creating dataframe with relevant X and y"
   ]
  },
  {
   "cell_type": "code",
   "execution_count": 287,
   "metadata": {},
   "outputs": [],
   "source": [
    "df_predict_review_scores_value = df_boston_listings.copy()"
   ]
  },
  {
   "cell_type": "code",
   "execution_count": 288,
   "metadata": {},
   "outputs": [],
   "source": [
    "predict_review_scores_value_x = ['host_since', 'host_response_time', 'host_response_rate', 'host_acceptance_rate',\\\n",
    "'host_is_superhost', 'host_identity_verified', 'neighbourhood', 'zipcode', 'price', 'security_deposit', 'cleaning_fee']"
   ]
  },
  {
   "cell_type": "code",
   "execution_count": 289,
   "metadata": {},
   "outputs": [],
   "source": [
    "predict_review_scores_value_y = ['review_scores_value']"
   ]
  },
  {
   "cell_type": "code",
   "execution_count": 290,
   "metadata": {},
   "outputs": [],
   "source": [
    "df_predict_review_scores_value = df_predict_review_scores_value[predict_review_scores_value_y + predict_review_scores_value_x]"
   ]
  },
  {
   "cell_type": "code",
   "execution_count": 291,
   "metadata": {},
   "outputs": [
    {
     "data": {
      "text/html": [
       "<div>\n",
       "<style scoped>\n",
       "    .dataframe tbody tr th:only-of-type {\n",
       "        vertical-align: middle;\n",
       "    }\n",
       "\n",
       "    .dataframe tbody tr th {\n",
       "        vertical-align: top;\n",
       "    }\n",
       "\n",
       "    .dataframe thead th {\n",
       "        text-align: right;\n",
       "    }\n",
       "</style>\n",
       "<table border=\"1\" class=\"dataframe\">\n",
       "  <thead>\n",
       "    <tr style=\"text-align: right;\">\n",
       "      <th></th>\n",
       "      <th>review_scores_value</th>\n",
       "      <th>host_since</th>\n",
       "      <th>host_response_time</th>\n",
       "      <th>host_response_rate</th>\n",
       "      <th>host_acceptance_rate</th>\n",
       "      <th>host_is_superhost</th>\n",
       "      <th>host_identity_verified</th>\n",
       "      <th>neighbourhood</th>\n",
       "      <th>zipcode</th>\n",
       "      <th>price</th>\n",
       "      <th>security_deposit</th>\n",
       "      <th>cleaning_fee</th>\n",
       "    </tr>\n",
       "  </thead>\n",
       "  <tbody>\n",
       "    <tr>\n",
       "      <th>1501</th>\n",
       "      <td>10.0</td>\n",
       "      <td>2012-11-15</td>\n",
       "      <td>within an hour</td>\n",
       "      <td>100%</td>\n",
       "      <td>80%</td>\n",
       "      <td>f</td>\n",
       "      <td>t</td>\n",
       "      <td>Back Bay</td>\n",
       "      <td>02115</td>\n",
       "      <td>$250.00</td>\n",
       "      <td>NaN</td>\n",
       "      <td>$100.00</td>\n",
       "    </tr>\n",
       "    <tr>\n",
       "      <th>3040</th>\n",
       "      <td>NaN</td>\n",
       "      <td>2016-01-10</td>\n",
       "      <td>within an hour</td>\n",
       "      <td>100%</td>\n",
       "      <td>100%</td>\n",
       "      <td>f</td>\n",
       "      <td>f</td>\n",
       "      <td>South Boston</td>\n",
       "      <td>02210</td>\n",
       "      <td>$125.00</td>\n",
       "      <td>NaN</td>\n",
       "      <td>NaN</td>\n",
       "    </tr>\n",
       "    <tr>\n",
       "      <th>2355</th>\n",
       "      <td>4.0</td>\n",
       "      <td>2015-03-30</td>\n",
       "      <td>within a few hours</td>\n",
       "      <td>98%</td>\n",
       "      <td>55%</td>\n",
       "      <td>f</td>\n",
       "      <td>t</td>\n",
       "      <td>Fenway/Kenmore</td>\n",
       "      <td>02215</td>\n",
       "      <td>$199.00</td>\n",
       "      <td>NaN</td>\n",
       "      <td>$100.00</td>\n",
       "    </tr>\n",
       "  </tbody>\n",
       "</table>\n",
       "</div>"
      ],
      "text/plain": [
       "      review_scores_value  host_since  host_response_time host_response_rate  \\\n",
       "1501                 10.0  2012-11-15      within an hour               100%   \n",
       "3040                  NaN  2016-01-10      within an hour               100%   \n",
       "2355                  4.0  2015-03-30  within a few hours                98%   \n",
       "\n",
       "     host_acceptance_rate host_is_superhost host_identity_verified  \\\n",
       "1501                  80%                 f                      t   \n",
       "3040                 100%                 f                      f   \n",
       "2355                  55%                 f                      t   \n",
       "\n",
       "       neighbourhood zipcode    price security_deposit cleaning_fee  \n",
       "1501        Back Bay   02115  $250.00              NaN      $100.00  \n",
       "3040    South Boston   02210  $125.00              NaN          NaN  \n",
       "2355  Fenway/Kenmore   02215  $199.00              NaN      $100.00  "
      ]
     },
     "execution_count": 291,
     "metadata": {},
     "output_type": "execute_result"
    }
   ],
   "source": [
    "df_predict_review_scores_value.sample(3)"
   ]
  },
  {
   "cell_type": "markdown",
   "metadata": {},
   "source": [
    "##### Clean the data, drop not useful data, replace missing values, do feature engineering."
   ]
  },
  {
   "cell_type": "code",
   "execution_count": 292,
   "metadata": {},
   "outputs": [
    {
     "data": {
      "text/plain": [
       "Index(['review_scores_value', 'host_since', 'host_response_time',\n",
       "       'host_response_rate', 'host_acceptance_rate', 'host_is_superhost',\n",
       "       'host_identity_verified', 'neighbourhood', 'zipcode', 'price',\n",
       "       'security_deposit', 'cleaning_fee'],\n",
       "      dtype='object')"
      ]
     },
     "execution_count": 292,
     "metadata": {},
     "output_type": "execute_result"
    }
   ],
   "source": [
    "df_predict_review_scores_value.columns"
   ]
  },
  {
   "cell_type": "markdown",
   "metadata": {},
   "source": [
    "Checking if we have any rows where all columns are NaN"
   ]
  },
  {
   "cell_type": "code",
   "execution_count": 293,
   "metadata": {},
   "outputs": [
    {
     "data": {
      "text/plain": [
       "review_scores_value        821\n",
       "host_since                   0\n",
       "host_response_time         471\n",
       "host_response_rate         471\n",
       "host_acceptance_rate       471\n",
       "host_is_superhost            0\n",
       "host_identity_verified       0\n",
       "neighbourhood              543\n",
       "zipcode                     38\n",
       "price                        0\n",
       "security_deposit          2243\n",
       "cleaning_fee              1107\n",
       "dtype: int64"
      ]
     },
     "execution_count": 293,
     "metadata": {},
     "output_type": "execute_result"
    }
   ],
   "source": [
    "df_predict_review_scores_value.isna().sum()"
   ]
  },
  {
   "cell_type": "code",
   "execution_count": 294,
   "metadata": {},
   "outputs": [
    {
     "data": {
      "text/plain": [
       "<AxesSubplot:>"
      ]
     },
     "execution_count": 294,
     "metadata": {},
     "output_type": "execute_result"
    },
    {
     "data": {
      "image/png": "[encoded data removed]",
      "text/plain": [
       "<Figure size 432x288 with 1 Axes>"
      ]
     },
     "metadata": {
      "needs_background": "light"
     },
     "output_type": "display_data"
    }
   ],
   "source": [
    "df_predict_review_scores_value.isna().sum().plot(kind='bar')"
   ]
  },
  {
   "cell_type": "code",
   "execution_count": 295,
   "metadata": {},
   "outputs": [
    {
     "data": {
      "text/plain": [
       "review_scores_value       0.229010\n",
       "host_since                0.000000\n",
       "host_response_time        0.131381\n",
       "host_response_rate        0.131381\n",
       "host_acceptance_rate      0.131381\n",
       "host_is_superhost         0.000000\n",
       "host_identity_verified    0.000000\n",
       "neighbourhood             0.151464\n",
       "zipcode                   0.010600\n",
       "price                     0.000000\n",
       "security_deposit          0.625662\n",
       "cleaning_fee              0.308787\n",
       "dtype: float64"
      ]
     },
     "execution_count": 295,
     "metadata": {},
     "output_type": "execute_result"
    }
   ],
   "source": [
    "df_predict_review_scores_value.isna().mean()"
   ]
  },
  {
   "cell_type": "markdown",
   "metadata": {},
   "source": [
    "Dropping rows where label (y variable); review_scores_value is NaN"
   ]
  },
  {
   "cell_type": "code",
   "execution_count": 296,
   "metadata": {},
   "outputs": [
    {
     "data": {
      "text/plain": [
       "(2764, 12)"
      ]
     },
     "execution_count": 296,
     "metadata": {},
     "output_type": "execute_result"
    }
   ],
   "source": [
    "df_predict_review_scores_value.dropna(subset=['review_scores_value']).shape"
   ]
  },
  {
   "cell_type": "code",
   "execution_count": 297,
   "metadata": {},
   "outputs": [],
   "source": [
    "df_predict_review_scores_value.dropna(subset=['review_scores_value'],inplace=True)"
   ]
  },
  {
   "cell_type": "code",
   "execution_count": 298,
   "metadata": {},
   "outputs": [
    {
     "data": {
      "text/plain": [
       "(2764, 12)"
      ]
     },
     "execution_count": 298,
     "metadata": {},
     "output_type": "execute_result"
    }
   ],
   "source": [
    "df_predict_review_scores_value.shape"
   ]
  },
  {
   "cell_type": "code",
   "execution_count": 299,
   "metadata": {},
   "outputs": [
    {
     "data": {
      "text/plain": [
       "0"
      ]
     },
     "execution_count": 299,
     "metadata": {},
     "output_type": "execute_result"
    }
   ],
   "source": [
    "df_predict_review_scores_value.review_scores_value.isna().sum()"
   ]
  },
  {
   "cell_type": "markdown",
   "metadata": {},
   "source": [
    "Checking for datatypes of all columns, make appropriate chagnges as needed."
   ]
  },
  {
   "cell_type": "code",
   "execution_count": 300,
   "metadata": {},
   "outputs": [
    {
     "data": {
      "text/html": [
       "<div>\n",
       "<style scoped>\n",
       "    .dataframe tbody tr th:only-of-type {\n",
       "        vertical-align: middle;\n",
       "    }\n",
       "\n",
       "    .dataframe tbody tr th {\n",
       "        vertical-align: top;\n",
       "    }\n",
       "\n",
       "    .dataframe thead th {\n",
       "        text-align: right;\n",
       "    }\n",
       "</style>\n",
       "<table border=\"1\" class=\"dataframe\">\n",
       "  <thead>\n",
       "    <tr style=\"text-align: right;\">\n",
       "      <th></th>\n",
       "      <th>review_scores_value</th>\n",
       "      <th>host_since</th>\n",
       "      <th>host_response_time</th>\n",
       "      <th>host_response_rate</th>\n",
       "      <th>host_acceptance_rate</th>\n",
       "      <th>host_is_superhost</th>\n",
       "      <th>host_identity_verified</th>\n",
       "      <th>neighbourhood</th>\n",
       "      <th>zipcode</th>\n",
       "      <th>price</th>\n",
       "      <th>security_deposit</th>\n",
       "      <th>cleaning_fee</th>\n",
       "    </tr>\n",
       "  </thead>\n",
       "  <tbody>\n",
       "    <tr>\n",
       "      <th>1476</th>\n",
       "      <td>9.0</td>\n",
       "      <td>2013-10-14</td>\n",
       "      <td>within a few hours</td>\n",
       "      <td>96%</td>\n",
       "      <td>68%</td>\n",
       "      <td>f</td>\n",
       "      <td>t</td>\n",
       "      <td>NaN</td>\n",
       "      <td>02116</td>\n",
       "      <td>$363.00</td>\n",
       "      <td>NaN</td>\n",
       "      <td>$100.00</td>\n",
       "    </tr>\n",
       "    <tr>\n",
       "      <th>780</th>\n",
       "      <td>10.0</td>\n",
       "      <td>2009-02-19</td>\n",
       "      <td>within a day</td>\n",
       "      <td>100%</td>\n",
       "      <td>90%</td>\n",
       "      <td>f</td>\n",
       "      <td>t</td>\n",
       "      <td>Roxbury</td>\n",
       "      <td>02119</td>\n",
       "      <td>$145.00</td>\n",
       "      <td>NaN</td>\n",
       "      <td>$40.00</td>\n",
       "    </tr>\n",
       "    <tr>\n",
       "      <th>1724</th>\n",
       "      <td>9.0</td>\n",
       "      <td>2012-06-15</td>\n",
       "      <td>within an hour</td>\n",
       "      <td>100%</td>\n",
       "      <td>100%</td>\n",
       "      <td>t</td>\n",
       "      <td>t</td>\n",
       "      <td>Charlestown</td>\n",
       "      <td>02129</td>\n",
       "      <td>$260.00</td>\n",
       "      <td>NaN</td>\n",
       "      <td>$75.00</td>\n",
       "    </tr>\n",
       "  </tbody>\n",
       "</table>\n",
       "</div>"
      ],
      "text/plain": [
       "      review_scores_value  host_since  host_response_time host_response_rate  \\\n",
       "1476                  9.0  2013-10-14  within a few hours                96%   \n",
       "780                  10.0  2009-02-19        within a day               100%   \n",
       "1724                  9.0  2012-06-15      within an hour               100%   \n",
       "\n",
       "     host_acceptance_rate host_is_superhost host_identity_verified  \\\n",
       "1476                  68%                 f                      t   \n",
       "780                   90%                 f                      t   \n",
       "1724                 100%                 t                      t   \n",
       "\n",
       "     neighbourhood zipcode    price security_deposit cleaning_fee  \n",
       "1476           NaN   02116  $363.00              NaN      $100.00  \n",
       "780        Roxbury   02119  $145.00              NaN       $40.00  \n",
       "1724   Charlestown   02129  $260.00              NaN       $75.00  "
      ]
     },
     "execution_count": 300,
     "metadata": {},
     "output_type": "execute_result"
    }
   ],
   "source": [
    "df_predict_review_scores_value.sample(3)"
   ]
  },
  {
   "cell_type": "code",
   "execution_count": 301,
   "metadata": {},
   "outputs": [
    {
     "name": "stdout",
     "output_type": "stream",
     "text": [
      "<class 'pandas.core.frame.DataFrame'>\n",
      "Int64Index: 2764 entries, 1 to 3583\n",
      "Data columns (total 12 columns):\n",
      " #   Column                  Non-Null Count  Dtype  \n",
      "---  ------                  --------------  -----  \n",
      " 0   review_scores_value     2764 non-null   float64\n",
      " 1   host_since              2764 non-null   object \n",
      " 2   host_response_time      2547 non-null   object \n",
      " 3   host_response_rate      2547 non-null   object \n",
      " 4   host_acceptance_rate    2547 non-null   object \n",
      " 5   host_is_superhost       2764 non-null   object \n",
      " 6   host_identity_verified  2764 non-null   object \n",
      " 7   neighbourhood           2361 non-null   object \n",
      " 8   zipcode                 2739 non-null   object \n",
      " 9   price                   2764 non-null   object \n",
      " 10  security_deposit        1118 non-null   object \n",
      " 11  cleaning_fee            1972 non-null   object \n",
      "dtypes: float64(1), object(11)\n",
      "memory usage: 280.7+ KB\n"
     ]
    }
   ],
   "source": [
    "df_predict_review_scores_value.info()"
   ]
  },
  {
   "cell_type": "code",
   "execution_count": 302,
   "metadata": {},
   "outputs": [
    {
     "data": {
      "text/plain": [
       "within an hour        1171\n",
       "within a few hours     975\n",
       "within a day           379\n",
       "a few days or more      22\n",
       "Name: host_response_time, dtype: int64"
      ]
     },
     "execution_count": 302,
     "metadata": {},
     "output_type": "execute_result"
    }
   ],
   "source": [
    "df_predict_review_scores_value.host_response_time.value_counts()"
   ]
  },
  {
   "cell_type": "markdown",
   "metadata": {},
   "source": [
    "Following are proposed datatype changes:\n",
    "\n",
    "1. change host_since from object to datetime.\n",
    "2. change host_response_rate from object to float\n",
    "3. change host_acceptance_rate from object to float\n",
    "4. change host_is_superhost from object to Bool\n",
    "5. change host_identity_verified from object to Bool\n",
    "6. change price from object to float\n",
    "7. change security_deposit from object to float\n",
    "8. change cleaning_fee from object to float"
   ]
  },
  {
   "cell_type": "code",
   "execution_count": 303,
   "metadata": {},
   "outputs": [],
   "source": [
    "df_predict_review_scores_value['host_since'] = pd.to_datetime(df_predict_review_scores_value.host_since)"
   ]
  },
  {
   "cell_type": "code",
   "execution_count": 304,
   "metadata": {},
   "outputs": [
    {
     "data": {
      "text/plain": [
       "542     100%\n",
       "1071    100%\n",
       "1887     70%\n",
       "Name: host_response_rate, dtype: object"
      ]
     },
     "execution_count": 304,
     "metadata": {},
     "output_type": "execute_result"
    }
   ],
   "source": [
    "df_predict_review_scores_value.host_response_rate.sample(3)"
   ]
  },
  {
   "cell_type": "markdown",
   "metadata": {},
   "source": [
    "df_predict_price.price = df_predict_price.price.replace({'\\$':'',',':''}, regex=True).astype('float')"
   ]
  },
  {
   "cell_type": "code",
   "execution_count": 305,
   "metadata": {},
   "outputs": [],
   "source": [
    "df_predict_review_scores_value.host_response_rate = df_predict_review_scores_value.host_response_rate.replace({'%':'',',':''}, regex=True).astype('float')"
   ]
  },
  {
   "cell_type": "code",
   "execution_count": 306,
   "metadata": {},
   "outputs": [
    {
     "data": {
      "text/plain": [
       "3376      NaN\n",
       "210     100.0\n",
       "3293    100.0\n",
       "Name: host_response_rate, dtype: float64"
      ]
     },
     "execution_count": 306,
     "metadata": {},
     "output_type": "execute_result"
    }
   ],
   "source": [
    "df_predict_review_scores_value.host_response_rate.sample(3)"
   ]
  },
  {
   "cell_type": "code",
   "execution_count": 307,
   "metadata": {},
   "outputs": [
    {
     "data": {
      "text/plain": [
       "2899     99%\n",
       "1124     94%\n",
       "875     100%\n",
       "Name: host_acceptance_rate, dtype: object"
      ]
     },
     "execution_count": 307,
     "metadata": {},
     "output_type": "execute_result"
    }
   ],
   "source": [
    "df_predict_review_scores_value.host_acceptance_rate.sample(3)"
   ]
  },
  {
   "cell_type": "code",
   "execution_count": 308,
   "metadata": {},
   "outputs": [],
   "source": [
    "df_predict_review_scores_value.host_acceptance_rate = df_predict_review_scores_value.host_acceptance_rate\\\n",
    ".replace({'%':'',',':''}, regex=True).astype('float')"
   ]
  },
  {
   "cell_type": "code",
   "execution_count": 309,
   "metadata": {},
   "outputs": [
    {
     "data": {
      "text/plain": [
       "972      75.0\n",
       "2692     99.0\n",
       "2926    100.0\n",
       "Name: host_acceptance_rate, dtype: float64"
      ]
     },
     "execution_count": 309,
     "metadata": {},
     "output_type": "execute_result"
    }
   ],
   "source": [
    "df_predict_review_scores_value.host_acceptance_rate.sample(3)"
   ]
  },
  {
   "cell_type": "code",
   "execution_count": 310,
   "metadata": {},
   "outputs": [
    {
     "data": {
      "text/plain": [
       "3095    f\n",
       "1478    f\n",
       "2892    f\n",
       "Name: host_is_superhost, dtype: object"
      ]
     },
     "execution_count": 310,
     "metadata": {},
     "output_type": "execute_result"
    }
   ],
   "source": [
    "df_predict_review_scores_value.host_is_superhost.sample(3)"
   ]
  },
  {
   "cell_type": "code",
   "execution_count": 311,
   "metadata": {},
   "outputs": [],
   "source": [
    "df_predict_review_scores_value['host_is_superhost']=(df_predict_review_scores_value.host_is_superhost=='t')"
   ]
  },
  {
   "cell_type": "code",
   "execution_count": 312,
   "metadata": {},
   "outputs": [
    {
     "data": {
      "text/plain": [
       "2229    False\n",
       "2405    False\n",
       "2480    False\n",
       "Name: host_is_superhost, dtype: bool"
      ]
     },
     "execution_count": 312,
     "metadata": {},
     "output_type": "execute_result"
    }
   ],
   "source": [
    "df_predict_review_scores_value.host_is_superhost.sample(3)"
   ]
  },
  {
   "cell_type": "code",
   "execution_count": 313,
   "metadata": {},
   "outputs": [
    {
     "data": {
      "text/plain": [
       "3195    t\n",
       "1583    f\n",
       "1921    f\n",
       "Name: host_identity_verified, dtype: object"
      ]
     },
     "execution_count": 313,
     "metadata": {},
     "output_type": "execute_result"
    }
   ],
   "source": [
    "df_predict_review_scores_value.host_identity_verified.sample(3)"
   ]
  },
  {
   "cell_type": "code",
   "execution_count": 314,
   "metadata": {},
   "outputs": [],
   "source": [
    "df_predict_review_scores_value['host_identity_verified']=(df_predict_review_scores_value.host_identity_verified=='t')"
   ]
  },
  {
   "cell_type": "code",
   "execution_count": 315,
   "metadata": {},
   "outputs": [
    {
     "data": {
      "text/plain": [
       "3379    True\n",
       "181     True\n",
       "2070    True\n",
       "Name: host_identity_verified, dtype: bool"
      ]
     },
     "execution_count": 315,
     "metadata": {},
     "output_type": "execute_result"
    }
   ],
   "source": [
    "df_predict_review_scores_value.host_identity_verified.sample(3)"
   ]
  },
  {
   "cell_type": "code",
   "execution_count": 316,
   "metadata": {},
   "outputs": [
    {
     "data": {
      "text/plain": [
       "1775     $39.00\n",
       "1448    $350.00\n",
       "3062    $603.00\n",
       "Name: price, dtype: object"
      ]
     },
     "execution_count": 316,
     "metadata": {},
     "output_type": "execute_result"
    }
   ],
   "source": [
    "df_predict_review_scores_value.price.sample(3)"
   ]
  },
  {
   "cell_type": "code",
   "execution_count": 317,
   "metadata": {},
   "outputs": [],
   "source": [
    "df_predict_review_scores_value.price = df_predict_review_scores_value.price.replace({'\\$':'',',':''}, regex=True)\\\n",
    ".astype('float')"
   ]
  },
  {
   "cell_type": "code",
   "execution_count": 318,
   "metadata": {},
   "outputs": [
    {
     "data": {
      "text/plain": [
       "2568     80.0\n",
       "3317     32.0\n",
       "2154    375.0\n",
       "Name: price, dtype: float64"
      ]
     },
     "execution_count": 318,
     "metadata": {},
     "output_type": "execute_result"
    }
   ],
   "source": [
    "df_predict_review_scores_value.price.sample(3)"
   ]
  },
  {
   "cell_type": "code",
   "execution_count": 319,
   "metadata": {},
   "outputs": [
    {
     "data": {
      "text/plain": [
       "1370    $350.00\n",
       "2731    $200.00\n",
       "3034    $500.00\n",
       "Name: security_deposit, dtype: object"
      ]
     },
     "execution_count": 319,
     "metadata": {},
     "output_type": "execute_result"
    }
   ],
   "source": [
    "df_predict_review_scores_value.security_deposit.sample(3)"
   ]
  },
  {
   "cell_type": "code",
   "execution_count": 320,
   "metadata": {},
   "outputs": [],
   "source": [
    "df_predict_review_scores_value.security_deposit = df_predict_review_scores_value.security_deposit.replace({'\\$':'',',':''}, regex=True)\\\n",
    ".astype('float')"
   ]
  },
  {
   "cell_type": "code",
   "execution_count": 321,
   "metadata": {},
   "outputs": [
    {
     "data": {
      "text/plain": [
       "1125    500.0\n",
       "3246      NaN\n",
       "1721    500.0\n",
       "Name: security_deposit, dtype: float64"
      ]
     },
     "execution_count": 321,
     "metadata": {},
     "output_type": "execute_result"
    }
   ],
   "source": [
    "df_predict_review_scores_value.security_deposit.sample(3)"
   ]
  },
  {
   "cell_type": "code",
   "execution_count": 322,
   "metadata": {},
   "outputs": [
    {
     "data": {
      "text/plain": [
       "1167    $80.00\n",
       "634     $15.00\n",
       "3109    $95.00\n",
       "Name: cleaning_fee, dtype: object"
      ]
     },
     "execution_count": 322,
     "metadata": {},
     "output_type": "execute_result"
    }
   ],
   "source": [
    "df_predict_review_scores_value.cleaning_fee.sample(3)"
   ]
  },
  {
   "cell_type": "code",
   "execution_count": 323,
   "metadata": {},
   "outputs": [],
   "source": [
    "df_predict_review_scores_value.cleaning_fee = df_predict_review_scores_value.cleaning_fee.replace({'\\$':'',',':''}, regex=True)\\\n",
    ".astype('float')"
   ]
  },
  {
   "cell_type": "code",
   "execution_count": 324,
   "metadata": {},
   "outputs": [
    {
     "data": {
      "text/plain": [
       "1457      NaN\n",
       "900      20.0\n",
       "1354    100.0\n",
       "Name: cleaning_fee, dtype: float64"
      ]
     },
     "execution_count": 324,
     "metadata": {},
     "output_type": "execute_result"
    }
   ],
   "source": [
    "df_predict_review_scores_value.cleaning_fee.sample(3)"
   ]
  },
  {
   "cell_type": "code",
   "execution_count": 325,
   "metadata": {},
   "outputs": [
    {
     "name": "stdout",
     "output_type": "stream",
     "text": [
      "<class 'pandas.core.frame.DataFrame'>\n",
      "Int64Index: 2764 entries, 1 to 3583\n",
      "Data columns (total 12 columns):\n",
      " #   Column                  Non-Null Count  Dtype         \n",
      "---  ------                  --------------  -----         \n",
      " 0   review_scores_value     2764 non-null   float64       \n",
      " 1   host_since              2764 non-null   datetime64[ns]\n",
      " 2   host_response_time      2547 non-null   object        \n",
      " 3   host_response_rate      2547 non-null   float64       \n",
      " 4   host_acceptance_rate    2547 non-null   float64       \n",
      " 5   host_is_superhost       2764 non-null   bool          \n",
      " 6   host_identity_verified  2764 non-null   bool          \n",
      " 7   neighbourhood           2361 non-null   object        \n",
      " 8   zipcode                 2739 non-null   object        \n",
      " 9   price                   2764 non-null   float64       \n",
      " 10  security_deposit        1118 non-null   float64       \n",
      " 11  cleaning_fee            1972 non-null   float64       \n",
      "dtypes: bool(2), datetime64[ns](1), float64(6), object(3)\n",
      "memory usage: 242.9+ KB\n"
     ]
    }
   ],
   "source": [
    "df_predict_review_scores_value.info()"
   ]
  },
  {
   "cell_type": "code",
   "execution_count": 326,
   "metadata": {},
   "outputs": [
    {
     "data": {
      "text/plain": [
       "4"
      ]
     },
     "execution_count": 326,
     "metadata": {},
     "output_type": "execute_result"
    }
   ],
   "source": [
    "df_predict_review_scores_value.host_response_time.nunique()"
   ]
  },
  {
   "cell_type": "code",
   "execution_count": 327,
   "metadata": {},
   "outputs": [
    {
     "data": {
      "text/plain": [
       "29"
      ]
     },
     "execution_count": 327,
     "metadata": {},
     "output_type": "execute_result"
    }
   ],
   "source": [
    "df_predict_review_scores_value.neighbourhood.nunique()"
   ]
  },
  {
   "cell_type": "markdown",
   "metadata": {},
   "source": [
    "Converting host_response_time from object to categorical using pd.get_dummies"
   ]
  },
  {
   "cell_type": "code",
   "execution_count": 328,
   "metadata": {},
   "outputs": [],
   "source": [
    "cat_df = pd.get_dummies(df_predict_review_scores_value['host_response_time'], dummy_na=True,prefix='host_response_time')"
   ]
  },
  {
   "cell_type": "code",
   "execution_count": 329,
   "metadata": {},
   "outputs": [
    {
     "data": {
      "text/html": [
       "<div>\n",
       "<style scoped>\n",
       "    .dataframe tbody tr th:only-of-type {\n",
       "        vertical-align: middle;\n",
       "    }\n",
       "\n",
       "    .dataframe tbody tr th {\n",
       "        vertical-align: top;\n",
       "    }\n",
       "\n",
       "    .dataframe thead th {\n",
       "        text-align: right;\n",
       "    }\n",
       "</style>\n",
       "<table border=\"1\" class=\"dataframe\">\n",
       "  <thead>\n",
       "    <tr style=\"text-align: right;\">\n",
       "      <th></th>\n",
       "      <th>host_response_time_a few days or more</th>\n",
       "      <th>host_response_time_within a day</th>\n",
       "      <th>host_response_time_within a few hours</th>\n",
       "      <th>host_response_time_within an hour</th>\n",
       "      <th>host_response_time_nan</th>\n",
       "    </tr>\n",
       "  </thead>\n",
       "  <tbody>\n",
       "    <tr>\n",
       "      <th>1773</th>\n",
       "      <td>0</td>\n",
       "      <td>0</td>\n",
       "      <td>0</td>\n",
       "      <td>1</td>\n",
       "      <td>0</td>\n",
       "    </tr>\n",
       "    <tr>\n",
       "      <th>1717</th>\n",
       "      <td>0</td>\n",
       "      <td>0</td>\n",
       "      <td>0</td>\n",
       "      <td>1</td>\n",
       "      <td>0</td>\n",
       "    </tr>\n",
       "    <tr>\n",
       "      <th>1041</th>\n",
       "      <td>0</td>\n",
       "      <td>0</td>\n",
       "      <td>1</td>\n",
       "      <td>0</td>\n",
       "      <td>0</td>\n",
       "    </tr>\n",
       "  </tbody>\n",
       "</table>\n",
       "</div>"
      ],
      "text/plain": [
       "      host_response_time_a few days or more  host_response_time_within a day  \\\n",
       "1773                                      0                                0   \n",
       "1717                                      0                                0   \n",
       "1041                                      0                                0   \n",
       "\n",
       "      host_response_time_within a few hours  \\\n",
       "1773                                      0   \n",
       "1717                                      0   \n",
       "1041                                      1   \n",
       "\n",
       "      host_response_time_within an hour  host_response_time_nan  \n",
       "1773                                  1                       0  \n",
       "1717                                  1                       0  \n",
       "1041                                  0                       0  "
      ]
     },
     "execution_count": 329,
     "metadata": {},
     "output_type": "execute_result"
    }
   ],
   "source": [
    "cat_df.sample(3)"
   ]
  },
  {
   "cell_type": "code",
   "execution_count": 330,
   "metadata": {},
   "outputs": [
    {
     "data": {
      "text/plain": [
       "(2764, 5)"
      ]
     },
     "execution_count": 330,
     "metadata": {},
     "output_type": "execute_result"
    }
   ],
   "source": [
    "cat_df.shape"
   ]
  },
  {
   "cell_type": "code",
   "execution_count": 331,
   "metadata": {},
   "outputs": [
    {
     "data": {
      "text/plain": [
       "(2764, 12)"
      ]
     },
     "execution_count": 331,
     "metadata": {},
     "output_type": "execute_result"
    }
   ],
   "source": [
    "df_predict_review_scores_value.shape"
   ]
  },
  {
   "cell_type": "code",
   "execution_count": 332,
   "metadata": {},
   "outputs": [
    {
     "data": {
      "text/plain": [
       "(2764, 17)"
      ]
     },
     "execution_count": 332,
     "metadata": {},
     "output_type": "execute_result"
    }
   ],
   "source": [
    "df_predict_review_scores_value.merge(cat_df, left_index=True, right_index=True).shape"
   ]
  },
  {
   "cell_type": "code",
   "execution_count": 333,
   "metadata": {},
   "outputs": [],
   "source": [
    "df_predict_review_scores_value = df_predict_review_scores_value.merge(cat_df, left_index=True, right_index=True)"
   ]
  },
  {
   "cell_type": "code",
   "execution_count": 334,
   "metadata": {},
   "outputs": [
    {
     "data": {
      "text/plain": [
       "(2764, 17)"
      ]
     },
     "execution_count": 334,
     "metadata": {},
     "output_type": "execute_result"
    }
   ],
   "source": [
    "df_predict_review_scores_value.shape"
   ]
  },
  {
   "cell_type": "markdown",
   "metadata": {},
   "source": [
    "Checking for NaN in all X columns."
   ]
  },
  {
   "cell_type": "code",
   "execution_count": 337,
   "metadata": {},
   "outputs": [
    {
     "data": {
      "text/plain": [
       "review_scores_value                      0.000000\n",
       "host_since                               0.000000\n",
       "host_response_time                       0.078509\n",
       "host_response_rate                       0.078509\n",
       "host_acceptance_rate                     0.078509\n",
       "host_is_superhost                        0.000000\n",
       "host_identity_verified                   0.000000\n",
       "neighbourhood                            0.145803\n",
       "zipcode                                  0.009045\n",
       "price                                    0.000000\n",
       "security_deposit                         0.595514\n",
       "cleaning_fee                             0.286541\n",
       "host_response_time_a few days or more    0.000000\n",
       "host_response_time_within a day          0.000000\n",
       "host_response_time_within a few hours    0.000000\n",
       "host_response_time_within an hour        0.000000\n",
       "host_response_time_nan                   0.000000\n",
       "dtype: float64"
      ]
     },
     "execution_count": 337,
     "metadata": {},
     "output_type": "execute_result"
    }
   ],
   "source": [
    "df_predict_review_scores_value.isna().mean()"
   ]
  },
  {
   "cell_type": "code",
   "execution_count": 338,
   "metadata": {},
   "outputs": [
    {
     "data": {
      "text/plain": [
       "review_scores_value                         0\n",
       "host_since                                  0\n",
       "host_response_time                        217\n",
       "host_response_rate                        217\n",
       "host_acceptance_rate                      217\n",
       "host_is_superhost                           0\n",
       "host_identity_verified                      0\n",
       "neighbourhood                             403\n",
       "zipcode                                    25\n",
       "price                                       0\n",
       "security_deposit                         1646\n",
       "cleaning_fee                              792\n",
       "host_response_time_a few days or more       0\n",
       "host_response_time_within a day             0\n",
       "host_response_time_within a few hours       0\n",
       "host_response_time_within an hour           0\n",
       "host_response_time_nan                      0\n",
       "dtype: int64"
      ]
     },
     "execution_count": 338,
     "metadata": {},
     "output_type": "execute_result"
    }
   ],
   "source": [
    "df_predict_review_scores_value.isna().sum()"
   ]
  },
  {
   "cell_type": "code",
   "execution_count": 341,
   "metadata": {},
   "outputs": [
    {
     "data": {
      "text/plain": [
       "<AxesSubplot:>"
      ]
     },
     "execution_count": 341,
     "metadata": {},
     "output_type": "execute_result"
    },
    {
     "data": {
      "image/png": "[encoded data removed]",
      "text/plain": [
       "<Figure size 432x288 with 1 Axes>"
      ]
     },
     "metadata": {
      "needs_background": "light"
     },
     "output_type": "display_data"
    }
   ],
   "source": [
    "df_predict_review_scores_value.isna().mean().plot(kind='bar')"
   ]
  },
  {
   "cell_type": "markdown",
   "metadata": {},
   "source": [
    "Following is an approach for columns having NaN values:\n",
    "1. host_response_time = Drop the column, we already have converted the categorical column to dummy columns with different dummy column for NaN values.\n",
    "2. host_response_rate = Impute the value with average(mean) of the column.\n",
    "3. host_acceptance_rate = Impute the value with average(mean) of the column.\n",
    "4. neighborhood = Drop the rows where neighborhood values are NaN as there is no easy way to recover the missing values.\n",
    "5. security_deposit = 59% values are missing, so we will simply drop this column from the analysis.\n",
    "6. cleaning_fee = Impute the value with average(mean) of the column."
   ]
  },
  {
   "cell_type": "code",
   "execution_count": 368,
   "metadata": {},
   "outputs": [
    {
     "data": {
      "text/plain": [
       "(2764, 17)"
      ]
     },
     "execution_count": 368,
     "metadata": {},
     "output_type": "execute_result"
    }
   ],
   "source": [
    "df_predict_review_scores_value.shape"
   ]
  },
  {
   "cell_type": "code",
   "execution_count": 370,
   "metadata": {},
   "outputs": [],
   "source": [
    "df_predict_review_scores_value.drop(columns=['host_response_time'], inplace=True)"
   ]
  },
  {
   "cell_type": "code",
   "execution_count": 371,
   "metadata": {},
   "outputs": [
    {
     "data": {
      "text/plain": [
       "(2764, 16)"
      ]
     },
     "execution_count": 371,
     "metadata": {},
     "output_type": "execute_result"
    }
   ],
   "source": [
    "df_predict_review_scores_value.shape"
   ]
  },
  {
   "cell_type": "code",
   "execution_count": 374,
   "metadata": {},
   "outputs": [
    {
     "data": {
      "text/plain": [
       "217"
      ]
     },
     "execution_count": 374,
     "metadata": {},
     "output_type": "execute_result"
    }
   ],
   "source": [
    "df_predict_review_scores_value.host_response_rate.isna().sum()"
   ]
  },
  {
   "cell_type": "code",
   "execution_count": 375,
   "metadata": {},
   "outputs": [],
   "source": [
    "df_predict_review_scores_value.host_response_rate.fillna(df_predict_review_scores_value.host_response_rate.mean()\\\n",
    "                                                         , inplace=True)"
   ]
  },
  {
   "cell_type": "code",
   "execution_count": 376,
   "metadata": {},
   "outputs": [
    {
     "data": {
      "text/plain": [
       "0"
      ]
     },
     "execution_count": 376,
     "metadata": {},
     "output_type": "execute_result"
    }
   ],
   "source": [
    "df_predict_review_scores_value.host_response_rate.isna().sum()"
   ]
  },
  {
   "cell_type": "code",
   "execution_count": null,
   "metadata": {},
   "outputs": [],
   "source": []
  },
  {
   "cell_type": "code",
   "execution_count": 377,
   "metadata": {},
   "outputs": [
    {
     "data": {
      "text/plain": [
       "217"
      ]
     },
     "execution_count": 377,
     "metadata": {},
     "output_type": "execute_result"
    }
   ],
   "source": [
    "df_predict_review_scores_value.host_acceptance_rate.isna().sum()"
   ]
  },
  {
   "cell_type": "code",
   "execution_count": 378,
   "metadata": {},
   "outputs": [],
   "source": [
    "df_predict_review_scores_value.host_acceptance_rate.fillna(df_predict_review_scores_value.host_acceptance_rate.mean()\\\n",
    "                                                         , inplace=True)"
   ]
  },
  {
   "cell_type": "code",
   "execution_count": 379,
   "metadata": {},
   "outputs": [
    {
     "data": {
      "text/plain": [
       "0"
      ]
     },
     "execution_count": 379,
     "metadata": {},
     "output_type": "execute_result"
    }
   ],
   "source": [
    "df_predict_review_scores_value.host_acceptance_rate.isna().sum()"
   ]
  },
  {
   "cell_type": "code",
   "execution_count": null,
   "metadata": {},
   "outputs": [],
   "source": []
  },
  {
   "cell_type": "code",
   "execution_count": 380,
   "metadata": {},
   "outputs": [
    {
     "data": {
      "text/plain": [
       "(2764, 16)"
      ]
     },
     "execution_count": 380,
     "metadata": {},
     "output_type": "execute_result"
    }
   ],
   "source": [
    "df_predict_review_scores_value.shape"
   ]
  },
  {
   "cell_type": "code",
   "execution_count": 382,
   "metadata": {},
   "outputs": [],
   "source": [
    "df_predict_review_scores_value.dropna(subset=['neighbourhood'], inplace=True)"
   ]
  },
  {
   "cell_type": "code",
   "execution_count": 383,
   "metadata": {},
   "outputs": [
    {
     "data": {
      "text/plain": [
       "(2361, 16)"
      ]
     },
     "execution_count": 383,
     "metadata": {},
     "output_type": "execute_result"
    }
   ],
   "source": [
    "df_predict_review_scores_value.shape"
   ]
  },
  {
   "cell_type": "code",
   "execution_count": null,
   "metadata": {},
   "outputs": [],
   "source": []
  },
  {
   "cell_type": "code",
   "execution_count": 385,
   "metadata": {},
   "outputs": [
    {
     "data": {
      "text/plain": [
       "(2361, 16)"
      ]
     },
     "execution_count": 385,
     "metadata": {},
     "output_type": "execute_result"
    }
   ],
   "source": [
    "df_predict_review_scores_value.shape"
   ]
  },
  {
   "cell_type": "code",
   "execution_count": 387,
   "metadata": {},
   "outputs": [],
   "source": [
    "df_predict_review_scores_value.drop(columns=['security_deposit'], inplace=True)"
   ]
  },
  {
   "cell_type": "code",
   "execution_count": 388,
   "metadata": {},
   "outputs": [
    {
     "data": {
      "text/plain": [
       "(2361, 15)"
      ]
     },
     "execution_count": 388,
     "metadata": {},
     "output_type": "execute_result"
    }
   ],
   "source": [
    "df_predict_review_scores_value.shape"
   ]
  },
  {
   "cell_type": "code",
   "execution_count": null,
   "metadata": {},
   "outputs": [],
   "source": []
  },
  {
   "cell_type": "code",
   "execution_count": 389,
   "metadata": {},
   "outputs": [
    {
     "data": {
      "text/plain": [
       "662"
      ]
     },
     "execution_count": 389,
     "metadata": {},
     "output_type": "execute_result"
    }
   ],
   "source": [
    "df_predict_review_scores_value.cleaning_fee.isna().sum()"
   ]
  },
  {
   "cell_type": "code",
   "execution_count": 390,
   "metadata": {},
   "outputs": [],
   "source": [
    "df_predict_review_scores_value.cleaning_fee.fillna(df_predict_review_scores_value.cleaning_fee.mean()\\\n",
    "                                                         , inplace=True)"
   ]
  },
  {
   "cell_type": "code",
   "execution_count": 392,
   "metadata": {},
   "outputs": [
    {
     "data": {
      "text/plain": [
       "0"
      ]
     },
     "execution_count": 392,
     "metadata": {},
     "output_type": "execute_result"
    }
   ],
   "source": [
    "df_predict_review_scores_value.cleaning_fee.isna().sum()"
   ]
  },
  {
   "cell_type": "code",
   "execution_count": null,
   "metadata": {},
   "outputs": [],
   "source": []
  },
  {
   "cell_type": "markdown",
   "metadata": {},
   "source": [
    "##### Question 7 = what are factors that cause a listing to be booked a lot?  Predicting average availability of a listing."
   ]
  },
  {
   "cell_type": "markdown",
   "metadata": {},
   "source": [
    "X:\n",
    "1. host_since\n",
    "2. neighbourhood\n",
    "3. street\n",
    "4. zipcode\n",
    "5. bathrooms\n",
    "6. beds\n",
    "7. price\n",
    "8. number_of_reviews\n",
    "9. review_scores_value\n",
    "10. require_guest_phone_verification\n",
    "11. listing_id\n",
    "\n",
    "\n",
    "y:\n",
    "1. column describing average availability for each listing (calendar.listing_id.available.mean()) = listing_average_availability"
   ]
  },
  {
   "cell_type": "code",
   "execution_count": 394,
   "metadata": {},
   "outputs": [
    {
     "data": {
      "text/plain": [
       "Boston                   3568\n",
       "San Francisco               1\n",
       "Other (Domestic)            1\n",
       "Other (International)       1\n",
       "Name: market, dtype: int64"
      ]
     },
     "execution_count": 394,
     "metadata": {},
     "output_type": "execute_result"
    }
   ],
   "source": [
    "df_boston_listings.market.value_counts()"
   ]
  },
  {
   "cell_type": "code",
   "execution_count": 249,
   "metadata": {},
   "outputs": [],
   "source": [
    "predict_listing_average_availability_x = ['id','host_since', 'neighbourhood', 'street', 'zipcode', 'bathrooms', 'beds',\\\n",
    "'price', 'number_of_reviews', 'review_scores_value', 'require_guest_phone_verification']"
   ]
  },
  {
   "cell_type": "markdown",
   "metadata": {},
   "source": [
    "Creating dataframe with relevant X and y"
   ]
  },
  {
   "cell_type": "code",
   "execution_count": 248,
   "metadata": {},
   "outputs": [],
   "source": [
    "df_predict_listing_average_availability = df_boston_listings.copy()"
   ]
  },
  {
   "cell_type": "markdown",
   "metadata": {},
   "source": [
    "As the predicted column is a derived column we need to create it from existing columns."
   ]
  },
  {
   "cell_type": "code",
   "execution_count": 224,
   "metadata": {},
   "outputs": [],
   "source": [
    "temp_df = pd.DataFrame()"
   ]
  },
  {
   "cell_type": "code",
   "execution_count": 225,
   "metadata": {},
   "outputs": [],
   "source": [
    "temp_df['average_availability'] = df_boston_calendar.groupby(['listing_id'])['available'].mean()"
   ]
  },
  {
   "cell_type": "code",
   "execution_count": 226,
   "metadata": {},
   "outputs": [
    {
     "data": {
      "text/plain": [
       "(3585, 1)"
      ]
     },
     "execution_count": 226,
     "metadata": {},
     "output_type": "execute_result"
    }
   ],
   "source": [
    "temp_df.shape"
   ]
  },
  {
   "cell_type": "code",
   "execution_count": 227,
   "metadata": {},
   "outputs": [
    {
     "data": {
      "text/html": [
       "<div>\n",
       "<style scoped>\n",
       "    .dataframe tbody tr th:only-of-type {\n",
       "        vertical-align: middle;\n",
       "    }\n",
       "\n",
       "    .dataframe tbody tr th {\n",
       "        vertical-align: top;\n",
       "    }\n",
       "\n",
       "    .dataframe thead th {\n",
       "        text-align: right;\n",
       "    }\n",
       "</style>\n",
       "<table border=\"1\" class=\"dataframe\">\n",
       "  <thead>\n",
       "    <tr style=\"text-align: right;\">\n",
       "      <th></th>\n",
       "      <th>average_availability</th>\n",
       "    </tr>\n",
       "    <tr>\n",
       "      <th>listing_id</th>\n",
       "      <th></th>\n",
       "    </tr>\n",
       "  </thead>\n",
       "  <tbody>\n",
       "    <tr>\n",
       "      <th>9532771</th>\n",
       "      <td>0.00000</td>\n",
       "    </tr>\n",
       "    <tr>\n",
       "      <th>14872018</th>\n",
       "      <td>0.30137</td>\n",
       "    </tr>\n",
       "    <tr>\n",
       "      <th>10034183</th>\n",
       "      <td>0.00000</td>\n",
       "    </tr>\n",
       "  </tbody>\n",
       "</table>\n",
       "</div>"
      ],
      "text/plain": [
       "            average_availability\n",
       "listing_id                      \n",
       "9532771                  0.00000\n",
       "14872018                 0.30137\n",
       "10034183                 0.00000"
      ]
     },
     "execution_count": 227,
     "metadata": {},
     "output_type": "execute_result"
    }
   ],
   "source": [
    "temp_df.sample(3)"
   ]
  },
  {
   "cell_type": "code",
   "execution_count": 228,
   "metadata": {},
   "outputs": [],
   "source": [
    "temp_df['listing_id'] = temp_df.index"
   ]
  },
  {
   "cell_type": "code",
   "execution_count": 229,
   "metadata": {},
   "outputs": [],
   "source": [
    "temp_df.reset_index(drop=True, inplace=True)"
   ]
  },
  {
   "cell_type": "code",
   "execution_count": 230,
   "metadata": {},
   "outputs": [
    {
     "data": {
      "text/html": [
       "<div>\n",
       "<style scoped>\n",
       "    .dataframe tbody tr th:only-of-type {\n",
       "        vertical-align: middle;\n",
       "    }\n",
       "\n",
       "    .dataframe tbody tr th {\n",
       "        vertical-align: top;\n",
       "    }\n",
       "\n",
       "    .dataframe thead th {\n",
       "        text-align: right;\n",
       "    }\n",
       "</style>\n",
       "<table border=\"1\" class=\"dataframe\">\n",
       "  <thead>\n",
       "    <tr style=\"text-align: right;\">\n",
       "      <th></th>\n",
       "      <th>average_availability</th>\n",
       "      <th>listing_id</th>\n",
       "    </tr>\n",
       "  </thead>\n",
       "  <tbody>\n",
       "    <tr>\n",
       "      <th>2258</th>\n",
       "      <td>0.832877</td>\n",
       "      <td>10594800</td>\n",
       "    </tr>\n",
       "    <tr>\n",
       "      <th>2241</th>\n",
       "      <td>0.424658</td>\n",
       "      <td>10434883</td>\n",
       "    </tr>\n",
       "    <tr>\n",
       "      <th>1946</th>\n",
       "      <td>0.000000</td>\n",
       "      <td>9331460</td>\n",
       "    </tr>\n",
       "  </tbody>\n",
       "</table>\n",
       "</div>"
      ],
      "text/plain": [
       "      average_availability  listing_id\n",
       "2258              0.832877    10594800\n",
       "2241              0.424658    10434883\n",
       "1946              0.000000     9331460"
      ]
     },
     "execution_count": 230,
     "metadata": {},
     "output_type": "execute_result"
    }
   ],
   "source": [
    "temp_df.sample(3)"
   ]
  },
  {
   "cell_type": "code",
   "execution_count": 250,
   "metadata": {},
   "outputs": [],
   "source": [
    "df_predict_listing_average_availability = df_predict_listing_average_availability[predict_listing_average_availability_x]"
   ]
  },
  {
   "cell_type": "code",
   "execution_count": 244,
   "metadata": {},
   "outputs": [
    {
     "name": "stdout",
     "output_type": "stream",
     "text": [
      "Index(['host_since', 'neighbourhood', 'street', 'zipcode', 'bathrooms', 'beds',\n",
      "       'price', 'number_of_reviews', 'review_scores_value',\n",
      "       'require_guest_phone_verification'],\n",
      "      dtype='object')\n",
      "Index(['average_availability', 'listing_id'], dtype='object')\n"
     ]
    }
   ],
   "source": [
    "print(df_predict_listing_average_availability.columns)\n",
    "print(temp_df.columns)"
   ]
  },
  {
   "cell_type": "code",
   "execution_count": 242,
   "metadata": {},
   "outputs": [
    {
     "name": "stdout",
     "output_type": "stream",
     "text": [
      "(3585, 10)\n",
      "(3585, 2)\n"
     ]
    }
   ],
   "source": [
    "print(df_predict_listing_average_availability.shape)\n",
    "print(temp_df.shape)"
   ]
  },
  {
   "cell_type": "code",
   "execution_count": 252,
   "metadata": {},
   "outputs": [
    {
     "data": {
      "text/plain": [
       "3585"
      ]
     },
     "execution_count": 252,
     "metadata": {},
     "output_type": "execute_result"
    }
   ],
   "source": [
    "len(df_predict_listing_average_availability.merge(temp_df, left_on='id', right_on='listing_id'))"
   ]
  },
  {
   "cell_type": "code",
   "execution_count": 253,
   "metadata": {},
   "outputs": [],
   "source": [
    "df_predict_listing_average_availability = df_predict_listing_average_availability.merge(temp_df, left_on='id', right_on='listing_id')"
   ]
  },
  {
   "cell_type": "code",
   "execution_count": 254,
   "metadata": {},
   "outputs": [
    {
     "data": {
      "text/plain": [
       "(3585, 13)"
      ]
     },
     "execution_count": 254,
     "metadata": {},
     "output_type": "execute_result"
    }
   ],
   "source": [
    "df_predict_listing_average_availability.shape"
   ]
  },
  {
   "cell_type": "code",
   "execution_count": 257,
   "metadata": {},
   "outputs": [
    {
     "data": {
      "text/html": [
       "<div>\n",
       "<style scoped>\n",
       "    .dataframe tbody tr th:only-of-type {\n",
       "        vertical-align: middle;\n",
       "    }\n",
       "\n",
       "    .dataframe tbody tr th {\n",
       "        vertical-align: top;\n",
       "    }\n",
       "\n",
       "    .dataframe thead th {\n",
       "        text-align: right;\n",
       "    }\n",
       "</style>\n",
       "<table border=\"1\" class=\"dataframe\">\n",
       "  <thead>\n",
       "    <tr style=\"text-align: right;\">\n",
       "      <th></th>\n",
       "      <th>id</th>\n",
       "      <th>host_since</th>\n",
       "      <th>neighbourhood</th>\n",
       "      <th>street</th>\n",
       "      <th>zipcode</th>\n",
       "      <th>bathrooms</th>\n",
       "      <th>beds</th>\n",
       "      <th>price</th>\n",
       "      <th>number_of_reviews</th>\n",
       "      <th>review_scores_value</th>\n",
       "      <th>require_guest_phone_verification</th>\n",
       "      <th>average_availability</th>\n",
       "      <th>listing_id</th>\n",
       "    </tr>\n",
       "  </thead>\n",
       "  <tbody>\n",
       "    <tr>\n",
       "      <th>1958</th>\n",
       "      <td>2776143</td>\n",
       "      <td>2010-12-21</td>\n",
       "      <td>NaN</td>\n",
       "      <td>Irving Street, Boston, MA 02114, United States</td>\n",
       "      <td>02114</td>\n",
       "      <td>1.0</td>\n",
       "      <td>2.0</td>\n",
       "      <td>$99.00</td>\n",
       "      <td>242</td>\n",
       "      <td>9.0</td>\n",
       "      <td>f</td>\n",
       "      <td>0.767123</td>\n",
       "      <td>2776143</td>\n",
       "    </tr>\n",
       "    <tr>\n",
       "      <th>1248</th>\n",
       "      <td>13864961</td>\n",
       "      <td>2015-01-08</td>\n",
       "      <td>Back Bay</td>\n",
       "      <td>Massachusetts Avenue, Boston, MA 02115, United...</td>\n",
       "      <td>02115</td>\n",
       "      <td>2.0</td>\n",
       "      <td>1.0</td>\n",
       "      <td>$99.00</td>\n",
       "      <td>0</td>\n",
       "      <td>NaN</td>\n",
       "      <td>f</td>\n",
       "      <td>0.205479</td>\n",
       "      <td>13864961</td>\n",
       "    </tr>\n",
       "    <tr>\n",
       "      <th>511</th>\n",
       "      <td>4523594</td>\n",
       "      <td>2013-10-14</td>\n",
       "      <td>NaN</td>\n",
       "      <td>Tremont Street, Boston, MA 02120, United States</td>\n",
       "      <td>02120</td>\n",
       "      <td>1.0</td>\n",
       "      <td>2.0</td>\n",
       "      <td>$215.00</td>\n",
       "      <td>0</td>\n",
       "      <td>NaN</td>\n",
       "      <td>t</td>\n",
       "      <td>0.000000</td>\n",
       "      <td>4523594</td>\n",
       "    </tr>\n",
       "  </tbody>\n",
       "</table>\n",
       "</div>"
      ],
      "text/plain": [
       "            id  host_since neighbourhood  \\\n",
       "1958   2776143  2010-12-21           NaN   \n",
       "1248  13864961  2015-01-08      Back Bay   \n",
       "511    4523594  2013-10-14           NaN   \n",
       "\n",
       "                                                 street zipcode  bathrooms  \\\n",
       "1958     Irving Street, Boston, MA 02114, United States   02114        1.0   \n",
       "1248  Massachusetts Avenue, Boston, MA 02115, United...   02115        2.0   \n",
       "511     Tremont Street, Boston, MA 02120, United States   02120        1.0   \n",
       "\n",
       "      beds    price  number_of_reviews  review_scores_value  \\\n",
       "1958   2.0   $99.00                242                  9.0   \n",
       "1248   1.0   $99.00                  0                  NaN   \n",
       "511    2.0  $215.00                  0                  NaN   \n",
       "\n",
       "     require_guest_phone_verification  average_availability  listing_id  \n",
       "1958                                f              0.767123     2776143  \n",
       "1248                                f              0.205479    13864961  \n",
       "511                                 t              0.000000     4523594  "
      ]
     },
     "execution_count": 257,
     "metadata": {},
     "output_type": "execute_result"
    }
   ],
   "source": [
    "df_predict_listing_average_availability.sample(3)"
   ]
  },
  {
   "cell_type": "code",
   "execution_count": 258,
   "metadata": {},
   "outputs": [
    {
     "data": {
      "text/plain": [
       "Index(['id', 'host_since', 'neighbourhood', 'street', 'zipcode', 'bathrooms',\n",
       "       'beds', 'price', 'number_of_reviews', 'review_scores_value',\n",
       "       'require_guest_phone_verification', 'average_availability',\n",
       "       'listing_id'],\n",
       "      dtype='object')"
      ]
     },
     "execution_count": 258,
     "metadata": {},
     "output_type": "execute_result"
    }
   ],
   "source": [
    "df_predict_listing_average_availability.columns"
   ]
  },
  {
   "cell_type": "markdown",
   "metadata": {},
   "source": [
    "We do not need id, listing_id column in this dataframe. Therefore we will drop it now."
   ]
  },
  {
   "cell_type": "code",
   "execution_count": 262,
   "metadata": {},
   "outputs": [],
   "source": [
    "predict_listing_average_availability_x = ['average_availability','host_since', 'neighbourhood', 'street', 'zipcode', 'bathrooms',\n",
    "       'beds', 'price', 'number_of_reviews', 'review_scores_value',\n",
    "       'require_guest_phone_verification']"
   ]
  },
  {
   "cell_type": "code",
   "execution_count": 263,
   "metadata": {},
   "outputs": [],
   "source": [
    "df_predict_listing_average_availability = df_predict_listing_average_availability[predict_listing_average_availability_x]"
   ]
  },
  {
   "cell_type": "code",
   "execution_count": 264,
   "metadata": {},
   "outputs": [
    {
     "data": {
      "text/plain": [
       "Index(['average_availability', 'host_since', 'neighbourhood', 'street',\n",
       "       'zipcode', 'bathrooms', 'beds', 'price', 'number_of_reviews',\n",
       "       'review_scores_value', 'require_guest_phone_verification'],\n",
       "      dtype='object')"
      ]
     },
     "execution_count": 264,
     "metadata": {},
     "output_type": "execute_result"
    }
   ],
   "source": [
    "df_predict_listing_average_availability.columns"
   ]
  },
  {
   "cell_type": "code",
   "execution_count": 269,
   "metadata": {},
   "outputs": [
    {
     "data": {
      "text/html": [
       "<div>\n",
       "<style scoped>\n",
       "    .dataframe tbody tr th:only-of-type {\n",
       "        vertical-align: middle;\n",
       "    }\n",
       "\n",
       "    .dataframe tbody tr th {\n",
       "        vertical-align: top;\n",
       "    }\n",
       "\n",
       "    .dataframe thead th {\n",
       "        text-align: right;\n",
       "    }\n",
       "</style>\n",
       "<table border=\"1\" class=\"dataframe\">\n",
       "  <thead>\n",
       "    <tr style=\"text-align: right;\">\n",
       "      <th></th>\n",
       "      <th>average_availability</th>\n",
       "      <th>host_since</th>\n",
       "      <th>neighbourhood</th>\n",
       "      <th>street</th>\n",
       "      <th>zipcode</th>\n",
       "      <th>bathrooms</th>\n",
       "      <th>beds</th>\n",
       "      <th>price</th>\n",
       "      <th>number_of_reviews</th>\n",
       "      <th>review_scores_value</th>\n",
       "      <th>require_guest_phone_verification</th>\n",
       "    </tr>\n",
       "  </thead>\n",
       "  <tbody>\n",
       "    <tr>\n",
       "      <th>87</th>\n",
       "      <td>0.980822</td>\n",
       "      <td>2013-03-30</td>\n",
       "      <td>Jamaica Plain</td>\n",
       "      <td>Atherton Street, Boston, MA 02119, United States</td>\n",
       "      <td>02119</td>\n",
       "      <td>1.0</td>\n",
       "      <td>2.0</td>\n",
       "      <td>$75.00</td>\n",
       "      <td>43</td>\n",
       "      <td>9.0</td>\n",
       "      <td>f</td>\n",
       "    </tr>\n",
       "    <tr>\n",
       "      <th>2134</th>\n",
       "      <td>0.652055</td>\n",
       "      <td>2015-08-10</td>\n",
       "      <td>West End</td>\n",
       "      <td>Beverly Street, Boston, MA 02114, United States</td>\n",
       "      <td>02114</td>\n",
       "      <td>1.0</td>\n",
       "      <td>1.0</td>\n",
       "      <td>$240.00</td>\n",
       "      <td>1</td>\n",
       "      <td>10.0</td>\n",
       "      <td>f</td>\n",
       "    </tr>\n",
       "    <tr>\n",
       "      <th>1135</th>\n",
       "      <td>0.090411</td>\n",
       "      <td>2015-07-22</td>\n",
       "      <td>South End</td>\n",
       "      <td>Columbus Square, Boston, MA 02116, United States</td>\n",
       "      <td>02116</td>\n",
       "      <td>1.0</td>\n",
       "      <td>1.0</td>\n",
       "      <td>$150.00</td>\n",
       "      <td>7</td>\n",
       "      <td>10.0</td>\n",
       "      <td>f</td>\n",
       "    </tr>\n",
       "  </tbody>\n",
       "</table>\n",
       "</div>"
      ],
      "text/plain": [
       "      average_availability  host_since  neighbourhood  \\\n",
       "87                0.980822  2013-03-30  Jamaica Plain   \n",
       "2134              0.652055  2015-08-10       West End   \n",
       "1135              0.090411  2015-07-22      South End   \n",
       "\n",
       "                                                street zipcode  bathrooms  \\\n",
       "87    Atherton Street, Boston, MA 02119, United States   02119        1.0   \n",
       "2134   Beverly Street, Boston, MA 02114, United States   02114        1.0   \n",
       "1135  Columbus Square, Boston, MA 02116, United States   02116        1.0   \n",
       "\n",
       "      beds    price  number_of_reviews  review_scores_value  \\\n",
       "87     2.0   $75.00                 43                  9.0   \n",
       "2134   1.0  $240.00                  1                 10.0   \n",
       "1135   1.0  $150.00                  7                 10.0   \n",
       "\n",
       "     require_guest_phone_verification  \n",
       "87                                  f  \n",
       "2134                                f  \n",
       "1135                                f  "
      ]
     },
     "execution_count": 269,
     "metadata": {},
     "output_type": "execute_result"
    }
   ],
   "source": [
    "df_predict_listing_average_availability.sample(3)"
   ]
  },
  {
   "cell_type": "markdown",
   "metadata": {},
   "source": [
    "##### Clean the data, drop not useful data, replace missing values, do feature engineering."
   ]
  },
  {
   "cell_type": "code",
   "execution_count": null,
   "metadata": {
    "collapsed": true
   },
   "outputs": [],
   "source": [
    "# After discussing the structure of the data and any problems that need to be\n",
    "#   cleaned, perform those cleaning steps in the second part of this section.\n"
   ]
  },
  {
   "cell_type": "markdown",
   "metadata": {},
   "source": [
    "<li><a href=\"#TOC\">Back To Table Of Contents</a></li>"
   ]
  },
  {
   "cell_type": "markdown",
   "metadata": {},
   "source": [
    "<a id='modeling'></a>\n",
    "## Modeling\n",
    "\n",
    "> **Tip**: Here starts modeling of the data, depending on the targeted business goals and insights modeling technique/s is chosen and relevant model is trained and predictions are made. Performance of the model is also evaluated in this step using several inbuilt functions.\n",
    "<br><br>All proposed questions might not need data mining techniques, in such cases descriptive and inferential statistics is used to get the needed answers.\n"
   ]
  },
  {
   "cell_type": "markdown",
   "metadata": {},
   "source": [
    "##### Question 1 = Is there a connection between incomplete listing profile in df_boston_listings, df_seattle_listings and number of reviews that particular listing has? column name is number_of_reviews"
   ]
  },
  {
   "cell_type": "markdown",
   "metadata": {},
   "source": [
    "##### Question 2 = Do listings from certain zipcodes get better user ratings?"
   ]
  },
  {
   "cell_type": "markdown",
   "metadata": {},
   "source": [
    "##### Question 3 = what are factors that are important causing a listing to get high rating in column review_scores_value?"
   ]
  },
  {
   "cell_type": "markdown",
   "metadata": {},
   "source": [
    "##### Question 4 = what are factors that cause a listing to be booked a lot? "
   ]
  },
  {
   "cell_type": "markdown",
   "metadata": {},
   "source": [
    "##### Question 5 = Listings from which zipcodes are leaders in always being booked?"
   ]
  },
  {
   "cell_type": "markdown",
   "metadata": {},
   "source": [
    "##### Question 6 = Listings from which zipcodes are leaders in having high reviews in user ratings?"
   ]
  },
  {
   "cell_type": "markdown",
   "metadata": {},
   "source": [
    "##### Question 7 = Listings from which neighbourhood are leaders in always being booked? (like give me top 3) "
   ]
  },
  {
   "cell_type": "markdown",
   "metadata": {},
   "source": [
    "##### Question 8 = Listings from which neighbourhood are leaders in having high reviews in user ratings? (like give me top 3)"
   ]
  },
  {
   "cell_type": "markdown",
   "metadata": {},
   "source": [
    "### Research Question 1 (Replace this header name!)"
   ]
  },
  {
   "cell_type": "code",
   "execution_count": null,
   "metadata": {
    "collapsed": true
   },
   "outputs": [],
   "source": [
    "# Use this, and more code cells, to explore your data. Don't forget to add\n",
    "#   Markdown cells to document your observations and findings.\n"
   ]
  },
  {
   "cell_type": "markdown",
   "metadata": {},
   "source": [
    "### Research Question 2  (Replace this header name!)"
   ]
  },
  {
   "cell_type": "code",
   "execution_count": null,
   "metadata": {
    "collapsed": true
   },
   "outputs": [],
   "source": [
    "# Continue to explore the data to address your additional research\n",
    "#   questions. Add more headers as needed if you have more questions to\n",
    "#   investigate.\n"
   ]
  },
  {
   "cell_type": "markdown",
   "metadata": {},
   "source": [
    "<li><a href=\"#TOC\">Back To Table Of Contents</a></li>"
   ]
  },
  {
   "cell_type": "markdown",
   "metadata": {},
   "source": [
    "<a id='results_evaluation'></a>\n",
    "## Results Evaluation\n",
    "\n",
    "> **Tip**: Evaluation in this step is with regards to the business value this analysis, modeling provides. Therefore the analysis will be from the point of view of the stakeholder.\n",
    "<br>This section should make sense to non technical as well as technical audience."
   ]
  },
  {
   "cell_type": "markdown",
   "metadata": {},
   "source": [
    "<li><a href=\"#TOC\">Back To Table Of Contents</a></li>"
   ]
  },
  {
   "cell_type": "markdown",
   "metadata": {},
   "source": [
    "<a id='deploy_solution'></a>\n",
    "## Deployment\n",
    "\n",
    "> **Tip**: In this stage deployment plan is made and along with that monitoring and maintenace plan is drafted out as well."
   ]
  },
  {
   "cell_type": "markdown",
   "metadata": {},
   "source": [
    "<li><a href=\"#TOC\">Back To Table Of Contents</a></li>"
   ]
  },
  {
   "cell_type": "markdown",
   "metadata": {},
   "source": [
    "<a id='conclusions'></a>\n",
    "## Conclusions\n",
    "\n",
    "> **Tip**: Finally, summarize your findings and the results that have been performed. Make sure that you are clear with regards to the limitations of your exploration. If you haven't done any statistical tests, do not imply any statistical conclusions. And make sure you avoid implying causation from correlation!\n",
    "\n",
    "> **Tip**: Once you are satisfied with your work here, check over your report to make sure that it is satisfies all the areas of the rubric (found on the project submission page at the end of the lesson). You should also probably remove all of the \"Tips\" like this one so that the presentation is as polished as possible.\n",
    "\n"
   ]
  },
  {
   "cell_type": "markdown",
   "metadata": {},
   "source": [
    "<li><a href=\"#TOC\">Back To Table Of Contents</a></li>"
   ]
  }
 ],
 "metadata": {
  "kernelspec": {
   "display_name": "Python 3",
   "language": "python",
   "name": "python3"
  },
  "language_info": {
   "codemirror_mode": {
    "name": "ipython",
    "version": 3
   },
   "file_extension": ".py",
   "mimetype": "text/x-python",
   "name": "python",
   "nbconvert_exporter": "python",
   "pygments_lexer": "ipython3",
   "version": "3.7.9"
  }
 },
 "nbformat": 4,
 "nbformat_minor": 2
}
